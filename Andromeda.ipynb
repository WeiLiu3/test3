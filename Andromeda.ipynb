{
 "cells": [
  {
   "cell_type": "markdown",
   "metadata": {},
   "source": [
    "# Andromeda in Jupyter\n",
    "\n",
    "### Interactive Inverse Dimension Reduction \n",
    "\n",
    "This notebook implements interactive dimension reduction (DR) for exploratory analysis of high-dimensional data.\n",
    "It uses a Multi-Dimensional Scaling (MDS) algorithm with a weighted distance metric. It enables both forward and inverse DR interaction. \n",
    "\n",
    "**MDS** projects high-dimensional data to a 2D scatterplot. A **weighted distance function** with user-specified weights on each dimension enables alternative projections that emphasize different dimensions. An **Inverse-DR** algorithm learns distance function weights for  user-constructed layouts of the data points.\n",
    "\n",
    "### Instructions:\n",
    "\n",
    "1. Run All\n",
    "1. Proceed to the interactive plots near the bottom\n",
    "1. There are three kinds of interactions:\n",
    "    1. Select points in the DR plot and click Details to see data values.\n",
    "    1. **Parametric interaction:** Adjust the weight sliders and click Apply to alter the projection plot.\n",
    "    1. **Projection interaction:** Drag points in the projection plot, then click Learn to see learned weights, and click Copy to see the updated projection plot.\n",
    "1. Be patient, its interactive matplotlib in python and Jupyter!\n",
    "\n",
    "### Credits:\n",
    "\n",
    "Authors: Han Liu and Chris North, Dept of Computer Science, Virginia Tech.\n",
    "\n",
    "Based on: *Self JZ, Dowling M, Wenskovitch J, Crandell I, Wang M, House L, Leman S, North C. Observation-Level and Parametric Interaction for High-Dimensional Data Analysis. ACM Transactions on Interactive Intelligent Systems.  8(2), 2018.* https://infovis.cs.vt.edu/sites/default/files/observation-level-parametric_first_look_version.pdf\n"
   ]
  },
  {
   "cell_type": "code",
   "execution_count": 4,
   "metadata": {},
   "outputs": [],
   "source": [
    "%matplotlib notebook\n",
    "# interactive notebook format is required for the interactive plot\n",
    "\n",
    "import numpy as np\n",
    "import pandas as pd\n",
    "import math\n",
    "import random\n",
    "\n",
    "from sklearn.decomposition import PCA\n",
    "from sklearn.manifold import MDS\n",
    "import sklearn.metrics.pairwise\n",
    "\n",
    "import matplotlib\n",
    "import matplotlib.pyplot as plt\n",
    "import ipywidgets as widgets\n",
    "from IPython.display import display\n",
    "\n",
    "import io"
   ]
  },
  {
   "cell_type": "markdown",
   "metadata": {},
   "source": [
    "# Load and Pre-process Data\n",
    "\n",
    "Change the **filename** to load a dataset.  CSV data file is expected to have a first column 'Name' that is used as the index, and header row of column names.  Numeric columns are used for projection."
   ]
  },
  {
   "cell_type": "code",
   "execution_count": 5,
   "metadata": {},
   "outputs": [
    {
     "data": {
      "application/vnd.jupyter.widget-view+json": {
       "model_id": "e80465f665d547a7a66ba82a05cc1902",
       "version_major": 2,
       "version_minor": 0
      },
      "text/plain": [
       "FileUpload(value={}, accept='*.csv', description='Upload')"
      ]
     },
     "metadata": {},
     "output_type": "display_data"
    }
   ],
   "source": [
    "w = widgets.IntSlider()\n",
    "uploader = widgets.FileUpload(\n",
    "    accept='*.csv',  # Accepted file extension e.g. '.txt', '.pdf', 'image/*', 'image/*,.pdf'\n",
    "    multiple=False  # True to accept multiple files upload else False\n",
    ")\n",
    "\n",
    "display(uploader)"
   ]
  },
  {
   "cell_type": "code",
   "execution_count": 6,
   "metadata": {},
   "outputs": [
    {
     "data": {
      "text/html": [
       "<div>\n",
       "<style scoped>\n",
       "    .dataframe tbody tr th:only-of-type {\n",
       "        vertical-align: middle;\n",
       "    }\n",
       "\n",
       "    .dataframe tbody tr th {\n",
       "        vertical-align: top;\n",
       "    }\n",
       "\n",
       "    .dataframe thead th {\n",
       "        text-align: right;\n",
       "    }\n",
       "</style>\n",
       "<table border=\"1\" class=\"dataframe\">\n",
       "  <thead>\n",
       "    <tr style=\"text-align: right;\">\n",
       "      <th></th>\n",
       "      <th>Name</th>\n",
       "      <th>Water</th>\n",
       "      <th>Toughskin</th>\n",
       "      <th>Timid</th>\n",
       "      <th>Tail</th>\n",
       "      <th>Strength</th>\n",
       "      <th>Stalker</th>\n",
       "      <th>Spots</th>\n",
       "      <th>Speed</th>\n",
       "      <th>Smart</th>\n",
       "      <th>...</th>\n",
       "      <th>Forest</th>\n",
       "      <th>Forager</th>\n",
       "      <th>Fierce</th>\n",
       "      <th>Domestic</th>\n",
       "      <th>Coastal</th>\n",
       "      <th>Bulbous</th>\n",
       "      <th>Bipedal</th>\n",
       "      <th>Arctic</th>\n",
       "      <th>Agility</th>\n",
       "      <th>Active</th>\n",
       "    </tr>\n",
       "  </thead>\n",
       "  <tbody>\n",
       "    <tr>\n",
       "      <th>0</th>\n",
       "      <td>Grizzly Bear</td>\n",
       "      <td>7.64</td>\n",
       "      <td>21.82</td>\n",
       "      <td>12.50</td>\n",
       "      <td>9.38</td>\n",
       "      <td>78.48</td>\n",
       "      <td>26.05</td>\n",
       "      <td>0.00</td>\n",
       "      <td>46.97</td>\n",
       "      <td>24.00</td>\n",
       "      <td>...</td>\n",
       "      <td>77.40</td>\n",
       "      <td>25.74</td>\n",
       "      <td>61.80</td>\n",
       "      <td>11.39</td>\n",
       "      <td>2.78</td>\n",
       "      <td>45.13</td>\n",
       "      <td>51.21</td>\n",
       "      <td>6.65</td>\n",
       "      <td>15.92</td>\n",
       "      <td>29.95</td>\n",
       "    </tr>\n",
       "    <tr>\n",
       "      <th>1</th>\n",
       "      <td>Killer Whale</td>\n",
       "      <td>79.49</td>\n",
       "      <td>57.04</td>\n",
       "      <td>9.77</td>\n",
       "      <td>41.67</td>\n",
       "      <td>63.35</td>\n",
       "      <td>15.00</td>\n",
       "      <td>32.69</td>\n",
       "      <td>57.37</td>\n",
       "      <td>52.03</td>\n",
       "      <td>...</td>\n",
       "      <td>0.00</td>\n",
       "      <td>10.89</td>\n",
       "      <td>38.27</td>\n",
       "      <td>15.42</td>\n",
       "      <td>30.11</td>\n",
       "      <td>61.87</td>\n",
       "      <td>0.00</td>\n",
       "      <td>24.51</td>\n",
       "      <td>27.80</td>\n",
       "      <td>27.29</td>\n",
       "    </tr>\n",
       "    <tr>\n",
       "      <th>2</th>\n",
       "      <td>Beaver</td>\n",
       "      <td>65.62</td>\n",
       "      <td>25.00</td>\n",
       "      <td>31.88</td>\n",
       "      <td>86.56</td>\n",
       "      <td>32.81</td>\n",
       "      <td>1.25</td>\n",
       "      <td>7.50</td>\n",
       "      <td>25.00</td>\n",
       "      <td>41.88</td>\n",
       "      <td>...</td>\n",
       "      <td>19.06</td>\n",
       "      <td>10.62</td>\n",
       "      <td>3.75</td>\n",
       "      <td>13.12</td>\n",
       "      <td>33.75</td>\n",
       "      <td>37.50</td>\n",
       "      <td>12.50</td>\n",
       "      <td>11.25</td>\n",
       "      <td>36.25</td>\n",
       "      <td>67.81</td>\n",
       "    </tr>\n",
       "    <tr>\n",
       "      <th>3</th>\n",
       "      <td>Dalmatian</td>\n",
       "      <td>1.25</td>\n",
       "      <td>7.50</td>\n",
       "      <td>31.67</td>\n",
       "      <td>53.75</td>\n",
       "      <td>34.93</td>\n",
       "      <td>8.75</td>\n",
       "      <td>100.00</td>\n",
       "      <td>61.74</td>\n",
       "      <td>53.26</td>\n",
       "      <td>...</td>\n",
       "      <td>0.00</td>\n",
       "      <td>0.00</td>\n",
       "      <td>9.38</td>\n",
       "      <td>72.71</td>\n",
       "      <td>1.25</td>\n",
       "      <td>0.00</td>\n",
       "      <td>10.14</td>\n",
       "      <td>0.00</td>\n",
       "      <td>38.68</td>\n",
       "      <td>37.50</td>\n",
       "    </tr>\n",
       "    <tr>\n",
       "      <th>4</th>\n",
       "      <td>Persian Cat</td>\n",
       "      <td>1.25</td>\n",
       "      <td>6.25</td>\n",
       "      <td>43.69</td>\n",
       "      <td>66.80</td>\n",
       "      <td>12.58</td>\n",
       "      <td>9.03</td>\n",
       "      <td>6.25</td>\n",
       "      <td>26.98</td>\n",
       "      <td>38.62</td>\n",
       "      <td>...</td>\n",
       "      <td>8.98</td>\n",
       "      <td>6.25</td>\n",
       "      <td>13.98</td>\n",
       "      <td>72.88</td>\n",
       "      <td>1.39</td>\n",
       "      <td>32.92</td>\n",
       "      <td>7.50</td>\n",
       "      <td>0.00</td>\n",
       "      <td>44.50</td>\n",
       "      <td>13.89</td>\n",
       "    </tr>\n",
       "  </tbody>\n",
       "</table>\n",
       "<p>5 rows × 37 columns</p>\n",
       "</div>"
      ],
      "text/plain": [
       "           Name  Water  Toughskin  Timid   Tail  Strength  Stalker   Spots  \\\n",
       "0  Grizzly Bear   7.64      21.82  12.50   9.38     78.48    26.05    0.00   \n",
       "1  Killer Whale  79.49      57.04   9.77  41.67     63.35    15.00   32.69   \n",
       "2        Beaver  65.62      25.00  31.88  86.56     32.81     1.25    7.50   \n",
       "3     Dalmatian   1.25       7.50  31.67  53.75     34.93     8.75  100.00   \n",
       "4   Persian Cat   1.25       6.25  43.69  66.80     12.58     9.03    6.25   \n",
       "\n",
       "   Speed  Smart  ...  Forest  Forager  Fierce  Domestic  Coastal  Bulbous  \\\n",
       "0  46.97  24.00  ...   77.40    25.74   61.80     11.39     2.78    45.13   \n",
       "1  57.37  52.03  ...    0.00    10.89   38.27     15.42    30.11    61.87   \n",
       "2  25.00  41.88  ...   19.06    10.62    3.75     13.12    33.75    37.50   \n",
       "3  61.74  53.26  ...    0.00     0.00    9.38     72.71     1.25     0.00   \n",
       "4  26.98  38.62  ...    8.98     6.25   13.98     72.88     1.39    32.92   \n",
       "\n",
       "   Bipedal  Arctic  Agility  Active  \n",
       "0    51.21    6.65    15.92   29.95  \n",
       "1     0.00   24.51    27.80   27.29  \n",
       "2    12.50   11.25    36.25   67.81  \n",
       "3    10.14    0.00    38.68   37.50  \n",
       "4     7.50    0.00    44.50   13.89  \n",
       "\n",
       "[5 rows x 37 columns]"
      ]
     },
     "execution_count": 6,
     "metadata": {},
     "output_type": "execute_result"
    }
   ],
   "source": [
    "\n",
    "input_file = list(uploader.value.values())[0]\n",
    "content = input_file['content']\n",
    "content = io.StringIO(content.decode('utf-8'))\n",
    "df = pd.read_csv(content)\n",
    "df.head()"
   ]
  },
  {
   "cell_type": "code",
   "execution_count": 7,
   "metadata": {},
   "outputs": [
    {
     "name": "stdout",
     "output_type": "stream",
     "text": [
      "Data size (r,c) = (49, 36)\n"
     ]
    },
    {
     "data": {
      "text/html": [
       "<div>\n",
       "<style scoped>\n",
       "    .dataframe tbody tr th:only-of-type {\n",
       "        vertical-align: middle;\n",
       "    }\n",
       "\n",
       "    .dataframe tbody tr th {\n",
       "        vertical-align: top;\n",
       "    }\n",
       "\n",
       "    .dataframe thead th {\n",
       "        text-align: right;\n",
       "    }\n",
       "</style>\n",
       "<table border=\"1\" class=\"dataframe\">\n",
       "  <thead>\n",
       "    <tr style=\"text-align: right;\">\n",
       "      <th></th>\n",
       "      <th>Active</th>\n",
       "      <th>Agility</th>\n",
       "      <th>Arctic</th>\n",
       "      <th>Bipedal</th>\n",
       "      <th>Bulbous</th>\n",
       "      <th>Coastal</th>\n",
       "      <th>Domestic</th>\n",
       "      <th>Fierce</th>\n",
       "      <th>Forager</th>\n",
       "      <th>Forest</th>\n",
       "      <th>...</th>\n",
       "      <th>Size</th>\n",
       "      <th>Smart</th>\n",
       "      <th>Speed</th>\n",
       "      <th>Spots</th>\n",
       "      <th>Stalker</th>\n",
       "      <th>Strength</th>\n",
       "      <th>Tail</th>\n",
       "      <th>Timid</th>\n",
       "      <th>Toughskin</th>\n",
       "      <th>Water</th>\n",
       "    </tr>\n",
       "    <tr>\n",
       "      <th>Name</th>\n",
       "      <th></th>\n",
       "      <th></th>\n",
       "      <th></th>\n",
       "      <th></th>\n",
       "      <th></th>\n",
       "      <th></th>\n",
       "      <th></th>\n",
       "      <th></th>\n",
       "      <th></th>\n",
       "      <th></th>\n",
       "      <th></th>\n",
       "      <th></th>\n",
       "      <th></th>\n",
       "      <th></th>\n",
       "      <th></th>\n",
       "      <th></th>\n",
       "      <th></th>\n",
       "      <th></th>\n",
       "      <th></th>\n",
       "      <th></th>\n",
       "      <th></th>\n",
       "    </tr>\n",
       "  </thead>\n",
       "  <tbody>\n",
       "    <tr>\n",
       "      <th>Bat</th>\n",
       "      <td>36.24</td>\n",
       "      <td>42.11</td>\n",
       "      <td>0.00</td>\n",
       "      <td>23.75</td>\n",
       "      <td>15.28</td>\n",
       "      <td>9.38</td>\n",
       "      <td>5.56</td>\n",
       "      <td>32.57</td>\n",
       "      <td>24.38</td>\n",
       "      <td>58.01</td>\n",
       "      <td>...</td>\n",
       "      <td>1.25</td>\n",
       "      <td>32.30</td>\n",
       "      <td>80.96</td>\n",
       "      <td>1.25</td>\n",
       "      <td>8.12</td>\n",
       "      <td>7.50</td>\n",
       "      <td>15.11</td>\n",
       "      <td>8.98</td>\n",
       "      <td>30.0</td>\n",
       "      <td>1.39</td>\n",
       "    </tr>\n",
       "    <tr>\n",
       "      <th>Beaver</th>\n",
       "      <td>67.81</td>\n",
       "      <td>36.25</td>\n",
       "      <td>11.25</td>\n",
       "      <td>12.50</td>\n",
       "      <td>37.50</td>\n",
       "      <td>33.75</td>\n",
       "      <td>13.12</td>\n",
       "      <td>3.75</td>\n",
       "      <td>10.62</td>\n",
       "      <td>19.06</td>\n",
       "      <td>...</td>\n",
       "      <td>6.88</td>\n",
       "      <td>41.88</td>\n",
       "      <td>25.00</td>\n",
       "      <td>7.50</td>\n",
       "      <td>1.25</td>\n",
       "      <td>32.81</td>\n",
       "      <td>86.56</td>\n",
       "      <td>31.88</td>\n",
       "      <td>25.0</td>\n",
       "      <td>65.62</td>\n",
       "    </tr>\n",
       "  </tbody>\n",
       "</table>\n",
       "<p>2 rows × 36 columns</p>\n",
       "</div>"
      ],
      "text/plain": [
       "        Active  Agility  Arctic  Bipedal  Bulbous  Coastal  Domestic  Fierce  \\\n",
       "Name                                                                           \n",
       "Bat      36.24    42.11    0.00    23.75    15.28     9.38      5.56   32.57   \n",
       "Beaver   67.81    36.25   11.25    12.50    37.50    33.75     13.12    3.75   \n",
       "\n",
       "        Forager  Forest  ...  Size  Smart  Speed  Spots  Stalker  Strength  \\\n",
       "Name                     ...                                                 \n",
       "Bat       24.38   58.01  ...  1.25  32.30  80.96   1.25     8.12      7.50   \n",
       "Beaver    10.62   19.06  ...  6.88  41.88  25.00   7.50     1.25     32.81   \n",
       "\n",
       "         Tail  Timid  Toughskin  Water  \n",
       "Name                                    \n",
       "Bat     15.11   8.98       30.0   1.39  \n",
       "Beaver  86.56  31.88       25.0  65.62  \n",
       "\n",
       "[2 rows x 36 columns]"
      ]
     },
     "execution_count": 7,
     "metadata": {},
     "output_type": "execute_result"
    }
   ],
   "source": [
    "# Use 'Name' column as index\n",
    "#df.rename(columns={df.columns[0]:'Name'}, inplace=True)\n",
    "df.set_index('Name', inplace=True)\n",
    "\n",
    "# Sort rows and columns\n",
    "df.sort_index(axis=1, inplace=True)\n",
    "df.sort_index(inplace=True)\n",
    "\n",
    "df_numeric = df.select_dtypes(include='number')  #'int32' or 'int64' or 'float32' or 'float64'\n",
    "df_category = df.select_dtypes(exclude='number') #'object'\n",
    "\n",
    "# Z-score normalization\n",
    "#normalized_df = (df_numeric - df_numeric.mean()) / df_numeric.std()\n",
    "normalized_df = df_numeric  # do not normalize animal dataset, all columns are 0-100 scale\n",
    "\n",
    "print('Data size (r,c) =', df_numeric.shape)\n",
    "df_numeric.head(2)"
   ]
  },
  {
   "cell_type": "markdown",
   "metadata": {},
   "source": [
    "#  Dimension Reduction Model:  Weighted MDS\n",
    "\n",
    "For DR, we use the Multi-Dimensional Scaling (MDS) algorithm on a weighted data space. **Dimension weights** are applied to the high-dimensional (HD) data.  Weights are normalized to sum to 1, so as to normalize the HD distances to roughly constant size space independent of p.\n",
    "\n",
    "The **distance function for the high-dimensional (HD) data** is L1 Manhattan distance. L1 is good for general purpose use with multi-dimensional quantitative datasets. \n",
    "\n",
    "The **distance function for the 2D projected points** is L2 Euclidean distance, which makes sense for human percpetion in the plot."
   ]
  },
  {
   "cell_type": "code",
   "execution_count": 8,
   "metadata": {},
   "outputs": [],
   "source": [
    "# Compute the distance matrix for the weighted high-dimensional data using L1 distance function.\n",
    "#  Input HD data should already be weighted.\n",
    "def distance_matrix_HD(dataHDw):  # dataHDw (pandas or numpy) -> distance matrix (numpy)\n",
    "    dist_matrix = sklearn.metrics.pairwise.manhattan_distances(dataHDw)\n",
    "    #m = pd.DataFrame(m, columns=dataHD.index, index=dataHD.index)  # keep as np array for performance\n",
    "    return dist_matrix\n",
    "\n",
    "# Compute the distance matrix for 2D projected data using L2 distance function.\n",
    "def distance_matrix_2D(data2D):  # data2d (pandas or numpy) -> distance matrix (numpy)\n",
    "    dist_matrix = sklearn.metrics.pairwise.euclidean_distances(data2D) \n",
    "    #m = pd.DataFrame(m, columns=data2D.index, index=data2D.index) # keep as np array for performance\n",
    "    return dist_matrix\n",
    "\n",
    "#def dist(x,y):\n",
    "#    return np.linalg.norm(x-y, ord=2)\n"
   ]
  },
  {
   "cell_type": "markdown",
   "metadata": {},
   "source": [
    "**MDS** projects the weighted high-dimensional data to 2D. Tune the algorithm's parameters for performance."
   ]
  },
  {
   "cell_type": "code",
   "execution_count": 9,
   "metadata": {},
   "outputs": [],
   "source": [
    "# Calculate the MDS stress metric between HD and 2D distances.  Uses numpy for efficiency.\n",
    "def stress(distHD, dist2D):  #  distHD, dist2D (numpy) -> stress (float)\n",
    "    #s = np.sqrt((distHD-dist2D).pow(2).sum().sum() / distHD.pow(2).sum().sum())  # pandas\n",
    "    #s = np.sqrt(((distHD-dist2D)**2).sum() / (distHD**2).sum())   # numpy\n",
    "    s = ((distHD-dist2D)**2).sum() / (distHD**2).sum()   # numpy, eliminate sqrt for efficiency\n",
    "    return s\n",
    "\n",
    "def compute_mds(dataHDw):  # dataHDw -> data2D (pandas)\n",
    "    distHD = distance_matrix_HD(dataHDw)\n",
    "    # Adjust these parameters for performance/accuracy tradeoff\n",
    "    mds = sklearn.manifold.MDS(n_components=2, dissimilarity='precomputed', n_init=10, max_iter=1000)\n",
    "    # Reduction algorithm happens here:  data2D is nx2 matrix\n",
    "    data2D = mds.fit_transform(distHD)\n",
    "    \n",
    "    # Rotate the resulting 2D projection to make it more consistent across multiple runs.\n",
    "    # Set the 1st PC to the y axis, plot looks better to spread data vertically with horizontal text labels\n",
    "    pca = sklearn.decomposition.PCA(n_components=2)\n",
    "    data2D = pca.fit_transform(data2D)\n",
    "    data2D = pd.DataFrame(data2D, columns=['y','x'], index=dataHDw.index)\n",
    "    \n",
    "    data2D.stress_value = stress(distHD, distance_matrix_2D(data2D))\n",
    "    return data2D\n",
    "\n",
    "def dimension_reduction(dataHD, wts): # dataHD, wts -> data2D (pandas)\n",
    "    # Normalize the weights to sum to 1\n",
    "    wts = wts/wts.sum()\n",
    "    \n",
    "    # Apply weights to the HD data \n",
    "    dataHDw = dataHD * wts\n",
    "    \n",
    "    # DR algorithm\n",
    "    data2D = compute_mds(dataHDw)\n",
    "\n",
    "    # Compute row relevances as:  data dot weights\n",
    "    # High relevance means large values in upweighted dimensions\n",
    "    data2D['relevance'] = dataHDw.sum(axis=1)\n",
    "    return data2D\n",
    "\n",
    "\n",
    "min_weight, max_weight = 0.00001, 0.9999\n",
    "init_weight = min_weight  # 1.0/len(normalized_df.columns) # initialize to min to make the sliders easier to use.\n",
    "weights = pd.Series(init_weight, index=normalized_df.columns, name=\"Weight\")  # the current weight list\n",
    "\n",
    "df_2D = dimension_reduction(normalized_df, weights)   # the current projected data\n"
   ]
  },
  {
   "cell_type": "code",
   "execution_count": 10,
   "metadata": {},
   "outputs": [
    {
     "data": {
      "text/plain": [
       "Active     0.00001\n",
       "Agility    0.00001\n",
       "Name: Weight, dtype: float64"
      ]
     },
     "execution_count": 10,
     "metadata": {},
     "output_type": "execute_result"
    }
   ],
   "source": [
    "weights.head(2)"
   ]
  },
  {
   "cell_type": "code",
   "execution_count": 11,
   "metadata": {},
   "outputs": [
    {
     "data": {
      "text/html": [
       "<div>\n",
       "<style scoped>\n",
       "    .dataframe tbody tr th:only-of-type {\n",
       "        vertical-align: middle;\n",
       "    }\n",
       "\n",
       "    .dataframe tbody tr th {\n",
       "        vertical-align: top;\n",
       "    }\n",
       "\n",
       "    .dataframe thead th {\n",
       "        text-align: right;\n",
       "    }\n",
       "</style>\n",
       "<table border=\"1\" class=\"dataframe\">\n",
       "  <thead>\n",
       "    <tr style=\"text-align: right;\">\n",
       "      <th>Name</th>\n",
       "      <th>Bat</th>\n",
       "      <th>Beaver</th>\n",
       "      <th>Blue Whale</th>\n",
       "      <th>Bobcat</th>\n",
       "      <th>Buffalo</th>\n",
       "      <th>Chihuahua</th>\n",
       "      <th>Chimpanzee</th>\n",
       "      <th>Collie</th>\n",
       "      <th>Cow</th>\n",
       "      <th>Dalmatian</th>\n",
       "      <th>...</th>\n",
       "      <th>Sheep</th>\n",
       "      <th>Siamese Cat</th>\n",
       "      <th>Skunk</th>\n",
       "      <th>Spider Monkey</th>\n",
       "      <th>Squirrel</th>\n",
       "      <th>Tiger</th>\n",
       "      <th>Walrus</th>\n",
       "      <th>Weasel</th>\n",
       "      <th>Wolf</th>\n",
       "      <th>Zebra</th>\n",
       "    </tr>\n",
       "    <tr>\n",
       "      <th>Name</th>\n",
       "      <th></th>\n",
       "      <th></th>\n",
       "      <th></th>\n",
       "      <th></th>\n",
       "      <th></th>\n",
       "      <th></th>\n",
       "      <th></th>\n",
       "      <th></th>\n",
       "      <th></th>\n",
       "      <th></th>\n",
       "      <th></th>\n",
       "      <th></th>\n",
       "      <th></th>\n",
       "      <th></th>\n",
       "      <th></th>\n",
       "      <th></th>\n",
       "      <th></th>\n",
       "      <th></th>\n",
       "      <th></th>\n",
       "      <th></th>\n",
       "      <th></th>\n",
       "    </tr>\n",
       "  </thead>\n",
       "  <tbody>\n",
       "    <tr>\n",
       "      <th>Bat</th>\n",
       "      <td>0.000000</td>\n",
       "      <td>25.581111</td>\n",
       "      <td>30.361111</td>\n",
       "      <td>25.210556</td>\n",
       "      <td>26.615833</td>\n",
       "      <td>26.218056</td>\n",
       "      <td>22.541111</td>\n",
       "      <td>28.295833</td>\n",
       "      <td>28.900556</td>\n",
       "      <td>28.559722</td>\n",
       "      <td>...</td>\n",
       "      <td>27.197222</td>\n",
       "      <td>23.266111</td>\n",
       "      <td>24.183889</td>\n",
       "      <td>23.13</td>\n",
       "      <td>23.011389</td>\n",
       "      <td>30.031389</td>\n",
       "      <td>30.058889</td>\n",
       "      <td>18.358611</td>\n",
       "      <td>27.095278</td>\n",
       "      <td>24.645000</td>\n",
       "    </tr>\n",
       "    <tr>\n",
       "      <th>Beaver</th>\n",
       "      <td>25.581111</td>\n",
       "      <td>0.000000</td>\n",
       "      <td>21.817222</td>\n",
       "      <td>24.789444</td>\n",
       "      <td>22.146944</td>\n",
       "      <td>18.456389</td>\n",
       "      <td>25.227778</td>\n",
       "      <td>17.869167</td>\n",
       "      <td>22.116667</td>\n",
       "      <td>21.804722</td>\n",
       "      <td>...</td>\n",
       "      <td>24.362778</td>\n",
       "      <td>22.672778</td>\n",
       "      <td>15.500556</td>\n",
       "      <td>19.24</td>\n",
       "      <td>15.539722</td>\n",
       "      <td>31.741944</td>\n",
       "      <td>21.435556</td>\n",
       "      <td>19.114167</td>\n",
       "      <td>26.259722</td>\n",
       "      <td>24.402778</td>\n",
       "    </tr>\n",
       "  </tbody>\n",
       "</table>\n",
       "<p>2 rows × 49 columns</p>\n",
       "</div>"
      ],
      "text/plain": [
       "Name          Bat     Beaver  Blue Whale     Bobcat    Buffalo  Chihuahua  \\\n",
       "Name                                                                        \n",
       "Bat      0.000000  25.581111   30.361111  25.210556  26.615833  26.218056   \n",
       "Beaver  25.581111   0.000000   21.817222  24.789444  22.146944  18.456389   \n",
       "\n",
       "Name    Chimpanzee     Collie        Cow  Dalmatian  ...      Sheep  \\\n",
       "Name                                                 ...              \n",
       "Bat      22.541111  28.295833  28.900556  28.559722  ...  27.197222   \n",
       "Beaver   25.227778  17.869167  22.116667  21.804722  ...  24.362778   \n",
       "\n",
       "Name    Siamese Cat      Skunk  Spider Monkey   Squirrel      Tiger  \\\n",
       "Name                                                                  \n",
       "Bat       23.266111  24.183889          23.13  23.011389  30.031389   \n",
       "Beaver    22.672778  15.500556          19.24  15.539722  31.741944   \n",
       "\n",
       "Name       Walrus     Weasel       Wolf      Zebra  \n",
       "Name                                                \n",
       "Bat     30.058889  18.358611  27.095278  24.645000  \n",
       "Beaver  21.435556  19.114167  26.259722  24.402778  \n",
       "\n",
       "[2 rows x 49 columns]"
      ]
     },
     "execution_count": 11,
     "metadata": {},
     "output_type": "execute_result"
    }
   ],
   "source": [
    "pd.DataFrame(distance_matrix_HD(normalized_df * (weights/weights.sum())), \n",
    "             columns=normalized_df.index, index=normalized_df.index).head(2)"
   ]
  },
  {
   "cell_type": "code",
   "execution_count": 12,
   "metadata": {},
   "outputs": [
    {
     "name": "stdout",
     "output_type": "stream",
     "text": [
      "0.06330268033182812\n"
     ]
    },
    {
     "data": {
      "text/html": [
       "<div>\n",
       "<style scoped>\n",
       "    .dataframe tbody tr th:only-of-type {\n",
       "        vertical-align: middle;\n",
       "    }\n",
       "\n",
       "    .dataframe tbody tr th {\n",
       "        vertical-align: top;\n",
       "    }\n",
       "\n",
       "    .dataframe thead th {\n",
       "        text-align: right;\n",
       "    }\n",
       "</style>\n",
       "<table border=\"1\" class=\"dataframe\">\n",
       "  <thead>\n",
       "    <tr style=\"text-align: right;\">\n",
       "      <th></th>\n",
       "      <th>y</th>\n",
       "      <th>x</th>\n",
       "      <th>relevance</th>\n",
       "    </tr>\n",
       "    <tr>\n",
       "      <th>Name</th>\n",
       "      <th></th>\n",
       "      <th></th>\n",
       "      <th></th>\n",
       "    </tr>\n",
       "  </thead>\n",
       "  <tbody>\n",
       "    <tr>\n",
       "      <th>Bat</th>\n",
       "      <td>6.733708</td>\n",
       "      <td>-17.189878</td>\n",
       "      <td>28.997778</td>\n",
       "    </tr>\n",
       "    <tr>\n",
       "      <th>Beaver</th>\n",
       "      <td>-4.198585</td>\n",
       "      <td>14.348835</td>\n",
       "      <td>24.748889</td>\n",
       "    </tr>\n",
       "  </tbody>\n",
       "</table>\n",
       "</div>"
      ],
      "text/plain": [
       "               y          x  relevance\n",
       "Name                                  \n",
       "Bat     6.733708 -17.189878  28.997778\n",
       "Beaver -4.198585  14.348835  24.748889"
      ]
     },
     "execution_count": 12,
     "metadata": {},
     "output_type": "execute_result"
    }
   ],
   "source": [
    "print(df_2D.stress_value)\n",
    "df_2D.head(2)"
   ]
  },
  {
   "cell_type": "markdown",
   "metadata": {},
   "source": [
    "# Inverse Dimension-Reduction Learning Algorithm\n",
    "\n",
    "Computes the inverse-Dimension-Reduction: given input 2D points, compute new weights.\n",
    "Optimizes the MDS stress function that compares 2D pairwise distances (||$x_i-x_j||$) to weighted HD pairwise distances ($d_{ij}$):\n",
    "![Stress](https://wikimedia.org/api/rest_v1/media/math/render/svg/7989b3afc0d8795a78c1631c7e807f260d9cfe68)\n",
    "\n",
    "Technically, we compute the inverse weighted distance function. We shortcut the optimization by eliminating MDS from the process, and assume that the user input 2D distances are actually the desired HD distances, not the 2D distances after re-projection. Thus, given the input (HD) distances, we find weights that would produce these distances in the HD space."
   ]
  },
  {
   "cell_type": "code",
   "execution_count": 13,
   "metadata": {},
   "outputs": [],
   "source": [
    "# This method is used to propose a new weight for current column in a smart fashion\n",
    "def new_proposal(current, step, direction):\n",
    "    return np.clip(current + direction*step*random.random(), 0.00001, 0.9999)\n",
    "\n",
    "# Repeatedly tries to modify each dim weight to see if it improves the stress, thus\n",
    "# getting the weighted high-dim distances to more closely match the input 2D distances.\n",
    "#   dataHD = high-dim data, as pandas\n",
    "#   data2D = 2D data input, as pandas\n",
    "#   weights = as pandas series, or None for weights[i]=1/p\n",
    "def inverse_DR(dataHD, data2D, curWeights=None):  # -> new weights, as Series\n",
    "    dist2D = distance_matrix_2D(data2D)  # compute 2D distances only once\n",
    "    col_names = dataHD.columns\n",
    "    dataHD = dataHD.to_numpy()  # use numpy for efficiency\n",
    "    row, col = dataHD.shape\n",
    "    \n",
    "    if curWeights==None:\n",
    "        curWeights = np.array([1.0/col]*col)  # default weights = 1/p\n",
    "    else:\n",
    "        curWeights = curWeights.to_numpy()\n",
    "        curWeights = curWeights / curWeights.sum()  # Normalize weights to sum to 1\n",
    "    newWeights = curWeights.copy()  # re-use this array for efficiency\n",
    "    \n",
    "    # Initialize state\n",
    "    flag = [0]*col         # degree of success of a weight change\n",
    "    direction = [1]*col  # direction to move a weight, pos or neg\n",
    "    step = [1.0/col]*col   # how much to change each weight\n",
    "    \n",
    "    dataHDw = dataHD * curWeights   # weighted space, re-use this array for efficiency\n",
    "    distHD = distance_matrix_HD(dataHDw)\n",
    "    curStress = stress(distHD, dist2D)\n",
    "    print('Starting stress =', curStress, 'Processing...')\n",
    "\n",
    "    MAX = 500   # default setting of the number of iterations\n",
    "\n",
    "    # Try to subtly adjust each weight to see if it reduces stress\n",
    "    for i in range(MAX):\n",
    "        for dim in range(col):            \n",
    "            # Get a new weight for current column\n",
    "            nw = new_proposal(curWeights[dim], step[dim], direction[dim])\n",
    "            \n",
    "            # Scale the weight list such that it sums to 1\n",
    "            #newWeights = curWeights.copy()  # avoid extra copy op using math below\n",
    "            #newWeights[dim] = nw\n",
    "            #newWeights = newWeights / s\n",
    "            s = 1.0 + nw - curWeights[dim]   # 1.0 == curWeights.sum()\n",
    "            np.true_divide(curWeights, s, out=newWeights)  # transfers to other array, while doing /\n",
    "            newWeights[dim] = nw / s\n",
    "            \n",
    "            # Apply new weights to HD data\n",
    "            np.multiply(dataHD, newWeights, out=dataHDw)  # dataHDw = dataHD * newWeights; efficiently reuses dataHDw array\n",
    "            distHD = distance_matrix_HD(dataHDw)\n",
    "\n",
    "            # Get the new stress\n",
    "            newStress = stress(distHD, dist2D)\n",
    "            \n",
    "            # If new stress is lower, then update weights and flag this success\n",
    "            if newStress < curStress:\n",
    "                temp = curWeights\n",
    "                curWeights = newWeights\n",
    "                newWeights = temp   # reuse the old array next iteration\n",
    "                curStress = newStress\n",
    "                flag[dim] = flag[dim] + 1\n",
    "            else:\n",
    "                flag[dim] = flag[dim] - 1\n",
    "                direction[dim] = -direction[dim]  # Reverse course\n",
    "    \n",
    "            # If recent success, then speed up the step rate\n",
    "            if flag[dim] >= 5:\n",
    "                step[dim] = step[dim] * 2\n",
    "                flag[dim] = 0\n",
    "            elif flag[dim] <= -5:\n",
    "                step[dim] = step[dim] / 2\n",
    "                flag[dim] = 0\n",
    "                \n",
    "    print('Solution stress =', curStress, 'Done.')\n",
    "    #print(\"weight\", curWeights)\n",
    "    #print(\"flag\", flag)\n",
    "    #print(\"dir\", direction)\n",
    "    #print(\"step\", step)\n",
    "    return pd.Series(curWeights, index=col_names, name=\"Weight\")\n"
   ]
  },
  {
   "cell_type": "markdown",
   "metadata": {},
   "source": [
    "# Visualization and UI code\n",
    "\n",
    "Use these functions to create the GUI components in any cell."
   ]
  },
  {
   "cell_type": "markdown",
   "metadata": {},
   "source": [
    "## Sliders"
   ]
  },
  {
   "cell_type": "code",
   "execution_count": 14,
   "metadata": {},
   "outputs": [],
   "source": [
    "def create_sliders(wts):\n",
    "    # Create sliders, one for each dimension weight\n",
    "    sliders = [widgets.FloatSlider(min=min_weight, max=max_weight, step=0.01, value=value, \n",
    "                                       description=label, continuous_update=False, readout_format='.5f')\n",
    "                   for (label, value) in wts.iteritems()]\n",
    "    # Display sliders\n",
    "    for s in sliders:\n",
    "        #s.observe(sliderchange, names='value')\n",
    "        display(s)\n",
    "        \n",
    "    create_slider_buttons(sliders)\n",
    "    return sliders\n",
    "\n",
    "def create_slider_buttons(sliders):    \n",
    "    apply_button = widgets.Button(description='Apply Slider Weights')\n",
    "    reset_button = widgets.Button(description='Reset Plot')\n",
    "\n",
    "    # Callback functions\n",
    "    def apply_button_clicked(change):\n",
    "        # Use the slider values to recompute the DR and redraw the plot\n",
    "        global weights, df_2D   # Update weights and df_2D globals\n",
    "        weights = pd.Series([s.value for s in sliders], index=normalized_df.columns, name='Weight')\n",
    "        df_2D = dimension_reduction(normalized_df, weights)   \n",
    "        \n",
    "        # Redraw the plot\n",
    "        draw_plot(plot_ax, df_2D)\n",
    "    apply_button.on_click(apply_button_clicked)\n",
    "\n",
    "    def reset_button_clicked(change):\n",
    "        # Reset all sliders to initial value and recompute DR and redraw the plot\n",
    "        for s in sliders:\n",
    "            s.value = init_weight\n",
    "        apply_button_clicked(change)\n",
    "    reset_button.on_click(reset_button_clicked)\n",
    "    \n",
    "    # Display buttons\n",
    "    display(apply_button)\n",
    "    display(reset_button)\n",
    "    return apply_button, reset_button\n"
   ]
  },
  {
   "cell_type": "markdown",
   "metadata": {},
   "source": [
    "## Print Details Button"
   ]
  },
  {
   "cell_type": "code",
   "execution_count": 15,
   "metadata": {},
   "outputs": [],
   "source": [
    "def create_detail_display():\n",
    "    # Print selected points\n",
    "    print_button = widgets.Button(description='Print selected points')\n",
    "    print_output = widgets.Output()\n",
    "\n",
    "    def print_button_clicked(change):\n",
    "        print_output.clear_output()\n",
    "        # Get list of selected points and print their source data values\n",
    "        selset = [c.index for c in plot_ax.circles if c.selected]\n",
    "        with print_output:\n",
    "            if len(selset) > 0:\n",
    "                print(df.iloc[selset, :].transpose())\n",
    "            else:\n",
    "                print('Select points in the plot to see details here')\n",
    "    print_button.on_click(print_button_clicked)\n",
    "\n",
    "    display(print_button)\n",
    "    display(print_output)\n",
    "    return print_button, print_output\n"
   ]
  },
  {
   "cell_type": "markdown",
   "metadata": {},
   "source": [
    "## Inverse DR Button and Plot"
   ]
  },
  {
   "cell_type": "code",
   "execution_count": 16,
   "metadata": {},
   "outputs": [],
   "source": [
    "def create_inverse_button():\n",
    "    inverse_button = widgets.Button(description='Learn New Weights')\n",
    "    copy_button = widgets.Button(description='Copy to Sliders')\n",
    "\n",
    "    def inverse_button_clicked(change):\n",
    "        ax.clear()\n",
    "\n",
    "        # Check minimum number of points moved\n",
    "        n = len([1 for c in plot_ax.circles if c.selected])\n",
    "        if n < 2:\n",
    "            print('Need to select or move at least 2 points in the plot first.')\n",
    "            return\n",
    "\n",
    "        # Get selected data points\n",
    "        data2Dnew = pd.DataFrame([c.center for c in plot_ax.circles if c.selected], columns=['x','y'], \n",
    "                                index=[c.label for c in plot_ax.circles if c.selected])\n",
    "        dataHDpart = normalized_df.loc[data2Dnew.index]\n",
    "\n",
    "        # Learn new weights\n",
    "        global weights\n",
    "        weights = inverse_DR(dataHDpart, data2Dnew)\n",
    "        \n",
    "        # Display new weights as a bar chart\n",
    "        weights.sort_index(ascending=False).plot.barh(ax=ax)\n",
    "        ax.set_xlabel(\"Weight\")\n",
    "        fig.tight_layout()\n",
    "    inverse_button.on_click(inverse_button_clicked)\n",
    "\n",
    "    def copy_button_clicked(change):\n",
    "        # Set sliders to reflect the learned weights and update the DR and plot accordingly\n",
    "        global df_2D\n",
    "        for i,s in enumerate(sliders):\n",
    "            s.value = weights[i]\n",
    "        df_2D = dimension_reduction(normalized_df, weights)   \n",
    "        draw_plot(plot_ax, df_2D)\n",
    "    copy_button.on_click(copy_button_clicked)\n",
    "\n",
    "    display(inverse_button)\n",
    "    display(copy_button)\n",
    "    fig, ax = plt.subplots(figsize=(5,7))   # reserve a fig for the weights bar chart\n",
    "    return inverse_button, copy_button, ax\n"
   ]
  },
  {
   "cell_type": "markdown",
   "metadata": {},
   "source": [
    "## Draggable Dimension-Reduction 2D Plot"
   ]
  },
  {
   "cell_type": "code",
   "execution_count": 17,
   "metadata": {},
   "outputs": [],
   "source": [
    "# Handles mouse drag interaction events in the plot, users can select and drag points.\n",
    "class DraggablePoints(object):\n",
    "    def __init__(self, ax, artists):\n",
    "        self.ax = ax\n",
    "        self.artists = artists\n",
    "        self.current_artist = None\n",
    "        self.last_selected = None\n",
    "        ax.selected_text.set_text('Selected: none')\n",
    "        self.offset = (0, 0)\n",
    "        # Set up mouse listeners\n",
    "        ax.figure.canvas.mpl_connect('pick_event', self.on_pick)\n",
    "        ax.figure.canvas.mpl_connect('motion_notify_event', self.on_motion)\n",
    "        ax.figure.canvas.mpl_connect('button_release_event', self.on_release)\n",
    "\n",
    "    def on_pick(self, event):\n",
    "        # When point is clicked on (mouse down), select it and start the drag\n",
    "        if self.current_artist is None:  # clicking on overlapped points sends multiple events\n",
    "            self.last_selected = event.artist.index  # event.ind\n",
    "            self.current_artist = event.artist\n",
    "            event.artist.selected = True\n",
    "            event.artist.savecolor = event.artist.get_facecolor()\n",
    "            event.artist.set_facecolor('green')\n",
    "            #event.artist.set_alpha(1.0)\n",
    "            self.ax.selected_text.set_text(\"Selected: \" + event.artist.label)\n",
    "            x0, y0 = event.artist.center\n",
    "            self.offset = (x0 - event.mouseevent.xdata), (y0 - event.mouseevent.ydata)\n",
    "\n",
    "    def on_motion(self, event):\n",
    "        # When dragging, check if point is selected and valid mouse coordinates\n",
    "        if (self.current_artist is not None) and (event.xdata is not None) and (event.ydata is not None):\n",
    "            # Drag the point and its text label\n",
    "            dx, dy = self.offset\n",
    "            self.current_artist.center = x0, y0 = event.xdata + dx, event.ydata + dy\n",
    "            self.current_artist.text.set_position((x0 - self.current_artist.radius/2, \n",
    "                                                   y0 - self.current_artist.radius/2))\n",
    "            #self.ax.figure.canvas.draw()  # slow\n",
    "        \n",
    "    def on_release(self, event):\n",
    "        # When mouse is released, stop the drag\n",
    "        self.current_artist = None\n",
    "        #self.ax.figure.canvas.draw()\n"
   ]
  },
  {
   "cell_type": "code",
   "execution_count": 18,
   "metadata": {
    "scrolled": false
   },
   "outputs": [],
   "source": [
    "def create_plot(data2D):\n",
    "    # Initialize DR plot figure\n",
    "    fig, ax = plt.subplots(figsize= (8,7))\n",
    "    ax.selected_text = ax.figure.text(0,0.005, 'Selected: none', wrap=True, color='green')\n",
    "    fig.colorbar(plt.cm.ScalarMappable(norm=matplotlib.colors.Normalize(), cmap=plt.cm.plasma), ax=ax, label=\"Relevance\", ticks=[], shrink=0.5, aspect=40, fraction=0.05)\n",
    "    # ax = data2D.plot.scatter(x=\"x\", y=\"y\", alpha=0.5, c=\"relevance\", s=75, ax=ax\n",
    "    #                   colormap=plt.cm.plasma, sharex=False, figsize=(8, 6), picker=True)\n",
    "    # ax.collections[0].get_offsets());   set_offsets(data2D[['y','x']]);   .get_facecolors()\n",
    "    \n",
    "    # Clean up the plot\n",
    "    ax.set_xticks([])\n",
    "    ax.set_yticks([])\n",
    "    ax.figure.tight_layout()\n",
    "    #plt.show()\n",
    "    \n",
    "    # Store state data:\n",
    "    ax.circles = None\n",
    "    ax.dragpoint = None\n",
    "    \n",
    "    draw_plot(ax, data2D)\n",
    "    return ax\n",
    "\n",
    "def draw_plot(ax, data2D):\n",
    "    # Redraws the DR plot in the axes with the updated data2D\n",
    "    ax.clear()\n",
    "    # Map data to circles, with x, y, and relevance->color\n",
    "    wid = max(data2D.x.max() - data2D.x.min(), data2D.y.max() - data2D.y.min())  # max range of x,y axes\n",
    "    cnorm = matplotlib.colors.Normalize(vmin=data2D.relevance.min(), vmax=data2D.relevance.max())\n",
    "    ax.circles = data2D.apply(axis=1, func=lambda row: \n",
    "        matplotlib.patches.Circle(xy=(row.x, row.y), radius=wid/70, alpha=0.5, \n",
    "                                  color=plt.cm.plasma(cnorm(row.relevance)), picker=True))\n",
    "    for i,c in enumerate(ax.circles):\n",
    "        # Store state data:\n",
    "        c.index, c.label, c.selected = i, data2D.index[i], False\n",
    "        # Draw circles and text labels in plot\n",
    "        ax.add_patch(c)\n",
    "        c.text = ax.text(c.center[0]-c.radius/2, c.center[1]-c.radius/2, c.label)\n",
    "    # Make plot circles draggable\n",
    "    ax.dragpoint = DraggablePoints(ax, ax.circles)\n",
    "    \n",
    "    # Clean up the plot\n",
    "    ax.set_xticks([])\n",
    "    ax.set_yticks([])\n",
    "    ax.axis('equal')\n",
    "    #plt.show()\n"
   ]
  },
  {
   "cell_type": "markdown",
   "metadata": {},
   "source": [
    "# Interactive Visualization"
   ]
  },
  {
   "cell_type": "markdown",
   "metadata": {},
   "source": [
    "## Sliders\n",
    "Use the sliders to control the **dimension weights** for the input HD data. The weights indicate which dimensions are given more emphasis in the DR plot distances.  For computational reasons, weights cannot go to absolute zero. When used in DR, the weights are first normalized such that they sum to 1.\n",
    "\n",
    "After adjusting the sliders, click the **Apply** button to show the results in the DR plot.\n",
    "\n",
    "To reset the sliders to their default values, click the **Reset** button."
   ]
  },
  {
   "cell_type": "code",
   "execution_count": 19,
   "metadata": {
    "scrolled": false
   },
   "outputs": [
    {
     "data": {
      "application/vnd.jupyter.widget-view+json": {
       "model_id": "2b695b378f1b48e39e249cbf3f5bc5b1",
       "version_major": 2,
       "version_minor": 0
      },
      "text/plain": [
       "FloatSlider(value=1e-05, continuous_update=False, description='Active', max=0.9999, min=1e-05, readout_format=…"
      ]
     },
     "metadata": {},
     "output_type": "display_data"
    },
    {
     "data": {
      "application/vnd.jupyter.widget-view+json": {
       "model_id": "72f31dd70fed4beb81595cf5eb30eb10",
       "version_major": 2,
       "version_minor": 0
      },
      "text/plain": [
       "FloatSlider(value=1e-05, continuous_update=False, description='Agility', max=0.9999, min=1e-05, readout_format…"
      ]
     },
     "metadata": {},
     "output_type": "display_data"
    },
    {
     "data": {
      "application/vnd.jupyter.widget-view+json": {
       "model_id": "f3360be0243b4f75a0e0ff15ece9a113",
       "version_major": 2,
       "version_minor": 0
      },
      "text/plain": [
       "FloatSlider(value=1e-05, continuous_update=False, description='Arctic', max=0.9999, min=1e-05, readout_format=…"
      ]
     },
     "metadata": {},
     "output_type": "display_data"
    },
    {
     "data": {
      "application/vnd.jupyter.widget-view+json": {
       "model_id": "6344123568024844903bca74f0cad854",
       "version_major": 2,
       "version_minor": 0
      },
      "text/plain": [
       "FloatSlider(value=1e-05, continuous_update=False, description='Bipedal', max=0.9999, min=1e-05, readout_format…"
      ]
     },
     "metadata": {},
     "output_type": "display_data"
    },
    {
     "data": {
      "application/vnd.jupyter.widget-view+json": {
       "model_id": "14d266b87a9b439c87ba2db73808e42f",
       "version_major": 2,
       "version_minor": 0
      },
      "text/plain": [
       "FloatSlider(value=1e-05, continuous_update=False, description='Bulbous', max=0.9999, min=1e-05, readout_format…"
      ]
     },
     "metadata": {},
     "output_type": "display_data"
    },
    {
     "data": {
      "application/vnd.jupyter.widget-view+json": {
       "model_id": "e36d04bbd2f542e9accd81911134ca47",
       "version_major": 2,
       "version_minor": 0
      },
      "text/plain": [
       "FloatSlider(value=1e-05, continuous_update=False, description='Coastal', max=0.9999, min=1e-05, readout_format…"
      ]
     },
     "metadata": {},
     "output_type": "display_data"
    },
    {
     "data": {
      "application/vnd.jupyter.widget-view+json": {
       "model_id": "340d98e6f1b748fba98cbc2e0346af37",
       "version_major": 2,
       "version_minor": 0
      },
      "text/plain": [
       "FloatSlider(value=1e-05, continuous_update=False, description='Domestic', max=0.9999, min=1e-05, readout_forma…"
      ]
     },
     "metadata": {},
     "output_type": "display_data"
    },
    {
     "data": {
      "application/vnd.jupyter.widget-view+json": {
       "model_id": "4e915ed936c7455ab5ec2eb665b92630",
       "version_major": 2,
       "version_minor": 0
      },
      "text/plain": [
       "FloatSlider(value=1e-05, continuous_update=False, description='Fierce', max=0.9999, min=1e-05, readout_format=…"
      ]
     },
     "metadata": {},
     "output_type": "display_data"
    },
    {
     "data": {
      "application/vnd.jupyter.widget-view+json": {
       "model_id": "23359edda45346e6b3013d41a8c1ad9e",
       "version_major": 2,
       "version_minor": 0
      },
      "text/plain": [
       "FloatSlider(value=1e-05, continuous_update=False, description='Forager', max=0.9999, min=1e-05, readout_format…"
      ]
     },
     "metadata": {},
     "output_type": "display_data"
    },
    {
     "data": {
      "application/vnd.jupyter.widget-view+json": {
       "model_id": "3b5f900468e34cd2bc86b42d01251d56",
       "version_major": 2,
       "version_minor": 0
      },
      "text/plain": [
       "FloatSlider(value=1e-05, continuous_update=False, description='Forest', max=0.9999, min=1e-05, readout_format=…"
      ]
     },
     "metadata": {},
     "output_type": "display_data"
    },
    {
     "data": {
      "application/vnd.jupyter.widget-view+json": {
       "model_id": "d2a3321b31af421295b452ee1cb0021b",
       "version_major": 2,
       "version_minor": 0
      },
      "text/plain": [
       "FloatSlider(value=1e-05, continuous_update=False, description='Furry', max=0.9999, min=1e-05, readout_format='…"
      ]
     },
     "metadata": {},
     "output_type": "display_data"
    },
    {
     "data": {
      "application/vnd.jupyter.widget-view+json": {
       "model_id": "d469e370fbd54213a18394f8a7fe1df7",
       "version_major": 2,
       "version_minor": 0
      },
      "text/plain": [
       "FloatSlider(value=1e-05, continuous_update=False, description='Grazer', max=0.9999, min=1e-05, readout_format=…"
      ]
     },
     "metadata": {},
     "output_type": "display_data"
    },
    {
     "data": {
      "application/vnd.jupyter.widget-view+json": {
       "model_id": "f1a0acd9541e4120b9d73603ef926169",
       "version_major": 2,
       "version_minor": 0
      },
      "text/plain": [
       "FloatSlider(value=1e-05, continuous_update=False, description='Hairless', max=0.9999, min=1e-05, readout_forma…"
      ]
     },
     "metadata": {},
     "output_type": "display_data"
    },
    {
     "data": {
      "application/vnd.jupyter.widget-view+json": {
       "model_id": "396af195c16543e0bb1e4d8f2c9d317a",
       "version_major": 2,
       "version_minor": 0
      },
      "text/plain": [
       "FloatSlider(value=1e-05, continuous_update=False, description='Hibernate', max=0.9999, min=1e-05, readout_form…"
      ]
     },
     "metadata": {},
     "output_type": "display_data"
    },
    {
     "data": {
      "application/vnd.jupyter.widget-view+json": {
       "model_id": "3f2ba57bf63740af9b801885bfe43999",
       "version_major": 2,
       "version_minor": 0
      },
      "text/plain": [
       "FloatSlider(value=1e-05, continuous_update=False, description='Hunter', max=0.9999, min=1e-05, readout_format=…"
      ]
     },
     "metadata": {},
     "output_type": "display_data"
    },
    {
     "data": {
      "application/vnd.jupyter.widget-view+json": {
       "model_id": "111e33f9b2494458a768ec001efabb76",
       "version_major": 2,
       "version_minor": 0
      },
      "text/plain": [
       "FloatSlider(value=1e-05, continuous_update=False, description='Inactive', max=0.9999, min=1e-05, readout_forma…"
      ]
     },
     "metadata": {},
     "output_type": "display_data"
    },
    {
     "data": {
      "application/vnd.jupyter.widget-view+json": {
       "model_id": "08ecb94c39a04200b684f833edb5f0ca",
       "version_major": 2,
       "version_minor": 0
      },
      "text/plain": [
       "FloatSlider(value=1e-05, continuous_update=False, description='Jungle', max=0.9999, min=1e-05, readout_format=…"
      ]
     },
     "metadata": {},
     "output_type": "display_data"
    },
    {
     "data": {
      "application/vnd.jupyter.widget-view+json": {
       "model_id": "9440c63431504b8fa2bc32a3d1d54b3a",
       "version_major": 2,
       "version_minor": 0
      },
      "text/plain": [
       "FloatSlider(value=1e-05, continuous_update=False, description='Lean', max=0.9999, min=1e-05, readout_format='.…"
      ]
     },
     "metadata": {},
     "output_type": "display_data"
    },
    {
     "data": {
      "application/vnd.jupyter.widget-view+json": {
       "model_id": "7f94031821f144a0941379aad76d32f4",
       "version_major": 2,
       "version_minor": 0
      },
      "text/plain": [
       "FloatSlider(value=1e-05, continuous_update=False, description='Mountains', max=0.9999, min=1e-05, readout_form…"
      ]
     },
     "metadata": {},
     "output_type": "display_data"
    },
    {
     "data": {
      "application/vnd.jupyter.widget-view+json": {
       "model_id": "7e22395d31784df9a315ae1db8b162c9",
       "version_major": 2,
       "version_minor": 0
      },
      "text/plain": [
       "FloatSlider(value=1e-05, continuous_update=False, description='Muscle', max=0.9999, min=1e-05, readout_format=…"
      ]
     },
     "metadata": {},
     "output_type": "display_data"
    },
    {
     "data": {
      "application/vnd.jupyter.widget-view+json": {
       "model_id": "5d85a21f35724b7da1ac256131f3df44",
       "version_major": 2,
       "version_minor": 0
      },
      "text/plain": [
       "FloatSlider(value=1e-05, continuous_update=False, description='Newworld', max=0.9999, min=1e-05, readout_forma…"
      ]
     },
     "metadata": {},
     "output_type": "display_data"
    },
    {
     "data": {
      "application/vnd.jupyter.widget-view+json": {
       "model_id": "568e8bd5555a467cb4f440a8e3d64439",
       "version_major": 2,
       "version_minor": 0
      },
      "text/plain": [
       "FloatSlider(value=1e-05, continuous_update=False, description='Nocturnal', max=0.9999, min=1e-05, readout_form…"
      ]
     },
     "metadata": {},
     "output_type": "display_data"
    },
    {
     "data": {
      "application/vnd.jupyter.widget-view+json": {
       "model_id": "1d1541a8e8ed4fab8452d45461ad0b1c",
       "version_major": 2,
       "version_minor": 0
      },
      "text/plain": [
       "FloatSlider(value=1e-05, continuous_update=False, description='Oldworld', max=0.9999, min=1e-05, readout_forma…"
      ]
     },
     "metadata": {},
     "output_type": "display_data"
    },
    {
     "data": {
      "application/vnd.jupyter.widget-view+json": {
       "model_id": "fc0a679c239746529b402a1e86e124f0",
       "version_major": 2,
       "version_minor": 0
      },
      "text/plain": [
       "FloatSlider(value=1e-05, continuous_update=False, description='Pads', max=0.9999, min=1e-05, readout_format='.…"
      ]
     },
     "metadata": {},
     "output_type": "display_data"
    },
    {
     "data": {
      "application/vnd.jupyter.widget-view+json": {
       "model_id": "b9a34c81fed74afcb0730e10fc066509",
       "version_major": 2,
       "version_minor": 0
      },
      "text/plain": [
       "FloatSlider(value=1e-05, continuous_update=False, description='Paws', max=0.9999, min=1e-05, readout_format='.…"
      ]
     },
     "metadata": {},
     "output_type": "display_data"
    },
    {
     "data": {
      "application/vnd.jupyter.widget-view+json": {
       "model_id": "61d9829060de47d29d99fc8a0629395b",
       "version_major": 2,
       "version_minor": 0
      },
      "text/plain": [
       "FloatSlider(value=1e-05, continuous_update=False, description='Quadrupedal', max=0.9999, min=1e-05, readout_fo…"
      ]
     },
     "metadata": {},
     "output_type": "display_data"
    },
    {
     "data": {
      "application/vnd.jupyter.widget-view+json": {
       "model_id": "d55ff84106f94ed295bebdd37d611675",
       "version_major": 2,
       "version_minor": 0
      },
      "text/plain": [
       "FloatSlider(value=1e-05, continuous_update=False, description='Size', max=0.9999, min=1e-05, readout_format='.…"
      ]
     },
     "metadata": {},
     "output_type": "display_data"
    },
    {
     "data": {
      "application/vnd.jupyter.widget-view+json": {
       "model_id": "47b4034417674a3b8d04e66c908f835d",
       "version_major": 2,
       "version_minor": 0
      },
      "text/plain": [
       "FloatSlider(value=1e-05, continuous_update=False, description='Smart', max=0.9999, min=1e-05, readout_format='…"
      ]
     },
     "metadata": {},
     "output_type": "display_data"
    },
    {
     "data": {
      "application/vnd.jupyter.widget-view+json": {
       "model_id": "aa04b26f8a4d4689b7fbbe47aa3f7ec5",
       "version_major": 2,
       "version_minor": 0
      },
      "text/plain": [
       "FloatSlider(value=1e-05, continuous_update=False, description='Speed', max=0.9999, min=1e-05, readout_format='…"
      ]
     },
     "metadata": {},
     "output_type": "display_data"
    },
    {
     "data": {
      "application/vnd.jupyter.widget-view+json": {
       "model_id": "6231b03adec8485bbf549b653ce1159f",
       "version_major": 2,
       "version_minor": 0
      },
      "text/plain": [
       "FloatSlider(value=1e-05, continuous_update=False, description='Spots', max=0.9999, min=1e-05, readout_format='…"
      ]
     },
     "metadata": {},
     "output_type": "display_data"
    },
    {
     "data": {
      "application/vnd.jupyter.widget-view+json": {
       "model_id": "2e642761765942c788b112a3124f341b",
       "version_major": 2,
       "version_minor": 0
      },
      "text/plain": [
       "FloatSlider(value=1e-05, continuous_update=False, description='Stalker', max=0.9999, min=1e-05, readout_format…"
      ]
     },
     "metadata": {},
     "output_type": "display_data"
    },
    {
     "data": {
      "application/vnd.jupyter.widget-view+json": {
       "model_id": "4cfce2a174824d61b5fa8a821864a9e3",
       "version_major": 2,
       "version_minor": 0
      },
      "text/plain": [
       "FloatSlider(value=1e-05, continuous_update=False, description='Strength', max=0.9999, min=1e-05, readout_forma…"
      ]
     },
     "metadata": {},
     "output_type": "display_data"
    },
    {
     "data": {
      "application/vnd.jupyter.widget-view+json": {
       "model_id": "74a0193bca5d4eeb8ada5ddb6e47b997",
       "version_major": 2,
       "version_minor": 0
      },
      "text/plain": [
       "FloatSlider(value=1e-05, continuous_update=False, description='Tail', max=0.9999, min=1e-05, readout_format='.…"
      ]
     },
     "metadata": {},
     "output_type": "display_data"
    },
    {
     "data": {
      "application/vnd.jupyter.widget-view+json": {
       "model_id": "f750d7357e4a4a209256ac5df18d7bbb",
       "version_major": 2,
       "version_minor": 0
      },
      "text/plain": [
       "FloatSlider(value=1e-05, continuous_update=False, description='Timid', max=0.9999, min=1e-05, readout_format='…"
      ]
     },
     "metadata": {},
     "output_type": "display_data"
    },
    {
     "data": {
      "application/vnd.jupyter.widget-view+json": {
       "model_id": "82df26777f7d4e90b00a897995e8675c",
       "version_major": 2,
       "version_minor": 0
      },
      "text/plain": [
       "FloatSlider(value=1e-05, continuous_update=False, description='Toughskin', max=0.9999, min=1e-05, readout_form…"
      ]
     },
     "metadata": {},
     "output_type": "display_data"
    },
    {
     "data": {
      "application/vnd.jupyter.widget-view+json": {
       "model_id": "9c1c8059ab2a4824827c56fb26693fa4",
       "version_major": 2,
       "version_minor": 0
      },
      "text/plain": [
       "FloatSlider(value=1e-05, continuous_update=False, description='Water', max=0.9999, min=1e-05, readout_format='…"
      ]
     },
     "metadata": {},
     "output_type": "display_data"
    },
    {
     "data": {
      "application/vnd.jupyter.widget-view+json": {
       "model_id": "316e4e6d2a424d6891f34dd7633fd20b",
       "version_major": 2,
       "version_minor": 0
      },
      "text/plain": [
       "Button(description='Apply Slider Weights', style=ButtonStyle())"
      ]
     },
     "metadata": {},
     "output_type": "display_data"
    },
    {
     "data": {
      "application/vnd.jupyter.widget-view+json": {
       "model_id": "4f77474bb95b43af96cf56f7db801e14",
       "version_major": 2,
       "version_minor": 0
      },
      "text/plain": [
       "Button(description='Reset Plot', style=ButtonStyle())"
      ]
     },
     "metadata": {},
     "output_type": "display_data"
    }
   ],
   "source": [
    "sliders = create_sliders(weights)"
   ]
  },
  {
   "cell_type": "markdown",
   "metadata": {},
   "source": [
    "## Dimension Reduction Plot\n",
    "This shows the HD data in 2D form, such that **proximity == similarity**, based on the current slider weights.  Distances between points in the plot approximately reflect their distances in the weighted HD data.  Thus, points near each other have similar HD data values in the up-weighted dimensions, and points far away have very different HD data values in those dimensions.\n",
    "\n",
    "The color represents the **relevance** of each point to the current slider weights. Yellower points have larger values in up-weighted dimensions.\n",
    "\n",
    "Points can be **selected** to highlight in Green and view their details below.  Points can be **dragged** to specify a new projection for learning weights, see below. To reset the plot and clear the selections, click the **Reset** button above."
   ]
  },
  {
   "cell_type": "code",
   "execution_count": 20,
   "metadata": {
    "scrolled": false
   },
   "outputs": [
    {
     "data": {
      "application/javascript": "/* Put everything inside the global mpl namespace */\n/* global mpl */\nwindow.mpl = {};\n\nmpl.get_websocket_type = function () {\n    if (typeof WebSocket !== 'undefined') {\n        return WebSocket;\n    } else if (typeof MozWebSocket !== 'undefined') {\n        return MozWebSocket;\n    } else {\n        alert(\n            'Your browser does not have WebSocket support. ' +\n                'Please try Chrome, Safari or Firefox ≥ 6. ' +\n                'Firefox 4 and 5 are also supported but you ' +\n                'have to enable WebSockets in about:config.'\n        );\n    }\n};\n\nmpl.figure = function (figure_id, websocket, ondownload, parent_element) {\n    this.id = figure_id;\n\n    this.ws = websocket;\n\n    this.supports_binary = this.ws.binaryType !== undefined;\n\n    if (!this.supports_binary) {\n        var warnings = document.getElementById('mpl-warnings');\n        if (warnings) {\n            warnings.style.display = 'block';\n            warnings.textContent =\n                'This browser does not support binary websocket messages. ' +\n                'Performance may be slow.';\n        }\n    }\n\n    this.imageObj = new Image();\n\n    this.context = undefined;\n    this.message = undefined;\n    this.canvas = undefined;\n    this.rubberband_canvas = undefined;\n    this.rubberband_context = undefined;\n    this.format_dropdown = undefined;\n\n    this.image_mode = 'full';\n\n    this.root = document.createElement('div');\n    this.root.setAttribute('style', 'display: inline-block');\n    this._root_extra_style(this.root);\n\n    parent_element.appendChild(this.root);\n\n    this._init_header(this);\n    this._init_canvas(this);\n    this._init_toolbar(this);\n\n    var fig = this;\n\n    this.waiting = false;\n\n    this.ws.onopen = function () {\n        fig.send_message('supports_binary', { value: fig.supports_binary });\n        fig.send_message('send_image_mode', {});\n        if (fig.ratio !== 1) {\n            fig.send_message('set_device_pixel_ratio', {\n                device_pixel_ratio: fig.ratio,\n            });\n        }\n        fig.send_message('refresh', {});\n    };\n\n    this.imageObj.onload = function () {\n        if (fig.image_mode === 'full') {\n            // Full images could contain transparency (where diff images\n            // almost always do), so we need to clear the canvas so that\n            // there is no ghosting.\n            fig.context.clearRect(0, 0, fig.canvas.width, fig.canvas.height);\n        }\n        fig.context.drawImage(fig.imageObj, 0, 0);\n    };\n\n    this.imageObj.onunload = function () {\n        fig.ws.close();\n    };\n\n    this.ws.onmessage = this._make_on_message_function(this);\n\n    this.ondownload = ondownload;\n};\n\nmpl.figure.prototype._init_header = function () {\n    var titlebar = document.createElement('div');\n    titlebar.classList =\n        'ui-dialog-titlebar ui-widget-header ui-corner-all ui-helper-clearfix';\n    var titletext = document.createElement('div');\n    titletext.classList = 'ui-dialog-title';\n    titletext.setAttribute(\n        'style',\n        'width: 100%; text-align: center; padding: 3px;'\n    );\n    titlebar.appendChild(titletext);\n    this.root.appendChild(titlebar);\n    this.header = titletext;\n};\n\nmpl.figure.prototype._canvas_extra_style = function (_canvas_div) {};\n\nmpl.figure.prototype._root_extra_style = function (_canvas_div) {};\n\nmpl.figure.prototype._init_canvas = function () {\n    var fig = this;\n\n    var canvas_div = (this.canvas_div = document.createElement('div'));\n    canvas_div.setAttribute(\n        'style',\n        'border: 1px solid #ddd;' +\n            'box-sizing: content-box;' +\n            'clear: both;' +\n            'min-height: 1px;' +\n            'min-width: 1px;' +\n            'outline: 0;' +\n            'overflow: hidden;' +\n            'position: relative;' +\n            'resize: both;'\n    );\n\n    function on_keyboard_event_closure(name) {\n        return function (event) {\n            return fig.key_event(event, name);\n        };\n    }\n\n    canvas_div.addEventListener(\n        'keydown',\n        on_keyboard_event_closure('key_press')\n    );\n    canvas_div.addEventListener(\n        'keyup',\n        on_keyboard_event_closure('key_release')\n    );\n\n    this._canvas_extra_style(canvas_div);\n    this.root.appendChild(canvas_div);\n\n    var canvas = (this.canvas = document.createElement('canvas'));\n    canvas.classList.add('mpl-canvas');\n    canvas.setAttribute('style', 'box-sizing: content-box;');\n\n    this.context = canvas.getContext('2d');\n\n    var backingStore =\n        this.context.backingStorePixelRatio ||\n        this.context.webkitBackingStorePixelRatio ||\n        this.context.mozBackingStorePixelRatio ||\n        this.context.msBackingStorePixelRatio ||\n        this.context.oBackingStorePixelRatio ||\n        this.context.backingStorePixelRatio ||\n        1;\n\n    this.ratio = (window.devicePixelRatio || 1) / backingStore;\n\n    var rubberband_canvas = (this.rubberband_canvas = document.createElement(\n        'canvas'\n    ));\n    rubberband_canvas.setAttribute(\n        'style',\n        'box-sizing: content-box; position: absolute; left: 0; top: 0; z-index: 1;'\n    );\n\n    // Apply a ponyfill if ResizeObserver is not implemented by browser.\n    if (this.ResizeObserver === undefined) {\n        if (window.ResizeObserver !== undefined) {\n            this.ResizeObserver = window.ResizeObserver;\n        } else {\n            var obs = _JSXTOOLS_RESIZE_OBSERVER({});\n            this.ResizeObserver = obs.ResizeObserver;\n        }\n    }\n\n    this.resizeObserverInstance = new this.ResizeObserver(function (entries) {\n        var nentries = entries.length;\n        for (var i = 0; i < nentries; i++) {\n            var entry = entries[i];\n            var width, height;\n            if (entry.contentBoxSize) {\n                if (entry.contentBoxSize instanceof Array) {\n                    // Chrome 84 implements new version of spec.\n                    width = entry.contentBoxSize[0].inlineSize;\n                    height = entry.contentBoxSize[0].blockSize;\n                } else {\n                    // Firefox implements old version of spec.\n                    width = entry.contentBoxSize.inlineSize;\n                    height = entry.contentBoxSize.blockSize;\n                }\n            } else {\n                // Chrome <84 implements even older version of spec.\n                width = entry.contentRect.width;\n                height = entry.contentRect.height;\n            }\n\n            // Keep the size of the canvas and rubber band canvas in sync with\n            // the canvas container.\n            if (entry.devicePixelContentBoxSize) {\n                // Chrome 84 implements new version of spec.\n                canvas.setAttribute(\n                    'width',\n                    entry.devicePixelContentBoxSize[0].inlineSize\n                );\n                canvas.setAttribute(\n                    'height',\n                    entry.devicePixelContentBoxSize[0].blockSize\n                );\n            } else {\n                canvas.setAttribute('width', width * fig.ratio);\n                canvas.setAttribute('height', height * fig.ratio);\n            }\n            canvas.setAttribute(\n                'style',\n                'width: ' + width + 'px; height: ' + height + 'px;'\n            );\n\n            rubberband_canvas.setAttribute('width', width);\n            rubberband_canvas.setAttribute('height', height);\n\n            // And update the size in Python. We ignore the initial 0/0 size\n            // that occurs as the element is placed into the DOM, which should\n            // otherwise not happen due to the minimum size styling.\n            if (fig.ws.readyState == 1 && width != 0 && height != 0) {\n                fig.request_resize(width, height);\n            }\n        }\n    });\n    this.resizeObserverInstance.observe(canvas_div);\n\n    function on_mouse_event_closure(name) {\n        return function (event) {\n            return fig.mouse_event(event, name);\n        };\n    }\n\n    rubberband_canvas.addEventListener(\n        'mousedown',\n        on_mouse_event_closure('button_press')\n    );\n    rubberband_canvas.addEventListener(\n        'mouseup',\n        on_mouse_event_closure('button_release')\n    );\n    rubberband_canvas.addEventListener(\n        'dblclick',\n        on_mouse_event_closure('dblclick')\n    );\n    // Throttle sequential mouse events to 1 every 20ms.\n    rubberband_canvas.addEventListener(\n        'mousemove',\n        on_mouse_event_closure('motion_notify')\n    );\n\n    rubberband_canvas.addEventListener(\n        'mouseenter',\n        on_mouse_event_closure('figure_enter')\n    );\n    rubberband_canvas.addEventListener(\n        'mouseleave',\n        on_mouse_event_closure('figure_leave')\n    );\n\n    canvas_div.addEventListener('wheel', function (event) {\n        if (event.deltaY < 0) {\n            event.step = 1;\n        } else {\n            event.step = -1;\n        }\n        on_mouse_event_closure('scroll')(event);\n    });\n\n    canvas_div.appendChild(canvas);\n    canvas_div.appendChild(rubberband_canvas);\n\n    this.rubberband_context = rubberband_canvas.getContext('2d');\n    this.rubberband_context.strokeStyle = '#000000';\n\n    this._resize_canvas = function (width, height, forward) {\n        if (forward) {\n            canvas_div.style.width = width + 'px';\n            canvas_div.style.height = height + 'px';\n        }\n    };\n\n    // Disable right mouse context menu.\n    this.rubberband_canvas.addEventListener('contextmenu', function (_e) {\n        event.preventDefault();\n        return false;\n    });\n\n    function set_focus() {\n        canvas.focus();\n        canvas_div.focus();\n    }\n\n    window.setTimeout(set_focus, 100);\n};\n\nmpl.figure.prototype._init_toolbar = function () {\n    var fig = this;\n\n    var toolbar = document.createElement('div');\n    toolbar.classList = 'mpl-toolbar';\n    this.root.appendChild(toolbar);\n\n    function on_click_closure(name) {\n        return function (_event) {\n            return fig.toolbar_button_onclick(name);\n        };\n    }\n\n    function on_mouseover_closure(tooltip) {\n        return function (event) {\n            if (!event.currentTarget.disabled) {\n                return fig.toolbar_button_onmouseover(tooltip);\n            }\n        };\n    }\n\n    fig.buttons = {};\n    var buttonGroup = document.createElement('div');\n    buttonGroup.classList = 'mpl-button-group';\n    for (var toolbar_ind in mpl.toolbar_items) {\n        var name = mpl.toolbar_items[toolbar_ind][0];\n        var tooltip = mpl.toolbar_items[toolbar_ind][1];\n        var image = mpl.toolbar_items[toolbar_ind][2];\n        var method_name = mpl.toolbar_items[toolbar_ind][3];\n\n        if (!name) {\n            /* Instead of a spacer, we start a new button group. */\n            if (buttonGroup.hasChildNodes()) {\n                toolbar.appendChild(buttonGroup);\n            }\n            buttonGroup = document.createElement('div');\n            buttonGroup.classList = 'mpl-button-group';\n            continue;\n        }\n\n        var button = (fig.buttons[name] = document.createElement('button'));\n        button.classList = 'mpl-widget';\n        button.setAttribute('role', 'button');\n        button.setAttribute('aria-disabled', 'false');\n        button.addEventListener('click', on_click_closure(method_name));\n        button.addEventListener('mouseover', on_mouseover_closure(tooltip));\n\n        var icon_img = document.createElement('img');\n        icon_img.src = '_images/' + image + '.png';\n        icon_img.srcset = '_images/' + image + '_large.png 2x';\n        icon_img.alt = tooltip;\n        button.appendChild(icon_img);\n\n        buttonGroup.appendChild(button);\n    }\n\n    if (buttonGroup.hasChildNodes()) {\n        toolbar.appendChild(buttonGroup);\n    }\n\n    var fmt_picker = document.createElement('select');\n    fmt_picker.classList = 'mpl-widget';\n    toolbar.appendChild(fmt_picker);\n    this.format_dropdown = fmt_picker;\n\n    for (var ind in mpl.extensions) {\n        var fmt = mpl.extensions[ind];\n        var option = document.createElement('option');\n        option.selected = fmt === mpl.default_extension;\n        option.innerHTML = fmt;\n        fmt_picker.appendChild(option);\n    }\n\n    var status_bar = document.createElement('span');\n    status_bar.classList = 'mpl-message';\n    toolbar.appendChild(status_bar);\n    this.message = status_bar;\n};\n\nmpl.figure.prototype.request_resize = function (x_pixels, y_pixels) {\n    // Request matplotlib to resize the figure. Matplotlib will then trigger a resize in the client,\n    // which will in turn request a refresh of the image.\n    this.send_message('resize', { width: x_pixels, height: y_pixels });\n};\n\nmpl.figure.prototype.send_message = function (type, properties) {\n    properties['type'] = type;\n    properties['figure_id'] = this.id;\n    this.ws.send(JSON.stringify(properties));\n};\n\nmpl.figure.prototype.send_draw_message = function () {\n    if (!this.waiting) {\n        this.waiting = true;\n        this.ws.send(JSON.stringify({ type: 'draw', figure_id: this.id }));\n    }\n};\n\nmpl.figure.prototype.handle_save = function (fig, _msg) {\n    var format_dropdown = fig.format_dropdown;\n    var format = format_dropdown.options[format_dropdown.selectedIndex].value;\n    fig.ondownload(fig, format);\n};\n\nmpl.figure.prototype.handle_resize = function (fig, msg) {\n    var size = msg['size'];\n    if (size[0] !== fig.canvas.width || size[1] !== fig.canvas.height) {\n        fig._resize_canvas(size[0], size[1], msg['forward']);\n        fig.send_message('refresh', {});\n    }\n};\n\nmpl.figure.prototype.handle_rubberband = function (fig, msg) {\n    var x0 = msg['x0'] / fig.ratio;\n    var y0 = (fig.canvas.height - msg['y0']) / fig.ratio;\n    var x1 = msg['x1'] / fig.ratio;\n    var y1 = (fig.canvas.height - msg['y1']) / fig.ratio;\n    x0 = Math.floor(x0) + 0.5;\n    y0 = Math.floor(y0) + 0.5;\n    x1 = Math.floor(x1) + 0.5;\n    y1 = Math.floor(y1) + 0.5;\n    var min_x = Math.min(x0, x1);\n    var min_y = Math.min(y0, y1);\n    var width = Math.abs(x1 - x0);\n    var height = Math.abs(y1 - y0);\n\n    fig.rubberband_context.clearRect(\n        0,\n        0,\n        fig.canvas.width / fig.ratio,\n        fig.canvas.height / fig.ratio\n    );\n\n    fig.rubberband_context.strokeRect(min_x, min_y, width, height);\n};\n\nmpl.figure.prototype.handle_figure_label = function (fig, msg) {\n    // Updates the figure title.\n    fig.header.textContent = msg['label'];\n};\n\nmpl.figure.prototype.handle_cursor = function (fig, msg) {\n    fig.rubberband_canvas.style.cursor = msg['cursor'];\n};\n\nmpl.figure.prototype.handle_message = function (fig, msg) {\n    fig.message.textContent = msg['message'];\n};\n\nmpl.figure.prototype.handle_draw = function (fig, _msg) {\n    // Request the server to send over a new figure.\n    fig.send_draw_message();\n};\n\nmpl.figure.prototype.handle_image_mode = function (fig, msg) {\n    fig.image_mode = msg['mode'];\n};\n\nmpl.figure.prototype.handle_history_buttons = function (fig, msg) {\n    for (var key in msg) {\n        if (!(key in fig.buttons)) {\n            continue;\n        }\n        fig.buttons[key].disabled = !msg[key];\n        fig.buttons[key].setAttribute('aria-disabled', !msg[key]);\n    }\n};\n\nmpl.figure.prototype.handle_navigate_mode = function (fig, msg) {\n    if (msg['mode'] === 'PAN') {\n        fig.buttons['Pan'].classList.add('active');\n        fig.buttons['Zoom'].classList.remove('active');\n    } else if (msg['mode'] === 'ZOOM') {\n        fig.buttons['Pan'].classList.remove('active');\n        fig.buttons['Zoom'].classList.add('active');\n    } else {\n        fig.buttons['Pan'].classList.remove('active');\n        fig.buttons['Zoom'].classList.remove('active');\n    }\n};\n\nmpl.figure.prototype.updated_canvas_event = function () {\n    // Called whenever the canvas gets updated.\n    this.send_message('ack', {});\n};\n\n// A function to construct a web socket function for onmessage handling.\n// Called in the figure constructor.\nmpl.figure.prototype._make_on_message_function = function (fig) {\n    return function socket_on_message(evt) {\n        if (evt.data instanceof Blob) {\n            var img = evt.data;\n            if (img.type !== 'image/png') {\n                /* FIXME: We get \"Resource interpreted as Image but\n                 * transferred with MIME type text/plain:\" errors on\n                 * Chrome.  But how to set the MIME type?  It doesn't seem\n                 * to be part of the websocket stream */\n                img.type = 'image/png';\n            }\n\n            /* Free the memory for the previous frames */\n            if (fig.imageObj.src) {\n                (window.URL || window.webkitURL).revokeObjectURL(\n                    fig.imageObj.src\n                );\n            }\n\n            fig.imageObj.src = (window.URL || window.webkitURL).createObjectURL(\n                img\n            );\n            fig.updated_canvas_event();\n            fig.waiting = false;\n            return;\n        } else if (\n            typeof evt.data === 'string' &&\n            evt.data.slice(0, 21) === 'data:image/png;base64'\n        ) {\n            fig.imageObj.src = evt.data;\n            fig.updated_canvas_event();\n            fig.waiting = false;\n            return;\n        }\n\n        var msg = JSON.parse(evt.data);\n        var msg_type = msg['type'];\n\n        // Call the  \"handle_{type}\" callback, which takes\n        // the figure and JSON message as its only arguments.\n        try {\n            var callback = fig['handle_' + msg_type];\n        } catch (e) {\n            console.log(\n                \"No handler for the '\" + msg_type + \"' message type: \",\n                msg\n            );\n            return;\n        }\n\n        if (callback) {\n            try {\n                // console.log(\"Handling '\" + msg_type + \"' message: \", msg);\n                callback(fig, msg);\n            } catch (e) {\n                console.log(\n                    \"Exception inside the 'handler_\" + msg_type + \"' callback:\",\n                    e,\n                    e.stack,\n                    msg\n                );\n            }\n        }\n    };\n};\n\n// from https://stackoverflow.com/questions/1114465/getting-mouse-location-in-canvas\nmpl.findpos = function (e) {\n    //this section is from http://www.quirksmode.org/js/events_properties.html\n    var targ;\n    if (!e) {\n        e = window.event;\n    }\n    if (e.target) {\n        targ = e.target;\n    } else if (e.srcElement) {\n        targ = e.srcElement;\n    }\n    if (targ.nodeType === 3) {\n        // defeat Safari bug\n        targ = targ.parentNode;\n    }\n\n    // pageX,Y are the mouse positions relative to the document\n    var boundingRect = targ.getBoundingClientRect();\n    var x = e.pageX - (boundingRect.left + document.body.scrollLeft);\n    var y = e.pageY - (boundingRect.top + document.body.scrollTop);\n\n    return { x: x, y: y };\n};\n\n/*\n * return a copy of an object with only non-object keys\n * we need this to avoid circular references\n * https://stackoverflow.com/a/24161582/3208463\n */\nfunction simpleKeys(original) {\n    return Object.keys(original).reduce(function (obj, key) {\n        if (typeof original[key] !== 'object') {\n            obj[key] = original[key];\n        }\n        return obj;\n    }, {});\n}\n\nmpl.figure.prototype.mouse_event = function (event, name) {\n    var canvas_pos = mpl.findpos(event);\n\n    if (name === 'button_press') {\n        this.canvas.focus();\n        this.canvas_div.focus();\n    }\n\n    var x = canvas_pos.x * this.ratio;\n    var y = canvas_pos.y * this.ratio;\n\n    this.send_message(name, {\n        x: x,\n        y: y,\n        button: event.button,\n        step: event.step,\n        guiEvent: simpleKeys(event),\n    });\n\n    /* This prevents the web browser from automatically changing to\n     * the text insertion cursor when the button is pressed.  We want\n     * to control all of the cursor setting manually through the\n     * 'cursor' event from matplotlib */\n    event.preventDefault();\n    return false;\n};\n\nmpl.figure.prototype._key_event_extra = function (_event, _name) {\n    // Handle any extra behaviour associated with a key event\n};\n\nmpl.figure.prototype.key_event = function (event, name) {\n    // Prevent repeat events\n    if (name === 'key_press') {\n        if (event.key === this._key) {\n            return;\n        } else {\n            this._key = event.key;\n        }\n    }\n    if (name === 'key_release') {\n        this._key = null;\n    }\n\n    var value = '';\n    if (event.ctrlKey && event.key !== 'Control') {\n        value += 'ctrl+';\n    }\n    else if (event.altKey && event.key !== 'Alt') {\n        value += 'alt+';\n    }\n    else if (event.shiftKey && event.key !== 'Shift') {\n        value += 'shift+';\n    }\n\n    value += 'k' + event.key;\n\n    this._key_event_extra(event, name);\n\n    this.send_message(name, { key: value, guiEvent: simpleKeys(event) });\n    return false;\n};\n\nmpl.figure.prototype.toolbar_button_onclick = function (name) {\n    if (name === 'download') {\n        this.handle_save(this, null);\n    } else {\n        this.send_message('toolbar_button', { name: name });\n    }\n};\n\nmpl.figure.prototype.toolbar_button_onmouseover = function (tooltip) {\n    this.message.textContent = tooltip;\n};\n\n///////////////// REMAINING CONTENT GENERATED BY embed_js.py /////////////////\n// prettier-ignore\nvar _JSXTOOLS_RESIZE_OBSERVER=function(A){var t,i=new WeakMap,n=new WeakMap,a=new WeakMap,r=new WeakMap,o=new Set;function s(e){if(!(this instanceof s))throw new TypeError(\"Constructor requires 'new' operator\");i.set(this,e)}function h(){throw new TypeError(\"Function is not a constructor\")}function c(e,t,i,n){e=0 in arguments?Number(arguments[0]):0,t=1 in arguments?Number(arguments[1]):0,i=2 in arguments?Number(arguments[2]):0,n=3 in arguments?Number(arguments[3]):0,this.right=(this.x=this.left=e)+(this.width=i),this.bottom=(this.y=this.top=t)+(this.height=n),Object.freeze(this)}function d(){t=requestAnimationFrame(d);var s=new WeakMap,p=new Set;o.forEach((function(t){r.get(t).forEach((function(i){var r=t instanceof window.SVGElement,o=a.get(t),d=r?0:parseFloat(o.paddingTop),f=r?0:parseFloat(o.paddingRight),l=r?0:parseFloat(o.paddingBottom),u=r?0:parseFloat(o.paddingLeft),g=r?0:parseFloat(o.borderTopWidth),m=r?0:parseFloat(o.borderRightWidth),w=r?0:parseFloat(o.borderBottomWidth),b=u+f,F=d+l,v=(r?0:parseFloat(o.borderLeftWidth))+m,W=g+w,y=r?0:t.offsetHeight-W-t.clientHeight,E=r?0:t.offsetWidth-v-t.clientWidth,R=b+v,z=F+W,M=r?t.width:parseFloat(o.width)-R-E,O=r?t.height:parseFloat(o.height)-z-y;if(n.has(t)){var k=n.get(t);if(k[0]===M&&k[1]===O)return}n.set(t,[M,O]);var S=Object.create(h.prototype);S.target=t,S.contentRect=new c(u,d,M,O),s.has(i)||(s.set(i,[]),p.add(i)),s.get(i).push(S)}))})),p.forEach((function(e){i.get(e).call(e,s.get(e),e)}))}return s.prototype.observe=function(i){if(i instanceof window.Element){r.has(i)||(r.set(i,new Set),o.add(i),a.set(i,window.getComputedStyle(i)));var n=r.get(i);n.has(this)||n.add(this),cancelAnimationFrame(t),t=requestAnimationFrame(d)}},s.prototype.unobserve=function(i){if(i instanceof window.Element&&r.has(i)){var n=r.get(i);n.has(this)&&(n.delete(this),n.size||(r.delete(i),o.delete(i))),n.size||r.delete(i),o.size||cancelAnimationFrame(t)}},A.DOMRectReadOnly=c,A.ResizeObserver=s,A.ResizeObserverEntry=h,A}; // eslint-disable-line\nmpl.toolbar_items = [[\"Home\", \"Reset original view\", \"fa fa-home icon-home\", \"home\"], [\"Back\", \"Back to previous view\", \"fa fa-arrow-left icon-arrow-left\", \"back\"], [\"Forward\", \"Forward to next view\", \"fa fa-arrow-right icon-arrow-right\", \"forward\"], [\"\", \"\", \"\", \"\"], [\"Pan\", \"Left button pans, Right button zooms\\nx/y fixes axis, CTRL fixes aspect\", \"fa fa-arrows icon-move\", \"pan\"], [\"Zoom\", \"Zoom to rectangle\\nx/y fixes axis\", \"fa fa-square-o icon-check-empty\", \"zoom\"], [\"\", \"\", \"\", \"\"], [\"Download\", \"Download plot\", \"fa fa-floppy-o icon-save\", \"download\"]];\n\nmpl.extensions = [\"eps\", \"jpeg\", \"pgf\", \"pdf\", \"png\", \"ps\", \"raw\", \"svg\", \"tif\"];\n\nmpl.default_extension = \"png\";/* global mpl */\n\nvar comm_websocket_adapter = function (comm) {\n    // Create a \"websocket\"-like object which calls the given IPython comm\n    // object with the appropriate methods. Currently this is a non binary\n    // socket, so there is still some room for performance tuning.\n    var ws = {};\n\n    ws.binaryType = comm.kernel.ws.binaryType;\n    ws.readyState = comm.kernel.ws.readyState;\n    function updateReadyState(_event) {\n        if (comm.kernel.ws) {\n            ws.readyState = comm.kernel.ws.readyState;\n        } else {\n            ws.readyState = 3; // Closed state.\n        }\n    }\n    comm.kernel.ws.addEventListener('open', updateReadyState);\n    comm.kernel.ws.addEventListener('close', updateReadyState);\n    comm.kernel.ws.addEventListener('error', updateReadyState);\n\n    ws.close = function () {\n        comm.close();\n    };\n    ws.send = function (m) {\n        //console.log('sending', m);\n        comm.send(m);\n    };\n    // Register the callback with on_msg.\n    comm.on_msg(function (msg) {\n        //console.log('receiving', msg['content']['data'], msg);\n        var data = msg['content']['data'];\n        if (data['blob'] !== undefined) {\n            data = {\n                data: new Blob(msg['buffers'], { type: data['blob'] }),\n            };\n        }\n        // Pass the mpl event to the overridden (by mpl) onmessage function.\n        ws.onmessage(data);\n    });\n    return ws;\n};\n\nmpl.mpl_figure_comm = function (comm, msg) {\n    // This is the function which gets called when the mpl process\n    // starts-up an IPython Comm through the \"matplotlib\" channel.\n\n    var id = msg.content.data.id;\n    // Get hold of the div created by the display call when the Comm\n    // socket was opened in Python.\n    var element = document.getElementById(id);\n    var ws_proxy = comm_websocket_adapter(comm);\n\n    function ondownload(figure, _format) {\n        window.open(figure.canvas.toDataURL());\n    }\n\n    var fig = new mpl.figure(id, ws_proxy, ondownload, element);\n\n    // Call onopen now - mpl needs it, as it is assuming we've passed it a real\n    // web socket which is closed, not our websocket->open comm proxy.\n    ws_proxy.onopen();\n\n    fig.parent_element = element;\n    fig.cell_info = mpl.find_output_cell(\"<div id='\" + id + \"'></div>\");\n    if (!fig.cell_info) {\n        console.error('Failed to find cell for figure', id, fig);\n        return;\n    }\n    fig.cell_info[0].output_area.element.on(\n        'cleared',\n        { fig: fig },\n        fig._remove_fig_handler\n    );\n};\n\nmpl.figure.prototype.handle_close = function (fig, msg) {\n    var width = fig.canvas.width / fig.ratio;\n    fig.cell_info[0].output_area.element.off(\n        'cleared',\n        fig._remove_fig_handler\n    );\n    fig.resizeObserverInstance.unobserve(fig.canvas_div);\n\n    // Update the output cell to use the data from the current canvas.\n    fig.push_to_output();\n    var dataURL = fig.canvas.toDataURL();\n    // Re-enable the keyboard manager in IPython - without this line, in FF,\n    // the notebook keyboard shortcuts fail.\n    IPython.keyboard_manager.enable();\n    fig.parent_element.innerHTML =\n        '<img src=\"' + dataURL + '\" width=\"' + width + '\">';\n    fig.close_ws(fig, msg);\n};\n\nmpl.figure.prototype.close_ws = function (fig, msg) {\n    fig.send_message('closing', msg);\n    // fig.ws.close()\n};\n\nmpl.figure.prototype.push_to_output = function (_remove_interactive) {\n    // Turn the data on the canvas into data in the output cell.\n    var width = this.canvas.width / this.ratio;\n    var dataURL = this.canvas.toDataURL();\n    this.cell_info[1]['text/html'] =\n        '<img src=\"' + dataURL + '\" width=\"' + width + '\">';\n};\n\nmpl.figure.prototype.updated_canvas_event = function () {\n    // Tell IPython that the notebook contents must change.\n    IPython.notebook.set_dirty(true);\n    this.send_message('ack', {});\n    var fig = this;\n    // Wait a second, then push the new image to the DOM so\n    // that it is saved nicely (might be nice to debounce this).\n    setTimeout(function () {\n        fig.push_to_output();\n    }, 1000);\n};\n\nmpl.figure.prototype._init_toolbar = function () {\n    var fig = this;\n\n    var toolbar = document.createElement('div');\n    toolbar.classList = 'btn-toolbar';\n    this.root.appendChild(toolbar);\n\n    function on_click_closure(name) {\n        return function (_event) {\n            return fig.toolbar_button_onclick(name);\n        };\n    }\n\n    function on_mouseover_closure(tooltip) {\n        return function (event) {\n            if (!event.currentTarget.disabled) {\n                return fig.toolbar_button_onmouseover(tooltip);\n            }\n        };\n    }\n\n    fig.buttons = {};\n    var buttonGroup = document.createElement('div');\n    buttonGroup.classList = 'btn-group';\n    var button;\n    for (var toolbar_ind in mpl.toolbar_items) {\n        var name = mpl.toolbar_items[toolbar_ind][0];\n        var tooltip = mpl.toolbar_items[toolbar_ind][1];\n        var image = mpl.toolbar_items[toolbar_ind][2];\n        var method_name = mpl.toolbar_items[toolbar_ind][3];\n\n        if (!name) {\n            /* Instead of a spacer, we start a new button group. */\n            if (buttonGroup.hasChildNodes()) {\n                toolbar.appendChild(buttonGroup);\n            }\n            buttonGroup = document.createElement('div');\n            buttonGroup.classList = 'btn-group';\n            continue;\n        }\n\n        button = fig.buttons[name] = document.createElement('button');\n        button.classList = 'btn btn-default';\n        button.href = '#';\n        button.title = name;\n        button.innerHTML = '<i class=\"fa ' + image + ' fa-lg\"></i>';\n        button.addEventListener('click', on_click_closure(method_name));\n        button.addEventListener('mouseover', on_mouseover_closure(tooltip));\n        buttonGroup.appendChild(button);\n    }\n\n    if (buttonGroup.hasChildNodes()) {\n        toolbar.appendChild(buttonGroup);\n    }\n\n    // Add the status bar.\n    var status_bar = document.createElement('span');\n    status_bar.classList = 'mpl-message pull-right';\n    toolbar.appendChild(status_bar);\n    this.message = status_bar;\n\n    // Add the close button to the window.\n    var buttongrp = document.createElement('div');\n    buttongrp.classList = 'btn-group inline pull-right';\n    button = document.createElement('button');\n    button.classList = 'btn btn-mini btn-primary';\n    button.href = '#';\n    button.title = 'Stop Interaction';\n    button.innerHTML = '<i class=\"fa fa-power-off icon-remove icon-large\"></i>';\n    button.addEventListener('click', function (_evt) {\n        fig.handle_close(fig, {});\n    });\n    button.addEventListener(\n        'mouseover',\n        on_mouseover_closure('Stop Interaction')\n    );\n    buttongrp.appendChild(button);\n    var titlebar = this.root.querySelector('.ui-dialog-titlebar');\n    titlebar.insertBefore(buttongrp, titlebar.firstChild);\n};\n\nmpl.figure.prototype._remove_fig_handler = function (event) {\n    var fig = event.data.fig;\n    if (event.target !== this) {\n        // Ignore bubbled events from children.\n        return;\n    }\n    fig.close_ws(fig, {});\n};\n\nmpl.figure.prototype._root_extra_style = function (el) {\n    el.style.boxSizing = 'content-box'; // override notebook setting of border-box.\n};\n\nmpl.figure.prototype._canvas_extra_style = function (el) {\n    // this is important to make the div 'focusable\n    el.setAttribute('tabindex', 0);\n    // reach out to IPython and tell the keyboard manager to turn it's self\n    // off when our div gets focus\n\n    // location in version 3\n    if (IPython.notebook.keyboard_manager) {\n        IPython.notebook.keyboard_manager.register_events(el);\n    } else {\n        // location in version 2\n        IPython.keyboard_manager.register_events(el);\n    }\n};\n\nmpl.figure.prototype._key_event_extra = function (event, _name) {\n    // Check for shift+enter\n    if (event.shiftKey && event.which === 13) {\n        this.canvas_div.blur();\n        // select the cell after this one\n        var index = IPython.notebook.find_cell_index(this.cell_info[0]);\n        IPython.notebook.select(index + 1);\n    }\n};\n\nmpl.figure.prototype.handle_save = function (fig, _msg) {\n    fig.ondownload(fig, null);\n};\n\nmpl.find_output_cell = function (html_output) {\n    // Return the cell and output element which can be found *uniquely* in the notebook.\n    // Note - this is a bit hacky, but it is done because the \"notebook_saving.Notebook\"\n    // IPython event is triggered only after the cells have been serialised, which for\n    // our purposes (turning an active figure into a static one), is too late.\n    var cells = IPython.notebook.get_cells();\n    var ncells = cells.length;\n    for (var i = 0; i < ncells; i++) {\n        var cell = cells[i];\n        if (cell.cell_type === 'code') {\n            for (var j = 0; j < cell.output_area.outputs.length; j++) {\n                var data = cell.output_area.outputs[j];\n                if (data.data) {\n                    // IPython >= 3 moved mimebundle to data attribute of output\n                    data = data.data;\n                }\n                if (data['text/html'] === html_output) {\n                    return [cell, data, j];\n                }\n            }\n        }\n    }\n};\n\n// Register the function which deals with the matplotlib target/channel.\n// The kernel may be null if the page has been refreshed.\nif (IPython.notebook.kernel !== null) {\n    IPython.notebook.kernel.comm_manager.register_target(\n        'matplotlib',\n        mpl.mpl_figure_comm\n    );\n}\n",
      "text/plain": [
       "<IPython.core.display.Javascript object>"
      ]
     },
     "metadata": {},
     "output_type": "display_data"
    },
    {
     "data": {
      "text/html": [
       "<img src=\"data:image/png;base64,iVBORw0KGgoAAAANSUhEUgAAA+gAAANrCAYAAADVh7KSAAAAAXNSR0IArs4c6QAAIABJREFUeF7s3Qd0VNXeBfB9ZyaTnpAEQuih996bIqCAgKICFhSRIiqCYENREQREPkFRlCJdFCmiCEpRQKogRXqHECChpUB6Mu1+65y8CQkESIBJZu7suxaLZ3LLOb//wGPnlKuoqqqCBwUoQAEKUIACFKAABShAAQpQgAKFKqAwoBeqPx9OAQpQgAIUoAAFKEABClCAAhSQAgzo/CBQgAIUoAAFKEABClCAAhSgAAWcQIAB3QmKwCZQgAIUoAAFKEABClCAAhSgAAUY0PkZoAAFKEABClCAAhSgAAUoQAEKOIEAA7oTFIFNoAAFKEABClCAAhSgAAUoQAEKMKDzM0ABClCAAhSgAAUoQAEKUIACFHACAQZ0JygCm0ABClCAAhSgAAUoQAEKUIACFGBA52eAAhSgAAUoQAEKUIACFKAABSjgBAIM6E5QBDaBAhSgAAUoQAEKUIACFKAABSjAgM7PAAUoQAEKUIACFKAABShAAQpQwAkEGNCdoAhsAgUoQAEKUIACFKAABShAAQpQgAGdnwEKUIACFKAABShAAQpQgAIUoIATCDCgO0ER2AQKUIACFKAABShAAQpQgAIUoAADOj8DFKAABShAAQpQgAIUoAAFKEABJxBgQHeCIrAJFKAABShAAQpQgAIUoAAFKEABBnR+BihAAQpQgAIUoAAFKEABClCAAk4gwIDuBEVgEyhAAQpQgAIUoAAFKEABClCAAg4P6LGxsVi7di3Cw8Ph7e1NcQpQgAIUoAAFKEABClCAAhS4jwJpaWmIjIxEhw4dULRo0ft4Z96qoAUcHtB//PFHPP/88wXdLz6PAhSgAAUoQAEKUIACFKCAWwn88MMP6NWrl1v1WWuddXhA37ZtG1q1agXxYalevbrW/NgfClCAAhSgAAUoQAEKUIAChSpw9OhROSi6detWtGzZslDbwoffm4DDA/p///2Hhg0bYs+ePWjQoMG9tZZXU4ACFKAABShAAQpQgAIUoEAOAWYu7XwgGNC1U0v2hAIUoAAFKEABClCAAhRwQwEGdO0UnQFdO7VkTyhAAQpQgAIUoAAFKEABNxRgQNdO0RnQtVNL9oQCFKAABShAAQpQgAIUcEMBBnTtFJ0BXTu1ZE8oQAEKUIACFKAABShAATcUYEDXTtEZ0LVTS/aEAhSgAAUoQAEKUIACFHBDAQZ07RSdAV07tWRPKEABClCAAhSgAAUoQAE3FGBA107RGdC1U0v2hAIUoAAFKEABClCAAhRwQwEGdO0UnQFdO7VkTyhAAQpQgAIUoAAFKEABNxRgQNdO0RnQtVNL9oQCFKAABShAAQpQgAIUcEMBBnTtFJ0BXTu1ZE8oQAEKUIACFKAABSiQJwFVVeV5iqLk6Xye5NwCDOjOXZ/8tI4BPT9aPJcCFKAABShAAQpQgAIuKGBJtyD+yFUknk1C8sUUJF9Llr3w9vOGf5g//Er7omjtYBj9jS7YOzaZAV07nwEGdO3Ukj2hAAUoQAEKUIACFKBADgGbxYYL2y4henc0ouKjEZcahyR9Iix+VgAqdGl6+KX7Icg7CKUCS6FUrZIo07YUPHw9KOlCAgzoLlSsOzSVAV07tWRPKEABClCAAhSgAAUokCWQFpOGU7+dwYmIE4g0n0FGxXSYy5mgemdOb886TAoMFzxgPGlESXMpVCtVDZW6VECRioHUdBEBBnQXKVQemsmAngcknkIBClCAAhSgAAUoQAFXEki9kobDC49i39l9iC13BRm10gHDHXqgAh6njQg4XAR1Q+ui9pM1EVS1iCt1223byoCundIzoGunluwJBShAAQpQgAIUoAAFINabH5x9BLtO78SVOpdhCTdnqUTui8T8YfNzKHl4eSCweCBqtqmJ5j2bwzvdB0W2BqFhaCPU71sXPqHeVHVyAQZ0Jy9QPprHgJ4PLJ5KAQpQgAIUoAAFKEABZxeIXH0OOzb9i4iyp2CqkZGjufaAXv/R+givFy6/l5GSgbMHzuLw34dRoVEFvPD5C9BfMiBsZym0rNsc1Z6vAp1e5+zdduv2MaBrp/wM6NqpJXtCAQpQgAIUoAAFKODmAmmx6dgxfSd2pe9Catsk4IZcbQ/oXd/uigadG+TQWvLxEhzdfBRv//I2fIN84bnbG7USaqPFM80QUjPY5WSTkpLg7+/vcu2+mwYzoN+NmnNew4DunHVhqyhAAQpQgAIUoAAFKJBvgXPro7B57RZE1o2ApdT1qe32G90uoK/6ehV2/boLw1cOh5efF5QUHYqsDsaJC8ew7vBfiIyMRGBgIDp27IhPP/0UpUuXzmrfwYMHMXnyZGzevBnR0dEwGo1o2rQpPvnkE/m7/ahfvz7S0tJw7Nixm/o2ZMgQTJ06FVFRUQgLC5PfP3fuHEaPHo3Vq1cjNjYWpUqVwnPPPYeRI0fC09Mz6x5t2rTBqVOnsGHDBrz55pvYsmULKlSogL179+bb0BUvYEB3xarl3mYGdO3Ukj2hAAUoQAEKUIACFHBzgf3TDmL9qQ1I7Hz1ptFzQWMP6B0GdUCdh+tILVOaCecOnsMfk/9AhQYV8PSYp+XXrWYrFvRbgEuXLqFf336o26CuDMzffvutHJkWobBo0aLy3IkTJ2LRokUyvJcrVw6XL1/G7Nmz5bV79uxBjRo15HmTJk3C22+/jd27d6Nhw4ZZ1bJarTJ816lTB3/++af8ekREBJo3bw4PDw/0798fJUuWxK5duzB37lx06NABv//+OxRFkeeKgH7gwAH4+vqiXbt28jqLxYJBgwa5xSeCAV07ZWZA104t2RMKUIACFKAABShAATcWMKeYsfXL7diJf5HWKiVXidw2ibOfWLVlVTz14VMQm8aJY9uibdgwcwPG956AgR+9jMAKAfLr+/btQ6NGjfDOO+9g/Pjx8mspKSkyHGc/xIi3COZPPPEEZsyYIb914cIFlClTBm+88Qa++OKLrNPXrl0rw/28efPw4osvyq937twZhw4dkqPgwcHXp9h/8803GDx4MNasWSODuj2gb9q0SY62i9F1dzsY0LVTcQZ07dSSPaEABShAAQpQgAIUcGOB5KhkbJq5FfuL7oOpdvptA3qzHs1QuWlleY453YyLJy9i+9LtKFOzDJ4d9yz0HnrMeHkGDDYDPnp0FFp1bYHQ+sWy7tm6dWv4+fnJEe0bj9TUVDmNXVVV9OnTR4ZyESDthxjhFlPcz58/D50uc5G8COVLly6VI+9idP7atWsICQnB0KFD8f777+d4RHx8PKpWrSpH4j///PMcAV18LygoyO0+BQzo2ik5A7p2asmeUIACFKAABShAAQq4sUDi2SRsnr0VB8L23bR7u53ldmvQD204hGVjlqHzsM5o9FgjjOs4DpYMyy1Fy5Yti7Nnz8rvJyYm4sMPP5QhW0xrz36UL19eTle3H3PmzEG/fv2wbt06OR1dhPnixYujU6dOWLx4sTxt586dOdau59aI3r17Y/78zFfGiSnuYh18XFycW34CGNC1U3YGdO3Ukj2hAAUoQAEKUIACFHBjgZRLqdg8fSv2FfkPGfVuP4Ke2y7u6cnpmNB1Amo8WAM9RvXA2EfGomS5kujd6CXUfbAOgioF5tD18vJCq1at5NfEdPT169dj2LBhaNCggdxMToyOiynwp0+flhvM2Y+EhAS5CZzY7E2sU1+yZAmefvpprFixAl27dpWn7dixQ64jf+WVV/DUU0/lWtUSJUqgZs2aWQFdbBInNphzx4MBXTtVZ0DXTi3ZEwpQgAIUoAAFKEABNxawmW34Z+K/2JaxDWltknOVuN0Iesq1FEx8YiIqNamEXhN6YVrfabClqJj/ygI8MKAl/Er75XpPMR1drBEXa79HjRqV4xwRsi9evJgjoIsTevTogb/++ktOae/Zsye2bt0qR97FhnDiiImJkaPqL7/8MqZPn37Hqtp3cWdA3yN/QMLDdQUY0F23dmw5BShAAQpQgAIUoAAFcggcmXcM6/dvQFynGMCo3qRzu4C+5/c9+H3S72j1XCu0G9AOW37cgg2zNmBE9w/xyY+joDfqs+4n1peLTeCKFSsG8b5xMWL+0UcfyU3a7MfGjRvRtm1biKnw2UfQxfeXL18uN4+bOXOm3Gm9b9++mDZtWo72ig3gxOvSxC7w1atXz/G99PR0mEwmBARkblzHgP6f3BVfWDGgu/ZfCgzorl0/tp4CFKAABShAAQpQgAJZApd3XcGWX7fhePgxmKtk3DKg13+0PsLrhcvv2zeJ27t6L3wCfTDwu4HwC/aDelHFoncW4UT0CXTv3l1OZxcj3GfOnMFvv/0mR77Hjh0r79G+fXts27ZN7q5euXJluR5cvA4tPDxcBvgbA7oI12Kau3gVmvi+COL26fL2Rot16y1btpTr20WAr1Wrltwt/vjx4/j555/lenXxXAZ0yE34GNC18RcBA7o26sheUIACFKAABShAAQpQAJY0C/ZM3YvtF3Yg4eF4qF45R9Fze82aolPgH+KPCo0qoE2fNggMDQRsgM8Gf9TW1cYuyw4s+2MZTpw4IQN66dKl5ci4WB8uQrM4rly5grfeegvidWkiRNetWxdjxozBggULIEbSbwzo4hoxfV2MoIv3povQb3+nefYyiunxn376qXzneXR0tBwxF5vOiTXvr7/+etZ72DmCzoCulT/+DOhaqST7QQEKUIACFKAABShAARGW/4vBzuW7cdh4CGktUoDMN5nl6zAe9kL58xXQ/IGmCH+0XL6u5ckFL8AR9II3d9QTGdAdJcv7UoACFKAABShAAQpQoBAExPrwk0sj5LTnyKAzSG+UClxfPn77FqmA8bgnQk+UQOMqDVHzxeoweBsKoRd8ZH4EGNDzo+Xc5zKgO3d92DoKUIACFKAABShAAQrkW8CaYcXJZRE4dOgQzuAM0hqlwBZsve19lFQFXnt8UCKxJOqUr41qz1aFV5Bnvp/NCwpegAG94M0d9UQGdEfJ8r4UoAAFKEABClCAAhQoRAHx2rWoTRdwensETsWfQnxAPCzlTLAGW2HzswIKoKTpoI/XwxDlgYArgShfpDwq1aqIch3LwuiX+cozHs4vwIDu/DXKawsZ0PMqxfMoQAEKUIACFKAABSjgggJJ55Nx6d/LuHD8ImJSYpBkSkKGJQNiKrxRb4Sfpx+CvYJRKrwUwhqHIqh6kVw3bHPBrrtNkxnQtVNqBnTt1JI9oQAFKEABClCAAhSgwC0FMq5lIOlcMlIupcKcZJYBXawv9w3zgV9pX/gU96GeiwowoLto4XJpNgO6dmrJnlCAAm4uoKpmwBYH1ZaSOW1R8QV0IVAUTlF0848Gu08BClCAAhoXYEDXToEZ0LVTS/aEAhRwQwFVtUC1nITNfAiq5SxUWzJUmKSEAk8oOj8ohnLQedSCYqgEReFOvG74MWGXKUABClBA4wIM6NopMAO6dmrJnlCAAm4mYLOchzX9L6iW01BtVwAYAMUXipK5466qZgBqCgArFF0oFENF6L0ehs5Q2s2k2F0KUIACFKCAtgUY0LVTXwZ07dSSPaEABdxEQKwZtJn+hTX9b6jWM4ASCEVfPCuY38gggrpqvQSoiVD05aH3ag+dsZHmNgDauHEjHnroIfz9999o06aNm3wa2E0KUIACFKAA5DvvGzZsiD179qBBgwYkcWEBBnQXLh6bTgEK3JuACLpA4v+mhOuhIMAlpoBbM7bDmvYnVGs0FEMFKDpfbNpyEg93noLpU55B3xdb5Aojp79bIqAYykDv1RF6zyb3BuhkVzOgO1lB2BwKUIACFCgwAQb0AqN2+IMY0B1OzAdQgALOJCA2UrOpJ2FVj8KmRkPFNaiwyhXbOojp4SWhVypBr9SEovg5U9NlW2yWs7Ck/AjVEgnFoyoUxSi/npeALs5TVRNU83EohvIw+D4PnaGM0/XxbhvEgH63cryOAhSgAAVcXYAB3dUreL39DOjaqSV7QgEK3EZATgtXj8NsWw+beh4qxJptcfhCgR4qxGh6KgAzgCDolBIw6JrDoDR3mlF1Ea4tKd/L6e2KvhIU3fXX4eQ1oMuQbkuBao2AztgMBt8XXGaX96SkJPj7+9+yygzo/CuAAhSgAAXcVYABXTuVZ0DXTi3ZEwpQ4BYCYqdzi/onzLZ/oarnoCAYCkJzXbOtqlaoiIMNl3A+0oAaVWZizpxv8dJLrxW6r9ip3Zzyo0jYN230lteA/sfqQ/ji6/XYu/8crFYV9erWwgcfjkXnzp1z9M9kMmH8+PH44YcfcO7cOQQHB8tzxo0bh+LFi2edO2/ePLz00ktYtWoVNm/ejPnz5+Pq1ato3LgxJk+enGMdXHx8PCZMmIA///wTEREREM+oUaMGhg0bhueffz7H8/v06SPvdf78ebz77rtYu3YtbDabvLc4RBgfPnw4Dhw4gJCQELz44oty3fkjjzzCNeiF/kllAyhAAQpQoKAFGNALWtxxz2NAd5wt70wBCjiBgAjcZttKWGxboSIRfsaZeWpV6wcqYMasB1Gjylx8N6s3+vf9GooSmKdrHXWSOeUn2DI2QDFUy5rabn9WXgL61BmbMfSdn9H+oaro8EhVKGoMlvwai127T2HhwoV45plnsprerVs3/Pbbb3jiiSfQvn17HD9+HNOmTUPZsmWxe/duFClSRJ5rD+h169aFmKUggnJiYiK++eYbmM1meW7lypXlueJ/i/s99dRTqFKlCjIyMvDLL79g69atmD17Nvr27Zv1fHtAr1WrFipWrIgOHTrI+4pQ/s8//8jN4EJDQzFw4EB4eXlh7ty58PT0xN69exnQHfUB5H0pQAEKUMBpBRjQnbY0+W4YA3q+yXgBBSjgSgIimJusK2U416EyFi38L0fzly8/gBXLD2L8/z2G4qHXp0+HFvdH23ZVkJR8Dp5eKfAytoFR9wwURVco3VfVdJgTv4JqPQ+dR9Wb2nCngB594Rqq1hmNfi+2wFeTesjrbeajUJVyeLDjMkRHX5Aj5TqdDqtXr8ajjz6KV155RYZy+7F48WIZ4t977z05up49oFeoUAH79++Hn1/mun3xv8Uust27d4e4ThwikBsMBuj1+qx7ilAvfgAQFRUlfwhgP+wBXYzOz5kzJ0d/mzVrhkOHDuHYsWMoXTrzlXFi+nudOnUQGRnJgF4on1A+lAIUoAAFClOAAb0w9e/vsxnQ768n70YBCjiRgE29jAzrHFjVk9BDbPp2PRjamzn2kzUYN2YtDh0dgYqViuXaeqt6Ggp8YdQ/CYOu4HY+F1PAxWE0GiHeeW5JninfbZ7be8zvFNC/mbYJbw5fhu0b30a5csHyvjZLFBTFBzMXqBg1epIMvTVr1sSrr76K6dOny8Bepsz1TeREmK5UqZIcqT5y5EiOgP7pp5/i/fffz+Enpptv374dCQkJMvhnP0TfkpOT5bT1mTNnYsSIEfK8gIAAeZo9oIsR8Xr16mVdeuXKFTnFvn///vK67Mdnn30m28DXrDnRH0I2hQIUoAAFCkSAAb1AmAvkIQzoBcLMh1CAAoUhIEbOzbbfoUMpKEpm8LvxuF1APxsZj2qVx2DGrJ54rrc3DEpDeOpfQUTEObluesOGDfDw8JDTr8V66xIlSuDjjz/GqFGjsh5jtVrx9ddfyynYJ06cgLe3t1wrLQJt9erVs86zTxX/448/sG3bNnz//fe4cOGCfJ+pCKg28zGYk+fJqe2K/uYfJNwpoA8etgQzZm+9bRlEf8TU8Y4dO8o2iFHpG48uXbpg/fr1SEtLk9+yt3vZsmV48sknc5w+ePBgOdX90qVLMlSLgP/VV1/J8C8sMl9zd/04e/asnEIvDntAF9Pas28Mt2PHDjRv3hwTJ07EW2+9leN6MSVfTM1nQC+MP218JgUoQAEKFKYAA3ph6t/fZzOg319P3o0CFHASAVVNRLp1KmzqKeiVWrdsVV4C+neznkWv3iUB6JF0tQvq13tablYmAmi5cuWwZs0aREdHy/XPNwb0Hj16YPny5XjhhRfQpEkTxMXFYerUqUhJScGuXbuy1mfbg65Ycy1Cf69evaAoipwiLkLrvQb0QUMXY+acbVjyYz/4+3lJD9V2FSpsMHh1kKPyYkq62AxOBHSxzluE49wCugjyqalix/vrAV2sJRfry7MfNwb0zz//XG74JvomfqhRrFgxOeVdbDD35Zdf4syZMwgPD88R0MU6dnGO/RAj8i1atMCkSZPw5ptv5niecBZtYEB3kj+EbAYFKEABChSYAAN6gVE7/EEM6A4n5gMoQIHCELDaDiPDOg+AATrl+q7jN7YlrwH9+d51YcMpjHw/Hl9M+gVipFus07Yfzz33HH766accAX3p0qXo2bMnxO8iaNsPEebF7uXienFN9qArvi5GzcXGZ9kP+f7z5FnyNXCKvtRNpHcaQf9yygYM/2A5tqwbhqZNysvrxbR5RfGGwW9Ajmnzt5riLq6xT3E/fPhwjnbnZYp7/fr1ERgYKHdgz36IaelienpeAvrly5cRFhbGKe6F8YeKz6QABShAAacVYEB32tLku2EM6Pkm4wUUoIArCJhtf8NkXQIdSkNRfG/Z5LwH9MawYj8a1l4LBYFyg7LshxgNFyPk2UfQxZRvMSVbvArsxkOMIov/M42JickRdMVI8tChQ286X7Wlwpz0NVRrNHQeVfId0M+ei0eN+mPwYKtK+O3nV+DhoZej8oq+HDwC3kBMTILcFV0cYkZAp06dMGjQIDlF3X7Yf+AgArUI5OKwj/yLTeJEP319M63tm8SJHduXLFkiv9aoUSP5/U2bNmXdU/RfrHsXv+cloIsLmzZtCvEDAm4S5wp/EtlGClCAAhQoCAEG9IJQLphnMKAXjDOfQgEKFLCAyfobTLbl0KNWrpvD2ZuT14D+wotNYFWPIMR/Lh55pBNWrFiRo0digzPx6rHsAV2Mhh89evS2PRdr1MUGavagK+7btWvXXK8xJy+ALWMTFA+x4d31ad/iZPsI+mNd6qBBvesbu9lv1KRROZw8dQVD31mGqlVC0fOpeggLTcGlmDDs+i9FBl6xBtx+2F+zJgJ227Zt5ZpxMTVfbBonRvhv9Zo1sXZcTI2fMmWK3LVdvFqtatXMXefHjh2Ljz76CM8++6xc6y7W2M+YMUOu3Rf/sMhrQBevZRNtEuvaxU7zYtM6vmatgP+A8XEUoAAFKOBUAgzoTlWOe2oMA/o98fFiClDAWQVM1uUw2X6DHrVv+2q0/AX0owjxn5NrQBehVEzfzh7Qq1WrBrFb+XfffXdLpnbt2sm15vaA/tdff8nXjuV22Ez7YE5ZJM9X9GJN/PXDHtBv9aDBrz6ISROewoaNx/Hl1xuwc/cZpKSaUbx4MdSr11iGZvHLfoh2i1epLViwQO7mLtamd+7cGePGjZNTzO2Hvd1iHfnmzZsxf/58xMfHo3HjxnJduRg1tx8WiwVjxoyR54iN48qXLy9H6cWr2cTr1PIa0MX9xDp48bo3MWofEhIiN5UTm++JneO5Bt1Z/1SyXRSgAAUo4CgBBnRHyRb8fRnQC96cT6QABQpAwGxbA5P1F+hQEYriecsn5i+gH0CD2n9AQVCepriLkXCx3loEVrHx2+2OvAR08Yo1S8pc2DL2QPGoAkXJuU49r6yqmgbVchI6Y2MYfPvIneHv9shLu+/23ryOAhSgAAUoQIG8CTCg583JFc5iQHeFKrGNFKBAvgUstj3IsC6AggDolMz3fud25DWgP9+7IWw4hA+Hx2HylyvztEmc2ABObB53487u9naId3rb133nNejazKdgSf1JrkVXDFVvmup+JyhVtUC1iLXnZWDwfQ46Q4U7XXLPP1i4pwfwYgpQgAIUoAAF7ijAgH5HIpc5gQHdZUrFhlKAAvkRsKkXkG6dAVWNh16peM8BvVfvClCRhIS4R9Cwfn+INeevv/66fC3Y6tWr5Xpq8X+O4h3oIpCLQ7znW0wbX7x4sZx6/fDDD8t3eou13mIjNrFG/YcffpDn5jWgi3Ot6RthTV8P1RYDxSBmCORtJD1z5Pw0FF0Y9F7toPd6ID+kuZ6bn3bf88N4AwpQgAIUoAAFchVgQNfOB4MBXTu1ZE8oQIFsAiIcm6zfw6JuhA7VbzmNOy8j6DNmPYNevf2gUyrAS/8aTp26gmHDhsm1zkajUe54LtZWi1eQTZgwQb7r236Idog16HPmzJEbsYn/LlmyJFq1aoUBAwbId3rnN6CLe4jN4qwZW6BazkLRhwK6YrccTRej5rBdgWqNhWIoB71na+g8H5Br2e/1YEC/V0FeTwEKUIACFLh3AQb0ezd0ljswoDtLJdgOClDgvgtYbQeRYV0EFdegVyrf9f1taoy8h4euE4z6LrneR+xsLjZEW7hwYY7N1u76oXm40GY+CWv6OtgskYAtDlB8oOjEa87sa8ozoNpSADUN0IVA51EBes/20HncekZBHh7LUyhAAQpQgAIUcDIBBnQnK8g9NIcB/R7weCkFKODcAmKk2Wz7GWbbeigIhk7JfM93fg5VTYUNJ6FX6sFT3xeK4o+0tDR4e3tn3UY855lnnsGyZcvkjudihLygDlVNh818FDbTQbkuHWoKVNUkHy83f1N8oehLQ2+sDcVDzCS49YZ5BdVmPocCFKAABShAgfsrwIB+fz0L824M6IWpz2dTgAIOF7Cp12CyLoRV/Q8KikJB8TxP7VbVJFgRIdewG3U9oNdlvs+7adOmqF27NurXry/D+sqVK+UrxoYOHSpfLVZYh2pLluvSoaZmNkGOqIf+b1S9sFrF51KAAhSgAAUo4GgBBnRHCxfc/RnQC86aT6IABQpJQExRN1mXwqoeFlusQYdyUJTrI+A3NktVzVBxESoSoFMqwajrCr2uVtZpYr35okWL5Gi52WxGxYoV0a9fP7ku/X6s6y4kJj6WAhSgAAUoQAEXFWBAd9HC5dJsBnTt1JI9oQAFbiMgRsPNtg38C0LqAAAgAElEQVSwqP9BVaMB6KEgEAp8ABgA2KAiTe7UDiRDQSh0SjUY9R2gU0rRlgIUoAAFKEABCjitAAO605Ym3w1jQM83GS+gAAVcVUDufo4zsNr2w6oehQjtKlLkqDqgQIE3FMVPjrDrdfWgV2pCUTxctbtsNwUoQAEKUIACbiLAgK6dQjOga6eW7AkFKJAPAVVNhg2XoaqxUGGCIkfUg6AooXJDOU5VzwcmT6UABShAAQpQoFAFGNALlf++PpwB/b5y8mYUoAAFKEABClCAAhSgAAUKVoABvWC9Hfk0BnRH6vLeFKAABShAAQpQgAIUoAAFHCzAgO5g4AK8PQN6AWLzURSgAAUoQAEKUIACFKAABe63AAP6/RYtvPsxoBeePZ9MAQpQgAIUoAAFKEABClDgngUY0O+Z0GluwIDuNKVgQyhAAQpQgAIUoAAFKEABCuRfgAE9/2bOegUDurNWhu2iAAUoQAEKUIACFKAABSiQBwEG9DwgucgpDOguUig2kwIUoAAFKEABClCAAhSgQG4CDOja+VwwoGunluwJBShAAQpQgAIUoAAFKOCGAgzo2ik6A7p2asmeUIACFKAABShAAQpQgAJuKMCArp2iM6Brp5bsCQUoQAEKUIACFKAABSjghgIM6NopOgO6dmrJnlCAAhSgAAUoQAEKUIACbijAgK6dojOga6eW7AkFKEABClCAAhSgAAUo4IYCDOjaKToDunZqyZ5QgAIUoAAFKEABClCAAm4owICunaIzoGunluwJBShAAQpQgAIUoAAFKOCGAgzo2ik6A7p2asmeUIACFKAABShAAQpQgAJuKMCArp2iM6Brp5bsCQUoQAEKUIACFKAABSjghgIM6NopOgO6dmrJnlCAAhSgQCEIqJYUIP0KkBEL2EyAogM8AgHPovKXIv6bBwUoQAEKUMCBAgzoDsQt4FszoBcwOB9HAQpQgAKuL6CqKpB6Dkg4CCQeB8yJgDUNUC0AFEDvBeh9AZ+SQGAt+UsRX+NBAQpQgAIUcIAAA7oDUAvplgzohQTPx1KAAhSggGsKqJZUIGYzcHUvkHYhM5CLEXODL6AYANgAazpgSQYsiYBHMOBfCSjeFopvuGt2mq2mAAUoQAGnFmBAd+ry5KtxDOj54uLJFKAABSjgzgKq6SoQtRxIPAJYMwCfcoDB+9YkqjVz+rspDhDhPKw9lKAGd0U4atQojB49GnL0Ptvx008/YezYsTh16hRMJhOuXr2KIkWK3NUzeBEFKEABCrimAAO6a9Ytt1YzoGunluwJBShAAQo4UECuNT+3JHPkXIyYe4Vh5d+H8Pgr0zH5w+4Y0vuhHE8fPeUPjJ6yCj061cfiL3oByacBn7JAyc7YsOcK2rdvj/Hjx+O9997LU6tzC+jHjx9HzZo10bp1a7zwwgswGo14+umn4eHhkad78iQKUIACFNCGAAO6NuooesGArp1asicUoAAFKOAgATlqfXEVcHlD5lR2rzD5pGuJqSja5F088XBdLJ0yIMfT2/f+Cpt3n0LRID9c2DY+c8Q9+QQQUB0ffx+FMeM+x7Zt29CiRYs8tTq3gD59+nS8+uqr2LVrFxo1anTL+8j2W02A+F1vgKITU/F5UIACFKCAVgQY0LVSSQZ07VSSPaEABShAAYcJqEmngHOLgYwYwK8yoChZz6r/2Ke4GJOIS9s/y/qa2WxFUKO30aNjfcz/9V8cWzsSVcoXB0zXgPTLaDt4A3buj8C1a9fyPNqdW0D/5JNP8PHHH+PkyZOoVKlSjv6rlgyocaehJpyHmix2mU8ExOx4EdD9QqH4hkIpWhnwLQYlW38chsgbU4ACFKCAwwQY0B1GW+A35gh6gZPzgRSgAAUo4GoCatQvwOX1gG8lQO+Zo/lDxizBNws24cjqj1CtYubI+va9EWj59CT8t/w9tHxmEr76sAf692wpv2eKP4agNtPRvFlTrP97CxITEyHC97Jly3Dx4kWUKFEC3bt3l1/z9/fPetaNAT23UP3iiy9i7pzZUC/uh+3C3sxgnnY18x4Gz8xXwFnNmaPpHt5QfIpCCS4PXbmWUHxDXK0sbC8FKEABCvxPgAFdOx8FBnTt1JI9oQAFKEABBwiopnjg9Ewg7RLgX/mmJyxbuxc9Bs/C9E+excvPtJLfn/Ddn5g4ax2u/DsBbV/4CmVLBGH+5y/K72379wBavzADo959Ce+PmY5WrVrJKeovvfSSnKa+e/duzJ07F82aNcPmzZuzRthvDOg//PADfvnlF/z666+YOHEiihcvjgplwtCkaDLUmGNAajzgEwL4BN80pV1OeTelAKmxgMUEJagcdOWaQwmrw9F0B3yGeEsKUIACjhZgQHe0cMHdnwG94Kz5JApQgAIUcEEBNfEoEPkjoPMAPIvd1IOY+CQUb/Yeej3WGAsm9pHf7zJgKjwMevw6bSA+mrwSP/y2E2f+HiO/N376GnzwxUpsWDQSx+LD8Nprr+Gzzz7D8OHDs+49YcIEuXmcWGM+cOBA+fXcprjbvyamuFcsUxzWo79DvXwoc5Q/oCQUnf6O4mpGEpAQBcW/BHTlW0NX+tZr2bPfrE+fPpg/fz7MZjMMBq5pvyM0T6AABSjgQAEGdAfiFvCtGdALGJyPowAFKEAB1xJQY7YA538BvEtmbhCXy1Gz0xgkp2bg7KaxsNlsCGn8Lj58rSPe6tcef249io59v0HkxjEoWzIYj/b7Fht2HMO13RPw5PB12LJlK2JiYuDtff11bWlpaShatCgefPBBrFq16o4B/cTxYyhvPgI1ajfgGSDXmNuPTXuOof0r/5ej1b7enigbFozu7RtjWK8O8PMyAPGnofiXhK56F+hCKt6xSIUZ0CMiIvD999+jW7duqFev3h3byhMoQAEKaF2AAV07FWZA104t2RMKUIACFHCAgHrpLyB6BeBXEdAZc33CKyN/wneLtiJiwye4mpiKht0+w46l76BJ3XAkJacjuPE7mPvZC3i2SyOENH4HdSoFY/PCYaj+xEx4eBhx8ODBm+5bq1YtWK1WHD169I4B/fiW5ShvPgrYTFACy+S4lz2gv/R4azzYoJr8XmJKGrbuPYElf+1E+6Y1sfqbtyA2lZMhvXht6Ot0h+Lhc1vNwgzo69atw8MPPyyXAoh28KAABSjg7gIM6Nr5BDCga6eW7AkFKEABCjhAQBWbw0X9BviWv2mDOPvjfvp9N3q9ORfzJvSWAf2DL1bg2p6JMBgyp5g3euIzNKhZFgOfaYXGT07AiH5NMPbtHqje7fYBXYzGHzly5I4B/ejP41DR+xpQtMpN09rtAX36B33Qr9sDOYSeHv4tftmwB9FrJyM0OABqSixgToO+WifoSjdmQHfA54m3pAAFKOAIAQZ0R6gWzj0Z0AvHnU+lAAUoQAEXEVDjdgLnlwLGEMAjINdWX7h8DaVbf4C+3VvId6MnJKXhr/lDss4dOu5nrN18RG4i99b4ZVgzpQse6dQVj77+K7Zs2YLY2Fh4eXllnZ+enp41xf2PP/64Y0A/8v2bqFQmNMfUdvvNbhfQ3/j8R0xdsh4xG75BEX8fqKoNl47vwcc/H8bqf08gPj4eZcuWxQsvvID3338/xyvh7CPoUVFRePPNN7F27VqIzee6dOmCL7/8EqGh16fZi7aIPo4ZMwYrVqzAhQsXEBwcLDfCGzt2LGrWrCmbK9a0L1y4UM4oEOeHhYXh8ccfx7hx4xAQkGk/b948uaHejYd43ZxYk8+DAhSggDsKMKBrp+oM6NqpJXtCAQpQgAIOEFCTzwBn5gOqJXMd+i2Oyu0/hk6nk+H81eda4+PBnbPO/HnNf+g5ZDZaNKiAnQciEb++L/wqdsWMlRfw6quv4vPPP8fbb7+ddb7473fffRczZszAyy+/fOeAPrM/KtVpctNu7eJCe0CfOOwZ9Hq0ubyXWC//z/6TeH3CArRtXB0/fz5Yfv1qYgqa9PoI0bFJeKV/H1Sr3QBiOrnYKf6pp57Czz//nNVGe0CvW7cuypQpg44dO8rRfrGxXe3atbFz504YjZlLAsQa+6ZNm+LcuXMQr4ITu9WLd8D//fffeP7559G7d295XsOGDeX73Bs0aICgoCCIf3Dad7TftGmTPEesP585c6bcWE/YtG7dWn69Tp068hcPClCAAu4owICunaozoGunluwJBShAAQo4QEC1ZgARs4CEw0BATUBRcn1K3/cXYN6yHfJ76+YPQdvmVbPOuxybiBIt3pf/3aRWSez4sQ9QpgfMvjXka9bEq9VufM2aCLS3e82auJcYNf7kk09wZOYAVK6XGb5vPHLbJM5+zmMP1seCsS/Dxyvz3e7vT1mKid+vxg8f9MCzr38EXVht+XXxQwQRvNesWYMOHTrIr9kDes+ePbF48eKsx06ZMgVDhgzB1KlT5XXi6N+/P2bPno3ly5fLEfHshxh1t7/TPSUlBb6+OTfiE6Pq4ln//PMPmjfP7CPXoDvgg85bUoACLi3AgO7S5cvReAZ07dSSPaEABShAAQcJqFf+BqJ/B4xBgDE416fM/2UHXnpvAQwGHa7tmQQf75wbylV9ZDRORl7BW8/Xxecf9QMqDoCi90JiYqIM2mJ0+tKlS3Jad48ePTB69Gj4+/tnPSu316x9/NEH+GTspzgy93VUrtUg13bZA/rQ5x5BxxaZgTs13YS9x89i8sI/0bx2Jfz6xRAYPQyo3eMDmM0WHJ39MvRVO0EX3lKeL0a+y5UrJwO3CN7ZA3r24Cy+npGRIafni5FtsQO9WEcvprOLTe+2bt2apwqJa5KSkuQr3MTvFSpUwFdffSWDPwN6ngh5EgUo4GYCDOjaKTgDunZqyZ5QgAIUoICDBFTTNSByASDeie5fNfOd6HdzpJ4HFD1QsguUos3u5g45rlFNqbDumg01NQ5KULnbBvTcNolb8udO9PpgOr557wUMfOoh+LV8Ge0aV8fyD7tmbhQX3irrnuKHBWK0f/Xq1TkCelxcnAzg2Q8xxd1iscgd6C9fvix/6CDe9/7tt9/ets9iWvwHH3wgg7xYh5/9ED+wGDlyJAP6PX9qeAMKUECLAgzo2qkqA7p2asmeUIACFKCAAwXUq/szX7eWEQP4V84M2vk5xHUZcUBIM6Bsz1zXi+fnduJc1WqGdecsqInRUG7x7vLbbRJ3LSkVxdq+ju7tG+Gn8a/9L6BXw/KRT0Av3odepkmOgG4fFRdftE9xFxvJifXi9xrQz549ixo1aiA8PByvvPKK/F28G168ak6sb8++CRynuOf3k8LzKUABrQswoGunwgzo2qkle0IBClCAAg4UEGulIV65FrsVyIgFfMoDBu87P1G1AWkXAEsSUKQuUOYpKGKq/H06LAeXQj23EwitnrWWO/utbxfQY64mouQjQ9GheS38/vWbmVPcTSYc/eEt6Gt3h65oZXmr8+fPy93cs4+C2wN6Xqa4h4SEyJ3abzfFXUxhHzp0KM6cOSPDuf04fvw4qlWrliOgr1+/Hu3bt+d70O/TZ4i3oQAFXF+AAd31a2jvAQO6dmrJnlCAAhSggIMFxGvIELMViNsOpJzNfO2aZyigv/6KtKwmqFbAdBVIvwwYA4GA6kDJzlBusYb9bptui9gM68m1gH9JKEafm25zu4A+69dNePXT+RjepzPGDnoKI6Ysxeffr8aiMS+h51tfQPEuIu83aNAgufZcvErtkUcekV+70yZxYjq7CPTiGDBgAGbNmoWVK1fK17BlP+ybxH3zzTcYPHiw3KW9fPnyWaeIzfPEq9Wyj6Dv2LFDbhj3xRdfYNiwYXdLx+soQAEKaEaAAV0zpQQDunZqyZ5QgAIUoEABCaginIuN41LOZU55F2Fc7w0oBjHxHLCmAaoZ8CgCeIUBwQ3l1Hblbteu36ZfauIFWPcvhpqRAKXIzevQ7QH9pcdb48EG1eSdUtMzsPf4OcxbsQVFi/hh54JRCCsaKN973rT3GETHp+C11wahSpUq2LBhA5YtW3bH16x16tRJvmZt2rRpcrR8165d8PTM3B0++2vWRLAXr1kTm7+Jez/77LPyNWunTp2Sr2cTo+cDBw6Ur6wTgV6scd+7d2+OgC6uLV68OEqXLo133nlHbqYnNqETv3hQgAIUcEcBBnTtVJ0BXTu1ZE8oQAEKUKAABVQRylMigcRjQNpFwBSfGdShAAYfwKsE4FsOCKwBxeDnsJaJEWjr4V+gnt8JBJaBYsz5mrLcXrOm1+tQIiQQ7ZvVxMgB3VAmLBhyCv/VM7iYoseoZYexat0WGdjF1HYRoN9//314eFzfHM8+gh4VFYU333xTvoJN3KNz586YPHmyDNDZDxHSxU70K1askBvHiZ3exSj4mDFj5NpzcYip6yNGjMChQ4fg4+Mj7yXeCR8aGpojoItzly5dKu938uRJudt79hF2h2HzxhSgAAWcVIAB3UkLcxfNYkC/CzReQgEKUIACFMguIMOtNQWwmQDoAIPffdkELq/KatJlWA8tg3o1Eiha+a6erabEAhmJcud2XeVHcl3Pntf28DwKUIACFChYAQb0gvV25NMY0B2py3tTgAIUoAAFCkjAFrUH1oiNQEoMEFwBij5vr4KTP1xIjZO/lOI1oa/5BBRPx434FxAHH0MBClDArQQY0LVTbgZ07dSSPaEABShAATcWEEFbPbcDtnM7oCZdBPyKA95Btx0JV60mICFKqilFq0Bf7VEoPiFurMiuU4ACFHBNAQZ016xbbq1mQNdOLdkTClCAAhRwcwEZ0mNPwHZ2G9Sr5wBzKiB2YvfwBQyegKIDbGbAnAakJwKWDMAvFLqwmtCVawnF09/NBdl9ClCAAq4pwIDumnVjQNdO3dgTClCAAhSgwC0F1IwkqJcPw3blGFQx5V0EdRHGxQ7zOoN8f7uYxq4ElYdSvAYUMSVeUShKAQpQgAIuKsCA7qKFy6XZHEHXTi3ZEwpQgAIUoEAOATmFPfkK1JQ4uQEcxHpzgxHwDobiVwyKdxDFKEABClBAAwIM6Boo4v+6wICunVqyJxSgAAUoQAEKUIACFKCAGwowoGun6Azo2qkle0IBClCAAhSgAAUoQAEKuKEAA7p2is6Arp1asicUoAAFKEABClCAAhSggBsKMKBrp+gM6NqpJXtCAQpQgAIUoAAFKEABCrihAAO6dorOgK6dWrInFKAABShAAQpQgAIUoIAbCjCga6foDOjaqSV7QgEKUIACFKAABShAAQq4oQADunaKzoCunVqyJxSgAAUoQAEKUIACFKCAGwowoGun6Azo2qkle0IBClCAAhSgAAUoQAEKuKEAA7p2is6Arp1asicUoAAFKEABClCAAhSggBsKMKBrp+gM6NqpJXtCAQpQgAIUoAAFKEABCrihAAO6dorOgK6dWrInFKAABShAAQpQgAIUoIAbCjCga6foDOjaqSV7QgEKUIACFKAABShAAQq4oQADunaKzoCunVqyJxSgAAUoQAEKUIACFKCAGwowoGun6Azo2qkle0IBClCAAhSgAAUoQAEKuKEAA7p2is6Arp1asicUoAAFKEABClCAAhSggBsKMKBrp+gM6NqpJXtCAQpQgAIUoAAFKEABCrihAAO6dorOgK6dWrInFKAABShAAQpQgAIUoIAbCjCga6foDOjaqSV7QgEKUIACFKAABShAAQq4oQADunaKzoCunVqyJxSgAAUoQAEKUIACFKCAGwowoGun6Azo2qkle0IBClCAAhSgAAUoQAEKuKEAA7p2is6Arp1asicUoAAFKEABClCAAhSggBsKMKBrp+gM6NqpJXtCAQpQgAIUoAAFKEABCrihAAO6dorOgK6dWrInFKAABShAAQpQgAIUoIAbCjCga6foDOjaqSV7QgEKUIACFKAABShAAQq4oQADunaKzoCunVqyJxSgAAUoQAEKUIACFKCAGwowoGun6Azo2qkle0IBClCAAhSgAAUoQAEKuKEAA7p2is6Arp1asicUoAAFKEABClCAAhSggBsKMKBrp+gM6NqpJXtCAQpQgAIUoAAFKEABCrihAAO6dorOgK6dWrInFKAABShAAQpQgAIUoIAbCjCga6foDOjaqSV7QgEKUIACFKAABShAAQq4oQADunaKzoCunVqyJxSgAAUoQAEKUIACFKCAGwowoGun6Azo2qkle0IBClCAAhTQrICqqlAz0gGbCuj1UIxGKIqi2f6yYxSgAAXyI8CAnh8t5z6XAd2568PWUYACFKAABdxWQDWbYYo+D8vFC7DEx8OWkgyoKqDTQe8fAH1wMDxKlYFHiZJQdDq3dWLHKUABCjCga+czwICunVqyJxSgAAUoQAFNCKg2G0xnIpB+5BAscXGwJSXIfilGL0CnADYbbBkZMpTrAwNhKBYK7zr14FGylCb6z05QgAIUyK8AA3p+xZz3fAZ0560NW0YBClCAAhRwOwERvFN3/wtTxGlYr8ZDF1gE+oBAKAbDTRaqyQRrwjXYkpOhLxYKr6rV4F23PhS93u3c2GEKUMC9BRjQtVN/BnTt1JI9oQAFKEABCri0gM2UgZRtW5Bx4rgYL4eheCgUvQFbDh5C1w8+yrVvvl5eiPphPsyXLkLn4wOv6jXh06QZp7y79CeBjacABfIrwICeXzHnPZ8B3Xlrw5ZRgAIUoAAF3EZAbAKX+u92pB3cD0Wnh75YsaxN4OwB/YWH26NVrZo5TDwMBjzZuhXEtHixVl3x9oZPoybwrlnbbezYUQpQgAIM6Nr5DDCga6eW7AkFKHAHAdVmBWwWQNEBOgN3gOYnhgJOJGA6dxbJWzfBlpAAQ6nSOf582gP616+/ht6PPHzLVouQbj53Fh4lSsCv7cMwBIc4UQ/ZFApQgAKOE2BAd5xtQd+ZAb2gxfk8ClCgwATEiBxSYqDGnoQqfk++AljNgHg1k1cgFL9QKIGloYRUhKI3Fli7+CAKUCCngAjWSevWIv3YERhLl4Xi4ZHjhLwEdPHn/bs/VmHe6rWIuHgRvr6+aN+hA8aNG4dKlSrJ+23fvh2tW7dGr169MH/+/KxnREVFoU6dOqhSpQq2bt0KQy7r3VkzClCAAs4swIDuzNXJX9sY0PPnxbMpQAEXEVBT4mA7+w/U+AioqXGAORUQIVwnNppSAUuGXOMK7yJQ/MOgK9kASlgtObWWBwUoULACYv140ro/YUtPh0fx4jc93B7QP+3XF08/9GCO74s16F5GI4bPnIUZK//AA3Vqo2PVKogxWzBz3Xp4enpi9+7dCA8Pl9eNGjUKo0ePxuLFi9GzZ0+IYN++fXvs3LkTe/fuzQrzBSvAp1GAAhS4NwEG9Hvzc6arGdCdqRpsCwUocM8C4h/b6qWDmeH86llA7wH4FgWMfjdNaVfFaHpaPCACvE9RKMWqQV+pHRRPv3tuB29AAQrkXSDtwD4k/7MFhpCi0Hl53zKg53bH/3t5gAzlzV4fgg6NGuKnD0dATU6CmpGBw0WC0aZ7Tzz99NP46aef5OVWqxWtWrXC8ePHceDAASxatAjvvPMOZs+ejb59++a90TyTAhSggBMJMKA7UTHusSkM6PcIyMspQAHnEZDhPHoPbGe2QE26CIjp657+d2ygarOg/YBxgKpi/fcToK/ehSH9jmo8gQL3TyB580ak7tsDY3iFXPeGsI+gD3r8MTzcsEGOB1cuXQpLN23GqPkLsGr8OLSoWQM2kwmWy5fg27wlurz1Dnbt2oWEhATodDp57enTp1G/fn1UrlwZhw4dQpcuXbBs2bL71yHeiQIUoEABCzCgFzC4Ax/HgO5AXN6aAhQoWAFb3CnYjv4BNekCECzWlWeuY9205xjav/J/mP5BH/Tr9kCujWo3cAJgNWHdhOeglG4EffWunO5esOXj09xYIGHVSphOn4IxvHyuCndagz5s6jTMXfMnIn6Yj+CAADlt3XwmAt6NmuC9nxbj22+/xaVLl1A82/T5qVOnYtCgQQgNDcWRI0cQEsIN5dz4I8iuU8DlBRjQXb6EWR1gQNdOLdkTCri1gGpKhfXAUqhXDgPBFaAYPLM88hLQ09JN8nyv9EuAwQv6Kh2gK1nPrU3ZeQoUlEDC77/BFHkGxnKZ68RvPPIb0MX1GRGn4dOwMd5btEQG9MuXL8swbj+6du2K33//HUajETt27JAj6jwoQAEKuKoAA7qrVu7mdjOga6eW7AkF3FrAdn4nrMfXAB7eUMSa82xHXgK6/XT5KrbYE1CKVYW+/vM5gr5bA7PzFHCgQOJfa5F+9BA8y1e8q4A+edkvOaa4q1YrTOfPwbdJMzw24kO5AVz2Ke7Tpk3Da6+9hpEjR2LWrFkoUqQI9uzZAy8vLwf2kremAAUo4DgBBnTH2Rb0nRnQC1qcz6MABe67gGq1wLpvIdTLB4Fi1aCI95znM6DLKe4A1s8YDjX5slyPrqv+GKYu3YDvvvsOJ0+ehJ+fH9q1a5fjtU3imo0bN+Khhx7CzJkzYbFYMHHiRJw/fx7Vq1fHl19+Kb/HgwIUuLVA6q5/kfLvdniI95/n8oqzO42gHz9/Hk0HDUHHJo2xcMR7QHoarAkJOBoYjAeffQ7PPPMMFi5cKBsgNodr0KABWrZsibVr12LdunXo0KEDXn/9dXz99dcsEwUoQAGXFGBAd8my5dpoBnTt1JI9oYDbCqgJ0bDs/0m+Ok0JKHmTQ15G0HMEdJsFiD2JtxadwJQFv6Ft27bo1q0bLl68iClTptz02iZ7QG/UqJEcpevXr5+cNjt58mRcvXoVZ8+eRVBQkNvWhx2nwJ0EMk6dgNgoTjEaoQ8sctPpdwro4gL7a9YerFsHHWtWx5XkFMzasBHGbK9ZM5vNaN68OSIjI+UO7iVLZv59MWzYMHz11VdYvXq1DOs8KEABCriaAAO6q1Xs1u1lQNdOLdkTCritgO3iAVgPLwe8AqB4Bd5zQBc3OLx7C+q9OhedO3fGihUrsnZ/FmtVW270XAcAACAASURBVLRokeO1TfaALv6xf/ToUQQEBMg27Nu3T65rFetfxXRaHhSgQO4CtvQ0JK76HeYL0fAoW+6mndzzEtDFxnDf/bEKc9esRUT0Bfj6+KB9hw74dPz4rHebjxgxAuPHj5c7tj/55JNZjcnIyEDjxo0RGxuLgwcPcsM4flApQAGXE2BAd7mS3bLBDOjaqSV7QgG3FbBFboP1+CogsEyua8bzO4IuIP9v2g/4YM4GbPp7HR5o0y6HrRhRz/7aJntAf++99+Q//rMfgYGB6N+/PyZNmuS29WHHKZAXgdT/diN1907ovH2gL3LzKHpe7iHOsVy5DOgN8G3RCl5Vqub1Mp5HAQpQwKUFGNBdunw5Gs+Arp1asicUcFsB8d5z6/HVQFA5KHrjTQ53E9BfG/UtZv6xBzEXz6FoWJkc9xRrVbO/tske0KdPn46BAwfmODc8PFyuQZ87d67b1ocdp0BeBMQoetL6v5Bx+iQ8SpaCzjP/G7ZZk5NhjYuFV41a8HvwISh6fV4ezXMoQAEKuLwAA7rLlzCrAwzo2qkle0IBtxWwndsB67E/AP8wKB4+9yegfzwFM1ftRczlSygaWjzXgG5/bVP2TeLEaHn2QwT0Nm3aYN68eW5bH3acAnkVEFPcU7ZtgfniBRjCSkDn7Z3XS2FNSoI1LgbGsuHwa9M217Xseb4ZT6QABSjgYgIM6C5WsNs0lwFdO7VkTyjgtgK2mBOwHvoZ0Buh+ITcc0AXa1k/nzoPH8zbgs2bN6N169Y57il2cs/+2iYGdLf96LHjDhAwnTuL1J07ZEjX+flBHxR825Fw1WKGJSYGqsUCY+kycmq7oWgxB7SMt6QABSjgvAIM6M5bm/y2jAE9v2I8nwIUcDoBNe0qrP8tgJoSCyW4/L0HdFMKjh4+hLovz0DXrl2xfPnyrE3iRDBv1qxZjtc2MaA73UeCDXJxAUtsLFL37oE5+rx8XZrOx0f+UoyegE4HWK1QM9JhS02FasqAvkgQPMqVh0/9BtD7Z27SyIMCFKCAOwkwoGun2gzo2qkle0IBtxUQI962oythi9wKhFS8aR26fQ36423qo0G18JucmtSqgPFzfpdfl+9Bv3pW7gb/5sLDmDJ9tnz3+eOPP45Lly7J16yJV6jt3r0bYvq6OBjQ3fajx447UECMiJsizyDjTAQssVegpqdDzciA+POu6HRQPD3lFHgxFd6zfAV4lC4rv86DAhSggDsKMKBrp+oM6NqpJXtCAbcWsMWdgvXwb0B6wk2j6PaAfiugwc+0x/4T5+W31015HUiIglKmCXQ1usnN4GbMmIGTJ0/Cz89PhvVPP/0067VNDOhu/bFj5wtAQLXZ5Ci6LeEaxCZwsFkBvR76gEC5zlzn73/Ta9kKoFl8BAUoQAGnEmBAd6py3FNjGNDviY8XU4ACziIgR9FPrIF45Rq8i+S6Fv1ObVVtFiD2FJSgctDX7g7FL/ROl/D7FKAABShAAQpQoNAFGNALvQT3rQEM6PeNkjeiAAUKW0DNSIL18HKolw8DvkXzFdJVqxmIjwB8i0Ff8SHoSjUo7O7w+RSgAAUoQAEKUCBPAgzoeWJyiZMY0F2iTGwkBSiQVwGxUZz12CqosScAnR4IKAVF73HLy8XIO9KuAsmXofiXgK5sMyjil6Lk9ZE8jwIUoAAFKEABChSqAAN6ofLf14czoN9XTt6MAhRwBgE1PVFuGGe7cgRIvgJ4eAOeAZm/6wwAVMCSDphSgLRrgIcPlKCy0JVrAaVoVYZzZygi20ABClCAAhSgQJ4FGNDzTOX0JzKgO32J2EAKUOBuBMTIuBp3ErbLR4CrZ6GKMG5OzdxgSoyOGzwzg7lvUeiKVYMSVguKp//dPIrXUIACFKAABShAgUIVYEAvVP77+nAG9PvKyZtRgALOJpA5hT0eakoMkBoPWE0AdICXf+Yadf+wm17L5mx9YHsoQAEKUIACFKDA7QQY0LXz+WBA104t2RMKUIACFKAABShAAQpQwA0FGNC1U3QGdO3Ukj2hAAUoQAEKUIACFKAABdxQgAFdO0VnQNdOLdkTClCAAhSgAAUoQAEKUMANBRjQtVN0BnTt1JI9oQAFKEABClCAAhSgAAXcUIABXTtFZ0DXTi3ZEwpQgAIUoAAFKEABClDADQUY0LVTdAZ07dSSPaEABShAAQpQgAIUoAAF3FCAAV07RWdA104t2RMKUIACFKAABShAAQpQwA0FGNC1U3QGdO3Ukj2hAAUoQAEKUIACFKAABdxQgAFdO0VnQNdOLdkTClCAAhSgAAUoQAEKUMANBRjQtVN0BnTt1JI9oQAFKEABClCAAhSgAAXcUIABXTtFZ0DXTi3ZEwpQgAIUoAAFKEABClDADQUY0LVTdAZ07dSSPaEABShAAQpQgAIUoAAF3FCAAV07RWdA104t2RMKUIACFKAABShAAQpQwA0FGNC1U3QGdO3Ukj2hAAUoQAEKUIACFKAABdxQgAFdO0VnQNdOLdkTClCAAhSgAAUoQAEKUMANBRjQtVN0BnTt1JI9oQAFKEABClCAAhSgAAXcUIABXTtFZ0DXTi3ZEwpQgAIUoAAFKEABClDADQUY0LVTdAZ07dSSPaEABShAAQpQgAIUoAAF3FCAAV07RWdA104t2RMKUIACFKAABShAAQpQwA0FGNC1U3QGdO3Ukj2hAAUoQAEKUIACFKAABdxQgAFdO0VnQNdOLdkTClCAAhSgAAUoQAEKUMANBRjQtVN0BnTt1JI9oQAFKEABClCAAhSgAAXcUIABXTtFZ0DXTi3ZEwpQgAIUoAAFKEABClDADQUY0LVTdAZ07dSSPaEABShAAQpQgAIUoAAF3FCAAV07RWdA104t2RMKUIACFKAABShAAQpQwA0FGNC1U3QGdO3Ukj2hAAUoQAEKUIACFKAABdxQgAFdO0VnQNdOLdkTClCAAhSgAAUoQAEKUMANBRjQtVN0BnTt1JI9oQAFKEABClCAAhSgAAXcUIABXTtFZ0DXTi3ZEwpQgAIUoAAFKEABClDADQUY0LVTdAZ07dSSPaHAfRdQLelQr54FUmOhpl0DbBZAp4fiVQTwDYESWA6K0ee+P5c3pEBBCKiqCjUpDrbY81CT42FLSwSsVsDgAZ1fEBT/EOiLhUPx8i2I5vAZFKAABShAgbsWYEC/azqnu5AB3elKwgZRoPAFVFMy1Oj/YIs9ATUlBjClANYMACoABdAbAQ9fKL4h0BWtAqVkQyheAYXfcLaAAnkUsF29BEuE+Iyfhy3lKmBKA1QVUJTM38UPojx9ofgHQx9WEYYKDaF4++Xx7jytsATkD13S02FNuAY1I13WUvH0gj4wEIq3DxRRXx4UoAAFNCjAgK6dojKga6eW7AkF7ouALe4kbJFboV6NBCzpgE8IYPQDDF7yH7fiH8AyrGckA6lxgN4DSlA4dGVbQClWjf8Avi9V4E0cJaDarLCe3gNL5H7Y4i5A8TBC8QsCPH2g6PRZj1WtZqhpyXJkHToD9MXKwlClGfQlKjmqabzvPQioZhNM58/BFBkBS1ysDOeq2SJ/qKgYPKB4ecEQFAxjufLwKBsOnafnPTyNl1KAAhRwPgEGdOeryd22iAH9buV4HQU0KGC7uB+2M5ugJpwH/IoD3sG3DdwyrKcnAEkXoQSUwOYL3mjX81XMnDkT/fv3v63Qxo0b8dBDD+Hvv/9GmzZtNKjJLjmbgAjnlsObYYncBzU1EbqQUlCM3rdtphyRTU2Aeu0KdMElYajeEoaytZyta07ZnvDwcJQuXRpbt251aPvMFy8gbf9/MF++CFtSIhSjpwzkiocH6g15CyWDgvD7O0PlyLrOzw+G0DB416kHj9JlC/QHin369IH4ey8yMtKhHrw5BSjgngIM6NqpOwO6dmrJnlDgngTkyPnx1VATooDgClAM10eYriWl4ptF67Bi016cPn8F6SYzSoUWQesGVfHyU23QpHpZIP40Np9MRvshUxnQ76kSvNhRApYT/8J87B+oplToiolwpst6VGJKKqb/ug4rt+7BifMXkZqegeAAP9SpVBZdWzZEr/ZN4ZV4CbrgEvCo1wH60HBHNdOp72s2mzFnzhzMnj0bp0+fRlpaGooXL4569eqhZ8+eePbZZ7Pa7+iALn54knH0ENIO7ocl5gp0AQHQBxaBor8+E6J2v4EoFRKCNf/3KVSrFbbEBFivXYOhaDEsPRmBgR+PxpkzZyDa6uiDAd3Rwrw/BdxbgAFdO/VnQNdOLdkTCty1gFhzbj24FOqVI0BwxRzh/OCpKDz2xpe4FJuIJ9s2RPO6leDjZUREdAx+Wb8bJ89dxv4lY1C9XCg2/b0eD7+3BN9N/QoDXh1y2/ZYrVb5j3tvb2/os/2D+q47wQspcBsBW1w0THv+gFh7rgsrnyOcH42MxuPDP0d0TDwea9UQLWpXRYCvN2KuJWLLvmP4a9cBPNaqEX4a+QpsMWehL10dxiaP33H0XYsF6datG3777Td06dIF7dq1g5eXFyIiIrBmzRoEBwfLEWL74eiAnn7kEFL37YHtajwMJUpCMRrlo0+cj8LEJcuw6/hxnLl4CQa9HrXKh6N5jep446luKO7vD8vFC1i07wAGz5wr21++fHmHl8uVAvqpU6cwadIkrFu3DlFRUdDpdKhUqRI6duyIQYMGoWzZsvn2+uKLL+RnRDjwoAAF7r8AA/r9Ny2sOzKgF5Y8n0sBJxKwndkM6+n1gGcAFJ/grJYlpaShwbMfIyE5Dau+eRONauT8R6zVasO3S9ajfdMaqFGhFDb+swcPD/kWM8YNw8sjvnCiHrIp7iwgRlpNu1bCGvEfdEXLQDF6ZXEkp6ajUd/3kZiShpWfv4uG1SrcRHU66hJWbvsPQ59+FLakOMCUDo9aD8FQufFdsyYnJ8PPz7U2ndu1axeaNGmCIUOG4Kuvvrqp79HR0ShVqlSBBHTzlUtI3rge1pgrMJQukzVqvuvYcXT94GME+vrguXZtMW/tn/Dz8kbT6tWweucuLBo5Aq1r14JqsyH9bCTM/v4IbdcRnmXyHzhvBLhTTV0loC9atEiGaB8fH/Tq1Qu1atWSe4/s378fS5YskT9QvXLlSr4/+2K5gwj52X+Ik++b8AIKUOCWAgzo2vlwMKBrp5bsCQXuSkA1p8G6bwHUuAhA7MiebZfjL39Yg3cnL8GMD/ugb7cH7nj/TbuPof0r/4fp7/eCrWQjTJr8Dc6fP4/q1avjyy+/lGvO7Udua9BHjRqF0aNHY9++fXKavPjHYHp6uhy1+e677+Dv749PPvlETrGNjY1F69at5VTbMmXKZN3Xfo+9e/di+vTpWLZsGVJTU+WzRaioWLFi1rlnz57FxIkTsWHDBoj/LY769etjxIgR6NSpU47+inXyYlTpn3/+kQFl/fr18PDwkNN6xX09/7fp1Lx58/DSSy/d0kqu2//fce7cOdnf1atXy/6IcPPcc89h5MiRWfezn3v48GF5rlizn5iYKEf8BgwYgGHDhsnRLR63FhCj5hk7fgHSk6ALKZ3jxMmLV+G9qQvx3Xsvo3enO3/GRf1sF09CX7IKdqMMxn32GbZv3y5ng1SrVk3W48UXX8zxDPFnSgQd8evjjz/GwYMHMXDgQEyePFn+eRNfF9eIz92hQ4fk53ncuHHo0aMHxD+43nrrLezcuRNBQUEYPnw4Bg8enOP+YmRSjGofPXoUCQkJ8nox1fyjjz6C8X+jyuIC+2dTjHaLsD1jxgzExMSgYcOGmDp1KurWrXvbj5EIbuK+v/76K8RI+p0O+wj6tGnT8MYbb2DHjh0ICAiQ+1OMGTPmpvXf4s/W2LFj8+TZs20bPFGlIsavXY/jUdEICw7GwK6PYuO+/dh26Ah2TvsapYoWhX2K+6TXBuKd6d/hvxOnEODri96PtMeIp7vDciEKxgqV4N++I3RGT/nnO69tuFVNxewgUb9Zs2ZJ35o1a8p7Cj9nX4MuPm/NmzeXbV67di2KFSuWo8zi7x7xd6z4zOX3YEDPrxjPp0D+BBjQ8+flzGczoDtzddg2ChSAgC3mGKyHf5E7VSu+Of8x1qb/eOw+cgaxf38LL0+PO7bGHtAbVi2JRLMB/V5+TQYEEUSuXr0qQ7AIGeK4XUAXITksLAydO3eWgUUE7SeffBKhoaEQQVUEFxFuReh/4IEHZMC2H/aALsKGCAPdu3eHGNmbMmWKnF554MD/s3cd0FFU7/duSTa9kkBCb6H3KkUEURBFQFBQEBUQG1ZQ4SeKKEVRESkq2EARBBEQxAJKFaT33kNI7z3Z+j/35T9hNz3ZELLhfedw0J15b967880w96vHxd+UNWvWYOrUqRg0aBAaNGggiO8PP/wgrrllyxYRwqsICTqJFdffq1cvdOrUSRCOZcuWiTlIOCgMl+VHvrXQs/baa68Jj6nieeJ5/BAmySdhCQ4OFqTpu+++Q79+/fDbb7/lEhhep2/fvqLgFokc10CiTgPGc889J8iVlMIRYO65/vg/UHsHQKVzszmxz4T3cPjcFURvWgKdc/E6zsHm5Bhs2HsKo+YsQ/v27YWO0du4YcMGbN68GR9++CHeeOON3OuQhNNIFRERgWeffVYYiajL1Dseo4eSesF7Sd1cuHChyO9etWoVJkyYILyZJN00RtHwtGPHDqH3igQFBQmdadWqlVgHi7KRDJJAfv/997nnKQS9Y8eO4jcag2gAo5GKz8qFCxeg1WoLBXLfvn3o2rWrMEpxLqanFCUk6PS20kA2fPhwYcCgMYo4kbyOHTs2d/j69evFc11SPJvWDEZ4QgLGDOiPID9//Lp7D/47fQb+Xl4I8vfDv/NzCCQJukatRmZ2Nob07I6QWrWw5dBh/LHvAEb27YMf/96Kwx/NRPMhD+OPE6fEvfT29hYe49TUVHF/mHc/adIkfPTRRzb3lP/D53fIkCEgNpGRkahbt654l5Dc8vmm4Y057iTtfKfxfZi3SByfdc7Nj2uex3z+t956S7z/rIX3f9GiReI+UWjQ43uJ70drKel8Bd27gQMH4vfffxfGnpCQkGJfK3wn8v2+c+dO8Z7l/rp06SIMqfxbkYLa2xErWTCvWIjlCRKBEiPg6ASd33V8Z5ZEqlWrVqZUm5LMXRnOkQS9MtwFuQaJwC1EgC3VTOf/ALxrQaW9EfrLJVW/+0XUDPTF4ZXvlWiFCkEP9vfAyb9XwLftQDGOHnGSbn5cPv/88+K3ogg6P3jXrl2be82hQ4cKrx0/ePkhqOSs05NIMnP+/Hk0btxYnK8Q9G7dugkioxCOjRs34sEHHxTEiQSKQuJAQmMt2dnZ4gOZOZb8yFaEH8Kcj2SGHk1F6EkkIS8s5JMf+jQu8KOXXvcePXqIoYrxgYRLMRjwd+6H+6KXk6SL41u3bi086rt377bxrJM00JN1+vRpQX6kFIyA/vAfMJ77D+pg2wgRnh30wDOoXd0f+7+ZZTM4M1uP9Mxsm9+q+Xjm6E1yIkJGTUaXjh2w8e/tNp5gEjzea5JxHx8fcb5CTvISa+UYIyBonCE5pZD08J5z3KZNm3KjOaKiooReksj++OOPuWtLT0+Hu7u7zVoZbcE/jGBRws4Vgs5nkYSS5JJCcsxnjtcaMGBAkWrEaBY+FzQS0UhAws6/+WzmJWEk6DTK0RDGZ1gRPl8kcowKoDD6gPviXCTv1vMUhefqqZNxb5fOYg6D0Yj7Jr8lPOR85jfOnC7C2knQw2JisWzy6xjU/Y7cNfR46TWkZmQgNDoGB6dNQe3OXdHiibHCiEbiyOeduPGDkeSZ7wXr94yyRkayEH/FuMLnkXumAY9jFeMKf6dRjgX1eB8VUZ73e+65R2DPeVeuXCmwWbFiBUaMGCFOVe4djTp8L/A8zsf3Gsl0aecr6CbzPlBneS9LGobO9yGNQdQL4hYdHS0MSdzjoUOH0Lx5c3Gp5cuXi8gj7p/GBwqxLkkkRpEKKQ9KBCQCuQg4MkHn+7JZs3rIyLgRZVjUreW3G999ZamH4QgqIwm6I9wluUaJwE1EwHR2I5iDjoBm+T6wXbs8jS6tGmD711NKtAKFoL/+cGfMfucNaFre+CinV4qeYhYeohRF0EkA7r333txr8iPw9ddfF6Ht1uHjSsgtCZESkq4QdH7cWleU5mT0CPHjnYQ2r9CTyA9tEmKGBtN7mZCQkHsaP9hpHOA51p5DevHpHaf3nSH4eYVhy7Nnz7apbJ+UlAR/f3+88sormDLFFltes0mTJrkeO3r8GQ1ALxU9otbCnFB61vmRz8JNUgpGIHvHcpiiLhXYw9y9z2h0ad4IWxe+YzP40582YcoXK21+S/tnGbRaDTbuOoCHp36GVZ++hz6jnrM5h4RpzJgxIgJC8YCSTPEe0lCVV3iMhChv1AXJC3VESb1QxtEQw2eJBDuv0PtKr6/RaBQ6zkgPhr7TMEVRSB49rgyxV4TRLTQSzZ8/P1/4fEHPCfWNhIu6qaRs8Nni/NyLIiToJLb0LFsLw905Pj4+XvxMUk7iyXQU68gAHsuLp8VohNrJCY2qB+Lg17ae45+378TTn8wTHnOT2YxWDerjSmQk1Co1Di1eiID/N5hw3jeXfIMftvwtqvUfmvkuzianYOScucLwYf3u4blMt+FzPHr0aBExQ1EIel7jClMclNSFvMYVRjrwo5LvEAo9zvS2M1WFmCrC+0gDI4/zo5XXoAGFBgJGEBUmpZmvoDkUw1BhNQYKGlOQcYgeMBJzrplpFIrIEPdCb508IBEoFwQcmaAra1/ybXWENC06mu38WQPGj4kWRkDFsF0uAFaiSSRBr0Q3Qy5FInArEDCdXgdz6B6oAnM8HdZCD3qt6n44tGJ6iZamEPRFE+7B+HFjoG2T4/2h8GOdeeAM4aYURdDPnj0rSKoiDIflRywrCluHndPLTGLOj32FvCoEvaAXN8M3OQc9RRSGrjI0nWHAeYkQP8DNZnPuGkjQz507l49sKKSHoZr0IFkLjQRcFwkJP9oVoXfMOvyzIHAVMsAwdoYHFyXMWae3VErBCGRt/Q7m+OvQVM9fAK4wD/q16DhcCMvxdJKs/33gBBSC/vGKjZi6eFWRcFsbk6hLjKIgAc0rPEYvKb2m1kIyQ+/srl27bH6nl5nEVglz5kEatHj/Dx48KHTaWkgoqUsU6xx0emGthevgs8Mc+ZIKjVLUZa6dc9OgQI8G/6bwmScpZY6+tSjPqELu58yZI3LrixIFT2NCPJz8q6Ff29ZY9f67NkOOXryEu159HU/ffx/iU1Lwz+GjSP5/MsxK7mPu64eZY5+Ek1aL2St+wocrV4vxhz+ejV8PHML0VWuKXAM/BPleoSgEPa9xhSkMJKW8f4xesBYa8PR6vTBaUGgQ4buB0RN527wxbYX3guk2zAenYZJRRTRGdu/evcB1lma+giZghA4jfKxTdkqqCzyPEUl8t/K+MnKAUST86FZEEvTSoCnPlQiUHoGqQNC376mFtu1soznzInH0SBbu6nZdEvTSq8iNEY6sLPbsW46VCDgKAqYzG2C+Sg9683we9LLmoH/50j0Y9/R4aFoOy4WBH6AkufyQpxRF0Ek+WO1XEYWgM++acyiiEHTmjY8aNUr8rHz8893DUF5ryUvQ6XVmASuGp/LDlF5Ehs/TiEBybV3QTSkSx5ZD1qKQnry9lElc6MFkITvm3Vq3kmNOOT/s+TFvHfprPS+JDT/MlSgBfqwr4fF5dYtEzrr4naPoXkWtM3vnjzBFXizQg16SHPRxsxdj+Z+7cgn6nB/W452v12Dh26+iyZ0Fh4TTg8i6AhSlEBwNSXmlsGOFkRkSdHooWbCQQl2iXrC6OusTcBzTIehNJUmiLittrRRdZX0FRl5YC9dBHePzUxYhqWNhNBq7Hn/8cTFFYW3W8hL0Dz74QESS8Fm0fu6t16HgaYiMgHNwTfRv1xY/vWcb9aAQ9HefGIVXhj0knt9mT46Di7OzuAdsuTblsRF489FHbAj6kXkfYe2/e/D+mnXgWpiKQlwZjWAt9GqTxCr3lH/nNa4wMoEFLXmf8hom+H7hnIoRhek+3HNRwvoaNGzSe06jCg2BvMf8je8zGn6Ud0tp5ivomooHPa9Bsaj10UjDe//zzz/bhO5zDN9LDMNXRBL0sjxZcoxEoOQIODLnUta+49/aJSLovXqESYJectXIf6YjK4s9+5ZjJQKOgoBosXbhT8C7jk3/c65fqeK+5O2n8NSgnsVuKbeK+8v9MG7CRGga3ZM7pqIJeklC3JlHy9BaxWigLJah8STGZSXoJEfMQWWYMkORlcJ4yvys7MxczPHjx+cr8JQXZHrsWNSLYfKTJ08u9h7IE/IjoD/yJ4xn90Ad3Nim/znPVKq4fz3lGYzqX7CO5yXoa7fsxGMzlmD5/A8w8sWiPb8KmWMkxc0g6AypZsg6UyOsUy/oVWdecEURdKXGg7WelpSgM7KAueb0xCs514XpsSEqAs5BNdEoqAYOLrEtjqiEuH/3xkRREI6iVHFfMXUK2o5/Dn6enjj61Rf5CPrRCxfx1KLFohgfizoSVxrI+AwzxJzpKCxKpORmKx70vPeV9S34nDLPnvUlrIX3h+kHCkFXvO30jBeUHsOx9NorNSqYhsMihDQg8A/D3fluYG0Dhs6Xdr68GJclB51pHFwL8eJamX5BvKgHLHRoXQROEnT5dpYI3FwEHJlz3SDoddC2bTEe9KNZ6NXjmiTo9qiTIyuLPfuWYyUCjoKAOeY0TKfWAVodVG45oamKKH3Q2SP6j0WT0L6pbQg3Q8A/X70VfTo3E33Qcwn6awPx9MTpUAff8GBXNEEvrEgcc9kZUkvhBzc/MJW8Uv7GMHZ+XPNjuCwEnR+59JrTw0lybh2qb40tvWEMXyYBZ4Vva+G1GQrLytrEmESBecLMOSext7lHqami2JeLS9H/oDmKPt6MdRovHoD+2N9Qz5lX2AAAIABJREFUe/pB5WLbezw1IxOdxvwP/Pu3j99Eu5D6+ZYwdtaX+PGvf3M96CmRoWj69EwE1ayFvQcO5etnTgMMdUshcTfTg85CgfTCskihUiiOOczULxKn8iToSpV3ekbzCo1NzNVmwTkavSglJegkxEwPYdQIPdd5+8Nb42lKSoTWN6cLw8/TpuKejjmF9ZQicSevhOLM0q/g+//1IBSC/uecWej1yiScvRaG6LWrbEPcP5oFfx8ftHrtTaSkpgo8SXathRXYmf9fHEFniD+9/Qzz57oVHVAMGKyBoRB01uPg/aOnnR730go7UzBfXAn/t3c+Xl+p4s73YGHRDMo6WUuDxgOm2OSNvGCEEGsPWBN0Gj8Y6VPSAnSlxUOeLxG43RFwZM4lCbqt9soc9Nv9aZb7v+0RsOjTYDqyHJakUKiq5W+rc+LidQx86VNEx6dgWN+O6Nq6EVx1TrgaEYd1Ww/hXGgUjq56z5agT34U499ZBJVrTks15WO9IkPclTZrrHhNjzbzM1mhmIWtSJ4oLFpHAsOwVIbDMxyTH+cs3ETvV1kIOqvEs+ozw43zhhHzmkooPq/FXFKGiLKoGFttseASP4xZ9ZpF6pTxJPqs8kwiztZUrFhPws78VHrfWHysuI/p21nRzSmx0P/3CyxpiVAH1MkHxekr1zHozY8QGZeEB3t0QLfWIfB0c0VsUgp2Hz+Hv/YdQ3A1P5xf9SlUKsAccRG/X03HY9PmC4MJQ8hJMEmSqTcsesZ7qXQQuJkEnUYeplIwxJ2h5TQQUXdo2OEHT3kSdOolPdysA8FrklBTD+mtp2eX+kxvrhJyXVKCzhvCYnZ8VovD02IyQa3VomlQDUQkp4i8crZVW/9vTps1tk6bP+G53DUoBP3L117CHS+8gka1amLXZ5/YEPRDM6ahQZMmWHotEq9OnCgiXpj+otxTdpBgfj8L2HF/lMI86DxGAwPvP40kJLwkqYxyoOGE5Fwh6Kx7wWeZ70UWlFOq6isKSn1iOz4K0xqU95ZynO30aAzk+4ZEvzTzFfY+oMGQ5JrvT6YQKfUElPMZok8yTmMA/5secxbVtK6BQQLep08fUV3ZmqDTwMH0CxoapUgEJALlj0BVIOg7d9YtkQf9zjtDpQfdHhVyZGWxZ99yrETAkRAwXfoH5svbALdqULl451t6Yko6Fv70NzbsOIKLYdHQG0yoGeiDXh2a4plhvdGxeY5Hbft/h3HPiwuxeMZLGP/WZzbzVLQHne8efhQzfJakhYSCJN2ayNJzx9xXklyGCPMDkuGp9ILxg7MsBJ1kzdojnxdM6znpYZo1a5ao+E0jAj3m9E7Sq8/+19Yf5PReMseX+cP0zNFzxY97VujmucX1pHYkfSzvtRJzA1utXTwAtV9wvl7ovF5Kega+XPc3Nuw6iPNhkcjI0sPPyx2tGtbB4Ds7YWS/HnBz0cGcHAuYjHBqfTeOJZpFKC9JMolqQECA8J6ydRTzgSvCg861k5BTN6gj1AsSXRZVpNGnPAk6CSNzzEnIWciR/09SyQrurKXAMGfrtoWlIejcB8lhSfEc1qk9Hrn3HsxYuRrnwq4j0NcHzwy8Hz9u+UcUhhvQpTOa1a2DGctXwMXJGQaTEYmpaVgxdTL6depoQ9APTvsfQu7qDdced4lnis8i98VIFhJKEmoa9xjJUpwHnftgKDeNMwxnJ7HmfZgxY4YwoNDrbF3Ij60n2VaR7x4aP1i3gMXVGEnAEHaleCXDx0mWWW+A87OdGYvRcX4aHZUaFCWdr6hnjOk9fI8xIoMh/K1atRIGH+aoU9cYws7rU2hEZF4+90DseA51jveeBN6aoNM4ydQj1jqgztCQQQOGFImARKB8EHBkzqWsXRL0HF2QHvTyeSbkLBIBh0bAkpUE04mfYYk7D/g3hkpTdIuLgjZrMRuBuAtQ+TUQxeFU7jle6ooWpQBV3kJzFb0Oeb3KhYA5OQb6AxthjguDukYDqNSaUi/Qos8U4zV1WsG584NQaZ1LPYccYD8CNHwM69YVX459AtpA25SPfw4fwcY9e7HvzFlExCcgPSsLAd7e6NQ0BBOGDELnpje6Q/z491a88NlCHPloNpoPewTO9RqIvGkaGuidJpFm6Dk91MxBp1iHZ9tb4E9BgqkIbCXJSBl63hlFwDQb1sJQWkUyfYDEmVEzJPk0BjFigQXaSKCtpSTzFXcX+P6kl5xdL2iw4F5JwNmrnQZB9oin0EgzceJEYbTh2ul5Z2cMFu4kVtYEnVXtGa1EbEneGaFgfby4NcnjEgGJQNEIVAWCvmt7yTzoPe+SHnS7ngdHVha7Ni4HSwQcDAFz9EmYLmwG0mIAvwalIumCnCdcAdz8oGnQB+qaOXmht0IkQb8VqDvGNY2Xj8Bw5l9Y0hOhDqxXKpKukHN1tTpwbt8far8cgiKl4hEgWXzk7j5YNOQBaAKrQ+3qWqZFmLOzYYwMh65xU3j2uRcqp9IbJst0YTlIIiARkAjcBAQcmXMpa9+1rS7atimmSNyxLPTsLQm6XSrkyMpi18blYImAgyHAMGBL2D6Yru0BUqMAr5pQuXgVuwtLdhqQEga4BUBTuwtU9Xrma9dW7CTleIIk6OUIZhWbymIxw3huL4yXD8OSEgu1bzBUrrZF4/JuWTwXqfGwpCVAXa02nFrcVWC7tioGVaXeDgn6o8OG4fMRQ2GIDIdTzdqlJtcWoxHG8DBoAqrD46674RRYo1LvWS5OIiARkAgUh4Ajcy5J0G3vrgxxL07b5XGJwG2EgCAj0SdgvrYXlqSrzIIBWNld5wmVWpuLhPCY69OAjHjAbILKpw7UtbpAFdzulpJzLlAS9NtIYcuwVeq46dpJGC8dhDk+HLCYofLwy8lL1+b0yyaRhyEblsw04W1X6dyFx92paTeo/WuV4apySHkioISWf/Peu8g4sBfG2GhoqweV2JNuzsqCKToSGr9qcG3bAS7NWpTn8uRcEgGJgETgliBQFQj6v1tL5kHv0Ud60O1SMkdWFrs2LgdLBBwYAUtGAszhB2CJuwhLZjygTwcsJkClBiwWljAGnNyhcvODyq8h1LU6QeUe4MA7lku/3RAwpyXCdPUoTFGXYUlPgiU7AzAZbsDg5CJIu9o7AJqgEGjqtYLKSbayq2x6kn35IjKPHIQxOhIqnQs0vn5QORdcG8BiMIBt2iwZ6dAE1oBrq7bQNWl2y42KlQ1TuR6JgETAMRFwZM6lrF0S9Bzdkx50x3wG5aolAhWCAIvHWRKuwJIRB0tmIkDPuVoLlYsPVKz47ltPkHQpEgFHRYBecnPCdZhTE2DJTAHMZqg0WqjcfaHy9Ie6Wi1ZDK6S31xjYgIyjxyCIfI6TElJwoCodnGBSuskgoBIzC3ZWYDJDLWPD5yqBwnPuTYgp4WZFImAREAiUBUQqBIE/e+6aFdMDvqRY1no0Vd60O3SWUdWFrs2LgdLBCQCEgGJgERAIlAhCFjMZhijIqEPvQJjTDTMmemwGIw5ngitVoS/s+K7U516cAqqCZWm9FX8K2Qj8iISAYmARKCMCDgy58r1oG+pg3ati45WO3I8Cz3uuSb7oJdRT8QwR1YWe/Ytx0oEJAISAYmAREAiUPEIkKybU1PAXHOKWqeD2tNLkvKKvxXyihIBiUAFIuDInEsSdFtFkSHuFfjgyEtJBCQCEgGJgERAIiARuJUImLIMyI5LhyE1CzBboHbWQlfNHU7erlCpVbdyafLaEgGJgB0IVAWCvntzyTzo3e+VHnQ7VEV60O0CTw6WCEgEJAISAYmAREAiYCcCFpMZaZfjkHwqCmlX42FK18OUbRRFP1UaNbRuznD2d4N3syB4Na8BZ5+y9Za3c5lyuERAImAHAlWCoP9ZQoLeXxJ0O1RFEnS7wJODJQISAYmAREAiIBGQCNiBQFZsKqK3XkDqhRhkx6RB7aSGxl0HjYtWVLA3G00wZRhgSMuGk4cOLkHeCOhWH77tagnyLkUiIBFwDAQkQXeM+1SSVcoQ95KgJM+RCEgEJAISAYmAREAi4GAIpJyLRuRfZ5B2OR5adye4VPeCRqctcBcWswWGpExkRiTDuZoHfFoHI/i+5tC4ODnYruVyJQK3JwJVgaDv+aM22rUqpkjciSx0uy9MFomzR80dWVns2bccKxGQCEgEJAISAYmAROBWIZB6IRbhG08g7Uo83Ov6wskz56N337kjGPXpS7nLohfd09UdLes0xdP3PobuTTog/Vqi8K77daqDmgNbQe0kq97fqvsorysRKCkCjsy5lLVLgp5zt6UHvaRaL8+TCEgEJAISAYmAREAi4AAIGFKyELrigMg5d2/oD62rc+6qFYL+cPf70SWkHUxmM67HReKnXb8iPjUJ3770Cbo17YCM0ESonDQI6t8MAd0aOMCu5RIlArc3AlWCoG8qoQf9fulBt0vbHVlZ7Nq4HCwRkAhIBCQCEgGJgETgFiAQsekUoredF4XfdH7uNitQCPrMUW/gkR4Dc49diLiCAe+NRq+WXfH1hI/AkPeUM9Fwr++Heo91gkt1z1uwE3lJiYBEoKQIODLnUtb+328lI+h3PCAJekn1osDzHFlZ7Nq4HCwRkAhIBCQCEgGJgESgghHIjkvD5aX7kBWVAo9G1USourUURtB5TudJD8DH3Qubp68QQ/47dgArtq7DqaTLiEmKg4eHB3r16oVZs2ahSZMm+Xa2YcMGzJ07F/z2M5lMaNCgAUaOHInJkyfnnpueno4PP/wQq1evxtWrV+Hl5YW2bdvinXfeQY8ePXLP27JlC2bMmCHyTCkdOnQQ59x9990217VYLFi4cCGWLFmCCxcuiDXynJkzZ6JRo0a5527fvh29e/fGV199BaPRiI8//hhhYWFo1qwZPv30U3FMikTAkRFwZM4lCbqt5skQd0d+EuXaJQISAYmAREAiIBGQCFghELvrEsJ/Owmdv5vobZ5XCiPoKRmp6DxpIFrXa4bVb3whhk3/6VOcvnAWd7TqhJYPdEF4VAQWL14MkuJTp04hMDAwd3oS3tdff10Q3hEjRohjZ86cwb59+7B3715xXmZmpiD4Bw4cwLBhw8R/Z2VlYc+ePYKAv/XWW+K8X375BY888ggaNmyIMWPGiN++/fZbXLp0SRwbPHhw7nVffvllzJ8/H3369BG/R0ZGYsGCBdDpdDh48CDq1asnzlUIeseOHZGcnIyxY8fC2dkZ8+bNQ2JiIkJDQ+Hr6yt1SSLgsAhUCYK+sTbatSymSNzJLNwxUHrQ7VJUR1YWuzYuB0sEJAISAYmAREAiIBGoYARCVx9G7I6L8G4VlM97zqUoBP1/D7+IQV3uFaHsYfERmLfhG+w+cwBvD38Zo3sPE6vOyM6EKtEAlVqNeqM6waO+P86fP49WrVrh3XffxZQpU8R59IQ3btwYnTt3xt9//w1X1xuGAZJ5xYtPj/jbb7+Nzz77DC+9dKNQHedQzqN3m6Sa/3/y5Mlc0pyQkCCuq1arceXKFWi1Wpw+fRotWrTA/fffD3rveYxCg0C3bt0wfPhwrFy50oagBwcHC8MBPfeUo0ePol27dli0aBGef/75Cr5b8nISgfJDwJE5V64HXRJ0oRDSg15+z4WcSSIgEZAISAQkAhIBicAtQ8BsMOHCF7uQfjUBXk1ueLetF5S3irtyzNXZBc/0H4Xn7xttQ+xZcE6fkAGf/o3g0bK6IM70VjN8fO3atWI4w9onTpwIhqX37du30P23bt1aeK9JsBUynfdkety7du2K9957T5B5a+Fv06ZNE155GgMYKs/w+Z07d6Jnz54253KN9NTzeryW4kHn+bNnz7Y519vbG+PGjcMnn3xyy+6dvLBEwF4EqgJB3/tryTzoXQdJD7pd+uLIymLXxuVgiYBEQCIgEZAISAQkAhWIgCE1GxcX/wvmodPbXZAoBH1M3+G4s0VXZBuycfDicXz79yqMv/cxvDZ4fO6wmOQ4zFnzBbad2IOUrDSb6ZizvXXrVvHbc889hy+//BIxMTEICAgodMf0rJM4b9q0qdBzfvrpJzz66KNYs2YNhg4danMef3v44YfBc+gdf/bZZ0XIfVxcHPz9bfc7YcIE4RWPiopC9erVcwk61/nMM8/YzEuPPffz3XffVeDdkpeSCJQvAo7MuZS1711fq0Qh7l0HX5d90O1RH0dWFnv2LcdKBCQCEgGJgERAIiARqEgEjGnZuPBlyQh63iruX/75Az5ZvwSLn/8AfVp3h9lsxoMzn0JUYiwea3s/Ot3XEzU7NxLe6FdeeQXVqlUTpPdWEPRVq1aJHPWSEPTo6GiRD29dJI7ecmshQb/rrruwdOnSirxd8loSgXJFwJE5lyTotqogQ9zL9dGQk0kEJAISAYmAREAiIBG4NQiYjWZc/HIX0i7Fwatp9QIXUViRuGyDHvdOewwuzi74453vcS7iMh6c8RRmPDwJDzTqidpD28KvQx0xJ/O4Q0JCcgl6RYW4v//++6KS+/79+9GpU6ciQ9xZyZ3n5Q1xZxV3SdBvjX7Kq95cBKoCQd+3rhbatSimSNypLHQZIj3odmmTIyuLXRuXgyUCEgGJgAMhYNabkJ2YCf6tUqvg7OMCrbuzA+1ALlUiIBEgAmFrjiB6+wV4twgSz3JeKarN2tJ/fsbMn+fj07HTEBLcAPe//wTee/BlDOnUH/VHd4Z7HT8sW7YMTz75pKjArnjQWQGdOeldunQRReJcXG58YFsXiWPrs6lTp4oq6wxBt5a8ReJ4jEXifHx8xGlJSUlo2bKlyI9nUTqNRiOKvTVv3hwDBw7E+vXrc/PaScyZx85q8itW5LSMkx50+XxUdQQcmXMpa9/3SwkJ+lBJ0O3SZ0dWFrs2LgdLBCQCEoFKjoAx04DkM7FIPheHzIgUGNMNsJjMgFoFjYsWrgHu8GzkD59W1aHzzd+uqZJvTy5PInBbIhC35wrCN56Ak7cLnH3dSkXQM/VZ6DVlGAK8/bH+rW/wwPtPIC4xHqPvfhjN7+uEA4cPCiLMdmS1a9fOJei8iNJmjVXVlTZr586dEy3U/vvvP7EOtlRjMTe2P2OIOv/bYDCIc1hJ/X//+584T2mzRtLPdmgk72yzdvHixULbrNFjPmjQIJFzTgMAW6gV1GZNetBvy8fitti0I3MuSdBtVVSGuN8Wj6zcpERAIiARuIEAP3YTj0cheudVZISnQp+QCbWzGlo3Z6i0KljMgCnTABJ4Jw8dXGt4wL9DMAJ71IVGp5VQSgQkApUYAX1SJi5/+x8ywhLh2SQwX6u1ojzo3Nb8jd9iwabvsOiZmWjgVROz1y7C8ZjzMFpMwiv90UcfiRx0iuJBV+BgVXeGux85ckRcl33MR44ciTfeeCMXsbS0NMyaNQurV6/GtWvXhIe8ffv2omJ79+7dc8/bvHkz2Jbt0KFD4jf2SWd4e94q8XyfLVy4UBSLu3DhAjw8PECyzmuQ4CsiPeiVWGnl0soFgSpB0NfUQvtiQtwPM8R9mPSg26U0jqwsdm1cDpYISAQkApUQAZPeiPA/LiDhcAQyI1PhUt0DOn83qLU5/YOthR+++qQsZEakQuvhDO+mAagzuJk4vzhRPoa3bdsmii8VJQxXrV+/vqigzNDZ21VIaEhmli9fXmYIslIMSArPRFpMFkx6M9RaFdz9dfAKdoW7v3OBfbHLfDE5sNIiELX5LKK2nhNpKi6BnmVaJ6NpUs7GwKNRAOqN6gidn3uZ5pGDJAISgYpBwJE5V64HXRJ0oSzSg14xz4y8ikRAIiARuOUIML/82oYziNt3XeSae9TzgdpJg8tRV/Hl5mU4duUEopJi4e7ihmDfGujQsA3G9h2FAC9/Qeb1SdnwbV0D9R5pAZ1f0SS9shN0GgKYS8s81rCwMAQFBeW7P23btsWxY8dQs2ZNXL9+/abfv7ISdBpSok6n4NqBBESeSEJmsgH6NCPMJktOPQF3DVw8nRAQ4om6nf1Qs50vNAUYZG76BuUFKgwBY4YeoSsOIul4ONzq+MLJs+iiS3kXZjFbkHY5TowLvr9FbnG4CtuAvJBEQCJQagSqBEH/uRbaNy/6fXX4dBa6PCw96KVWEOsBjqwsdm1cDpYISAQkApUMgagdV4T33Kw3wqO+r/CmHr1yEk8ueAGerp4Y0mUAavnXRHJ6Ms5FXMS2E//ii2c/RufG7cVOsuLSkRWbgcDudVDvkVYFet2VLZtMJmRmZoJ9j0mCi5Jb4UFXCDqLWTGMduLEiTZLPHHiBFq3bi2KXbG/cmUl6BlJepz8NRyh++KReC0DGic1XH2dofPQCu85iVZ2uhFZSQbxt3eQK2q280HrIbXgU7P4SIhKpsJyOaVAgCHu19cfR+r5GLgEe4l8dD7zxQmNd+lX46Fx16Fa13oI6tcMKk3+CJvi5pHHJQISgYpFwJE5V64HfVUJCfpwSdDt0i5HVha7Ni4HSwQkAhKBSoRARngKLv1wFOmhSfBuFpBb3fmZLybi4MUj2DT1J9TwDbRZcXp2huiF7Onqkft7WmiS8LrXfrApArrWLpcd3gyCnpGRIcg1ezYXJApBf/jhh3H+/HkcPXrU5rRJkyaJ6s/Mob1y5UqlJOhJ4RnY9+0VhB9NBFQq+Dd0h7Nr4TUCjHozEkPTkZ1iRPUWXug0qi6CWuZUyHYkUVIm8uY/O9IeKmqt6dcSEPn7aaReihWXdK3hBY17wakObNGmj09HdmwaXIK94de+Nqrf3aRIQ1xF7UNeRyIgESgeAUfmXJKg295fGeJevL7LMyQCEgGJgMMjELbhDML/vACPuj427dMGvD8cOicd1k3+vtg9rtu7Cf/7cQY+6f82zppC8dvJLUhMTBT9iOfNmycKPSlSWIj78ePH8eqrr4qqzizmNGzYMDz//PNo1apVvhx0kuwPP/wQP/30k2ir5O3tjf79+4viT7Vq1cq91rvvvovp06eD/8CzQjMrQMfGxiIhISG3RVPezSkEfePGjaJFE9fFNVDo/WeF6scee0xUgWbl6Lwe9C1bthRYwIrFqaxFCVt/+umnRaEsXicwMBA0ALz44osFnmudg/7nn39i6NChuPPOO8W+3NzcEB8fj3f+Nw1rVq9DfHIMvFx90b3F3Whepx3m/PImnuk/GXHJUVi393t89/JfCPCugR+3f4Efd3yOHs3vRdd6d+Pj39/Emw9+jNc+Go8TYftF4a3Zs2dj8uTJxerBrT5BEvTS3QFDahZitl9E8ulIZMekwWwwiXeA2kUrPOpmowmmDANMWUY4+7nBrZY3Ano2En3US+JxL91q5NkSAYnAzUKgKhD0/T/VLlGIe+cRYaKApPV3x83C9VbMKwn6rUBdXlMiIBGQCFQgAiz0dm7xfmSEJYtCb9Yy/vNXse/CYSx9cQHaNWhd5KoUgh4S2AAWAKNHj4bRPaeCMlslkcw2btxYzFEQQb906ZKoxMyPfvZArlatGlatWiVaL7Hqs3WROL1ej969e4vf2WaJ5JkVnxctWgRPT09BxjmeohB09kjmbw899BBSU1NFpWkS2oJEIei8dr169fD4449jzpw54lSS4vvuu0941V9++eV8BF1pAUXv+pgxY8QYtoDi/nhs8ODBuZfkXrn2yMhIjB8/XuSz0+Cwa9cu0S/amtDnzUHnecSYBP3777+Hk5OTMIiw13RUeAy6B9+P2jXrIjb7On4/uBrBfnVxLfYi7mh6Nx7vPQHPfj4IT/R5CcN7Po0p34/DydBD8HLzQePgFjhz7Rhm9foZTe4MxvbUlZj1wQzs3r0b3bp1q0DNLNulJEEvPW6sU5AVmYLkk5FIuxIPQ0qmIOSwWKDS5nRwcAnyglfTGvBqEgiNi1PpLyJHSAQkArcUAUnQbyn85XpxSdDLFU45mURAIiARqHwIJJ6MxuXlx6DRaeASYFuJ+eDFo3hqwQQYzSY0q9UY7Ru0QZt6LdGtaSf4e/rZbEYh6LX8g7FsyFw0eagdat4XIgqp0YpNbzgJd2EEnb2R2VqJRF6xepPY0zu8d+9eG4LOVk7sibxz507ccccduesgae7YsSNef/114fG1Juj0Av/111+FhrVbb0Yh6Lz+m2++KUgzi8UxJJ6e85MnTwpvN8mgtQfdaDQKQk/Cw3PYD5pCbz2JOMczJF6rzQk1J+nmn3379olIA0p2djbq1KmDXr16CTwUsSboX3zxhTBiPPPMM8IAooTqv/DCC/h+2Q94f8BS+GpqILCJlxi+7/wOTF85AdW8qsNoMmDFpB147ZuRSM1MwRfPrcXDH3ZHz+b34O9jG6BWafBAp+EY0eplUUxu4alJOH35GJKSkoQRoLKLJOj23SHWJTAkZ4KedZgtUOu0cPZzly0U7YNVjpYI3HIEqgRBX1kb7ZsVUyTuTBY6Pyo96HYpnCMri10bl4MlAhIBiUAlQSBq22WErj0N99re0LrlJ2Anr53Bt/+swO4z+5CSmSpWrVVrMKLnQ3hjyEtw0uSQTYWgvzrwWQyr0Q+B3eui0RPtxLF7771XhK0nJycLMpnXg86wcfY7Zh9lhodbC8nxo48+akPQSeCdnZ3x22+/5UOxZ8+eIjz+wIED4pjiQV+3bp2N97oo+K0J+qlTp8CK7ey7zPVVr14d7733nghDz0vQSbR5Do+zb7O18Ldp06YJMt65c2dxiKSb5xMbaxk0aJAIm1d6PCvnss1as2bNMHXqVLz11lsijF4RGgUCAgLQsmYnPFDtWQS18bGpxv7UvH7w9ayGyIQwLH7hV5wKPYz5v03Hiw+8gwW/vYcFz/yMV756FCazEfPHr0LDGs1w9UAMXt3yALp1vwPbtm8V4f3z588X94K5+SzyRwyYVsB1KRIaGoqPP/4YW7duBf+b0q5dO2FUYfSBtdDQwf7VxIWGDEY58NyZM2eiTZs2uacyQoKpCn/88Qfi4uJEtAGNJRyr0+lyz5MEvZK8WOQyJAISgUqFgCOG7mfEAAAgAElEQVRzLmXt+38sIUEfKQm6XcrnyMpi18blYImAREAiUEkQCNtwFtc3nYNPi8Dc4nAFLY0E8GpsGPaeO4ilW1fgWlw4JgwYhxfuGytOVwj6Z2Nno4uuBTwb+6P5Kzkh0cynpqc3KipKENy8BJ2/s5UZvcILFiywuTw98CTI1iHuDE1nFfjChB5ohRgqBN06j7w46K0JOr3dJIr8Q/LHfHF604ODg/MRdMWYsGbNGhF6bi38jUXneM7w4cPFIRJ0Rg6sXLnS5lxef8eOHcLbrgjPZfg+w/NpHGAUgbXExMQIbIuS2tUaICzusiDlvVoOwKhPeqNOYCNEJYRh5es7MXR2F2g1Wqx+c4+YZv/hvXh349N4Zeyb+PTrD8T6169fL0L+aWRgvvvnn3+O9PR0YRBRUhi4VxoRaGho0KABUlJS8MMPP4ioAhpglNB9Em0Se9YPGDdunMi/py5w70899ZTAhnL58mURKUEPPs8j9rwedaJfv37CUKPkQ0uCXpx2y+MSAYnA7YiAI3MuSdBtNVaGuN+OT7Dcs0RAInBbISAI+m/n4NOyaIJuDUpiejL6TR8GH3dvbJ62RhxSCPr8cbPRmQS9oR+av9pdHCuOoDMHm6SL59FDay0MW6dH1ZqgswI7vej0ShckPN6jRw9xSCHoFy5cQKNGjUp0b/MSdHqDOU+LFi0EmaQ3nZLXg14Sgs4w/0ceeUSML6y3Oa9PIwaL3ynCc5l3T8MDCTGPN23aNPe4YuRoX/NOPNBxBHRe+Su2WyzA1OXj0bvV/Xj9oQ8wd/1b2HZiEzo06oHH73oBLy55BB4uXlj95m4x78rtS/DDjgVY/PZP8G2lFuv++eefRbqCIuHh4WjevDkGDBiQa2hgAb+8+f0M3aehhcYTphpQfv31VxHVYB1VUNANuv/++wW5Z80BP78bqRU0+lBnWBeARF25J/xbVnEvkarLkyQCEoHbBIEqQdCXl9CDPkp60O1Sa0dWFrs2LgdLBCQCEoFKgkDElou4tv4MPOv7QuNSeBuuvMsdOudJXIy8gmOf7hCHrEPcHw7qD/+OwQh5OievuiQh7iS+9JKWJMSd+dzMDz979myxKJYHQacBgZXbGeJNT/CoUaNyyaB1DnpRIe7vv/++CMfev39/br55aQk6Q9wZTk7DAAvYkYSGhISItYg0AS9f1HFvhg+f/kr0PC9Inlk0CFn6DCx7dQuOXd2PKcvGonerB0SBuI37V8BsMWPpK5sR6B2Et398Fscu7cdvsw9g8b7pohYAIxHyCtfFf89ZHT+vcJ00KDACg2H/NFAwlJ1CTzn3wtD3vKHqyjzMfWeveRb1mzJlis30nKdJkyY2EQXl5UE3640wJKRCn5AGi94AqFXQerjCyd8TWq+S9QwvVjnlCRIBiYBEoIIQcGTOpaz9wA910L5pMTnoZ7PQ6fFrsoq7PXrlyMpiz77lWImAREAiUFkQSDgaicsrjsHJwxk6P9uq5nvO7keXkA7QqDU2yw2LC8eDs0aifvU6WPtmTgs2haDX9g/G0kFz0XhwG9Qe2DS3SBxDvpWiZwVVcWfYN72zJSkSxwJwJHXWXnVlgSSCDJ1mPjalPAg651m8eLGots4CdO7uOcX0CisSx2P0+DKvnkKSySryJOT0ims0OXiWhaCzzRq96Cwix6J0xFKJDBjc61Fs2LkKM0d/hbb1u9jcM5PZhIzsNCz95zP8cehnfPfyn0jLTBFe88bBLRGTFIGQmi1w6OIevDb4fRECP3xODwS718eCl1bgtVWP4MyZM0WqLY0ErDFA4wkNEqwur6QaKANF6y6zWfwv7xWNHewpz3x2VolnqzzmljOigkKDBivTFyWsZr9s2bLce8L/KKsHPTs2GelnriP9QgSMqRkwZephMZl4t6DWOUHj5gxdDT94NK0F98bBUDuX3KhVWZ55uQ6JgETg9kPAkTmXJOi2+ipD3G+/51fuWCIgEbjNEMiMTsOFrw8iOy5DhKVby8BZrPSdij6teqJxUENB1ENjr2H9vj+QnJGChU9/iLta5oSx57ZZq94QFrMZo0eNhslbJXLKGd5M4k1vp0KeGK69bds2QXIpDEFnBXYSPIYt02taWJs1znfPPfeIdmQMt2Y4O/OTmbPNsGmGYisF1MqLoBekFnkJOs9R2qyRNLMFHEko26zR015QmzV6n617m3OOwkLcrc/lXknSFTyZ6715wWE8MWUIYjMj0Kf1A2gU1Fx4xCMTrmH3mb8x8q7n4eLkijlr38TEwTNFFfdvt3wCo9ko5pk6fB5+2rlYjLuvw8N4+asRuK/R43h59Jt4+cehYHu7JUuWFPqEMLecBJzV5Flp/rnnnhP3hmHpNErQoEIyTkyshXUGNm3aJDzqJNYsAMj72KdPH+G1Z2TFs88+my+vX5mD9QuYfkApqwedHvPkwxeRfOQy9NFJ4P9rvVyhcdVBpdWIlmPmbANMGdnij5OPO1zrV4dfj+ZwCfa/zd4acrsSAYmAoyFQJQj69yX0oI+WHnS79NORlcWujcvBEgGJgESgkiAgir+tOoGobVfg1aQaNM43vOX/ntmLLce24/DlE4hJikVGdgb8PH3Rtn4rPNnnUbSr3yp3FwpBnzvgHZzKuozfT/+DhMQEEc796aefCvKtSEEedB5jvvlrr70mqpqzEjvJN8keQ9rzestJ0ufNmycIHyuKk6DXqlVLkDqSOXqsKRVN0HlN5qjTQKBUYWd/d4Zws9WbtZTVg67Mwd7qJKQkv8Q0+bAWO745gZ0Ja7D3wlbhFdc56RDgHYT2DbvjgU4jRBG4x+fejXvbPYS0rBQkpyfgTNgxeLp644fX/sY3W+bi0MV/BUH/avNHmNBhDkaMG4IPNr0qrsGw8uLarbG9HAvELV261Ga/rMbPPP28BN36JFZrZ0G+1q1bC8LOsHkWv2Of+C+//LLYp6YsBJ2EO3bzYaSdvQ5TahZ0wX7QuOtyC8/lvSg96vrYFBiSM+BSuxr8e7aAZ8u6xa5NniARkAhIBG4VAo7MuXI96JKgC/WRHvRb9RTJ60oEJAISgQpEIPlcnCDp2XHpovq6UhG7NEtQCPrCoTMx5NnhCO7bsDTD5bnlgMDVvXHYtegidB5aeFYvPE9v7PwBUKnUyMhOxd1tHsT6vcsxsNMIjO//Jv49vRmzfp6IZrXb4nz4SXw2YBN6Pd0CJ9J3itBztoqj0SOvsIo8q7BT2CqNhd2UsHP+du7cOVEkjjnpCkEn2SeZt9Y3HmOkBb3oTBOgsAAcoyVo8LBu58ZjnI+efS+vnJ7vpSXoZr0BMb8fRMqxKyJcneHrKrUK/505ikc+nJS7Ta7Ry9UdreuH4Nn7huPOlh1E+HvmtRjhQa/Wt60Iey9KGNrPwobEgcXxpEgEJAISgYpCoEoQ9KV1S5aD/mSozEG3R7EcWVns2bccKxGQCEgEKhMCJEXXN55D5NbLcHJ3gmuQZ6mXt2b7erz9y4f47pWFGDVrPLSu+Xuql3pSOaBUCKTFZWPLrNNIuJKO4DY5+e8Fyae/vo0tR9eLQ/e0HSz++/Pn1qJeYGMkpsVh5Ce9xbEG/s0xa+hS3PlSCGo09xL96Jl2wKJ/TDFg2zfmmLOKOiu5K6H6bIXGiIdnnnlGVOBnmzSGvDMMn5XYFYLOCIjPPvsMQ4YMEXn0JMEbNmwQ87HOwOTJk8U6OL579+6iXduYMWNEdAQLz5H0s6Ub16REJ5SWoCfsPo2EHSdZEAC6oBvGAoWgj7jzPtzRtA1MZjPCYiPx4/ZNiEtJwvJJs9GzRQeQ4GdcjoZ7wyDUGNoNTr4eheLOmgGMPnjiiSfyRReU6kbLkyUCEgGJQCkRcGTOletB/64u2jcppkjcuSx0ekoS9FKqh+3pjqwsdm1cDpYISAQkApUMAUNaNq6uPon4QxFw9tLBNdizxJ50fVIWVv+9FjN3LMCG5eswcKT0Dt6q27t/2RUcXROGwBBP6DwLNpL8ffRXzP11qvCi67Q6tKrXEdMf+zx3yeMWPICIhFD0rTccbz47DX0mNYFaoxbEmjnozKk/deqU+H8Wc2OeOfvDs8gbJS0tTVRcX7t2rQiJZzs4km0WmZs+fXouQSdZnzt3Lnbv3i36n+t0OuE9Z+46Say1sEAfK9iz5zlbu9FjXr9+feGpnzBhgvDaU0pD0LMiExC19j9kRybArVGQjb4rBH3OU6/h0V4DcpdyLvwq+r41Dn1ad8ay12aJ340pGciOSYZP1yYIHNCx0OdGEvRb9VTI60oEJAKOzLkkQbfVXxniLp9niYBEQCJwGyFAon1t3WkknY6BMcMA91pe0Ho4F0o4TFlGZESmgn//k7gXU1fOEm3S8uZa30YQ3vKtxl9Nx8755xF7PhW12vuKcO2C5Ml5/YS3vHmddpg4eAaqedXIPY3EO/p0Ctz8nNF1bAPU7Vw1i6DF/XMM8dtPwIU55246G5gKI+g8qc2LQ+Hj7okdH+Tk2O87dwJLN/6MoxEXEZueLOonsIAfDQpKYURW76dBIa/wvLJWnL/lyiYXIBGQCDgMAlWCoH9bQg/6GOlBt0sxHVlZ7Nq4HCwRkAhIBCopAiTb0f+GIv7AdUG+zQYznD110Lo7QaVVw2KywJRpgCFND4vRDJdAd3g3DxQ55zp/2zZtlXSLVX5Zp3+PwJHVYdBnGFG9mVeJIyEUYBKupiM7zYgWDwSj8xP1Sj3eEQA2pmch4sftyAyLg3ujoHxLLoygJ6enoc2LD6Ftg6ZYP3W+GPf2DwtwJvQSOtUMQcMubRDvbBBt+WjoYKQBc/MZks8q/owM6Nmzpyh6R2EBPKYLSJEISAQkAjcTAUfmXLkedEnQhYpID/rNfFLk3BIBiYBEoBIjkBGRiqST0cKbbkjJhjFdD4vZIsiaxlULrbuzaMvm26o6PBv5F+qprcRbrLJLMxnMOPhjKM7/HQV9ugmBTT2h1dn2si9o82ajGXGX0mHSm1C/ewDueLoBXAoJk3d08DJCYxD58252Y4cuwLtQgj7t0efwULe+ol1dWGwUPlq7FLtOHcJ7I1/AU/cMEeMysjPh6uwiqsD7dGmCoCF3iM4C7D7AgnoM96fIEHdH1xq5fomA4yJQJQj61/VKloM+7qosEmePqjqystizbzlWIiARkAg4CgJmvQnZ8RnIisuA2WCCSqOCs48rXALcoXWTheAq63006k049st1XN4Vi/gr6aKqu1eQS4FEncQ8NTobyeEZ8Kzhgjod/dBxVD24eFXd+5t8+BJiNh2Ak58HtB6uhRL0vAdIxF94YAReGjgyX2RBxuUoGP3dEPBIN9E7nS3/WPyOufiSoJf+STEbTdDHp4sUGgqNgs6+blBp1KWfTI6QCNzmCDgy58r1oH9Fgp7/fW19aw+fy0SnpyVBt0vdHVlZ7Nq4HCwRkAhIBCQCEoGbjABDrMOPJuHUbxFg2HpqVBagApw9tFBrVbCYAH26EfS4ewTo4FPbDU36VkfDOwNEUbiqLIl7zyL2j0PQ1fSHRpffEKGEuD/dbxh6t+6EbIMB+8+fwJI/f8ZzA0bgzWFjcuGJTorHBz9/jS2H9yA5M90Gtt69e2Pr1q2SoJdQmUjK0y7GIvVMFDLCk2FMyxKpNBS2wdN6ucC9jh+8mteAW52clnhSJAISgeIRcGTOJQm67f2VIe7F67s8QyIgEZAISAQkApUaAXrTI08kI+J4EhJCM5CZqIfZZIFKDeElJzEPauGNmu18oXPXVuq9lNfiEveeQ+yfB6EL8oPGxTnftIXloC/8bQU+XPMtvntlBvq27Qr2Nu/3zjOITIzDk136o2nDxqj7wB1wcnPBK6+8IqrLK0XgZIh70Xcv/Wo8YndcQPq1BOjj0kQUgsbNGWrnnPQMc5YRxgw9O+JBF+AJj8YBCLwrBLpqhbe2Ky99kfNIBBwdgapA0A8uqYf2IcV40M9nouN46UG3S18dWVns2rgcLBGQCEgEJAISgVuAgNlsQWaSHia9GWqtGq4+TtBoq7a3vCCYU09cRfTG/dB4uMLJO39xw8IIerZBj16TnxQ55//M/Bpnr18RBP2Tsa/j/hqt4NYwCLVG9xFh2GxBFxISkkvQTSYTtFqt7IOe54Yw0iN+z2XE/3cFGWEJcPJxgy7AQ3jMCxIWqcyKToE5ywD3+tVQvW9TeDW70YWgPB4rGlUY/bBt27bc1n3lMW9xc5SmTWBxc8njEgFrBByZcylrP/hl/ZIR9GevyBx0e9TfkZXFnn3LsRIBiYBEQCIgEZAI3DoEsiLiEbFqFyzZRuiCfPMtpKg2a99sXot3V3yOhc++hSa16uGeqU/j46cm4v7AVvDr2RyB93fCsmXL8OSTT4p2a9Zt1FxcXNCvXz/8+uuvt27zlejKgpzvvoyYnRegj02FW71q0LjmpBxcigrF579/jyOXTyEqMRbuLq6o6VcDHRu3xvh+j8FX5YGMawlwr+ePoAEt4NW0/Ei6JOiVSEnkUsoFAUfmXJKg26qADHEvl0dCTiIRkAhIBCQCEgGJQGVCwKw3ImLlDlF53b1JzXwF34oi6JnZWegy8TEE+vjhj3e/xL1vj0dscgJGd+2PBl3b4HjkZaxfvx6+vr6oXbu2DUHv0aMHjhw5gunTp6NWrVqiBRuLyd2uwnzz6+uOIisiGe6NA0VUB4WkfNTcl+Dl6oGHut2H2tWCkZSegnPXL+Gf47ux5IUP0bVJO5iyDEi/GAfPJoGoPaIjdP7u5QIlox0yMzPh6uoKjab4DgjlclEg11tvbdQpr7nlPLc3AlWCoH9RQg/6c9KDbpe2O7Ky2LVxOVgiIBGQCEgEJAISgVuKAPPQ47YcgdbTFU6+tnnMRRF0LnruumX49NcfsOTFd9G0Vn1M+3oeDodfgEkNdO3aFR999JHIQadYk60TJ07ghRdeEOGXGRkZ+TzstxSQCr64KVOP0BUHkHwsXJBzje5GSPu4Ba9j/4Vj+Gv6cgT5BtqsLD0rQ7S983TNuWeGlExkRabAv1sD1HqobT5jy83cFu8hoyLU6vxpIkUdK2xNMsT9Zt6t23tuR+ZcuR50SdCFEksP+u39LMvd3wQEGM5nzsyCKSkZprQMwGKGSusEjbcntD5eUGlvjwJNNwFaOaVEQCIgESgVAsaUDET+sgfp58Ph1igIam3ZPKXZMUmwGEzw69UKft2blWoNt/PJiYfDEL7+KFROWrhU97SB4t53RkLn5IyNb39XLETh8VF497uPsS/0OJxdnNF/wH2YN28eatSogWnTpole9JSlS5fiqaeewpUrV1CvXj2beVUqlc25BYW4cx5GPpAsfPXVV/jll18QGxuLhIQEcb3Cjvn4+ODatWvi+B9//IG4uDjUrFkTjz32GN555x3odLrctUiCXuztlieUEYEqQdA/b4D2jYspEnchEx2fvyxz0MuoJ2KYIyuLPfuWY28/BCwmE7KvhSPrUigMUTGCpJv1esBigUqjgUqng8bDDS7160DXoC6c/PPnRN5+qMkdSwQkAhKBm4tA6ukwxG0+DH18KtzqVy91j21DcgayoxPh1boeagy5A2rnqts7vjzvBI3VocsPIOHAVVHgLW9v8zHzJ2HvuSNY/to8tG/YqtBLJ6en4oH3n0R8aiIeadMfzbq0wq7LhxEdHS1SCW4GQW/ZsqWozv/QQw8hNTVVRErMmTNHEPCCjkVFReGOO+6Ak5MTxo0bJ4oHHjhwAN99952oR/Dbb7/lev0lQS9PLZNzWSPgyJwr14O+qGHJCPoLlyRBt0f9HVlZ7Nm3HHt7IWBMSELqgaPQX7sOY2IKVM5OULu6QK1zBvvFkLxbsrKFR52eBG01P7i1aAK3Vk2hdpIfe7eXtsjdSgQkAhWJAIli4r+nkbT/PAyJaXCpXa3Atmt518RxhrgU6BPS4BFSEwH3d4QuwLsil+7Q19InZeLK17uRHZ8O9/r++fZy4MIxPD73ZRjNJjSr3RgdG7ZC2wYt0KNZJ/h73TBgz1n7JZb89SO+eG4mujg1hnerYNQbcwceeeQR4eG+GQS9b9+++Ouvv2zC2hXvekHH7r//fpw8eVIYDPz8/HL3unDhQrz44ov4888/BVGnSILu0GpdqRfvyJxLEnRb1ZIh7pX6UZOLcwQEskOvI/W/g8i+HilIuZO/nyDhBYkIf8/IhCE6Dmp3V7g0qAuvO7tC41Z0OE9pcGBYHz8AGOpHuXr1KurXry8s+aw4TCkqDLA015LnSgQkAhIBR0DAYjYjad95JB+6iKyIBGi9XOHs71Vgmy++p40pmdDHJEHt4gy3BjVQrW8b6AJ9HGGrlWaNLA7H/HOoVXAJtA1vVxZ54upZfL1lJXad3o+UjDTxs1atwWO9BmPKwxPgpNGi37RRgsT/8/5KsI+6s587GozrjsNnjwmv9c0g6OvWrcPgwYNtsFQIet5jSUlJ8Pf3F172KVOm2IxhaHyTJk0wadIkUbNAEvRKo55VciFVgqAvKKEH/UXpQbdLiR1ZWezauBx8WyCQfT0CKTv2Qh8eCacagdC43+i1m5qRgW/+/A2/79+LixHhyNRnw9fDAy3rNUD/jl0wtGVbuJgB16aN4N27O9QuN3LU7AFPEnR70JNjJQISgaqMQGZYLBJ3n0FWeDwMCaliq2pXZ6iYm24BzFl6mLMN0Li7wKmaFzxb1IFP55ASedyrMm5l2VvSsesI+/kwnLxc4eRTtBGaRpGrMWHYc/YQvtmyCtdiw/HywDF48YGn0PyFu9G9WUd8NeFDZEYmQ+2kQf0n74DeHWDu980g6MePH0erVrZh9wpBz3ts//796NKlS5EQjR49WrTlkwS9LJokx5QUAUfmXLkedEnQxe2WHvSSar08TyKQBwFTRiaS/tiKrEtX4VwzyIZgnwu7hhGz3kVEfBwGdO6KLk1bwMvNDXHJydhz+gS2HjuCAZ264qsnn4HFYIBHp7bw7NqhXDBmVVm2jFGK0kgPernAKieRCEgEqggCTDnKDI1F+sUIZEUmwpSaCYvJDKgAtc4JztW84FqrGtxDauar/F5FIKiQbeQSdG9XOHmXPEosMS0ZfaaOgI+7F7bNXCUIeo/mnbDkhQ9uEPQnukLvocpH0JXe9HmLxLGlmlarLXGRuAsXLqBRo0Y2OCkEPe+xvXv3Ck/+s88+i6FDhxaIbVBQEFq0aCEJeoVo3u17kapB0BuhfaNiisRdzETHFy/KHHR7VN2RlcWefcuxVR+B1D0HkXrgCDQeHqI6uyJpmZnoNXECUjIysHrqe2jXqHE+MC5HRuCPA3vx/MAh0F8Lh9bfFz733Ann4BplAo7eBxJzd/f8/WElQS8TpHKQREAicBsgwNB3Y2om2DOdVb41Hi7SW15O9z31fAyurTwAlVYNXUDBIe6FXWrQzLG4EHEVpxf9YxviHhoPZx83NBjbDYfPn8gX4r5hwwYMGjRIFChu165d7vQk1SEhITeFoLPKe/Xq1TF+/Hh8+eWXxaInc9CLhUieUEYEHJlzKWs/8BkJ+o1o1IKgOHwxA51elgS9jGqSM8yRlcWujVfCwRZ9Fiz6DLEylbOr+COlbAiYUtOQ8OtfMETHwrluLZuerIs2rMW077/FghdewaO9+xZ7AXO2HvrwKHh0bovfI65i7ty5otiMs7MzunfvjhkzZqB9+/a58yiE+6233hIfHMxrO3funKgwyxy4soa479q1C1988QX+++8/REZGwsPDQ/TvnTVrlsihkyIRkAhIBCQCEoGSIqBPSMflb/ZAn5QB97r5i8TtPnMQXZu0g0Zt2/ruWmwEBkwfjfo16mDj1G8x55cvsGTzipwicboQeDWtjvrjuuOR4fmLxJ05cwbNmzfHxx9/jIkTJ+YulX3pP//885tC0HkRFoDjv6GHDh1Cs2a2bfiysrKg1+vh5ZVjyJcEvaQaJM8rLQKOzLkkQbe92zLEvbTa70Dn06tqSY2FOfICzElRsKQlACZ9zg40TlB5+EHtUwPqGo2h8gq0IZkOtM1bstT0E2eQsv0/0TZN42XrGXhg6hs4evkiLi1bBV0JK7SzPdvXB/dg2opl6NChA0aOHImUlBRhjU9OTgb7tXbu3FnsVSHozI9ja5fnn38eDJ8jWe/du3eZCTorzZ44cUJ8PLB/K3u6Ll68GNSjU6dOITAw8JZgLS8qEZAISAQkAo6HgMVswdXv94K90L2aB0GlVtls4r7po0VhuL5teiCkZn1B1K9Gh2Ht3j/B1mpfPj8LvVt1A0PeB84Yg4TURAxv3R9NO7fCrquHxb9/R48etSHdCgHet28fXn31VdSqVQubN29GeHg4Dh48eNMI+uXLl4VBnf9ujxkzRrRiS09PF8bzNWvWYNWqVWD1d0nQHU+PHWnFVYKgz2tcMg/6KxdkiLs9yunIymLPvm/1WEtGMowX98EcfQmWtHhYDFlQObkAWuecpRkNOb9pdVB5+kEd0ADakDugcpMtZEpy75K370HavsOin7lKrbYZ0ujJEahVLQDbP15g83tmdjYysrNsfvP3ysE79no42r3+IpqGNMZ/Bw/CxcVF/M48OuattWnTRni2rQk6+62ePn06X55cWT3o/JjIGyJ//vx5USiHuXd5q9OWBCd5jkRAIiARkAjcvgjE77uKiI3HoXF3hs7fwwaInaf2YfORnTh06QSik2KRkZUp2qux1drYviPQvmHL3PPD4iIwfekn2Bd6HDoXHfoPuA/z5s1DjRo18hH0sLAwYbjeunWriEQbOHAgPv30U9HX3LqgHA3fNGpv27Yt16tdWJ45F1LUMR5n5BkjztjznAYBeszZQYUt2CZMmCCuLwn67fssVMTOHZlz5XrQP22M9g2LCXG/lIFOr0qCbpdOObKy2LXxWzjYFHMZprO7YIq7BpVKDZVXNcDZLZ+HnJ5R6DNgSY2HxWSEJqAONE16QlO9YbGrZ7su/uNGb255y82cuzzWSqxm6pQAACAASURBVNwSftmErCthcGlQJ9+U1R95EJ1CmuK3GXNsji38dS3e/eFbm9+iVv0KrUaDtdu3YvzCufjqvVkY97ZtmxZa49kiLTo6WnixFQ868+zWr1+f7/plJejWE6WlpSE7O1t4z/v06SOMAGvXri0P+OQcEgGJgERAInCbIGBMy0bo8v1IOR0FjyaBogJ7WcSYno3M0ET4da6L2sM7QKXJMYyzboA16S7L3HKMRKCqIODInEsSdFstlCHuVeWp/P99mKIvwXjyH5jjr4vwdZXbjeJlKemZ+HLtFmzYdQjnw6KQkZUNPy8PtG5UBwO7NMdjnevDI6g+tC16Q1Mjf2Eza6huJom+GXPzH3FroVWdYdwkn//73//QoEGDEmuCxWhE3KoNMMTGQ1c7ON+4wjzo12NjcCkyQpy/8NdfsO3YESgEfd4vqzBj5Q/YsXQ57nxipM2czKV7/fXXwUqxbOWiEPTXXnsNn3zySbkRdFr/J0+ejI0bNyIxMdFmXnoZ6I2QIhGQCEgEJAISgdIgkHwyAhEbTyA7Ph0ejQLyhboXN5fZYELahRi41/dHneEd4VLjxneNJOjFoSeP304IVAmCPjekZB70187LEHd7lNuRlcWefd+Ksea0BBgProcp5grUAXVzQtr/X85cCcegNz7G9dgEPNijA7q1DoG3uxtik1Kw8+gZbNl/Ag92b4cVEwZAE1gf2g6DoPbMX9RFmY/eVbYtcXMrOgylLDjcLILerVs3PPfcc2JJLNrCQmxfffWVKIZ29uxZ+Pr6lmi5Nwh6HHS1a+YbU5Ic9AkLP8VP2/8pFUFnTh3z0K2LxLGAXF4piwfdbDajbdu2uH79usjbY1g9cVGr1aLwHEPzGDEhRSIgEZAISAQkAqVBgJFY0VvOIv6/yzCkZguiXVJPuilTj/Qr8XAN9kb1u5vCt4Nt1Jok6KW5E/Lcqo6AI3OuXA+6JOhCTaUHvYo8rRazCYajf8B0+WCO59zlRq5XWkYWOjz5P9CD/tsnr6ND0/ze4ovXo7Hx30N4ZfCdoqCcpkEHOLUdAFWe6qoMfSZxu5lyswg6C68tX77cZukLFy4Ei6OtXr0aDz/8cIm2JULcf/0TWecvw6VhvXxjlCruiya8iuF33V3gnApBv7h0JXw8PPHL1r/xzOfz8NWMDzDurTdtxowdOxbffvttvhB3VnEvL4J+7NgxQdAZSk/8rSU4OFgUoJMEvUTqIU+SCEgEJAISgTwImI1mxG47h4SD15AVmQxddS84+7vlq+GiDKPXPDs2FYbETLjV9UPAnY0EOc8bDScJulQ1icANBKoEQf+4Sck86JPOSQ+6PcrvyMpiz74reqw57hr0B38FstOh9q9lc/lPf/odkxetxFdTnsboAXcWuzRzQjjg7Iqm4+egVp16ou3XG2+8gQMHDuCee+4Rec95SbRSPKWgyevWrSu8vkuXLsVTTz1V6PVFTjyQb+5OnTqJSuYsWJZXWHiFlcbp+WUf0sKE/4gXRNB/+eUXDBs2DOvWrcPgwYNthi9btgyLFi0SFczpSe7atSvee+890Xc1Zdc+pP53EBnVfLBgwzpsP3YEV2OiYDAa0Si4JiIT4sHt/Pz2e2jToJGYVyHlxxcvxQNvv4lrMdHwdncX1d5jw8LQ7o2X0axJE/x38AB0Op0YExoaKlrGsEjcnj17xG83w4POaAIWg6MhwPoeEQPea7ZbkwS92EdHniARkAhIBCQChSDAf+OZix7370VkXk+CISkTGg8dNG5OUDtrAQtgyjbAlKGHKdMAnb873BtUQ+BdIXCrXbIINwm+ROB2RsCROVeuB/2jpiUj6K+flQTdHmV3ZGWxZ98VPdZw4m8Yz+2C2r8OVE455E6RPi+8j0NnryDmj8XQOTsVuzSLIRuW+Gto+vJiwMlFtA0huW3durWoLv7444/nI9HHjx8H/1iLktPMtmH79+8H25AoJFM5jx555lLTKx8TEyN+zkv+2ZubFVl3794Nhqkrwr6i9O6SMDNvuighQScR51wUhuizXyrDt7k/VkO3jgyYNGmSMEwMHTpUVHfNyMgQ5JV7+Oeff9AhIAjJW//FsevXMGbxfAzs2g0Ng2oi22DApn17sPfsafh6eCA1MxMDOnVFl2bN8euef7H/3Bl4uLgiLSsT3u4eeHHQULw8ZBiyr4ThuxMH8PYP36Fjx44C79TUVNG3tbA2a+XpQTcajYKgsxDdSy+9JNq2MaSexhiG/teuXVsS9GKfHHmCREAiIBGQCBSHAAu+pZyNRsqpCGTHpsGYoYfFYGJQJ9Q6DTRuznCr6QuvFjXg2Tgwh7xLkQhIBIpFwJE5lyTotrdXhrgXq+6V/wRWYDf8uxzmuFCoC6jAXmPAs6hd3R8Hvptps5nMbD3SM7Ntfqvmk9PTm+3Zmr6wAKHR8aAXdfTo0TbnFReGzhxvel3p9WZxsyZNmuQDktb0hx56CL///rsgvT169CiQoJOgkjCOGjUKS5YsyZ1H8X7zb85THEEv6HizZs2wYcMGm1ZljBRgrvdHH30EEnVFaExgb1OuZfe27SLMPeXSFbg3rAet9obhQ+xr+lu4HheLkX3uwab9/+FiRDjSMjNFVfQavn6YOGwEht/VB246F5jSM2CMS4Bn907YeOmsMAzQo81CduyryjB2GjkUuRkedM596dIlkX/+77//wmAwiIgBYkAjBkV60Cv/u0CuUCIgEZAIOAoC/PfQmJqN7Lg04TFnLVeNuw66AA9o3f6/JayjbEauUyJQCRCoEgR9TjO0b1BMm7XLGej0xhnpQbdH5xxZWezZd0WONafEwbB3FSwMb/fNX1Xc7a4n0LVFI2xd9LbNsuau3IQpn/9k81v6tqXQajUwJ0WiydgPkKo3Iy4+XoR4W0txBJ0e4FWrVmHTpk3o169fgXCwevrs2bNFobZx48blnlPQ3JyPc0VFReX2CH/wwQeFRz4iIkKQ2eII+t133y2qlFNIQElI2RuVBdJIPhmKT6FHn7npPO7q6mozLcfTk06jgfrSNRHmTnEKrAa9wYD0rCyYLWb88PdfmLHie1z5fjU8/7+QnhLivu2j+WhVP6cOgMVsFt5z59pB8O3fG1pfn4pUHXktiYBEQCIgEZAISAQkAhKBKoCAI3OuXA+6JOhCE6UHvQo8kObYUOgPrAVU6gIrrxfmQb8WHYcLYVECgbkrfv8/9s4DOqqqa8NvZtJ7JyEJBELoLfReFJDeBVQQFaWpWPATFRAQQREVQUCKdEGkCUgvAtJ7S4AEEgLppGcmmbSZ/Guf/DekkUwYEjLD3mu50Mw9957znDOY9+6GIxdvQhLoOcoE1B49E85uHrh8/WYRSiUJ9Llz54LCr0n8St7XwjfYtGmTCOP+6KOP8MsvvxT4uLh7U4svEth//vknRowYIcLhqU0ahb4vXLiw1F18Ug465XiTd5/yzzdvzn1Z0bt3b+zfv7/Ee1Kou7eXFxIPHsevK5bjjwtnEBwTJTzk+e3ab6vh6eIqfiQJ9PsbtsDGwlJcmxkeBZmlBWzbtYBlw7qlroMvYAJMgAkwASbABJgAE2AChQkYhECfp6UHfQp70HX6BujzYdFp4RU4WBN7H5kX/oaR3BhG1o5FnqxNDvq7c5Zjw4FT+QR6ImqPngFP75o4fT7XS5zfniTQd+3ahUGDBolCY6tWrSqWAuWjU/h7x44dhRCWy+Wl3pvErI+Pj6gmfuDAASH+ydNN58vPz69U2k8S6DSQqpeTF17Kge/ZsydOnjwJWsuTjELPybs+b9ZsfDHzawzya4muTZvB1d0dJsbGOHzlIpbt2YUrS1ehmmtu8br8rdXkGg0yI2MgszAXwpzC240KRSmUuii+gAkwASbABJgAE2ACTIAJAOJ3YkqJvHz5Mpo1a6ZXTKS5X/iOBLpViXO/EpKKVl+yQNdpg/X5sOi08AocrEmMQub5rYA6CzK7opXMpSruq6aOw8ieuXneha2wQNckP0Kdd76FV41aOHXuQpHrixPoN2/eFEXcqOI4ebyLCzuPiIgAVWWngmxUhKy43uNPEv9UQX3WrFkICwsTXm4S7dQeTBsrSaBTz2/yiKtUKnErartGIe5U5M7Nza3E29PLAVsrK/z9+XRkPIyAJj0TJs4OmLNrGxbt3FasQA9bsgZGilQYuzjBsl4tWLf0g5FxwZcU2qyJr2ECTIAJMAEmwASYABNgAkRAnzUXC/SCZ5hD3A3gO52TmY7MUxuQkxwDmUvRvtyKNBVavDUV9Ofen6bAr07Ra8bMWY4/8nnQqeBcnfEL4FWzNk79f3uv/KgKi+jY2FghvEk0U5E1V9fcsO78RgKYvOb37t0T4ry4wnF0/ZMEOglzb29vDB8+XIS6lxRCX/jZTxLoVL2dXijQ3KUK82fPnhUvGqQogMJ9V8nTLq2PKq5bWVnh2OHDSLt+C6rAYMQ8DEOXudMRn6rEhdnz4eXsihy1Gh+tXYGtl84hbPFqWLhXgVWzRjCr7lmkr6sBHEleAhNgAkyACTABJsAEmEAFEjAMgV4fzWqU4kG/Tx70W3oZKaDtcWCBri2pSn5d5qWdUIdchsytFoxkRb2xt+6HY8D/fkRkXBL6d2yGdo3rwNbSArFJKTh1PRAHz1+Hh7Mjgrb+DCPkQBN9D/U+Xg5PEuinThVZfWERPWzYMGzduhWTJ08WIeP5jbzllONNvdSpKvjo0aPRrVu3IvekKu0lCXT6jArOHTp0CCYmJiBvvIuLi1Y7QyKbRPeECRPE9dRWjIrAUQ/1xMREETZPOe6STZkyBT/88ANat26NAQMGwNnZWXjuqZgcvYSgEHgyqrA+ffp0vPbaa+jatSvCQ+5jxe+/o4qdPa4H38WFeQtRzckZRnI5Jq1Zjr/+OwbFnbuwrFEdMi1a3mm1OL6ICTABJsAEmAATYAJM4IUmYBACfU4D7QT61AAW6Lqcdn0+LLqsu6LHqsMDkHVtPyA3hszGudjHp6SqsGzHYew6eRlBD6OQlp4JR1srNKpVDQM7tRDh75bmZtAo4oHsTNSd+As8q9fQSqBTr/ATJ04U+1yqjk6twUjUU8u2J5lUYK2kAnRUGZ6KxJHg//vvv7XGXNgLTv9N4fXUQ52qyefvry7dlF44LFmyBFevXgX1XKf2auRpp/n16tUrT+jPnj1brIsqzNeoUQPvv/++COEnD3zQ5auimJyRsTHe/XgS1q1fLyrIGxtzX1etN48vZAJMgAkwASbABJgAEyiRgD5rrrwQdxboYo/Zg24gX/acrHRknd8OdeQdyFxrwihfX+6yLDFHnQVNTAjkVevApNUQGJkWbDNWlnuVx7Ukyqnn+c6dO4Vnm40JMAEmwASYABNgAkyACbzoBAxCoH/bUDsP+jR/9qDrcuD1+bDosu7nMVYdfQ/Z1w8gJzUBRi7eMDIq2Lu8tDnl5GiQE/sARlYOMG7cA3L32qUNqfDPu3fvDn9/fxFuzl7oCsfPD2QCTIAJMAEmwASYABOohAT0WXPledBZoIuTxR70SvgFe9opUYi4+s5JZIdcAjJSYeTkJVqvaWM56mzkxIcBppYwrtkC8nqdKk3xstTUVPzzzz+g9mxUGI5yw//3v/9psyy+hgkwASbABJgAE2ACTIAJGDwBgxDosxuhmXcpReJCU9Fq+k32oOtyovX5sOiy7uc1NkejhvrOKWQ/vIGclEe5bdcs7Z4otkXetyoZ1FbNyMYZxtUaQV63U7GF5p7Xmih/nXK7bWxsRAX3pUuXiiJxbEyACTABJsAEmAATYAJMgAkYRpu1899oJ9Bbf80CXaczzwJdJ3xPNZhC1TURd6AOuQhNYiRyMtJgZGEDI1NLQMpNz85CTmYactIV4ucyh6qQ12wBmUe9MofGP9UkeRATYAJMgAkwASbABJgAE2ACz4SAPmsuae4s0HOPAoe4P5OvROW8SY5KAXVUIDRRQchRJiInSyWqswuTmwhhbmRtD5lbbcir1hUino0JMAEmwASYABNgAkyACTAB/SJgEAJ9FnnQrUsEfyVUidYz2IOu0+nU58Oi08Ir0WCRX56aiBxlAkAiPQeAqTmMrJ1EQTht89Qr0ZJ4KkyACTABJsAEmAATYAJMgAn8PwF91lx5HnQW6GI32YPOX2smwASYABNgAkyACTABJsAEmIAeEzAIgT6jsXYe9Fk3uEicLmdVnw+LLuvmsUyACTABJsAEmAATYAJMgAkwgYogoM+aK8+DPqMJ/KqXHOJ+9YESrWddZ4Guy6HS58Oiy7p5LBNgAkyACTABJsAEmAATYAJMoCII6LPmYoFe8IRwiHtFfGP4GUyACTABJsAEmAATYAJMgAkwgXIiYBACfXpT7Tzos6+xB12Xc6TPh0WXdfPYykEgR6OBWpEGTbZa9IKX21hCZmJcOSbHs2ACTIAJMAEmwASYABNgAs+AgD5rrjwP+jQ/7QT6t1dZoOtyZvT5sOiybh77/AhosrKR/iAaqvuRyIxJgDo1HTlqDWAEyMxMYepiD3NPV1j4esLY2vL5TZSfzASYABNgAkyACTABJsAEngEBfdZcLNALHgAOcX8GXwi+ReUgkJOTg/TQKCRfuIXM6ARkJSoAmRHkFmaAXAZocqDJyERORpbwpJs42cG6YU3Y+NVmr3rl2EKeBRNgAkyACTABJsAEmMBTEDAEgX5uKnnQbUpc/dUHCrSZwx70pzgij4fo82HRaeE8uEIJ5KjVSDrjD6V/sPCaG9tbw9jBtljhTWHv2SmpyI5LgszKApY1PeD4UnMY25VcNbJCF8QPYwJMgAkwASbABJgAE2ACWhLQZ80lzZ0Feu5mswddy0PPl1VeAhS+nvjfVSiu3oU6LR1mni6QmZrgzK3rGDrn8wITtzQzh4eTK/q16YRxPQfDTJEBtTINlnWrw/mVNjC2syp1oatXr0ZKSgo+/vjjUq/lC5gAE2ACTIAJMAEmwASYQHkTMAiB/pUf/KqV4kF/qECbuexB1+k86fNh0WnhPLjCCCiu30XiiavIVqpgXs0NRjIj8WxJoL/WpSfa1WssfqZQpeHcnZvYfe4EOjVshs1ffoeshBRkJypg09QXzr3bwkguL3HuHTp0QHh4OEJDQytsjfwgJsAEmAATYAJMgAkwASbwJAL6rLnyPOhfNtNOoH93hYvE6fJV0OfDosu6eWzFEMiKT8ajXSeR/jAaFj6eMKJc8/83SaDPf/djvNG1V4EJvffLbOy9eAo3lv4FZzt7ZETGwchYDseuzWDTxJcFesVsHz+FCTABJsAEmAATYAJM4BkQ0GfNxQK94AHgEPdn8IXgWzw/AoknryHxv2swdXGA3NqiwERKEuhT1y3BmkO7cXvFdthZWSMsJgqL/1yH85HBiEiKF/fx8/PDV199hV69Hot7b29vPHjwoMiCqUAdGxNgAkyACTABJsAEmAATeB4EDEGgn53SXCsPett5l9mDrssh0+fDosu6eWz5E6B885gtR5EeFiO854VNEuizRo7D4A4vi4/T0lW4GHQLX6z+FR0aNsXqT2aIn+85fxLfb16N7g2bo37ntsiwMMaGDRvg7++Pw4cP4+WXc8fv3LkTU6ZMQUJCAhYsWJD3yJEjR5b/gvkJTIAJMAEmwASYABNgAkygGAL6rLmkubNAz91Y9qDzV1xvCVCfcwpvN5LJYOJs90SBXtwCX2neFkve/wJUNE4I94x0mMuMRZs2xy7N4NDZDxkZGWjatCmqVauGgwcP5t2Gc9D19sjwxJkAE2ACTIAJMAEmYJAEDEOgt4CfVylF4sIUaDvvEnvQdTnF+nxYdFk3jy1/AimX7yD+0AWYuNhDbpkrtPOb5EEf12swujZtKT5SZWTgZug9rNi3Ay1q18PaybNgamySNywt8CGM63rBukcLUNj69OnT8ddffwmPuWQs0Mt/b/kJTIAJMAEmwASYABNgAtoT0GfNJc39zOcttRLo7X64yAJd+6NR9Ep9Piy6rJvHlj8Byj9P+PcyLGpUFQXeniTQiysSt+vscUxY/B2+f/tDvNmtL7Kys7Fg50ZsPXYwLwddup+RkRE0Gg0L9PLfUn4CE2ACTIAJMAEmwASYwFMQ0GfNxQK94IZziPtTfAF4SOUgQMXhEo5dhkVNjwLV26XZlVQkLjlViXpjh6Bf645YPmkavlyzGOuP7sEbrbqiTZNm8BnwEoxNTbBmzRps2rRJeNMlYw965dh/ngUTYAJMgAkwASbABJhALgGDEOifkQfdtsQtvRqWgnY/sgddp3Ovz4dFp4Xz4HInkHzOH/FHL8GsqjNkZqZFnleSQI9PSUKjCcPRtXELbJwyB/XeGwLKS5/78nBY+VZDlde6gTznr732GjZv3lxAoHfs2BFhYWHcB73cd5gfwASYABNgAkyACTABJqANAX3WXHke9MmttBPoP13gEHdtDsWTrtHnw6LLunls+RNIDXqIuD2nYWRmChOHogUlShLoG//dh/+tWogP+w/Hl8PfQYNxr+Llpi3x/csjYN+hCZy6tURgYKAoEpeenl5AoPfs2RPnzp1DUlJS+S+Sn8AEmAATYAJMgAkwASbABEohoM+aiwV6wc3lEHf+uustgayEFMRs+xf0p3k1tyd60F/r0hPt6jUWn6syM3Dz/l1sPnEIjja2ODhnCVztHTF55QL8deIQXm/TFa26dUFkVip+++031KxZE1evXi0g0KdNm4Y5c+Zg0qRJaN26NWQyGUaMGKG3HHniTIAJMAEmwASYABNgAvpNwBAE+ulPtfOgt/+ZPeg6nVZ9Piw6LZwHlzsByguPP3AOyedvwdzbDTLTx9XY6eGSBz3/ROQymRDknRs1x+QhI+Hh5Co+VqrSMHvlYhwKvIrk9DTUrVsXX3zxBW7fvo1Zs2YVEOjJyckYN24cDh06JLzoNI/8OerlvnB+ABNgAkyACTABJsAEmAATyEdAnzWXNHcW6Lkbyh50/mrrNQFVaBTi9p1FVpIC5tXdRN7401hWogLqlFTYt28Mh05Nn+YWPIYJMAEmwASYABNgAkyACTwXAgYh0D9pDT/PUorEhaeg/YLznIOuyynT58Oiy7p5bMUQIM914vErSD4fAJmlOUyd7cv8YE16JtIfRsOyTnW49u8AuZVFme/BA5gAE2ACTIAJMAEmwASYwPMioM+aS5r7qY/baCXQO/xyjgW6LgdNnw+LLuvmsRVHQJ2Wjrj9Z5F6KxRyG0uYuNhr7UlXp6qQER4L82pV4NitJSyqF81lr7iV8JOYABNgAkyACTABJsAEmEDZCeiz5mKBXnC/OcS97OefR1RCAtkpqUg4chFp98KhyciCqbsT5JbmT5xpTrYambGJ0KSmw8zTFQ6d/WDp41EJV8ZTYgJMgAkwASbABJgAE2ACJRMwCIH+UVvtPOgLz7IHXZcvhD4fFl3WzWMrngCFqqdcvgNlQAgyHyUhR6OBsY0lZBZmMJLLRCE3ukaTli7+NHGwhbm3O+zbNYKpS9lD4yt+hfxEJsAEmAATYAJMgAkwASZQlIA+a648DzoLdLGx7EHnb7jBEciIjkdaUBhUwRHITlUJMZ6jVouwd5mZKWSWZjCr6gwr32qwqFkVRsZyg2PAC2ICTIAJMAEmwASYABN4cQgYhECf1BZNPexK3LRrEcnosIg96DqdbH0+LDotnAc/dwIU6p6VkIzsJCU0Wdkwkslyc9QdbSG3ttA6T/25L4QnwASYABNgAkyACTABJsAESiCgz5orz4P+YTvtBPqvZzjEXZdvgz4fFl3WzWOZABNgAkyACTABJsAEmAATYAIVQUCfNRcL9IInhEPcK+Ibw89gAkyACTABJsAEmAATYAJMgAmUEwFDEOgnP2ivlQe94+LT7EHX5Rzp82HRZd08lgkwASbABJgAE2ACTIAJMAEmUBEE9FlzSXM/ObGDdgJ96SkW6LocKn0+LLqsm8cyASbABJgAEzAkAjmaHGSp1EBODozN5ZAZywxpebwWJsAEmIBeE9BnzcUCveDR4xB3vf4q8uSZABNgAkyACZQfgUxFFmKuJSApRImUsFRkKrOAHEBuJoetlxVsPC1RpakjrN0tym8SfGcmwASYABMolYAhCPT/yINetZQq7pHJ6MQe9FLPQ4kX6PNh0W3lPJoJMAEmwASYgH4SyM5Q48G/0Yg4EwtFRCpUCZmQyY1gbJHbllKdqYE6QwNTG2NYuVugSmNH1OxVFZbO5vq5YJ41E2ACTEDPCeiz5pLmzgI99xCyB13Pv4w8fSbABJgAE2ACz5KAMioNt/96gEc3EpCelAUbDwtYuJhBJi8Y0p6Tk4OMpEwoIlWAOgfO9e3h298LVfwcn+V0+F5MgAkwASagBQFDEOgnJnTUyoPe+beTnIOuxZl44iX6fFh0WTePZQJMgAkwASagbwQUkWm4seYeYq4kwNzJDLZeljCSGZW6DFV8BpJDlHDwtUG9Yd5wb+lc6hi6YObMmZg1axZI7EvWpUsX8a/Hjx/P+5mRkRFmzJghrmdjAkyACTCBogT0WXNJcz8xjgS6fYnbey0yCZ2Xs0DX6Tugz4dFp4XzYCbABF5IAiQ01GmZyEpJF8W0ZGbGMLW3hFEh7+MLCYcXXakJZKmycWVJIMLPxsK2mmWRcHWFKgXbzm7CyTvHEREfhszsDDjbusLPuzkGtHoVtZ3rIz4gBY51bOA3vg7sva1LXS8L9FIR8QVMgAkwAa0I6LPmYoFecIs5xF2rI88XMQEmwARKJpDxSIGU21FIfRCHzIQ0aDJyi2kZGctgbG0Oi6r2sKlTBVY+LpAZ5+bxsjGBykQgaFcYgv5+CLm5TBSAy2/B0Xfxv/XvI14Zjy4NXkajak1hbmKOiIRwHAs4jPD4h9gwaQc8LKshIVCB6l2qwG98bchNSz7r2gp0pVIJU1NT8Q8bE2ACTIAJFCVgCAL9+NhOWnnQu6z4j0PcdfkS6PNh0WXdPJYJMIEXmGPsOgAAIABJREFUg0B2agbiTt1DSkAkMmIVUKuyILc0FZ5zCsvVZKmhVmUiR62BmbM1LDwd4NKpNqxqaBcC/GJQ5FU+bwJpsek4/1MAEu8p4NrUQZxdydIyUjH616FQZiix4K1lqOvRoMB01Ro1tp/bjJa12qCGqw+S7ythJDdC03d9Sw1111agP28++vT81PgMxN5JQUpUOtLiM6BR58DYTA7rKuaw87CAaz1bmJjzS0J92lOeKxPQhoA+ay5p7izQc3eaPejanHi+hgkwASZQDAFVRCKiDwRAGfwIOdkamLnZwdjarIC4kYZpMrOREadEVlKaEOmOLb3h3MFXq/xehs8EyptAyMFIBGwMgYWTGSyczQo87s9T67DkwM/4YuAM9G0xuNSpqLM0CL0YjkPp23Dy3jFERUXB3d0dQ4cOFTnkNjY2effQVqAXl4OuVquxaNEirFmzBkFBQbCwsADlr8+dOxf16tUrdZ6GdkFyRBruHY1B5PUkKGPSka7IFpX26V0LpfibWMlhYWcC+2qW8GrpBJ+urjC1NDY0DLweJvDCEjAMgd4ZTd1LyUGPSkKXFSfYg67LSdfnw6LLunksE2AChk1AFZmEyF3XoAyKgamrLUydrIQwPxd4FW/89FHe4o1lcthYWMPLxR3NfRphSKtX4JlpC1MHSzi19YFL1zrFCnrDpserq2wELv16G6FHouDW0qnIeZy48i3ciQjA/qmnYGZSULwXt46s7CyM/XUk7sbfwajX30Sb9q1x6dIlIaTbtGmD//77DyYmJmKoLgL91Vdfxc6dOzFq1Ci0atUK8fHxWLp0KVJTU3Hx4kX4+vpWNszlMh+NJgfBxx4h6GAUYgMVgMwItm7mMLczgdxMJvYzR5ODzDS1aJeniFbB3N4UVRvboeFgL7jUfvzCpFwmyDdlAkygQgjos+bK86C/1wVNShHo10mgrzzOAl2XU6XPh0WXdfNYJsAEDJcAhaw/3HwRKTfDYe7pCBObx72fJYE+rEMftK7tB02OBgpVKu6EB+PglRPi39/vPQpj6vUVIe/ufRrBrqGH4cLilVV6Allp2Tg9+waSHijh0qCo56L3nE5wsauCdR9s1Wotf5/fgp/+mYO3W0/EvFVz8u45b948fPHFF1i2bBnGjRunk0DfunUrhg0bBvqTPPOSRUREoH79+ujduzf+/PNPrearzxeROL+5LQxBh6OREpkOZ19rWNiXnKdPhSyTw1U4cHEH1tychz9/24ER4wdVOAaKdrh37x7Cw8Mr/Nn8QCZgiAT0WXOxQC94IjnE3RC/obwmJsAEypXAo6O38ehYoMg1N3Mp6H2SBPrcUZ9jeMe+BeahSFPiw5UzcTLgAr4b+Tl6OjeDbT13eI1oCRNbi3KdM92cQoIzMzNFKDAbE5AIUN/zs/MCkKnIhH3Not7Uzl83RwOvRlj63lqtoE1eNxHXQ6/gj2H/oPWERvBs7yrGqVQqODs7o3Pnzti3b59OAn3w4ME4d+4cbty4UWROb7zxBuiXvdjYWK3mq88X3d4XCf8d4UiNz4RbQ9u8XvUP40Kw+eRK3Aq7jriUGFiaWcHVzh0NqzXDq+3fgZONC/ad246FB2di9qu/YcJ3I+HkU3rV/WfJigX6s6TJ92ICEH/vNW/eXC89y3kCfUxX7Tzoq47p5Tq1Pacs0LUlxdcxASbABABkJqXhwbozSAtLhHXtKkXCgUsS6ASQRHqnr4aJsPfDn62GWpkB996NcDbhNubPny/+B0tCumnTppg6dSr69OlThPu6deuwZMkSBAQEQCaTibDhb775Bm3bts27lnpId+3aFStWrIBCoRChv6Ghodi2bRsGDhzIe8kE8ggoItJw7gd/ZKVmw65GUZFGHnRXOzes/WCLVtRe/2UAZJBjUa+1aPKuL6p1qpI3rmHDhuJ83759WyeBTl5y6R5PmhQ9h74fhmrxIUqcXnwXcUEKVPWzzxPnt8Ov4/N1Y2BtboPuTQbAzcETClUSQmKCcC7wOL55fQmaeLfEoWs78dOu6Zjc+if0G9ob7T7wrdDicSzQDfVk8rqeFwFDEOjH3tFOoHddzQJdp3Omz4dFp4XzYCbABAySQPy5EETtuQFjOwvR37ywlSbQ6fopa7/HtjP7cGDmOlRJNMOu2HOYuekXdO/eXYTmUs4ohedeuHABmzZtwogRI/Ie89lnn+Hnn3/GkCFDREGstLQ0rF69GiEhITh69Cg6dOggrpUEOgki8lyOGTMGtra2aN++vRD/bExAIkAV3M9+74+0+HQ4+toWAVPWHHQh0HPkWNx/neiHXrXV444FdB41Gg1u3bqlk0CvW7euiAahF1BPspdfftlg6ztQmPqZJXcRuD8aLvVsYGadm9NPNn3TRNwIvYTfP9gNF1u3AnhUmWnQaNSwMrfJE+hTeyxCgyot0WJ0Dfi+/PhlSnl/Q1iglzdhvv+LRkCfNZc0dxbouaeWPegv2reX18sEmIBOBMK3XUbsybuwbVC12F/+tRHoqw9vwZyti7F84lzUMnNDz0Vj8c6ot7Bszcq8uZH3r127dqCc2ocPHwpPIBW+omJY5GknoS4Z9Ygm4UOVss+ePVtAoDs5OYkK146OjjqtmwcbLgEqIHZm7k3EXEtAFb+i5ySvivugmejbvPRcZRHifv8Ktr13EB2m+MGueq5XPj09PS/Efe/evToJ9H79+omXUAkJCXkF5wx3h4quLOG+Eid+CkRqXAZc6xZ8qTJmcT+YGpvht/HbSkQiedDnvrECLvG1UbOzCzp+WhsT358gXvotX74c7777Lry9vcXLwLVrC6Y4PKnAH+WVnzlzBpMmTRIvDakgINULWLhwIczMHhcZLE6g379/X7yopJc4hw8fho+Pz4u0rbxWJqATAUMQ6P+SB93NoUQO16MT8RJ70HU6K3qdD6Hbynk0E2AChkZAk61GyPL/kBoaD5vaxXuatBHof53cg682/ICfx0xDXGwc5u5ehmOb9qBh99YFkFFY+owZM+Dv748GDRrg008/xeLFixEcHFwkj5yKb9Ev1cnJyaKNleRB/+ijj/DLL78Y2lbwep4xgZvrgxG0MwzODe1Ez+z8JvVBT81IxYK3l6NO1YItzEhM7Ti/Gc19Wos+6FKRuAndPsGiPfPz7kcvlj7//HMh/MaOHauTQKcIk9dff118P0goFrZHjx7B1TU3990QLWB3BC6vuw/7alaiWnt+m7pxPK7fv4h5o1ehgdeTo2Ukgf7dqBWontMIRuYabAz7AYeO7ReROxSlQ1ZWgX7z5k04ODiIWgMtW7YUtQIoLWfatGmYPXt23lQLC3T6e65Hjx6gl4qHDh0SLxzZmAAT0J4AC3TtWVX2K9mDXtl3iOfHBJhApSGQlazC/VUnkZmQBsvqTsXOSxuBLnnQV7z/HY5fO4NNp/8pcY3//vuvyCen8Pf9+/eXeC2FuteoUSNPoFOf6A8//LDSMOSJVE4C5D2/uiIImiwN7LyL5qEHR9/FZ+snIkGZgK4Nu6NRtSYwMzZDZGIkTtw6godxoVj/4XYh0JUJqfhg7TsITgzE22+/jRYtWuS1WWvduvUzabNGId6vvfYa/vrrLyHqyOtKL6YePHiAAwcOiEruf/zxR+WE/QxmdXbZPQTsioBXK8cikTw3H1zGlPXvQq3Jho9bXTTw8kM9z8Zo5tMW9laP/94qINAt6mLurk9xP+U2du7eiW7duuXNsqwC/cSJE/jxxx8xefLkvHtQ3QvyqtOLE8nyC3SK/KF6G5S6QNEVJPDZmAATKBsBgxDob7+knQd9zb9cJK5sx6Pg1fp8WHRZN49lAkzA8AiQQA/5/SSyktJgWe3pBfrna7/D9jP7cWjWBqw++Bc2n9mDdXOXomrL4vs2N2vWTISo9+zZEydPnsSuXbueCJdyzKlKu+RBX7lypQhTZWMCJRFQZ2lw8ZfbiDjzCE4N7GBiYVzk8hRVCrad3YRTt48hLP4hstVZcLZ1RbMaLTGo9TDU9Wgg+m0/up4IE08jHFBuxe6DuxAdHQ03NzdQ3/JZs2YJIS2ZLn3QSaRTDjpFjlDBRPrvqlWrijoM7733nkgRMUSjdR6YfhPRN5Lh0ax4IRsUGYBtZ9bicvBpKNMVAoNcZoy+LYZhbI/PYCw3yctB/2rofGw/sx7hsQ+wbOYGjPyqfwFsZRXo1OeeetHn7xaxYMECEQGUkpKSt/+SQKf9o6r8tG/bt2+HlZWVIW4br4kJlDsBfdZc0tyPjn5ZK4H+8rqjLNB1OVH6fFh0WTePZQJMwPAIqDOyEbL8BFQRSbCuVXz4bGkedKri3vHLYbC3ssHxuX9h+e4N+GHPShxc+zd6jC65ujp5winEPSoqSgiekowFuuGdv/JeUdztZFz//S6SHyrh0sgBMrlRmR+ZdF8JaHJQd2h1+PT2LPN4HlA6AY1ag/1f3UDcXSXcGxftW5//DiTmIxIe4GrIeWw/uw5RiWEY1WUiRnaekCfQLU2tkJ6Vjuntl2PAhG7we726TgI9MDBQ/B2V3yh/naIpqJNE9eq59yeBTuHvNEeKsjh27BhMTUvu4V46Hb6CCby4BPRZc7FAL3huOcT9xf0e88qZABN4CgIP/7yAhHMhsHmKInEKVSo+XDFD9EGf//ZXGNy2J0Ju30WvRePQqV0HHDh6qEjBq/y5tBQGSl5B+kV31apVRUJb81/LAv0pNpeH4O4/YQjeFwFVQgac6tlBbqJdmzISWSmhqchMzYZXR1c0GeNbJJed8T4bAsKDPu0mov2T4eGnfSh4SloS3lrUG7aWdlg7aX+eQO/RdCCOXN+NZm4dsfznNWg2okaBiVLKDOWTFy4SN336dHz77bdCYEv2pMrskkCnInDkkZcE+p07d0SeOqUlUF2BoUOHPhtIfBcm8AISMASBfuTNblp50LutP8IedF3OuD4fFl3WzWOZABMwTAKxxwMRdcAf5lVsYWxtXmSRkgd9WIc+aF3bT/zyqlApcSciBAcuHweJ9En93saHfUeLz5SB0fg77DS+2faryL+klmoUphsZGSm8SxS6S3m1kk2ZMgU//PADKJd3wIABoip2WFiYCGmn+1EIPBkLdMM8f+W9KvLOUrG4h8ejkRKeBjtvK1g4mZXYroz6pyfeU8DE0hjuLZ3QcGRNmNmxJ7Q89+rM0ru4tTsSXq2L5qCX9Nz3VwzDg0fB2DPtcp5ApyJx5PH+9egs9OrcF7uP7IBc/rhQIKXYeHl5FUmteeONN0QxOV0EOlV8p7oZlKNOVdu3bNmCQYNK7xRQnmz53kxAXwnos+aS5s4CPff0sQddX7+FPG8mwASeC4H06GQ8+OOcKBRnVeNxf2dpMpJAl/5bLpPD2twSXi5V0aJWIwzr0Bd1PGqKj7MV6UiPSYFbj/q4iUhRWOn8+fMif7NKlSqiXzkVwqJ/8tvWrVuxZMkSXL16VfSCpmrH5IV666230KtXLxboz+VkGM5DKY888nwcQg5GIvFeCrLSsmHhbA5TG+Pc3HQjQJ2pRqYiG6r4DJF3Tq3UvDpWQY0e7sXmrxsOncqxEv+d4bi8PhSONaxgZlOwivuVkLNo4t0K9HdPfqPw9nFLB8PT2RtLx20tINC9jRrhv9C9WHZyjnhJuGHDhjyRPnz4cBF+Ti8KpbxyClWnzhJpaWk6C/Tw8HBkZGSIF45UEHPbtm3o379gHnzloM6zYAKVm4BhCPTuaFKllDZrMYnotv4we9B1OY76fFh0WTePZQJMwDAJkLcoctc1xJ0OhrmbLUxsLZ5qoSRqlEHRsPRyhNfrrWDuWrCX8VPdlAcxgWdIIC0uXQj1mCsJUMaokKnIQna6GsgB5KYymFqbwMzeFK6NHVC1tTMcfB4Xf3uG0+BbFUMg9q4CJxcEQpWYBZc6BbmPXToIqekpaFunK6q7+gqhHhH/AIev74ZClYyZIxahde1OeQJd6oNeo4Mz7jmdwoSJEzBy5EgR0i6TyfKicSi9hrzmsbGxoBaQ5FW/fPnyMxHotMT09HQhzKkK/I4dO0RVdzYmwAS0J6DPmivPgz6qOxpXcSxx0TdiEtBtAwt07U9GMVfq82HRaeE8mAkwAYMlkBmfirC/LkJxNwZWPq6QmxWteF3S4knkq8ISYWQsg1v3+nBq52OwrHhh+k+ARHlKWCqUUbkinV4ukSfdys0CNp6WMLevvOHsGk0OFI/SkRSlgio5C5QubWohh527BezdzWFsWtDLrC+7JdJZfgnC3SPRqNLADqaWj/8OunTvNE7fPoKAsGuIV8RAlamCvZUj6nk2wZC2b6L+//dGl9qsTev5K+o5NkfzN71R5xV30ad+woQJGD16tKh1QSL9t99+E6k1lHrj6+sr+s9T+g1V5dc1xJ086JKpVCr07dsXp0+fxs6dO0XnCjYmwAS0I6DPmosFesE95hB37c48X8UEmAATKEAgJSAS0Qf9kRaWCEtvZxhbaidScjQaIc7pl1qH5tVRtV8TyEz0UyTwkWAClZVARmo27l+MR8iFeCSEpyFdkY0slRo5yIGxiUyEhds4m8G7uSN8WjvBzu3pImGe5/ofBabg7NJ7SAhNhXsTe8hkZa+6T0X9Ym4lo0YHF3T4qHYBof8818bPZgJMoOwEDEGgH35DOw96943sQS/7Cck3Qp8Pi04L58FMgAkYPIHkG+F49O8dpD2Mh7GdJcxcbSAzLl5skyDPTkmHKjIRpvZWsGvkAbdeDSE3L5g/avDQeIFMoBwJiLZiAcm4ujsCUbeToYjLgKW9KSxsTYTnnPLnszM0QrArEzJgaimHSw1rNOzuhrpdq0BurF3V+nJcQplu7f93OPx3hSNTqYZrfdsyifTMtGzE+CfDpa4t2oz1gWtdTrMpE3y+mAlUMgL6rLmkuR9+vYdWIe7dNx3iHHRdzp8+HxZd1s1jmQATeDEIqCIS8ehEEFKDY5GZkCoEt9zKLFd4GwE5WWpkp2WKgnByC1NYuNvBsVUN2DevDpmeiYEXY0d5lfpKgMS5/6FoXN8bgUf3lLCvmhvGLpMXL7rp+tTETMQGK2Hjao5abZ2RVf0BevTshpUrV+Ldd98tEYXUKYEKqFF7MbKZM2eKsO+7d++iVq1a5Y5Sna3BtT8f4t6/MUiNyxD56O/93hfOtlXw8zvri32+6B4Rk46kh2ni+ibDq6F6m6IFL8t98vwAJsAEnikBfdZcLNALHgUOcX+mXw2+GRNgAi8iAU2WGsqgGCTfioQqPBHqtEyoM7JBCa9GxnIR/m5ibwnbem6wrVcVpk5WLyImXjMTKFcCt45G49L2MMQ/TIMH5WWTx/z/jYqm7Tm/CRcCjyE6IQyZ2RlwsnFFA+8W6O43FHZpub2/MzxC8cnPI/VGoNOcSaQHHogWIj0uSIEpx4bD2a4KFryzPu8lIIlydYYGaYmZUESqYGwhh1sDOzQc5An3xvblui98cybABCqGgCEI9EOvv4LGrqUUiXuUgB6bDrIHXZdjpc+HRZd181gmwARePAIijF2Zgcw4pfCYUzEtmbkxzBytYeJoxR7zF+9I8IoriEBcqBKHfw1C1J0UVGvqIPLMJXsQE4TZm95HkjIebet1Q12vpjAzMUd0YhjO3DqCqIQHWDhhB0wSXRGSeB0/HnxfK4GuVqtBRc2o9ZjUN7yiPej58cYHKxF0OBoDPu8EBzMXfN5qEXLUOQDlpmsAuZkMFnYmsPWwgGdzR9Tu4QZzW06xqaAjyo9hAuVOQJ81lzR3Fui5x4Q96OX+deEHMAEmwASYABNgAuVFgCq1H1kUiIAj0XCrYwuLfH3BVRmp+HjZEKSlKzFj1HLUqtqgwDTUGjX2XfgTTX3awsOxJo4e/hdLz3+CRT8uwYeTJ5Z5ys9ToNNk6SVh9WrecLFzw4opfyE1PgOabA1MzI1hU8VciHO3RnYwL9Q7vcwL5QFMgAlUOgKGINAPvtZTKw/6K38eYA+6LidQnw+LLuvmsUyACTABJsAEmED5E4i8nYzDCwNF4bcqvgV7gu86sw5rD/+E9/vNRLdmg0udzMUbZzD37/GY9v4P8Ghogx9//BFhYWGoV68eFixYgK5du+bdo6Qc9Bs3bmD16tXYuHEjlEolOnfujGXLlqF69ep549966y3RYzw0NLTAvIq7782bN/HLL7/gv//+Q0REBExNTdG6dWt888034s/85u3tDU9PT9Ea7aOPPsK5c+dga2srcupnz54NI6PH1d7p36llGr1YyG/FzW3dunXYtGkTaC5xcXFwc3PDgAEDMGfOHHF/NibABJ4vAX3WXNLcD47opZ1A37yfBboux02fD4su6+axTIAJMAEmwASYQPkTOLsxFOf/egD3urYwy9cPnJ781ZrRuBcRgD++OA1TY7NSJ3Pz/gV8vf5d+Lg3gMwqE2PeHSPEMInjxMREPHjwAA4ODuI+JQn0Fi1awM7ODgMHDkR0dDR+/vlnNG/eHCdPnnwqgU4vCjZv3iz6gpPIj4mJET3K6d6XL19G/fr18+5LAp1C7tPS0jB8+HDUrVsX+/fvx+7du/H7779jzJgxedeWRaDT/KnwXbNmzQQD+v1uzZo1aNOmDU6cOFEqW76ACTCB8iWgz5qLBXrBs8Eh7uX7XeG7MwEmwASYABNgAuVEgEK6/5kTgHtn41CzpVORp4z6oaOoaL5g/DatZuAfehHT142BvZULrp6/Du8G7mLctWvX4OfnhyVLlmDixNzQ95IEer9+/bBr1648bzUJ/E8++QQBAQF5YrosHvTU1FRYWRUsLklebBLmgwYNwvLlywsIdHqRsG3bNgwZMiTv502bNhUvGy5cuPBUAr24OZBXndZx5swZtG3bVivGfBETYALlQ8AQBPqBYeRBL/p3eX5iNx7Fo+cW9qDrdIr0+bDotHAezASYABNgAkyACZQrAWqTtmvWTSRFp6NqMX28h85uhtqejTD37XVazUMS6D0bjMTiVQvg0/px+zHyiFOY+E8//VSqQD9w4ABeeeWVvGdevXpVeJ7Ji03inawsAj3/5MkzTsXp6OUE3SMyMlJ4syUjD3pGRgaioqIKrJnC3f/44w/Ex8c/lUCXBmk0GigUCmRlZYk/a9asiYULF2LSpElaMeaLmAATKB8C+qy5pLkfGNYbjVxKFug3Y0mg7+MQd12OkT4fFl3WzWOZABNgAkyACTCB8iWQGJGGf+YGID0lG64+1kUelutBd8OC8Vu1mogk0Ec0/wxfz/8M9bpWKSB8KQedwrrJSvKg37lzB3Xq1MkbS3nmNWrUwNq1azF69OgyC/SUlBRMmzYNW7duFWHt+Y3uGxISUmCe7u7uOHv2bIHrpAJ2JOwlK0uIO3nep06dilOnTiE9Pb3Avan3+9dff60VY76ICTCB8iGgz5qLBXrBM8Eh7uXzHeG7MgEmwASYABNgAuVMIDEyTYS4p6dkwdWnYIE4enRZc9Algf5GiymY9uOnqNvZtYDw7dKlixDZpQn0u3fvinxtySSBTuKevN5kb7/9No4dO1akSNzRo0fRrVs38Rk9j6xPnz6gn1OYPHniyZsvk8nw3XffITg4uMA9pCJxJKTzW1kE+qhRo0S+vFTAjkLmKZye7j1+/HjxJ7WXo1ZzlBdfXKG5ct56vj0TYAKFCBiEQH9VSw/6Vvag6/QF0OfDotPCeTATYAJMgAkwASZQrgQyUrPx94wbiAtNhWdD+yLPyqvi3n8WuvkNKnUukkB/s92XmL3kf6KnumQkSp+lQP/0009Fobfk5OQC81q5ciXGjh2bJ9CTkpLg6OgoPNSFq61T3jeFsuevBF8WgU73JTFOIer5rX379qJavHRf+vzjjz/G/fv3hTiXLDAwUBShY4Fe6tHiC5hAuRPQZ82V50FngS7OCXvQy/3rwg9gAkyACTABJsAEyovAgZ9uI+BwNGq2dirQQoyel9cHPSMVM0cth4/742rn9LkmR4P9Fzajcc3W8HLxgSTQx7w0FT9tmgq7KhblJtCpDRoVnLt06ZKo8E6WmZkp2qZRUTrJg0553uQxnz59OiiUXDIKsX/ppZdQrVq1pxbo9CzKZ6e2cJKdP39eFHzLf9/Fixfjww8/FKH0FFIvGUUBUEQBC/TyOt18XyagPQFDEOj7h/bRKge917a9nIOu/dEoeqU+HxZd1s1jmQATYAJMgAkwgfIncHV3OM78EQp7N3NYORZtpfYgJgizN05EUmoC2tXvjrpeTUXLtZikCJy9fQSRcaFYOHGHEOg3gs9jxh/vYdKQb7BgyzTIZI97hj9rDzp5xumeNjY2wjtNRkXcTExMcPHixQIh7hTyfvr0aSGSfX19RS9yCpen8STgn9aDTuKaRDaF0Pft21fchzz41EedPPvSfe/du4dGjRqJ540bN06E1//zzz+i4BwVwGOBXv7nnJ/ABEojoM+aS5r7viF9tRLovbfvYYFe2oEo6XN9Piy6rJvHMgEmwASYABNgAuVPIClKhX0/3BJh7l6N7Yt40WkGSlUK9p7fiAuBxxCZ8BDZ6iw42biioXcr9Gw5DLWqNhATPXPhJObvfx/ffPYTps//tMDkn7VAp5v/999/oFB3EtwuLi4itJ3CywvnoD969AiTJ0/GwYMHQe3OmjRpgtmzZ2PDhg2iWN3TCnQqGPfNN9+INm0JCQlo3Lgx5s2bB2qfVvi+lAP/1Vdfwd/fH5aWlkLUz58/H66urizQy/+Y8xOYQKkE9FlzsUAvuL0c4l7qcecLmAATYAJMgAkwgcpM4OymUFzZGQ4rB1PYuz8OSy/LnDNVaoTfTIRvB1f0+KgOzKyMyzKcr2UCTIAJPFcChiDQ9w7uh0bOpbRZi4tHnx3/sAddl9Omz4dFl3XzWCbABJgAE2ACTKBiCKhSsnBoYSCCz8XBzdcGlvamZXpwdqYGYTeS4OpjhS5jfeHRwK5M4/liJsAEmMDzJqDPmkuaOwv03FPEHvTn/W3i5zMBJsBEbsR8AAAgAElEQVQEmAATYAI6E3gUrMB/q4Lx8HoSHD0tYedmXmy4e+EHqRRZiL6TAqfqVmg20BMNe7jrPBe+ARNgAkygogkYhEAfRB505xLR3YyLQ5+/2YOu0/nS58Oi08J5MBNgAkyACTABJlChBEikn930AOE3k6DO0sDRy1KEvRsZPS72Jk2IWrQlRapA3vcqtW3QtK8H6nZx1UrUV+ii+GFMgAkwAS0I6LPmkua+Z2B/rQR63527OcRdizPxxEv0+bDosm4eywSYABNgAkyACVQ8ARLc1/ZE4P7FeCRGqJCekiXyyU0t5ICREbIz1UhXZkMmN4JDVQu417VFs0FecK5uVfGT5ScyASbABJ4RAX3WXBUp0G/fvg0qvEnFNu3t7Z8R/Wd7Gw5xf7Y8+W5MgAkwASbABJhAJSBA1d1DLyUg5m4KEiNVyEpXIycHMDaRwdrZDC41reHdzFF4z/O3U6sEU+cpMAEmwATKTMAgBPqAAWhYSoi7f1wc+u7aVWYP+pYtW/DZZ58hIiJCsD18+DBeeuklxMbGolWrVqKDxbBhw8rMvTwGsEAvD6p8TybABJgAE2ACTKDSEMhIy4YqOQvUVszUwhiW9iYcyl5pdke3idCeZiWpkB6XimxlBpADyM1NYOZsBVNHS8iMZbo9gEczAT0hYAgC/Z/+2gn0frvLJtD37duHfv36oWXLlqJF5IwZM3DkyBEh0MnoZyYmJti5c2el2G0W6JViG3gSTIAJMAEmwASYABNgAtoSUKdnIfl2DJL8o6GKTEF2WiY0GdliuMxEDrmlCcwcLWHXwB32Dd1gav907fe0nQ9fxwSeNwEW6E/egfbt24sXtKdPn0ZCQgJcXFwKCPTZs2dj1apVCA0Nfd7bKJ7PAr1SbANPggkwASbABJiA/hOgX4BSU7KQFJsOdbZGhJPbu5jD0oY91vq/u5VnBYrgeMQcvwfl/XhkJqhgbGUKY2tTyMyMYQQjaLLUQrBnp6RDbmUKS097uLavAYemVWEkZ4965dlJnsmzJGAIAn13v4Fahbj3/2dnmULcrays8P333+PDDz9EfHx8EYFO4vyDDz6ASqV6llvy1Pdigf7U6HggE2ACTIAJMAEmQASSYlUIvByHezcSkBijQnpqNjRqDWRyGcytjeHkZgmfxo6o09wZdk7mDI0JPBUBegEUd/YBHp0MQdrDJJg6W8LcxfqJolsKf1dFJMPMxRqOzTzh3rMO5KbGWj9/7dq1ePvtt3H//n14e3trPa4iLjx+/Di6du2KY8eOoUuXLhXxSH5GJSbAAv3Jm2Nra4tvv/0WkyZNKlagkwd94cKFiIuLqxQ7zAK9UmwDT4IJMAEmwASYgP4RyMxQ49KRCFw7HoXYiFQokzOFt9zcygRyYyOos3OQrsyCSpkFa3tTuHpZw69rVTR/qarwrrMxgbIQiLvwENGHg6CKToF1TSeRa052PugK3vzlw7xbGcvksLawhpdzVTTzaYTBrfrAI8tehL67tPWGR596WnvSn7dA12g0+Oabb9C0aVMMHDiwAC4W6GU5PYZ/rUEI9L6D0NCp5D7o/vFx6L/n7zJ50OkFlrm5OQ4cOFBEoGdnZ4uK7vQCbu/evZXioLBArxTbwJNgAkyACTABJqBfBFISMnBgfRDuXouHIjEDbtVtYOtkVmzxNY0mBynx6Yh5kCquqdPcCa+Mqg1rO1P9WjTP9rkRSItIRuifV5Aamgib2i5CbEsmCfSh7fqilW8z5ORooFApERgZjENXj0OhSsWEXqPxdr2BMLE2g2e/BnBs7qnVWp63QCfxQMWrRo8eDZpLflOr1SIk18LCAnL5Yx5aLYwvMjgChiDQd/UZrJVAH7B3R5kE+p49e9C/f38R4k7fpRYtWoiCcG5ubvj6669FPjpVdaeIlMpgLNArwy7wHJgAE2ACTIAJ6BEBRVIG/ll5BwFnH8HKzhRVqluLVmV37l/CD2vHiZW82n0SenUYXWBVJNS3712D/ZeWiJ//s2sf+vbvpUcr56k+DwI5ag3ub7qC+PMPYeXtKHLO85sk0L99Ywpebd+/wGck1D9e9TVO3TqPOW98ge52LWBTxxU132yhVeG4yizQn8de8DMrLwEW6CXvzeLFi0Wbtays3I4eRkZGYoCxsTEWLFiAiRMnVprNZYFeabaCJ8IEmAATYAJMoPITIJG9f20Qzu0Pg42DGVw8rfImLQl0E2MzuDp6Yvb7W4osaOay1xH56D6y1Zn4bsoaTPluNLc8q/zb/lxnSEXhQjddRnZaFqyqORSZS0kCnS4mkf7StKGwsbDC/k/XIys5HXvSzuHozVO4ffs2kpOT4eXlhddeew3Tp0+HqenjFwDFCfS33noL69atQ2RkpPiFn1o40S/71EN50aJFIK/3559/jq1bt0KpVKJ3795YuXIl7O3t8+Z+8uRJ/Pbbbzh79iyioqJgbW2Nzp07Y+7cuahTp464jipK16hRo8h66ToKby8uxP3mzZv45Zdf8N9//4l+z7SW1q1bizB5+jO/UUivp6enmMdHH32Ec+fOgXJ13333XVBOriRgnuvm88O1JmAIAn1nb/Kgu5S4Zv/4WAzcVzYPunRD+s5u27YNgYGBoPQRX19fDB06FNWqVdOac0VcyAK9IijzM5gAE2ACTIAJGAiBgHOPhECnfPPq9R4LDlqeJNBbNOiGSwFHMHP8JlRzzxUbZBGPgjF9yTC0bNAdFwMOY1y/Bfh05kjUblZyzqGBoONlPCWBiD23EHkwENY1HfPyzvPfqjSBTtd+uWEudpzdi73T/4BLvDn6/DEOvQb0QeMmjWFpaYlTp05h8+bNeOONN7B+/fq825ck0Js1aybEdMeOHXHixAn89ddf+OSTT3Dnzh3hlevZsyeuXr2K33//XRSaW716dd59KdSWxDTlxnp4eODhw4dYvny58OwFBATA1dUVqamp2L59uwjJpWeMHTtWjK9SpQq6d+9erED/8ccfxTro2dWrV0dMTIxoHxUdHS1CguvXr583BxLoFBqflpaG4cOHo27duti/fz92794t5jxmzJin3DEe9jwIsEB/HtTL55ks0MuHK9+VCTABJsAEmIDBEVCrNdiywB9Xj0fC18+5SKE3SaC/2W8qdh9fgVYNe2BEz0/zOGw5tBBnru/F4JcmYO3ub/Fq67kY9no/DPmwgRAS06ZNE0V6qE8teTRGjRqFL7/8UuTgSiZVqybvYX4rTkiRB5I8olTlOjY2Fg4ODmjQoAGmTp2Kl156KW84td0hjyHlJJKHhXrkDho0SFT9ze/1NLgN1YMF5WhycG/FWdHv3K6BW7Ez1kagrz26Gd9t/xVLx3+PNvYNkWWuQeMJXWHuap13z1mzZoH+CQsLE6KZrCSB/vHHH4vQWMkor5VE0quvvirEumT9+vXDwYMHkZiYCGr3REbiW/p36bqgoCA0atQIM2fOFOeerKQc9OI86MXdlypTkzCnM00vASQjgf7gwQPhURwyZEjez6kgHXneL1y4oAcnhKcoETAIgd5rCBqU4kEPIA/6/u1lykGnKJV79+6JF13FGUW0kDedctIrg7FArwy7wHNgAkyACTABJqAHBB7cTsK2X/2hUmbDo5ZtkRlLAv2t/tMQHfcAZ2/sw0+T90Mmk4twwv8t6IMW9bvBy80Xq3fOwqiX5sOvXlu8MsYTfQZ3ESG5EyZMEF5JKtrz999/C+FAAkIybQU65RmSGE9JScH48eOF4CeRTqKjbdu2IjSZjEQThf6SiCEPZc2aNYUHlMJ+69WrJ0KQzczM9GB3DHOKmYlpuLviHDIS0mDt7VjsIrUR6FtP78a0jfMw/62v8UrNDlBnZMP7NT/Y1HWBQqEQQvjWrVsizHzXrl2ioBRZSQKdwmRr166dNyfqo7xkyRL8+++/BYpNUf9lEtx0fzpThY3C4DMyMoT3nF4c1apVCzt27BCXlVWg5783ecapiBzdl8Ly6eUTiTjJSKDTc0m85DcKd//jjz9EtWs2/SFgCAL9715D0cCx5BD3gIRYDNq/rUwCfeTIkQgJCcGZM2eK3VAS7j4+PkUKMT6v3WeB/rzI83OZABNgAkyACegZAco737cmEK7VrGFlW7QCe36BXtOzEb5eOhyfjPwVjXzbwf/eWfy84QPMGL8RYdFBQqBPHLwQLqYNcT9nO9b/tVSE5lKorWQk1pctWyZa47zyyivix9oK9OvXr4vWVOTJpNzgJ9n7778vxAj9cku/oElGVX/J80nPHzcut/AdW8UTUEWl4N6q81CnZ8PSw67YCWgj0CUP+m/j56Gjdwscv3wK6wJ349rtG6JoVH6j/PI333xT/KgkgZ6enl7g5Q1FgMyZM0d46vKfJTpDdJYpjL59+/biviSKv/jiC/zzzz/iJVF+o0rSJPLJyirQ6YUUzYPy3ymsPb9RPjuJFMlIoLu7u4uXUPmNPPgUSUDCnk1/CLBAf/Je0Qta+nucoqeKM6r9sGLFClH3oTIYC/TKsAs8BybABJgAE2ACADKSMpB0JwFpMWlQxamgyVBDZiKDuaM5LNysYO9rDwtXy+fGau/qQJzYHoo6LZ1F1fbCll+gd2o+CDN/ex1VXWpg7NA5WLF9mhDmVDju1NXdQqB/8sZimCTXwp9XJsLUwkgIm/xGebmUR0viZunSpeIjbQW6VGCLPIcLFy4Uxa8KGwkQCmcnr6V0//zXkIDp1auXEDvFWXZqJtKilUh/lIrs1CyQnDG2NIGFiyUs3G1gYs1t5HQ9rNTzXAh0lW4C/cv1c7Dj3D7s+3oTEmPj8eayj9CskR/GTHxPFEqjKAmK4KDzsmbNGvEnWUkCnYQ95ZpLJgn0+/fvi57KkkkCncJoO3ToIKJJ6OVReHi4yFmnSA8qEieTyUBh887OziK/nKysAr1Pnz44evSouC/lyNvZ2Yn7fvfddwgODi4gQKQicfTiIL+xQNf11D6f8QYh0Hu+qp0H/cDWMnnQqQf6r7/+ivfee6/YzaEijpMmTRIRJ5XBWKBXhl3gOTABJsAEmMALTSA9MR2Rx8OREBAPVXQaMhWZyMnOAWQAyIslMxJiz8LFAg51HeHeyQPWHo9zZysK3taF/rhwKBz1W7sW+8jCAv3QmY3Y8e9SfP/RTnyxcCD6d34PvTu+lSfQJ7+5FEZxNbDw0AC80rOH8CYWNhsbGyFqqHgVmbYCna4lD+UPP/wgRFSrVq2EF54qdVMIMdmjR49Ewa2SrFOnTqIAWH5TxaQi/koUkgJikZ6oEuJck5ktLpGZymFsaQozB3PYN3CBk58bLN1tKmqLDO45WYoM3F12BukxSlj7OBW7vtI86FTFveu0IbCztMXR2Vsxe/2P2HppLx5cvosqjR9Xb6Y8cSquVt4CXYruyP8caWFVq1YVYfOSQKde53R+i+uDXjgHPSkpCY6OjqKvM4ns/EZpHeS1z+8hZIFuWF8XQxDoO3poJ9AHHyqbQKeXcFQbIn/NiPy7Ty/GtmzZItJAKoOxQK8Mu8BzYAJMgAkwgReSAHlw46/FIuzwQyQFJSJHnQOLKpYwtTOF3FSex0STrUFmSiZUj9KQk6WBrY89qnbygHtHDxgV48kuL5hlFejJynhM/qkX6lRvhjuhlzH/kz1wtKtSZoFO+YHUyoqMwn+JW+EicVSpmtpDFfZe3r17Vwh/ajtFee3k9aRq2lStm0KAKcR34MCBoFD34oyKxFHxLzLah9jzEYg59RCpD5OhUWtg5mgh+nLLzXL3i6IeslKzkJGgEntj5WWLKu284NrWU4h3trIRoL0OWXMB8ZfCYdfQrdjWXyUJdKUqFR+tmi76oM97cxoGtumF2avnY/v1A4gIeQgHz9x8VxLC9AKHvM/lLdD9/f1FMTg6h1TdXTIKrSfPvdRGTfo5ef9obpQbn98KC3TKpSePORVGpBB1yeg6ihKhMF8W6GU7f/p0NQv0J+/WO++8I9KdTp8+LaJX8tu1a9dE6gkJeIqYqQzGAr0y7ALPgQkwASbABF5IAlGnI/FwfygUD1Jg7WUDcyfzUjmQd10RkixC3at29kT1PjXKVaTnFwHKe2448Xco6rVyKVYoFfag02IW/DEJN++eRr2arfC/0b+J9eWFuI9cDOPEWthMIe6WRUPcqZo2iYqJEyeK4ltkgwcPFqG65IXMb5RbSHmEhQV6/mso17dly5ZCpFP1ahJlTk5OaNOmjchzL8k0mWo83BOEuIuRyIhPg1V1e5jYmJbYK5q8v8rQZJg6mMOpuTuqD6gDudnjkOiSnkc9qOklAuXHl2ZP8oQWN+5JEQilPeN5fh599C4i9t6CuZstTGyKFuyTBPrQdn3RyrcZcpADpUqJwIhgHLx6DApVKj7o8w7e7/02ctQaHD9yDBN2zxBRFdQpgMJa6Zd3Cj0nkVPeAp3C1kmgU+cCCqull0Tnz58XXQSo0wD1ZM//AooiSKhdG4lu8gRSCzYS3MVVce/WrZsQIdTGjapSUys3Wg+dERLwLNCf50ku32cbgkDf3n2YViHuQw5vKVOIO6VLUcoHfQdGjBiBxo0bi82g/4/Qd59SoC5duiRSqiqDsUCvDLvAc2ACTIAJMIEXjkD8jTjc2xIE5UMF7Os6CA/spXuX8N6y8XksSKTZmNugvlc9vNV1NFr7thKfkec2OTBRhFFX71sTHl08y41ffhFgmlpT9EB3r2EDC+vHrc+khxcn0IPDb+Lm3TNo4NMavtVyPReSQH9/yEI4GTdAKHaIInGU6z106NC8tZBXm3LDKfSYxNSiRYvEf5OwoTZQ1AqLvI1UoZeEFoXwSgI9OTlZ9LfO36KNbkwC5ty5c6DK2VQpm4p6kfgh73r+1mt0LQl4uo+DvQMe7g5CzMkHwotuU8MeRnLKPwAu3L2Mt3+dWGjPrNGgWj288/JItK3dCsrQJPG5a3sveA+qmze2pE2rKIFOovSbb74RXiWKJKiMRoXiQtZdRHpsKmxqOReZoiTQpQ/kMjmszS3h6VwVzX0a49X2/VG7ak3xsSpagZxsNS7bhGLhpmWgCAsKCyfvGeWnNmzYsNwFOs2DXjJRnjjlf9MLI3pJNH/+fJGDTpZfoJPIpu8C9TGnyuySh704gU5pG5MnTxbfGWq51qRJE9FCcMOGDeKeLNAr4wl/NnNigV4yR2pjSC97qe2mVACR/p59+eWXsXjx4gIdGZ7Njjz9XVigPz07HskEmAATYAJM4KkIZCZn4Nbv/oi7GguH+o554dGSQB/YagBa+DSHWqNBWHwYtp3dDoVKgcXvLkKb2q3FM0mkJ/onwK6WHeq+0wDWnuWT50wilTyMFhYWeHArGdsXByArUyNEemErTqAXB0gS6KO7zUcj3zbo8ZYn+g/vKop00S9QlINLVay3b98u2qzNmDEDvXv3FiHpFOpL4e7Ur5aKa5G4pnZQJKwodFgS6OSNpPZqNJ7atlGYMOWSb9q0SVTzpcJdJOw3btyIunXrigJ1JPKbN28uhDn9Nwl4yuUd1LwvQnfcRmZSOmx9HQt4zSWBPqRNf7T0bSb2LCI+ElvO/I0ERSJWTFyINrVbQhGcKELhqw+sA5dWuT22S7LyEuhSESTaT7KSipCVNseK+px+mY7YHYCYE8EwdbKCmePTFUpUp2dBcS8Ojn4eqPFGc8gtir5kqqg18XOYwLMmYAgCfRt50B2Kr3Ei8QpIfIShZfSg52dN/7+gF2RkVI+EXtBVNmOBXtl2hOfDBJgAE2ACBk+Awtrv7wyGqYOZKPwmmSTQp786DYNbP/Zm3om4g9cWjES7Ou2w5L1FeddnKTOREpICz+7VUGdk0f7KTwJJYX5UfK2slp2tweYfb+DGqWjUbu4M+f97kaX7lFWgv9pqLgYP64Nhn1C4b7RoD7V3714kJCSI0HZqdUW9pUk0kyf70KFDIh+chDOFtNMvWRQO7OfnJ/6h8ZJApz+pcjWJchL+VMmaepxTzi95I6nwliTQqbjWvHnzxAsBCn0n8UrPp5cBY996DxmH4pHoHwv7+s6QmRTMI5cE+qwRX2FouwF5SO9FhWDAd6+hU/12+G38AvFChYrK2dd1Ru13/WBqV3I6Q3kJ9MJ7rg8CneaclZKOkA2XkXIrGlY1nMTLjrKYJksNxd1YWHrao9qQxsV64styP76WCVQ2AgYh0LsNR/1SBPotEuhH/ipTiHtl26vS5sMCvTRC/DkTYAJMgAkwgWdIIFuVjZu/XkOCfzwcGzsV8MY+SaDT47t+/TJsLe2w64sdYjZJqUlYeWQVjl79F/Fp8XBxdcHgIYPx7bffggqbSUZFp6j4FOVzf/755yL0lcKaKR+bwmUpxJuq11LLJwoJp17JVFCHPNlkhcNor/0XhbW/HMDJG1sRnuiPJMUjyOUmqOnREANfGg8fz0YFaP1vQV842Lrizb5fYtP+HxESfhPmZtZoUr0n+rYbiz5v10GDtk+upP7TTz/hs88+w++//44xY8aUuhMk7klsk5inns+ZmZmoX7++CCcmQS4Z5WIXrs5OnxXOYY+9EIH7W29Bbm4MC1erIs9/kkCnCzt8+QrsrGyxd1pum7azl89hy7m/cTslGI8SHonWWhSuTLnz5OXPb5JApzx0ehlx69YtUIVvylmWwqCl66Uc9J9//hmffvqpyKOmM0D7SBEA+VuB5c9Bl1rRFV5U4SJlpUKvoAuUIfEI2+UP5b04mFe109qTnp2WidT7CTB3t4FbV1+4tHvcAq2Cps6PYQLlToAFeumIKbWJXsLS/yekMPf8o6hrR2UwFuiVYRd4DkyACTABJvDCEIj3j8Od1QGidZqVe0HB9ySBTmL85Zk90LBaQ6z7cDVS0lIwatFbQqQP8OsPV7kzUtyU2PDPH6hXrx7Onj0r+jqTSQKdQsB9fHyEVzglJQVTpkwRn1HIN4WCU9EcylkNCAgQn2/evFmMLyzQ1WoN3nl1Cg4d24WGPm3hUdULKakJOHllF6hq+9fj/oCHa26+LxkJdJmRDJlZ6WjZsAfcnb1x2f8kboWewgdvzsbCNVOL7akujacK7hcvXgR5uSlMvTSjQj+DBg0Soe0UKp+RkSE87pTrS5XeSbSSHT58WIjXM2fOiPxcyWisldXjfbm75ipiToXDoZFLsbnjTxLoKWkKdPjqFTSqVh8bP/1d3H7O1vm4dfcO2jdvi8b9W4iXJsuXLxe/KBJ3Kv4lGQl0CuGna2h/KN+ecvRpHd9//73YP8lIoFOEADF6/fXXxRmgtnQUjUBjf/sttzgfWX6BTvtNUQPUwos4jx07VlxDree6d+9eGurn8rkiOB6RB+5AGRwHGBnBvIoNjK2LL9ZHIe3pj5TIVmTAytsBrh1rwqlVtRIL+z2XRfFDmcAzIGAIAn3ryyO08qC/enRzmTzoFIFFLzf//PNPkcJU2OjvYPo7t7jPnsHWlPkWLNDLjIwHMAEmwASYABN4egLhRx/i3uYgWHlZw8SqYA6sJNA/6/8pejfvjRyNBg/jw/DrviW4EnIFnw/8DK91GIHvdszDviv7sOnjjfB08AAVnPPuXxN3LIPQr18/kV9NedZkkkCn0G5q65TfqGI09QWnwmtPsuIKUYXfj8PRjWG4fSEWju4WcK5qCWVaEqYteRXN6nbF6P5T825HAj0+KQoTh/+A5vVeQmx4KpJi07HpwodwdrPB5SuXSoRJVdapcnXhqu1PGkSCnDzGcvnjUHT65YuKw1GUQGBgYN5QKcS9OE8KXZSdmomARReQFqmAXe3ie3BLAn3KoI/Rr2UvaHJyc9B/3bscZwIv4Kshk/FG52HimWkZKmSHq2DuYoX6H7QUYe5UuIgqetPLgi+//DJvbvTLIhnl2/fq1Uv8OxUTIyF948YNsRYpd5IEOnmFaB8nTJiQdw8quEcCnMQ/RRGQFa7iri8h7vn3OzNZhUfHg5F8O0YIcHVGNowtTCEzz62Qn5OlBnnNycxdrGHl7Qi3l31h6WH39F9cHskEKjkBFuhP3iCq3E5/F1LKFEUI0f/7ijP6rDIYC/TKsAs8BybABJgAE3hhCFDl9tDdIXBq4lykPVrhKu4SFAtTC7zR8TVM7Jkrvl6a0Q0ta7XEl0O+EP+dcCMOLi2qoP67DUU7JRJ05G0lkwQ6FVMr3P+VwtlJ5JGH+UntZYoT6HTfuMhU7F93F3euRIoicq7VrPDn0TlIUsRi5vhNeftJAj07OxOzx+5B1H0F/o+98wBvsnrb+N2kK92TDlpKoey9pzJEZMhQhooifwUUByo4ULYgMhwIAg6GTEVElkwRBJENMgulZbSU7j3TtEn6Xc/pl5J0Jl0k6XOuiwto3nHO75y8fe/zLFuZFEFt3XE89Eds37FVJHgrq1EWdspwfeLECYPXCLm3k0sjufSvXr0a06dPF7HsVFKHWnkCPfN+Gm6t/g8Uv2xft+Ccoq1oFveHc2aLCU+Ow+v9X9Gx2GbHZAIWgO9zQbCpay+s55Q9npIV0TxoGgl0cnsPCQnRuSV5PJDbO5UGGj26QPjTnJPLZmJioshur2nkHUD1fcnln8IbqJmDQKdxELec2AykBsci+36KKH1HQp0a5QmwcrKFnZ8znJt5wSHQTa/M+QYvMD6BCRgRAbMQ6H1f0M+CfvQXgyzo9MynEKmlS5ca0YyV3hUW6CYxTdxJJsAEmAATMBcCYT+HIGJ/ODzaeRYbkkagv/T4i+jRtLtwDXeQOaCBVyBsrQrcu5MzkvHEp/3LxEFxdJr4ao1AJ7f1oonhSBBSIjZydSZ3arIyk9WV6i5rWkkCna5FCdm2bftNJHfTbq4OPpj+0jZIpBZQq/KxYNNI2Fm74tUnvkUdP3u06umNrgP9sWjJZ6Kuc2nWa801yYJOieAuX76s1xKg6y1btkx4EZB1uuj1ydJMCeColSfQ08OSELrushB3Mq/i8ed0DY1AH9dnDB5r3g2KvFxcvHMZG/7+GeP7jcW7Tz+0aAiUH3MAACAASURBVCekJeKL35bhROhppOdk6IynT58+InO9ppFAJ2+IPXv26BxHpbYoUZ62mzsJdHoBJcu6dqPNDw8PDx03d3MR6NrjpDlWZuZCmaUA1BCWdGsXWbENML0WEB/EBEyUgDkI9G19xugl0Ef//bNBAp02oilpqMazzNinmAW6sc8Q948JMAEmwATMisCd30Jxb3fZFvSiWdy1ASSmJ+LJeQPQp2VvjO4+SnyUfjsNri3cEDi0ofg/JQgjEUdNI9DJPVo7WZjmmmR13bt3r4g1p8RqVEucEsStXLlSHFKSQB88eDCOHDkiEq9R9nRVjjWiwjKwdvNyxCU9wIcjt0Ktzhci/Yvfnoe7ixfWfLMTTTt6wqueg7guuXTrI9ANjUGnWtJkLSYrM8Xbe3p6inGTqzhZT7STwJUr0O8kI3TtZQp1hsy7oN9FW2kx6Kv/XI9v9n6Hla99hd4tewor/oglYxGbHIcXOj6LHqN6w6upr4gdp6RvJKS1a1+TQB86dCh2796tc8vSBLqzs3OxMIDaItDN6gHBg2ECFSTAAr10cPR7kJKiUkJUU2gs0E1hlriPTIAJMAEmYDYEoo5GImzrLdjXdYCVQ8kx6GUJdJVahd6zn0DrgFZYOfFbqJVUDz0J9Yc1RMORjYpxKk+ga59A8cgkbOklhjKgkwt8UYFOicjIGjF79mwhsrVb167dEB0VjSN//AdVnhpSKwmeGNIe/vX8cfLkvzrH6ivQNVnctRO8lbUYaMOAxKq22KXjKb6brM7aAp3qnm/evLlUK35OQhZufndR1D93DHyYGV/7/qUJ9Ny8XAz6bBRk1rbY/ckvCI25jRGLx2LWgA8wvMtgNH29A+x8CkrdUXZ2SmhXVKDXhIs7JUWiDQxKFLd+/Xqz+Z7xQJhAbSNgDgL9V7Kgu5Re1YPm9EZqHJ4z0IKekJAA2lju3r27KLNJXkfaeUo0a4U2TI2hsUA3hlngPjABJsAEmECtIZB8Iwk31wZTEK0Q6dqtrDJr2sd9tn0Bdpzdhe9fW4XW7q2gSM5BozFN4ftYXZGFluKsNQnEShPodBzVQ9cuyUb3oDJts2bNEpnTyQpfVKDTOSSA6RiygGsaHUex1OQ+TuW7NE1TAoyyj2s3fQU63Y8yzJNbPWVeb9++vc51yDJN1v4nnnhCJEKjPlMWdu0SavRyRi789Le2QKcM55RFneK3S0oalK9S48aKc0gNToRrq4cZ1vUR6HTMpmNbsWjHUnwxbj4a+TTE8EVjML33u3h+8Gi0eLeLiJWmEng0R0VLm5WVJI4S5lFt96pIEkf9pOz45G1Q1Fpfa76UPFAmYAYEzEGgb+2ln0B//rhhLu4kvDXP1NKmmj6nTWpjaCzQjWEWuA9MgAmYPAHKtq1KTYcyNR3qHIUYj8TWBpYuTpA6O8JCK6O0yQ+WB1ApAqocJa6tuIKkKwlwo0Rx/5+tmy6qr0BPy07DKyvGIzIxEv0a9kPLoJbw7umNiNj7ItEYid8JEyaIfpYm0MkSTpbb4cOHi+RxFOtNCclI7DZo0EC4S5OFoSQXd4pVP3nyJCZPnoxGjRrh2rVr+Omnn4RVggR1VQp0GgNdnxLfxcXFYdSoUcIKIpPJhNimzLyUmf369etCoGs2GCg7PcV1R0dHCxHu4+Mj6oNrC3SqrT5x4kRRmoyuT5ZkivvWLrMWuS8M9Mfe3wlWDg8TsGkWQVl10OW5Oeg3Zyg8nTzw20cb8cznY5CYnoRXh49Dsz6tcPbsWezatUtsDlCcfVELuqbMGmVmpzJr5NlAGx1Uu54S3mlvgmiXWSMOVGaNQhdofD/++GPhsUVj0OkDyjlASQRpw4Uy5lO5N9ps4cYEmIDpEGCBXvpc0e/B8gQ6nU2/x4yhsUA3hlngPjABJmCyBFTZcuTcDof8TgSUKWnIz1FAnVewA2thaQmJjES6M2QNA2AbFACpvZ3JjpU7XnUEHvx1H3d33IalvSXsvB8mH9NXoFNPMuSZWHtwLY5c+xvx8njY2dsJ6zVZQsmFT5OVvTSBThnOyU39r7/+Eu7sFJ9H4ozinskdnGK3qZUk0OPj4/H+++/j0KFDIsFcmzZtMH/+fFFPnI6vaoFO/UhJScHy5cuFlTcsLAzUfxKtJMJJwGpi7skCQn0hy3RsbKxw0yceDg4OoFJz2gKd4vKpNi5tapB1nZKNaX9O96VM7mE/XUZOYjacGrkVe8krS6DT+Sv3r8aqg2uwbPxi+Co98e3pNbgadwNKlVJkp6eYeYpB17DWrDJ6maRwA/ozY8YM3LhxA97e3qK/U6dO1VmMGi+Fr7/+WnxGcerkGUHjnTdvnk7ugZIEOm2AECM6j9ZBUWt+1a18vhITYALVRcAsBPrjL6JZOS7uN1Pj8Pw/WwxKElddzKvruizQq4ssX5cJMAGzJiBK/NyJQObF68iLS4AqSw6pvQwSmS0srDS1eJVQy3OgysqG1E4GK+86cGjfArZB9fXayTVrgLV8cHlZebi5+jriL8bBpYkrLGUFa8aQJmLPg5Pg0sQNzSa0hJ0Xb/4Ywk/fY+m7HrEzBDFH78HGww627hXjrEjJgTw2A9696iNwVHPOMK7vBPBxTIAJ6EWABbpemEziIBboJjFN3EkmwASMiQC5s2eeu4ys66HIS0iClYdbgRu7lquydn/pBV+VnoG8hGRxrF2LxnDs0pbd3o1pUh9BX1JvpSD0lxCk30kzWKSr89RIDUmBzNsOgcMawrubzyMYQe25ZW5aDsI2XEHKtXiRLM7K0cagwedl5iLjTgpcmnug0f/awsZNZtD5fDATYAJMoDwC5iDQf3nsJb0s6C+c2FxhC3pmZiYoxIvylxRtmhKc5bGu7s9ZoFc3Yb4+E2ACZkWAxDaJ88xLwVBlZMHGz1u4slM7GXwVwz+djq9fn4yxTzxVbNzHLl3EqIVzsHTsRIx/cxIcurRjS7pZrQ7DB5NwMQ73/rgrRLqdjz1kdWTlrgmyxGZEZMDBzwF1+/rDr1+9cs8xvGd8RlECGfdSEb7jJtJCkiDzsoNtHftyuQtPm4RsyGMz4dzYHQHPNIVTkBvDZQJMgAlUOQFzEOg/PzYWzZzLzuJ+My0OY05sMligU5WKxYsXIzQ0tFT2lDzVGBoLdGOYBe4DE2ACJkMgJ/wBUo+ehDIpFTb1fGGhVZKjPIF+/OpljPxsJr4a/TLG9B8Il749YBvobzJj545WD4GUkGREHoxAyq1kKLPyYOtpB2tna1jaWQoBKDwwclTIy8hFdlw2JJYSOAe5wO8Jf3h29CpXJFZPr2vnVSke/cG+MKTeSgIl+5N528PGVVbMXT1fnS9Ks5Ewl1hL4dTYHf4Dg+DYwLV2guNRMwEmUO0EWKCXjnjLli2gspqU/JIqflBejylTpsDa2hrr1q0T+VvefvttUW7SGBoLdGOYBe4DE2ACJkFAnZuL5D+OICf0HqwDfCGx0q1hra9AX/7aZAyv3wSyRoFwe/oJke29Io2SOVF5JGOp21mRMfA5BQTIBTrmZIzI7J4dk4XcjFyo5ErAgqqxWcDSVgJLB2vY1ZHBraUHfHr6wtad3aQfxfpRZuch9ngEkq/GQR6Xibx0BSwspZDaSEV3VAoV8pVqWDlaCyu7W2svePcKKDED/KPoP9+TCTAB8yRgDgJ9S8+X9bKgv/jvRoMs6NrlN5OSkkQSVEqQSoKdEoRSJZOZM2eKhKPG0FigG8MscB+YABMwCQLyW3eR8te/sJBKYOVe3BKmt0B/8z2MbN0R+UolJF3aYMnPG0WpqJiYGFEKauTIkaJMlqOjYyEXTc1o+gW8evVqcTz9UqH6zXTcV199JbJWU/ZsKysrsRv87LPPiutoNzqGymgFBwcLYU9ZpCnLc7du3UxiDsy9k0q5Emm3U5Edm4WcxByo81Rivdm62Qq3arKcWzsVL/Vl7lyMcXxkIU8JTkB2VDqyozNAc0dNamsJO19H8ce1hSfHmxvj5HGfmIAZEmCBXvqk2tnZYeHChXj33XdFRRAqK3rw4EH0799fnEQlJqmMJb0bGUNjgW4Ms8B9YAJMwCQIJB84hqzLwcItvaS65hqBPn/cRIx6rHexMZ2+GYxXvvocy998D88/1gcZYeEYuWkVLoXdEuWQaIf3woULog4nCed//vlHiG1qGoHesmVLeHh4CPFN9aapPNOSJUvELxcqp0VCm8pPURkqqmOtXVf5gw8+AJVhGjFiBKjUElngybWLSmwdOXJE1ELmxgSYgOEE8lVqYTkXAt1GKjZVuDEBJsAEapKAOQj0zT3Igu5dJrababF46aRhFnQqO7lo0SJMmjQJVF6TvA83btwoylhSW7NmjShhSe9FxtBYoBvDLHAfmAATMHoCakUuErftFVnbbfx9S+yvRqCXNxgS6C/07ofVv/6C6b9vwcL58/HxzJmFp1ESk48//hjff/89Xn/9dR2B3q9fP1F7WtutvV27dsLyvn///lJvff78eXTu3FnUXCahrmmUzZREP51/+vTp8rrOnzMBJsAEmAATYAJGSMAsBHr3cWhajkAPIYF+aoNBLu7t27cXhgkyUlBr1qyZeCcir0JqJNTpHYgMFsbQWKAbwyxwH5gAEzB6ArmxCUj+4y/k5+XBytO9TIH+xtPD8UTbjsWOuRZ+B59u/klY0Emgj547HWfv3EL0jVtwbhBQeLxcLhdW8l69ehWKbo0FfefOnRg+fLjOtfv06SN+qZBAb9GiRYl9mzp1KlasWIE7d+5AJtONXabNALKkp6Wl6bjVG/2kcAeZABNgAkyACTABQYAFeukLYdq0adi6dasIA6Tkq9988w3ovYhEOyViJY/F2bNnY86cOUaxmligG8U0cCeYABMwdgKKyGgk7z0qXFctXZ3LFOillVnTZHHXCPSukyfCSirFpVOnYRvgp3NNsmpTuY+bN2+Kn2sE+tWrV9GqVSudY0+ePClEe2JiIoKCgkCC/ZlnnsHAgQMLjxs0aBAOHDhQJmYS+YGBgcY+Fdw/JsAEmAATYAJMoAgBsxDo3f6Hpk5lu7iHpMfipdPrDbKgU9w5veO0bt26MHSQPAp/+eUXSKVS8Q5Fxgr6tzE0FujGMAvcBybABIyegCIyBsn7joidV0s3lyoW6GdgG1C3mEBXq9W4ceOGjkCn2HIS4UUbxaOTBf3o0aM4fPgw7t27h6effhq7d+8W7vADBgzAiRMnxP9Laz169ChmXTf6ieEOMgEmwASYABNgAmZhQd/U9RW9BPrYMz8ZJNBNbXmwQDe1GeP+MgEm8EgI5CWlIGnXn1Bny2Ht7VklAn30nE9w9m4oYsPuwlErrj0nJ6fQxX3fvn16CXTtDpG71ocffigyu5NgJ4v65MmThYs7ZYr39i57d/qRAOabMgEmwASYABNgAhUmYA4W9OoS6PQ+NGbMGJFvxxQaC3RTmCXuIxNgAo+cQL5ShcTf9kLxIAa29f2rRKCv/uVnTN/5M5YsXowPP/qo8JrkdvXRRx/hhx9+wGuvvVauQCfXdopZ126bN2/G2LFj8dtvv4mybZT8pHv37iJb/Nq1a4UngHaLj49HnTp1Hjln7gATYAJMgAkwASZgOAFzEOgbu7yqlwX95bPrDLKgkych/aHcPi+99JKoZuPk5GQ45Bo6gwV6DYHm2zABJmD6BNKOnUHG2Uuw9vOGxLp4LWpD6qA/170XMsMjMWrTd7gUGlKszFqXLl1KLLNWkou7p6cnyD29U6dOYneYkqCsWrVKxFlRDDuVF6FGSVKoJBtde9iwYULUR0ZGilJsZHUnF3huTIAJMAEmwASYgOkRYIFe+pxdunQJW7Zswa+//oqoqChRZo3CACl7O+Xo0ZS0NZZZZ4FuLDPB/WACTMDoCVAcesrBY1DLc2DtU9zabIhAH9G0DSxsrCHt3h4L1/6A7du3IzY2Vrifjxo1StQ1d3R0LGSiSRJXkkBfuHAh9u7di1u3bona6CTSn3zyScyYMQP169fX4UoW9ZUrV4J+WVG9dDqWhD3VUNdOKmf0k8EdZAJMgAkwASbABAoJmINA39BZPwv6uHOGWdA1kMgYQUYJEus7duxAamqqMGKQpyGJdbKwG0NjgW4Ms8B9YAJMwCQI5KvVSD18AllXbsKqjjuk9nYV6rcqW468uETYtWoK1/6PwcJIsoZWaDB8EhNgAkyACTABJvDICZiDQF/fiQR62XHiIekx+N/5igl07UkiIwUl1yWxTvl+6P9KpfKRzyN1gAW6UUwDd4IJMAFTIaBMTkXywWNQ3I+GjZ8PJDbFXd3LGos6NxeK+zGw8feB68DesHJ3NZWhcz+ZABNgAkyACTABIyXAAt2wiaGEvHv27BEC/eDBg0KcU3lbY2gs0I1hFrgPTIAJFCOgzFEhKyYb2fE5yMtSAhaAtZMV7L1lsPeSQWIpeWTUcu5EIO3f88iNjoO1lyekjvZ69UWVmYXc2EThHu/UoyNkjXTdz/W6CB/EBJgAE2ACTIAJMIEiBMxDoI9HE8eyLei3MsiCvtagJHEaVFS+9q+//hKifNeuXcjMzIS7uztGjx4tXNy7detmFOuKBbpRTAN3ggkwAQ2BrDg5Ys8nIv5SEuRJOcjNVEKdqxYfS22lsHawhL2PHbzau8O7owdsnA2zYFcV6Zx7kcg48x8UD2JhYSmFpbsrpDLbEi9PMet5yanIz1PCxs8bDp3bQtYwoKq6wtdhAkygBgmoVWqkRsuRFp2DrJRc5KvzYWUrhZO3LVz97CBzsqrB3vCtmAATYAIFBFigl74Szp07V5gkLiEhATKZDEOHDhUZ3Z966ilIjSzUkAU6f6uZABMwCgJqpRoP/onD/b+jkRaeCbKgy9xsYOVgCamNFMgHlDlKIdgVybmwdraCa5ATAgf4oU47t2Jlw2piUMq0DGScvwLF/Sgok9OQr1QKl3cLq4IX9Py8PKhzcmFhJYWlqwts6vnCsVMbWLoYb2mPmuDG92ACpkhAkaXE3TOJCD+XjJTIbORk5CFXrgLy84VHj62jJexcrOHX1hWBXdzh1ehhkkdTHC/3mQkwAdMiYA4C/aeOE/SyoL9yYY1BFnQqsUYivF+/fsJS/swzz8DeXj/vx0exCligPwrqfE8mwAR0CJAYD/n1LmLOJECemAOnQAfYuFiXKrrJYkWu7xkPsuEcYI96fX3RYJAfLCS6tb1LwkzZyjds2IC8vDxYWlpWeiYoI2heQhIUd+8L93US7fnKPHFdC0tLWDo7wsrLE7YN6onEckXrj1e6A3wBJsAEqp1A1PVUXNkdhZgbachKzoW9mzVsnaxgbScVzx1Vrho5mUpkJSmQrwbc69sjqKcnWg32hY195Z8z1T5AvgETYAImT8AcBPq6DhP1EuivXlxtkEBfvnw5nn/+edSpU7wCjzFOPAt0Y5wV7hMTqEUEyF30xuY7iDweK1xFXYKcEJcejWe/GFwuBW9nH/w4YAvsPG3RYLC/sKaX16paoGvfj8Q6ubOrcxTixxJbG0hktizKy5sU/pwJGCkB+k6HHInDlT1RiL+dCRdfWzj7yiApYzOQLO3xoRmwkklRv5M7ur8SCHs3GyMdIXeLCTABcyHAAt1cZpKzuJvPTPJImICJEiBhHrLtrkgE59rYSYhZea4cx4OPljqiv4P/wj83/kb/NgMxZ8QCJF1PhVOAA1pNaAy3xs5lkqhOgW6iU8DdZgJMoBQCYSficX7rfSRHZMGnhTOsZVJx5LXw85ixYTzeHjIH/duPKHb2pTunMWfz63ip3cd4+cVxeHxSkNFZ0o8ePYp//vkH7733nqgDzI0JMAHTJmAOAn1tu9f0sqCPv/SjQRZ0mtnk5GR89dVXIklcfHy8iEnv3r07EhMTobGwN2/e3CgWAVvQjWIauBNMoHYSoCRw/y2/gcQbqfBs4wqJtPzM7LdjwzDhu7HwcvbGure2wN7GHnnZSiTfSEPdnnXQ7u3mkFqVfp3KCvTs7GzY2tqC4pm4MQEmYL4EUqKycWRZKKKvp8G/rTMsrQvEuT4C/fLdM5i96TWM7zETXfwGoN2z/ugwyt+ovGlmzpyJBQsW4N69e6hfnytKmO9K5pHVFgLmINDXkEB38C1zym5lRmOCgQI9KioKPXr0AP3dqFEj3Lp1C4cPH0bfvn3FvZo0aYIBAwZg2bJlRrFcWKAbxTRwJ5hA7SRw79AD3PzlLmQeNpC5l5wBXZtMVk4mXlk5BokZCVj7xmYEejUs/PhBSBR+vrwBFxJPIzYhFp6eniIJyGeffaZjHdII9AcPHmDq1Kk4dOgQyI316aefxtKlS3Xik+bOnYtPP/1UZEZdvXo1fv/9d1D2T9qFpVIdixcvxp9//om7d+8iNzcXtPM6ZcoUkRWUGxNgAqZLgJ4J/3x/G9f2R8OzoYNI/qbdyrOgawT6O0PnoYlFL7j626HP243h3cR4EkRWp0Cn0kUODg6muwC450zABAmwQC990saNG4c//vgDx44dg6+vr3jXI0u6RqB/9NFH2L9/P65fv24UM88C3SimgTvBBGofAYo9P7fkGuIuJqFOe/2ysE/f8gHIvf3T5xYK93ZNS5enY/zKl5CakYLn+r+AzkM7ICQkBN999x2aNWuG06dPw8amIAZUI9DbtGkDf39/sWN648YNfP/992jVqhWoFIe1dcHLuEagt2zZEh4eHnj22WeRkZEhXELpHNoAGDFiBBo3bgyFQoEdO3bg33//xdq1a/Hqq6/WvknlETMBMyGQGJ6Jw1+GICNBAZ9mxUW1vgL93WHz0bPRYNy5+gDXLPciOPpcuRt6mmdUdHQ0PvjgA/HSSKE/VKeX3DCVSiXoZfK3334TNXwHDRokNhC13dTDw8Mxa9Ys/P3332JT0dXVFS1atMCMGTPEC6nmHkWni47v3bu3+HFwcLDYoKSfpaenIzAwEBMnThSbkNoeRGR99/Pzw9dffy36df78eTz55JOixjA3JsAEao6AOQj01W1f18uCPvHyDwa5uHt5eeH111/HvHnzkJSUJIw42gKd3hc/+eQTpKam1tyElXEnFuhGMQ3cCSZQ+whkxmTj/FfXoUhVwKVh+ValX/7dhOX7v8LIrs/j/aEf6wD7YvfnOHR5P77q9x1adW6BrjPaCHf5vXv3YsiQIUJ804NZW6DTy+6vv/5aeJ1vv/0W77zzDlatWoU33nhDR6BTWQ6ytGu/lJIgpyzw2rUzyepGx5J1ntynuDEBJmCaBP7bEYmzm8NFNvaS6pprBPr4pz5En9ZPFxvk9YiLWLRtKkigP9F2GE4eO4M1F2fhuZdGoUWrZmVu6GnEc/v27YXb5WOPPYbjx4+L5xWJY9p8pGcPbS5eunQJa9aswSuvvIJ169aJflCFChLjJKonTZqEevXqCZFOm4/dunUTop82LckDaPfu3cJziDYgqZGwphfZM2fOiGcZCW+yPJHAJ6G+bds28Xyk56Smadzj6X5Uvqh169YiDGjs2LGmOfncayZgogRYoJc+cfRMWrFiBSZMmFCiQKfNTxLoWVlZRjH7LNCNYhq4E0yg9hGIv5yEy9+HiBrn9t6yMgFcjbiMN1dPQLO6zfHda2thKS2oM06NRPHABX3QoUEnvNZ6MmydbdD27Wawr1NwTXp5HDhwoLA2UdO8/J46dUq8rGoaCW56SaWXYbJYUdNY0Hfu3Inhw4eX2kdybydLFrm9kyVr+vTpSEtLg5NT+RsPtW/mecRMwPgJ/LXsFoIPxCCwS8nePRqBXt5INAI9PiIVEkjR//3mqNuyICFbaRt6mmcUeeqQeNa0jh07inCbUaNG6Wwu0iYkbSCmpKSIur5XrlxB27ZtxTG0EVlaK83FnfpFIpu8jk6ePFnofUTXIXFPlnLyIGratGnhMzYiIkKUr3z55ZfLQ8KfMwEmUE0EzEKgt5mExuXEoIdmRmPile8NsqDT84o2Nb/55psSBTo9K8PCwsSmpzE0FujGMAvcByZQCwlEn4nH1dW3YOtuA1vX0ksQpWQmY9yK56FU5WH921tRx9lLh1ZyZjIGf16Q5KO09vjjjwsLFDXNyy+5OLm5uemcQi7u5D568+ZN8XONQL969apwf9du9BJLyUTIOh8aGipetrUbvbCS5YobE6gtBHLkSiTFZCMpVo5chVK4ZTu62MDD1w4uHpRY0cIkUOQpVNg98yoS7mTCr3XJ2c01An1Y15fRoVHPYuO6G3MT6/9aWmhBl6flIjUqB4+91hANH3crc0NP84wiLxwKn9G0t99+GytXrgRlX+/Tp0/hzxctWiQsPySaKaSH3NvJHZ2uQ8+o0jYKSxPo9LyjECB6kSWLuHYj8U+WdbJEvfXWW+Ij2gQl6zllQubkmSaxxLmTZkrAHAT6j63f0Eugv3b1O4ME+pw5c0QGd3p+NmzYULi4HzlyRDxLaXORwhLpWfrhhx8axepggW4U08CdYAK1j0DM2QRcWX0LNq7WkJVSI5gs0u+tfwMX75zH0ldWoXNQ12KgkjIS8fTCfni8eR8MDBwKqbUEjUcGFlrQ6QSKzSTrk7ZAp0Rv5Lap3UoT6LSrGhQUpHPsF198IeIt6QX2qaeeEg97cjsl6ztZvTgzcu1b07V1xHGRmbh+Nh63LiUiI0WB7Mw8KPPUQqDbyKSwc7SCb31HNO9YB007esDG1tKoUZGY3jPnOtJj5fBuWrIXjCEx6OTirsjOw9YDP+FiygFERN8tc0NPI9BzcnJ0rNcaQX379m3xgqlptElIbueU/4KyFFP7+OOPsWTJEvFM6ty5s3hGvfDCCzrPsdIEOrmxP/fcc2XO0ezZs0V8ukagu7u7i5dlbkyACTw6AizQS2cvl8vF5uKFCxfQoUMHnD17VnhR0rsgbYb27NlTxKRbWT300Hx0M8l10B8le743E6jVBJJCUnFpxU3xouroZ18iix8Or8T6v1fj9Sffwv/6TCzxGJVahQGf9UIL/9aY3W0hN1bcsQAAIABJREFUHHzs0OWT1rBx1s26rDm5Ii7uJQn0du3awdnZWWQE1W5kyaJdWBbotXp514rB5ypUOPvnA1w8Fo3YiAwhyp3cbWHnYAVLK4n4budkK5GVnofM9Fy4edoisLkreg2rj3qNjbfutjw9D3/MuYbUKDl8mleNQN/291ps/mcZBvd+Fs+9OrzMDb3SSkGWJqg1Av3EiRPiJVPT6LlFWYup1jm9eFJsOsWpa6zipV1v69atQsyTxUn7etqLmiz0mk0CTZI42iDgxgSYwKMjYA4C/YdWb+plQX/92iqDLOg0K/QMJM8gesZRLg8yAlHJtTFjxoiqPpoEwY9uBh/emS3oxjAL3AcmUAsJKFJzcXbRVVCyOLemzsUInL71L97fOBndGvfEly8vL7N+8KKd87Hnwg582uMLDBjeHx2ntiw8XqVSiXhwjTu75uW3tCRx5EL65ptviv5oXNxLEuhkkad4T43rPB1PiZgoORP9zQK9Fi7qWjTkrPRc7NsYihvn45GZlgu/hs6wd7Iq9XuqUqqREJ2N5Dg56jV2Rq/h9dHuMR+DidH3lzbFyI27uppanY+9n17H/f+SEdBBNwxGc09DLeiTV46EjcQe+3YcQlAPz8Kul7ShV1UCXZsPxad36tRJvKBS+A01yvJOZSiLPqvIEk7Pt4ULFwpLfHmNBXp5hPhzJlAzBFig1wznmrgLC/SaoMz3YAJMoBgBsq5d+eEWwg9HwbONG6RWksJjEtMT8OKykchSZOHdQe/DUVZ6srVeLfoiV5mL11aNQ1RKJIb3fRZ9nukFEubkCkqlz0hoU+ZOakXLrFECOYrdpBIbJK6pRJCmJFtZAp1ebOkFlyxNFMNEJZF++OEH+Pj4iEROLNB50ZsrAYo137M2BP8dj4GtnSV8Ax1FfPmtexfw5fpJYtgjnpyMAT3HFUOw//gm7Dy6TPz8x2XbMPGdUQZhqgmBTh36d+0d/Lf9AQI6uoiKEEWbwQL929GwtZHh35P/wCOwoD54aRt6lRXotCFpZ2dXzFWT3DspOzsltKSmiV2n5xV5BGkaWZXoWUiinmLOKau7dqNSk+QGSlmRqbFAN2gJ88FMoNoImINA/54s6PZ1y2QUmhWFSRWwoFcb+Gq4MAv0aoDKl2QCTEA/ArEXEnFtbUGCNaeAgpdWav/dPY+31pTs0l70yjs+3AdvF1/cv/wAe+7/jnMJJxEZdR8ymUwkaaPYS0pmFBAQIE7VvPxSKTRyaTp48KC4/+DBg4Xrk/bLaFkCnZLJzZ8/XyQXiY2NFUmZ6D4ODg6i5BELdP3WAB9legSO7bqHv3+/B4nUAnUbPNw80wh0K0sb1HHzw9y3HpYx1Ixy/vcvIiYhHHlKBSY//y3mLH0V7t52ekOoKYEeejwe/665A2s7KZx9ileZMESg9209FD9sXYb9Yevw/HPPo+8Tfcvc0KusQKf641RebcSIEaJMGwlp8vT5+eefRblJcomnRm7vVFaNMhvTRiO5d1KN9Dp16oj4TPqMhPj48eOFGygJ9uvXr4tNz8uXLxfGs7NA13v58oFMoFoJmINA/67lW3oJ9DeuryzTxX3jxo0VYm0slShYoFdo+vgkJsAEqoKAUqESVvSoE7FwbeIEK/uKJefIjpdDnqhAg8H+aPpcYJnu8FXRb74GE6itBKLupmPbiuuIvpeBxm3ddb5rGoHeoUU/XAz+C7MmbUE9nyaFqKLi72DuyufQscWTuBB8GKO6f44X/jccwyc01fs7W1MCPScjD/s/v4Goq6mo18G1WAZ6QwR6R6/+yEzNwRWrXTjw745yN/QqK9Bpc5Dc00mUR0VFiczqDRo0EBuHtIlIieM0jbyAfvrpJ8TExIh4TKp13rt3b/ExhfYsWLAAhw8fFtZ+ChMioT506FBQRnnaBKXGAr22Pg143MZGgAX6wxmpSEUJSmxK3pfG0FigG8MscB+YQC0mkHo3Q5RbS7mdDvfmLrC0lRpEQ0Hli8LS4dXRA+3ebFZqcjiDLsoHMwEmUCKBQ7/cxl/b7sA/yFlkZ9duGoE+dsh0/HFsNTq17I/RA6YUHrL9z2U4fWU/hvd9Axv3fIYXei1GhzY98OL7bQDrTFDSsn379omsuuT9MnbsWFE+TDurbmkC/dSpUyKe+vTp06BsvVTzdsqUKRg3rribvb5Te/1ANM79EgEqDufR4KGHj77n03FUsu3B5VQEdvVAvylNIHOq2CakIffkY5kAE6idBMxCoDd/G43KcXEPy4rCGzdWlGlB1+TaMHQlaLwtDT2vqo9ngV7VRPl6TIAJGEwg6lQ8wnZGIO1uBlyCHGHjUnIGdu0Lk1t6dlwOMh9kwaOlK5qPDYJrUOmx6gZ3ik9gAkxAh0BWRi5+WnAJ90NT0bitRzE6GoH+8tCZiE2MwNmr+7Hk/f2QSKTCOjtt6dPo2PwJ+Hk3xvpdn2LSiGVwtmiGnsPrYPLM4cLaS+XCyC2b3K937twp3LS3b99eeK+SBDq5dI8aNQrt27fHyJEjRfz1nj178Oeff2Lx4sWiHGJFmjJXhWOrwhByJB6udWVw8i6Iuda3qfLUeHA1De4BdujxagPUa19ywjl9r8fHMQEmwATKImAOAn1Vs8l6CfQ3b35rcBZ3U1o9LNBNaba4r0zAjAnEnEvA3X2RSApJg6VMCgdfO1gXsdDR8EmYK1JykRGVDamlBO4tXNBkZH24NGRxbsbLg4dmBATu3UjBL99cRX4+4OVf3KKsLdAb+LXE3FXP492XlqNlo+4Ivn0G32x6G7MmbUZkbJgQ6O+NXYH8xEDczd2OP478JErfaNffJrFO8dKUJ4JySVArKtDJWk7W9q5duwpRTi6KmkZiff/+/SLe28WlYmXd0uNzcOLH2wg/lww7Vyu4B9jDQvLwHqVNC5Vqi7uVAVd/O7QZWhctB/ro7cZvBFPNXWACTMAECbBA12/Sbt68ifj4eLRp06bCvxv0u1PFj2KBXnF2fCYTYAJVTCArNht39kYi6WYasmKyoVKoYGlvCak1ub3nQylXQZmtgrWTlah37tXRHfX714WNU/kW9yruKl+OCdQ6Ahf+jsKu1TdFUjdHF5ti49cW6I91GI55342Bj2cDTBz5Gdb8PguRsbfw6VvbcPLSH0KgT3l5JayzgrD+79dg72KJO3du61zz/v37IrkjCfVVq1aVKNBJlA8bNgy///47Hn/8cZ3zqQb4q6++ir1794okkBVtJNLPbg5H5OUUZCXlwtVPBsc6tiJJXtGmyFSK+ukUw+7VxEkI86ZPeLE4ryh8Po8JMAG9CZiDQF9JFnS7srO4h2VH4a0KWNC3bduGDz74QHhrUaP8GpQYk3JsdO7cWXhcUQleY2gs0I1hFrgPTIAJFBIgC3l6eCbiLycj/X4msuLkUOeqQYGgUhspHOvawTnQEV7t3WFXp3h2ZUbJBJhA9RD4d18E9v50C35BzqK8WtFWVKAfPrUFu45+hwXv7sKMZcPxdK8JGPjY/3QEur2yCRb9OghUAuzAwX3Fruno6IiePXviwIEDJQr0JUuWYNq0aWUOeN26dSJBWmUaubvf/CsOYf8kIOVBNjITFbC0logs72S1V+apkZulhKWNRGR9927qhLbD/YTFnRsTYAJMoCYIsEAvnTJ5Uw0ZMgSdOnUSG7Zz5swRoVQk0KnRzyjfCYVMGUNjgW4Ms8B9YAJMoFQCuZl5wnJOAt3awcrgJHKMlgkwgaohcOrAfexZdwt1GzhCVkLFhaICPT0zCR9+NQiNA9rjVvhFLJryB9ycvXQEul1eEyzeVrZAf+yxx4SrOrWiLu6aWt7fffddYdmvoqNt3rw5fH19qwQCua7fv5iMuLAMJN/PhiIjT7j8S60kcPa2hVuAPfzbuaJOkANbzauEOF+ECTABfQmYg0D/tuk7elnQJ4csNygGvUePHiJE8uTJkyIRqaenp45Ap7K5a9euRXh4uL64q/U4FujVipcvzgSYABNgAkzAPAhcORmLHd/fgKOrDVw8iidMKyrQadTLNr+D62Gn0KxBZ0wdV+Cmru3iLk1viM0nJsHeRYrbt3Vd3CMjI0V8+ZtvvomVK1eWKNDJtZ1izX/55Rc8//zzNQparVIjJ0OJfHU+rGylsC7Bq6BGO8Q3YwJMoFYTMAuB3uQdBNn5lTmPt7MfYPItwwS6vb09aEN38uTJSEpKKibQSZxT+UjKa2IMjQW6McwC94EJMAEmwASYgJETiL6Xjk1fXEFOthJ1GxRPyliSQL/74Dquh51E84ZdEFSvrY5AF0nikhogUr0DOw6uwW+//SbEtqZRzW6KPT906BD69+9fokDPzMwUceo+Pj44c+YMHBx0k9dRbKGHhwdbs418bXH3mAATqDwBFuilM3RychKlON95550SBTpZ0JctW4bExMTKT0QVXIEFehVA5EswASbABJgAEzB3Anm5KmxcfAXXz8aheSfPYqK3JIFeEhONBX38kK9R17kNeo3ywvh3nxaJe8ha3rhxYxw9elQkftOnzNru3btFmTUvLy/hAk+CnTL0Xrp0SWR2z8rKgqVl8Zh5c58vHh8TYAK1i4A5CPTljd/Vy4L+Tugyg1zce/fuDVtbW1EVpKgFXalUiozu9evXx759xXOhPIpVxAL9UVDnezIBJsAEmAATMEECpw9GYt/GUDi5WsPNy05nBIYK9JHdPkevx/vif5+0Q0Z2EmbOnClejig+kFzbX375ZXzyyScicY+mlVQHnT67ePEiFi5ciBMnTiAlJUW4L1Ls+fDhw4Xo1y6/ZoLYuctMgAkwgXIJsEAvHRFV8xg6dKhwcR83bhw6duwoEsJ5e3tj9uzZIh6dsrr36dOnXM41cQAL9JqgzPdgAkyACTABJmAGBDJSFdi67BpunE9A47busBIlEA1vsfczQRb5fqMa4rEhAYZfgM9gAkyACTABHQLmINCXNXpPLwv6u2HfGGRBJ1ArVqwQZdby8ii5Z37hxi15WC1dulRs5hpLY4FuLDPB/WACTIAJMAEmYAIEgs/FCyt6QlQWglq5QWopMajXqYk5iAnPQLtePhj1VgvY2LL7uUEA+WAmwASYQAkEzEGgfxM0RS+B/t7tpQYLdEIWHR2N7du349atW1Cr1WjUqJHIfUJeWxQuNWzYMKNYWyzQjWIauBNMgAkwASbABEyDAFke/tkTASq7lhSTjYCmLiWWXSs6Gjov/kEWkuPkaNrBA8MmNEOdulwn3DRmnXvJBJiAsRNggV6xGdq2bRsWLFiA69evQ6VSVewiVXwWC/QqBsqXYwJMgAkwASZg7gTU6nycORSJs4cfIDIsHU5uNvD0tYONrLg1nIR5WmIOYiOzYOdgiaDW7hgwJgh1/HQzrps7Mx4fE2ACTKA6CZiDQF/acCqCZOWUWZM/wJQ7X+tlQaeEo+S+TmU83d3dMWbMmEJX9v379+PDDz9ESEgI3NzcRJm1OXPmVOcU6X1tFuh6o+IDmQATYAJMgAkwAW0CkWFpOL4nHA/C0pAYIxdxfTIHK1haScS/qSSbIlsJBxcbeNa1Q5vu3ug6wB+2JQh5JssEmAATYAIVJ2AWAr3BVDSU+ZcJ4Y48ElPuli/QKfHbgAEDhCs7ldukBKL0byqpRvXOyWpOru1Tp07FxIkTIZPJKg6/is9kgV7FQPlyTIAJMAEmwARqEwGVSo2IkFTcupSEmIgMpCXlQJmnFgl4bGRSePk7wL+RM5p18ISLh21tQsNjZQJMgAnUGAEW6Lqo+/fvj+DgYJGdnap6pKamYvTo0Th9+jQUCgXmzZsnxLm1tXWNzZG+N2KBri8pPo4JMAEmwASYABMokwBZzTNSc5Gbo4JEAtg7W3MSOF4zTIAJMIEaIGAOAv3rwPf1sqBPvfdVuS7u5Lb+3nvviTJqmnb27Fl069YN06ZNE6U5jbWxQDfWmeF+MQEmwASYABNgAkyACTABJsAE9CDAAl0XklQqxfr16zF27NjCDxISEuDl5QWqiz5o0CA9qD6aQ1igPxrufFcmwASYABNgAkyACTABJsAEmECVEDAHgf5V/Q/0sqC/H/5luRZ0iUSCzZs3i8RwmpaUlARPT09QfHrfvn2rhHt1XIQFenVQ5WsyASbABJgAE2ACTIAJMAEmwARqiIA5CPQv6n+IhrblJInLicSH4V/oJdAnTJiArl27Fs5AZmYmpkyZImLPmzVrVmxmXn311RqarbJvwwLdKKaBO8EEmAATYAJMgAkwASbABJgAE6gYARboutzIgm5Io8SmXAfdEGJ8LBNgAkyACTABJsAEmAATYAJMgAmUSMAsBHrAR2hQjgX9LlnQI5aUa0E/fvy4wSulV69eBp9THSewBb06qPI1mQATYAJMgAkwASbABJhALSNAlRyQmQh1cgTyM5Ogyk6GWqWE1NIGEns3WDi4Q+LRABYy51pGpvqHywK9+hnX1B1YoNcUab4PE2ACTIAJMAEmwASYABMwUwLqtBioIi4gOfEO4jJjkZabgZR8JVQWFrDKV8PNwhrOts7wdvCBc50mkAZ0hIW9q5nSqPlhmYNAX1Jvml4W9I/uLy7Xgl7zM1B1d2SBXnUs+UpMgAkwASbABJgAE2ACTKBWEchXq6COuIDUiPMISQrFfakasTIHZFhbQ23xMA5YqlbDJTcH3tmZqG9hiyaezWAf2A0S3xag+F9ulSNgDgJ9sZ9+An3aAxbolVotprxYKjVwPpkJMAEmwASYABNgAkyACZgxARLnqtDjuB9+CtczH+CWsxuyrKzLHbGLQo4m6Wlo4xoEr6BekJA1vQyR3rt3b3HNY8eOlXvt2nqAKWsuTd9ZoBesXrag19ZvMY+bCTABJsAEmAATYAJMgAlUgoDq3llE3DqMC9nRCHH1EBbz8Mvh2DBlw8OrWgC2DrbwbeKLHs/3QIMODcRnVioVWqUkoJNrI3g1HwSJT/GyV5qL1LRAnzt3Lj799FMdMm5ubmjUqBFef/11/O9//zM6q785CPRFZEG3qVfmiryruI+P2YJeiW8tAFNeLJUbOZ/NBJgAE2ACTIAJMAEmwATMkwDFnKdc+h0nE6/jsnudQnd2jUBvN6gd6retD7VKjeToZFzccxHyDDleWvKSjkjvlJKI7r6dYN9+JCxsnUqE9agE+pdffgkvLy9Q8rvExERs3boV586dw4IFCzB9+nSjmlhT1lyavi+s+zECyxHo9xT38UnUIo5Br8zqM+XFUplx87lMgAkwASbABJgAE2ACTMAcCZBgVV7bi3Nhh3HKyUHHrV0j0Id8MATtB7cvHH5MWAx+fO1HBHUOwouLXyz8uXtONh5TAK2aPw1po8drRKDn5uaK+1hbl+yOr7Ggh4WFISgoqLBPCoUCDRo0gIuLC4KDg2t8aol7dnY27O3ti93blDUXC3Td6WQX9xr/apnODdVZmVAmJUKdnop8RY7ouIWNLaTOLpC6eUBi72A6g+GeMgEmwASYABNgAkyACVQJgfyMBMSf34Kj6bdxy8VD55qlCXQ6aMmwJZA5yTB502RxTtKDJBxdcxSR/91FrkKJRo2aYNIbb+Ctt97SuWZJFvSvv/4au3fvxs2bN5GWlgZ/f3+88MILmDVrlo7wXr9+PV555RXs27cPJ0+exMaNGxEdHS0ssG3bti2RR2kCnQ5u1aoVpFIpLl++rHPu/fv3hVv8gQMHhLW9bt26GDNmDGbPng0bG5vCY/fs2YN169aJ+8fHx8PV1RVPPfUUFi5cCF9f38LjwsPDERgYiBkzZqBx48b44osvcOvWLSxZsgTvvfeeWQr0z30/0cuCPj16IVvQK/NNNuXdnMqM25TPVSbEIfduGPIe3AeJdDWJ87y8giFZWUFiYyvEuZVfAKwbNoKlRx1THi73nQkwASbABJgAE2ACTMAAAlROLfjKdhyxAdJsbPUS6Nlp2fjy2S9Rt1ldjF8xHslRyVjz5hqolCr0HdwWndzd8e+1ZPx98iymTp2Kr776qvC6JQl0Hx8fIWxJMNvZ2eHff/8VLugvvviiEOGaphHoLVu2hJWVlficEtKNHDkS9eqVHO+sEejkzk4iWWwmJCXh559/xrx58/DNN9/g3XffLbzH3bt30a1bN3H9CRMmCKF9/vx5/PTTT6KPe/fuLYxZHz58OJRKJbp27Src50NCQrB69WrQeK5cuQJb2wKeGoFO44uNjcWbb74pjiGx3qdPHxboFy+iffuHHhoGLF+jP5Qt6EY/RTXXwfy8POTcuApF6E2oEuMBiQQSRydY2NrCwtJKdISOIWu6OiMdUKsh9agDm8bNYNu8NSysCo7hxgSYABNgAkyACTABJmC+BJTBh3D65h787e6uU0pNCMv/TxL31FtPofWTrZGvzhdi/MjqI4i4GoEBkwegy7NdsP3T7Qg+HizEeuNGddAvKxetWj6L4e8uEFboGzduoGnTpgJiSQI9KyurmKs3WbDpT2RkpLBgU9MI9ObNmwurq0YAlzU7JSWJo+MlEgnoM7LSa7fBgwfj+vXruHTpEiiZnKatWLECkydPxsGDB4VQp1ZSv48fPy7GSBsA5AUgOP6/BZ1EP7HQdrUvqe+mbBTV9H2Bz3S9LOgzYj5nC3plHi+mvFgqM25TO1edq0D2mX+RezcU+XI5pF7ewlJeViPLuiouFhYyO1g3bAy7Lj0gsbZB/fr1xUOGHojcyieg+SVAcUXcmAATYAJMgAkwASZg7AQU53/BofBj+M/Tp1hXi2Vx//8jrGyt0HVkV/R5tY8Q7YueXgS/Zn54+euXgfx89E1KRPdmQ3AqyQ69evXC4sWL8dFHH4mzy0oSp1KpkJGRIazSJGTpXHJ9Hzp0qDhXI9CXLl1aomt4Saw172YbNmwodDsnC/rhw4eFVXzOnDnCdZ1aamoq3N3dxbU/+eQTncslJyejSZMm+OCDD4SLunaj9z7qtyYenjLEkys+ue5T0wj0YcOGYdeuXeUuCVPWXJq+f+Y9Qy+BPjN2AQv0cldEGQeY8mKpzLhN6dx8tRrZp45DERIMSCWQenrplI5Iz87G6r0Hse/MOdyOikK2IheuDg5o1aA+BnXphNGtm8POyhI2TVvArlsvBDZoUCMC/ejRo/jnn3/EA5GSdZTXNA867eMcHR3Rpk0bvPPOOxg1alR5l6iWz1mgVwtWvigTYAJMgAkwASZQTQTkZzbh4IOTuOLhXewOGoHedVRXNOrSSLxT2tjbwLO+J6xsCrwtM5Mz8dWIr9DpmU4Y9M4g8bPHE+LweLMhSPXuDE9PT0yaNAnfffed+KwkgX7o0CFhLb9w4QLyNKGY/98bEtYvv/yy+J9GoFPs95AhQ/QiUlYM+htvvIEff/wR165dA1nlyQ2+S5cuZV6X+kJ9ohYaGoqPP/5YiP3MzEyd80igU3w6Nc17a1F3/9JuZMqaiwW67qyyi7teX1PzPkgRegPZZ08iP1cBqZePjjgPuR+JUXMXICoxCYO7dka3Fs3gZGeHhLQ0nLwWjCOXrmBwl05YP/4lkUDOrnMPqPwCRPIM7YQY1UFw5syZoszFvXv3hNW+vKa9E0lxR7RzSS5QP/zwAyixBz0Q6cFY040Fek0T5/sxASbABJgAE2AClSGQe2Eb/rz3Fy54PkxqprleWUniNMcUFegW+fl4IikRXZsPQ2qd9kKgkxBetWpViQL9zJkz6NmzJzp37oxx48bBz89PvHdGRUWJGuVk5aa/tQU6CeJ+/frpNeyyBDpZs5955hmsXLlSxIVTXyj+nDYURowYUeL1KXa8RYsWwmJOMeTktk7GIbKaU/w8bWI8//zzePrppws9ULWTxH322Wfl9tscBPp87xmobx1Q5ljDcyMwiy3o5a6HMg8w5cVSuZGbxtmUBC7z8D7kRUXCsl59WEgkhR3PlMvR/e2pIAv6jnmz0L7RwzITmoPuRMdg/5nzeHvYYCgjI2BV1x8O/Z+GxK54+YeqJlJRgU7ZMLUfdPQwp4clJQqhTKA13Vig1zRxvh8TYAJMgAkwASZQGQLKm3/hXPAuHHFzg0rr3ZGuqY9Ap9ro2i7uDrkK9JOr0KrNKJyKzMHjjz8uspV/+OGHJQr0KVOm4Pvvvwe5kMtkssKhkFV9wIAB1SrQf/vtN4wePRqLFi3CtGnTkJCQIJK9vfbaa6JPZTVyvackcX///XehVwAdL5fL4eDggLFjx7JAZ4EOtqBX5ulkBufm3LyG7NMnYGFnB6mjk86Ivt2xBzPXbcCq997Ci/36ljtaVXqaiF9vN2sB+jz5ZOEDhmJrPv/8c5Hw4/bt2yI5BtWQpAcZZcCkXUNN04jVq1evCov2li1bhPsPxRPRQy8goGBXjXZFNa5C2h0r+sDT/qysnciOHTuC7kl9JZclys5J7vMk3qlGJrkuUdbOoi5MZLmnXVtywaKx0C6qk5OTyOA5f/58nbFRX2gnmGKgyHLfsGFD4eJ0584d4aKlHYOubwmOcieFD2ACTIAJMAEmwASYQBUTUEVeQsiV7ThqmYckWzudq+sj0OmE7fO2I/hYMCasnIAu/g7oa+WBem2fwzMTpoiSaGUliaOYbnr3ojJlmprgFItOidiOHDlSrQKdssBTMjfaDOjfv78YO933xIkTIi66WbNmOjxycnLE+yW9H1I2d3KzpzBN7Uzs9B5I78DkDaDJ4VQbLejzvPSzoM+O4xj0Sn2l2YJeKXzVejIJwsw/9yI3LASW9RsUE5MDPpqJS7fv4P6vG2GjR4Z2imVXRtxD+8++RJ8BAwsfMFQLkrJwUow3/U3u7/RQo4cUZcEk4VtUoJNgdnZ2FruMVFqCEmZ06NBBPPyonT59WiQPoZ1IErweHgU1OJ988kmxi1lSK+1BRw9Nqp1J/aK6mF9++aUo00E7sLQhEBcXh7Vr14p+0IOX4o00jQQ6nZednY3nnntOjI82Ikhgr1mzBuPHjy88lq5LO8FUVoPcmCjZCGX3pHtQLU2PLB2ZAAAgAElEQVRtga5vCY5qXSB8cSbABJgAE2ACTIAJlEAgPzsVyec242jyDQS76Zbb1VegU2b31W+sBlnThz/VHJ3qt8DBK9E4cvTvcsus0fsgGW/IxZ2szmSB/vXXX6FWq0Hao6pc3OndTfNeSdZ6cpOn91cS17QRoDEyUZm1Hj16ID09Ha+++iqopBsZpKhu+fbt20XfyL0+JSVFJI0jd/y3334blAuJxDqVZKPja7uL+6eeM/VycZ+T8BkniavMk4kFemXoVe+56uwspO/bCXVaCix9CkpRaLeA58fB39MD/377sA4lfS5XKJCdo9A51t25wPqujIlC2+nz0Oepp7Bh02bxM9rRpMyaRWPSKd6bHlokVMlKTU1jQafdRRLfmgcfWbTJnSk4OLhQIFfUxZ2SbVCWTU0MOsWx79ixo/CXQUnlL2iTgYQ5xRxRzLq2QI+IiBDj0I47atu2rRgTJQ6hRg9kKvdBD2yq06kZL9W7pBqO9AtFW6DrW4KjelcIX50JMAEmwASYABNgAiUTUN74E5duHcRJOyuk2jx0M9dXoNNVkyKTcOqHQ7hz9QHkCiUaNWosYrnfeustHcNRSUniSPTSO1xYWJgobUaGoIkTJ4p3raoS6Nojp3c38gAl93bygNR2rafjYmJihMcoCXjywCSLOdVQpxJsJMY1xiTSRuQBQMntyMhDYp9qvtPf2lWQaqMFnQV6wYpjF/da/NTNi41G5l8HAKghdXUvRsJt6Ch0btoEB5foJqZYvmM3Zq3bqHN80u5tsJRKoUpOQpupn6B33yew8ddfi12ThDolyCDRTjUhadeTRGrr1q11BLp2vUj6gOpKkpDVzsBZUYFetFP0wCWX+eXLlxfbRCDLOO3KknimY8jCTg9WbYGuUCjEQ1m7kbv75s2bxeYDNfolQlZz+hm5Rmk3stSTR0FJZdbKK8FRi5cvD50JMAEmwASYABN4hATys1KQcWk7TsZcxH9unsiTSg3ujV1eLjqnpaJLvZ6wbfcMLKweCn2DL1bLTzBlo6im73M9ZullQZ+bOJ8t6JVZ76a8WCozblM4Ny/qPjKPHAQsLSF1Ll6mrDQLemR8Am5HR4shLv99N45euoJCgZ6WijbvfoTeffpg47bfCjGQMKXdQYrvJnGu3Y4fPy6SgVDTWNBDQkKEC5CmaXYRKS6H4nOoVVSgk0AmsU3WeXItolgh+lvTyD2Jrk1JQMitXbvRTii5MWkaubhTZk5yudduRRO/USIRstrTbim56ms38gwgDwFtga5vCQ5TWGfcRybABJgAE2ACTMA8CaiiriPu5kFcSL2Na66GiXQS563TktHJoyVcWw+BxK3s7N3mSbDqRmXKmkvT9zkesxFgVfY6iMiLwKeJ81igV2bpmPJiqcy4TeHcvOgHyDxyAJBIIHVxLdZlfWLQ31j6LX4+cuyhQE9NQZv3pukIdE22y4EDB4LKm3l7ewsXb1oblP1SO7FbaWUtNAJd22WpogK9aBb3ogMnVySKKyLhTFZ7ioWXSCRYuHChSOhGfdEW6JQkjtzWyxLodO706dNLfJhQHfdly5YVCnRDSnCYwjrjPjIBJsAEmAATYALmSYCMC+qIC4i/8w+updzGLQdHJJG7u1YC4GIjz8+HT3YmmsjlaOXRHK5Nn4TE+6FRxjxJVf+oTFlzsUDXXR/s4l793xejvYMqNQUZh/aAYtEt63gX66cmi/v3UybjhSd6lziOogJdGR+Lth/NEVncN/z8sziH4rbJjZ0yuJPQ1TSK5aY4o4oKdEowR+XSDK2DXpZAT01NFXFMs2fPFtZ87UY1LsmVvSIC3RAXd0NKcBjt4uKOMQEmwASYABNgArWCAIn0/NgQZN87jdsJIYjIS0eszB5p1jbItrQSYp3qnNvn5cIlNwc+8mzUl3miQZ3msAnqwZbzKlol5iDQZ7vrZ0Gfl8QW9EotG1NeLJUauAmcnK9SIWP/TuRR/fKAwGI9zsiWo8fkqciQy7Fz3my0DWpQ7JhJX3+LX44+tKDnURb3TxcXZHHfsEEcT1ZzWgeUxIOSYVCjuG7K1E4lNCoq0DVu43Ttdu3alUtcn2QbZL0mizmJfyp5oWnHjh1D3759Ra30igh0yvxJSeJatWpVbpI4Q0pwlDtoPoAJMAEmwASYABNgAjVAID8nHerIy8iKu4X4jBikK9KRqZRDma+GtYUEDlb2cLJ1hpdTXdh6N4PErzXHnFfhvJiy5tL0nQV6wYJgC3oVfjFM8VLyC2eQfeEMpJ6ekNgWT8xxM+I+Rs1dgJjkFAzu2hndmjeFo50dEtLScDr4Jg5fvARfdzdcW/sdkKuAKjGhQKD3f6qwzBrFn1MyOKoRSdZ0EqsUS+7g4CCEe0UF+l9//SXKqlGStRdeeEG4zZOIrlNHt9yHZl70Eeh0LJXBOHnyJCZPnoxGjRqJuHlyrad4cxLwFRHodF0qC0dZP8srs2ZICQ5TXHPcZybABJgAE2ACTMB8CeTnypGfEon8rGTky1OBfDUgsYSFnSss7N1h4eoHC8uC6j3cqo6AOQj0WW5z9IpBn5/8KcegV2bpmPJiqcy4TeVcZUIcMo8ehCo9TZRa05Q10+5/enY2Vu89iL2nz+J2VDSyFQq4OjqgZWB9DOnWBS/07Q2ZjbUosSZ1ckHbD2eid9++hQKdrvXtt9+KP/fv3xdJ1ajEWvfu3YXArqhAp+uSpZvEM7meU6ky7WsVnQN9BXp8fDzef/99kVmdyp21adMG8+fPx6ZNm0CW9IoKdOoP1T2nhHCRkZFo2LChSBxHce1krddOEqdvCQ5TWWfcTybABJgAE2ACTIAJMIHqI2DKmkvT9xmuJNDrlwkpIi8cC1JYoFdqJZnyYqnUwE3kZBKF8rP/Qn7tEiQOjpA6OVeo5yTw8zMzYNu6PWSde5Qo9Ct0YT6JCTABJsAEmAATYAJMgAkwgTIJmLLmYoGuO7Xs4s5fdpEkLvPoIeRF3IW0jhckdvYGUaHzVfFxsKrfEA59+ht8vkE344OZABNgAkyACTABJsAEmAAT0CFgFgLdZQ7qlWNBv08W9FS2oFdq+ZvyYqnUwE3sZHJ1zz79D/IeREDi6AyJq1u5VnBRWiMlGeqMNFj5BcCuey9YepQc/21iOLi7TIAJMAEmwASYABNgAkzAZAiYsuYqtKCzQBfrjS3oJvO1q/6OKpMSIL94FnlR95Evl0Pi4irc3i3+P/O6pgeU/V2dmQF1agosZDJY1a0HWYeusHT3qP5O8h2YABNgAkyACTABJsAEmAAT0CFgDgJ9ustc1LMsOwb9vjIcn6fO5SRxlVn/prxYKjNuUz03PzcXOTevIe/eHShTk5CflVUwFCurgr/z8gp2duwdYOniBqvAhrBt1goW1pyN01TnnPvNBJgAE2ACTIAJMAEmYNoETFlzafr+sfOnegn0RWlzWKBXZrma8mKpzLhN/Vx1jlzUR1clJ0KVnAT6PzUqxSZ1c4fUzQNW/gEllmYz9bFz/5kAE2ACTIAJMAEmwASYgCkRMGXNxQJdd6Wxi7spffMeUV9F+S+1GrCwEH9KKsX2iLrGt2UCTIAJMAEmwASYABNgArWegDkI9GmO+lnQF2ewBb1SC96UF0ulBs4nMwEmwASYABNgAkyACTABJsAEaoCAKWsuTd+nOcyDfzkx6JHKcCzOnM0u7pVZU6a8WCozbj6XCTABJsAEmAATYAJMgAkwASZQEwRMWXOxQNddIeziXhPfGL4HE2ACTIAJMAEmwASYABNgAkygmgiYg0D/0GE+/KVlZ3GPVIXji8xZbEGvzDoy5cVSmXHzuUyACTABJsAEmAATYAJMgAkwgZogYMqaS9N3FugFK4Ut6DXxjeF7MAEmwASYABNgAkyACTABJsAEqomAOQj0D+z1s6B/mcUW9EotI1NeLJUaOJ/MBJgAE2ACTIAJMAEmwASYABOoAQKmrLk0fZ9qRwI9sExakap7+DqbBXqllpQpL5ZKDZxPZgJMgAkwASbABJgAE2ACTIAJ1AABU9ZcLNB1Fwi7uNfAF4ZvwQSYABNgAkyACTABJsAEmAATqC4CZiHQZfPhV44F/QFZ0OVsQa/UOjLlxVKpgfPJTIAJMAEmwASYABNgAkyACTCBGiBgypqr0ILOAl2sFLag18AXhm/BBJgAE2ACTIAJMAF9CChzVUiLyYE8NRf5asBKJoWTty1kzlawsLDQ5xJ8DBNgArWQgDkI9Cm2n+llQV+aM5PLrFVmjZvyYqnMuPlcJsAEmAATYAJMgAnoQ0CtUiM2JAMR55MRezMdOel5yJWrgPx8SK0ksHG0hLOPDAEd3VCvgytkztb6XJaPYQJMoBYRMGXNpen7uyTQJWUniXugvodlLNArt7JNebFUbuR8NhNgAkyACTABJsAEyiaQFivHlZ0PEHk5FWlRclhILWDrZAVrO6mwmCtz1VBk5kGRoYS9mzXcA+3RYpAvAru6QyJhizqvLybABAoImLLmYoGuu4rZxZ2/1UyACTABJsAEmAATeAQEIi+n4MLW+4i9kQZreyu41pPBWmZZYk/U6nxkxOUgJTIbrn52CHrMEx2e84eltfQR9JxvyQSYgLERMAeB/o6Nfhb05Qp2ca/U+jPlxVKpgfPJTIAJMAEmwASYABMohUDUtVScXn8PcTfT4dnIEXauD93W07JTsPPkTzgXehxxqdGwlFrC36MBHm81CP3bjETy7RxY2UrQ7ElvdHoxALv37MLVq1cxd+7cYnf7+uuv4ebmhv/97388F0yACZgxAVPWXJq+T7ZegLrluLhHqe/h29wZHINembVsyoulMuPmc5kAE2ACTIAJMAEmUBKBrGQFji4NRcTFZPi0cIaN/UOr+d3YEMzZPAmZOeno03oIGtdtiTxlLv67cwoXwv5BE7/WmPPCKmTeg3CF7/xiAOavex9btmxBfn5+sdv5+fkhKCgIx44d48lgAkzAjAmYsuZiga67MNnF3Yy/qDw0JsAEmAATYAJMwPgInNlwD1d2R4ns7I51bAs7mK3IwuTvnkWWIgMLXl6Lhj7NdDr/16WdWLZnNro164ePR3yFyP9S4NvSBVvvLMK237fWqEBXqVTIzc2FTCYzPsDcIyZQCwmYg0B/20o/C/qKPLagV2qJm/JiqdTA+WQmwASYABNgAkyACRQhkBotx5+Lb4pY8rqtXXQ+3XlqA9Yd/hJvDp6FgR1Hl8huyfYPcSL4IJa+9it8rBti9tYJCE28XOzYe/fuITCweDbkgIAAhIeHFx6/YcMGrFy5EsHBwZBIJOjatSvmzZuHbt26FR5D1vc+ffrgxx9/REZGBlatWiWusX37dgwfPpznmAkwASMgYMqaS9N3FugFC4kt6EbwheIuMAEmwASYABNgArWDwNU/onB2YzicfWU6cec0+mk/jUNo1DX8Mu0kbK1Ktkxfvnsasza9hucefx0v9n4Lhw78iSMxmxHy4DI2bdpUCPGZZ57Bzp078c4778DLywszZswQnzk4OBSK6g8++AAUoz5ixAj07t0b2dnZWLduHe7evYsjR46gZ8+e4hyNQG/ZsiXkcjnGjx8PJycn9OjRA23btq0dE8ejZAJGTsAcBPpblvpZ0Fcq2YJeqeVoyoulUgPnk5kAE2ACTIAJMAEmUITA38tDcX1/DOp3cRNl1LTbC4t7wMPZG99O+r1UbhnyNIxZ0hPdmz2JT0Z/jaR7WVh9ai5O3j5okIv7+fPn0blzZ3zxxRcgoa5pmZmZICHu4+OD06dP6wh0d3d3hIaGiqRz3JgAEzAuAqasuTR9f9Pyc/halF0HPTr/HlYpp3OSuMosP1NeLJUZN5/LBJgAE2ACTIAJMAFtAnkKFf6YeQ0JtzNRt42uezsdN2xeWzT1b4PFr2woFZxKrcTw+e3QtkFXzB+7GpmJCizbOx1nIv40SKBPnToVK1aswJ07d4rFkX/88cfCkp6WlgZHR8dCC/q7776Lb775hieVCTABIyRgypqLBbrugmIXdyP8gnGXmAATYAJMgAkwAfMjQNnb980NRkaCAl5NHIsN0BALOiWKmz56KRSZSizZ9hHORR42SKAPGjQIBw4cKBMyubpTHLvGxX358uWYPHmy+U0Mj4gJmAEBcxDob+hpQf+OLeiVW7GmvFgqN3I+mwmYH4Gc9DzEXE9DWpQcGXE5UOaqILGUwMHDBk6+Mng3c4Kj18OMxOZHgEfEBJgAE6g4gfIEuiYGfeu0U7CxKvlZeuXuGczcNFHEoL/U5+0KC/QBAwbgxIkT2L17d6kDohhzytKuEeirV6/GhAkTKg6Az2QCTKDaCJiy5tL0nQV6wfJgC3q1fU34wkzAfAhkp+Qi5M9YPPgvBWnRcuSk5UKZmw8Kn8xXAxJLC9g6WQpx7tvaBU2e9Iarv535AOCRMAEmwASqgAC5uO+dfR1xoRnwK8HFfcep9fjp8Fd4++k5eKrDyBLv+MXvH+Gf6wewdOJWBPm2KHBx3zcDZ8IPlWhB9/f3R8OGDYvVQSdLOLm4x8TEwNvbu8zRsUCvgsnnSzCBaiZgDgL9dal+Meg/qDgGvVLLyZQXS6UGziczATMhEHkxGdf3RCEmOB1Khaog87CbNaTWksIER6o8NeRpeUiPkUOdm486TR2FSG/czwsSiW4SJDPBwsNgAkyACVSIwN/fhuL6vpKTxGUrMvHWqmegyJOLOuiB3k107nH0yh9Yumu6qINO7u3UEu9lYtP5JTh6cyeSk5Ph6uqqc07Tpk1hY2ODK1eu6PycEsB1794dr7zyCtauXVssYV18fDzq1KkjzmGBXqGp5pOYQI0SMGXNpen7a9KFeiWJ+1H1CSeJq8zqMuXFUplx87lMwBwI3D4ejyu/RyIhLBNugfZw8LQp9hJXdJwk1BNCM+DsaytEepuR/mjQIFCU8Fm/fn2VY6GXSCojdPToUSQkJECTxCgrK0tkJt6zZw+io6MxbNgw7Nq1q8rvzxdkAkyACRhC4NreaJzZeA9O3rawd7MpdurtmBv4dMsbyMrJRN82Q9DItyWUqjxcvHMS50OPo4lfa8wdswoOMmdhMb9/IQUhkqNYsfdTjBkzBgMHDoSlpSWGDBkCe3t7vPTSS/j5558xZ84cNG7cWJRZo8+oTZs2DUuWLEGXLl3EM9LDwwORkZFCkNO1yQWeBbohs8vHMoFHR8CUNRcLdN11wy7uj+57xHdmAkZNIOpKCs6su4fE25nwaeUMK1tpYX/JyvPHua04fesoohLDhbXHUeaMBt5N0bVJH/Rp9TRSQvJg72GNtiP9MXBSt2oT6PTyuX37dsyaNQsBAQFo1qwZOnTogJkzZ2LBggXiBbRFixao93/snQd0VNXXxXempE56QhIIJPTee1FEuhRRQURRsACKioiKYgcVBUEUxa6AIkWkfTQp0qT3GkqAkBBI78lMkplMvnVv/hMzJCQDA0lmsu9aLmDy7nv3/O55yJ5z7jm1aqF79+6VmjkXRwIkYP8E0mJ12PzZWSRFalGjhWeJX3qmZiVh1d6FOHhhB+JTr0OpUKKmf110bz4A/ds9CrVSLUGJ9HZRD6TNiBr4ecsMrFy5Un5RKcR1REQEQkNDpeAeN24cdu/ejYyMDPn35JUrVwpBL1++HPPmzcOxY8eQm5sr26u1b98eo0ePlmKfAt3+fZIW2gcBexDoYxSfIqiMNmsx+RH4ycgIulVea8vOYpXhnEwCNkxAFIPb8eUFRO5PRFALLzNxHpVwCe//MR6J6XHo3Oh+NK3VGq5OGqRlJeNU5GEcvbQXnRrdj7cfmY3oo6kIaOSOdmOC4V/bQ6ZZ3ukhzk62a9cO69atM7t1p06dIPr5nj59+k4/kvcjARIgAasIHFh0BSdWX5NZSR63WVgzz2DE1aOpCG7piZ6TGsLdnwU6rdoUTiYBGydgy5rLtPbnLBToP1OgW+ettuws1lnO2SRguwTEmfPDf0TCxUsNjyCXQkN0uVq8+N3DyMrJxEcjf0CD6k2LGXk9OQr7z23Hw11GQQh9ke7edGB1dBlXt9T0eBHx0Wq1MiXzVoZCoZBpnYsWLTKbVqdOHVSvXl1GjThIgARIoDIR0KXl4p85F3DlYJLsfuHsXhARt3TkG/NlXRBXHzU6jAxFg+4FZ8U5SIAEqi4BW9ZcFOjmfssU96r7HtNyEiiRQK7OgK2fnsXVwymo2d7bTFSv3LsQP2+ZhVcf/Ai9Ww2xiGDsmTS8uWkYevW9H4uXF4hokV4peuu+88478kzk559/jvPnz8uzkBMnTsTChQvlmclTp04hMTFRVhgW5yNFyrqHh4e8x4cffoipU6cWW8P8+fNl0aMbx/bt22WavRgi2i6eKf6HkJeXh1atWsm1DBgwwCKbeBEJkAAJWEsg5mw69v16GdfPpMGvrgYaX8syjER7y7hzGXDSqNCkbyDaPVYLCqXC2uVwPgmQgI0TsAeB/oyDZSnuv+Yzxd0qd7VlZ7HKcE4mARslIM6e7/zqgujCCO9a5q3S3pg/CuHXz2D5m3uhVjlaZKFo0Tbu5wG4p8u9WLVlmZlAb968OWJjYzF+/Hh57lGI9R49esgz5PXq1UObNm1kRWLx94gQ3iJtfefOnfIeJ0+elP89+eSTshLxCy+8ID9v3bq1PEv56quvwsfHR55NF6N3794ICAiQbYVEeyHx5wceeEB+AbFkyRIcPHhQfinw2GOPWWQXLyIBEiABawkIcX54SSSun06D0lEJnxBXOLmpSrytSGkX581To3XwCXVD/Xv90WZoTSjVFOfW7gPnk4A9ELBlzWVaOwV6gScygm4PbyRtIIE7SCBsYwz2/3JZinNnD/O0y0dndEU1zyB88/xfZk/M0WcjW68z+8zTtaDVjzEvH0/N6o1Obbti/e4VZgJdrVYjLCxMivGiQ1RgvzHVXUTVRdGivXv3onPnzoWXC4H9xBNPFEtxF8WRgoODzVLcr127BpH6PmbMGCnUTUNE0YXIFz+PioqCSJvnIAESIIHyIJCRkI0Tq6Jx9XgqUq/pINLXxd+9jq5KwMEBeblG5GQYkKs1yDPrfrXd0GxgdYS08ymzq0Z5rJ/PIAESqBwE7EWgB5ZRJC42PwKMoFvpc7bsLFaazukkYJMEDv4WgaNLolCzvU+xHuYDp7VC45ot8fnTC81sW7F3AX7ZMtvss7XvHYNSURAJGjmzF9o26oTNRwvanJlS3MtqfWY0GmXVYb1eL38V4vqrr76SbdVM41YE+ty5c2UbtkOHDsnqxkXHt99+K9sQiaJyour7rQxxfj4/X/5bmv9gvhVwvJYESEASMBrzkXAxE5GHkhB7Nh3aVD30ujxZjV1EyJ01Kvmlaa22PqjZ2vumUXbiJAESqLoEbFlzmdY+Gp/CEoG+AExxt8rTbdlZrDKck0nARgns//Uyjv95FSGdfItZcLMIenxaDK4lFbTtEWJdVHIvKtCfnNkbrRt0wJbja8wE+qRJkzB7trmwFxeIdHNxJlwUeMvOzjZbhzh3/v7779+WQBep9N99912pOyP6qYs0+9KG+EdzZGQawk4nICYmE9eupUOfa4RKrUD16u4ICtKgcVN/1KnjRcFuo+8Bl00CFUXAmGdERnwOxPEgEU1Xu6hkz/Sbpb5X1Dr5XBIggcpFwJY1FwW6uS8xxb1yvVtcDQlUOIFDv1/BkcWRqNnOBwqlg9l6LDmD/sXqd7D1xP+ZCXQZQW/cCZuPmEfQhQj/+OOPzZ4RGRmJJk2ayAj3888/L391cXGRxdz69esno9yiQJxp3EoEXdzvhx9+kL2C3d3dS2Qtzr2Ls+s3GxERqdj89yVcOJ+IuNgsZGXp4eiogFKlQF5ePnJz8uDiqkJAgAb16/ugd986qN+g+JcdFb7RXAAJkAAJkAAJkIDdELAHgT7Kwgj6QkbQrfNbW3YW6yznbBKwTQJn/y44g+5Vs/gZdFMV99eGfIKeLQeXaOCNAl1Eg56a1Qed2nbD+t0FZ9eLVnG/UaCLFHZRyT0iIsIsDV1UeW/UqJFVAl1E619//XXs27dPFpy7lSFSULdsvozt/0TgYngyNO6OCAzSwN3d0SxKLqLrmZm5iI3JQnp6DurW88a994ag3wP1oFLxbPutMOe1JEACJEACJEAClhGwZc1lWjsFesFeM4Jumc/zKhKoMgSun0rFzi8vyNRK7xDznuTanCy89P0jEL9+/OQPqBfUpBiX2avfwT9FIuhZyTl4/peBuKfrvVi12byKe0kRdFOV9cuXL8tWbKYhWqctWLDAKoEuovP169eX7dbWr18PUaSu6IiPj0e1asX7CQtxvnrlOfyzNQLx8Vmo38AHGk3ZVey1Wj02b16BQ0e+xZQpP2LatGcp0qvMm0RDSYAESIAESKD8CNiDQH8KnyKgjCJxcfkR+I0RdOscy5adxTrLOZsEbJOAIScPW6aHIepQsiwUJ1LIi47I+It4f/F4JGckoHOjHmhSsw1cndyQlpWM01FHceTibvi6V8P8iZugcFAg5nQa3to8DL3698TiZb/LW5UWQb948SJE+zWR2j5u3DhZUX3t2rVISkqS7dOsSXEXz543b55ssyai8aKlWvXq1XH9+nXs378fZ86cgRDxN47t265gxfIwJCXp0KSpH5T/6zmckBCJHTt/R9TVM0hPT4Cjowu8vAIRGtIC99wzAh7ufjh8ZANWrf4MAx/4GC++NBz9+ptXrLdNL+GqSYAESIAESIAEKhMBW9ZcprU/aaFA/50C3TrXs2Vnsc5yziYB2yVwZv11HF50BU4aNTxruBQzRJuTibUHl2LfuX8QnXQFos2au4sHagc0RJfGvdCz5SA4q12gS8tF0sUsvL9vBPoO7CUj4GUJdPHzf/75B2+//basqO7q6ooBAwbg888/l9FtawW66f6zZs3CgQMHIFq6if7orVq1wogRI+R/Rcf1axn49ptDOHc2ES1bBxSKcyHKf5O7GIMAACAASURBVPn1FTg7a9CmdX/4+FSHVpuG2NjLOHd+D54c+Rnq1G6No0c3YsWqT3FP13fRtUt3jH2hHWrX9rJd5+DKSYAESIAESIAEKh0BW9ZcFOjm7sQU90r3enFBJFDxBHIy9dj5VTgi9iQgsJknHF0L2qXdysgzGHHtWCoCm3ig+8QG8KrheivTK821i/84hTWrziO0tic8PZ0L17Xw98m4cuUEJk74HZ6e5mnxOTla5OcbpXg3CfTHhs+AIac2+g+oh2eea11p7ONCSIAESIAESIAEbJ+APQj0JyyMoP/BCLp1DmvLzmKd5ZxNArZNIOZMGvb/fAnx5zMR2MzjlkS6EOcxJ9PgEeSM1o/WQoOeATYJIylRi9mf74Oo3N68hbkIn/PVSKhUjnj5xV9Ltc0k0Ec/NQvHjh3B5YgtyNVnoG3bthC911u2bGk2X6vVYsaMGVi6dKk8CuDp6Smr10+fPh3BwcFm14q0/48++girV6+Wafr+/v546KGHZGV8L6//ovSjR4/GwoULER0dDdHabtOmTbK/8sCBAzFnzpwSz93b5IZx0SRAAiRAAiRQRQnYsuYyrf1xIdDxX/2hkrYyDhFYTIFunZfbsrNYZzlnk4DtE4jYl4hjy6KQcCEDnsGuUnDfeCb9Riu1yblIvJgJr1ouaNwvCM0frFHmnMpKav/eaPz801FZqd2/mnnBvAW/vYGIiGN45uk5CKnV/KYmmAR6jRqNYDAYUTO4K1q19sPKlb/Aw8MD4eHhUKkKMhRyc3NlD3Zx1v7ZZ5+VZ/GjoqLkuXnRFk78fern5yevTUlJQceOHZGYmIixY8eiTp06OHfunOzz3rhxY1mp3snJSV5rEujiy4CaNWtKwR8WFobvv/9ePkP0nXd0LLvoXWXdJ66LBEiABEiABKo6AVvWXBTo5t7LFPeq/jbTfhIog4Co6n5q1TWIiHpOpkGKdFdvR6hdlVJ4i0isIccIXaoeGTE6wAEIaOwhxXnde/1tVpwLLKtWnMPSJafRsJEvnJ3N0/xFevsv8yfCaMxDUGB9hIQ0R82aTVCvbntoNN6FVE0CPSioPsY8+x1On0rCsOFN4OxyUUa7RTX5Bx54QF4vztmLs/e7du1C586dC+9x/PhxtGvXDm+88QY+/fRT+fmLL76IRYsWSdFet27dwmvXrVuHQYMGSfEtiuwVFeiPPvooli0rqKQvxtdff40JEybISP4LL7zAd4EESIAESIAESMBGCdiDQB+BT1GtjAh6PCKwhBF067zUlp3FOss5mwTsh0B2hh4X/onD1cPJSI3WITtND312XoGB+YDSSQFndxU8glxQo5UXGvYKhHvAf+e1bZXErz8fw9o1F9CuQ1CJXzREXzuH3buXIvziQWRnZ0ozFQolOnYYgv79XoRSqSo8g/7g4NfQof2DOHTwOnr3qYMRT9SDj48P5s6dK6vKi9GmTRsZyRYi+8Zxzz33QKPR4NChQ/JLEZHOfv/990txfeMQFfD79++P5cuXyx+ZIuh79+41E/45OTkyIi/uvWHDBlvdJq6bBEiABEiABKo8AVvWXKa1U6AXuDEj6FX+dSYAErCcQK7WgNiwdKRd0yEzPhuGXCMUSge4+TnBs7oLqjVyh5tPQVq1PYyffjiKDevD0b5D9VLNEYI5KSkaly4fwe49y5CcfA09738G9/cYXSjQxRn0+vU74PCh67ivRygmTOwoRf+HH34oK9OLISrW63S6mz6rVq1asg2c6NcuKs+XNu69917s3LnTTKCLM+viS4GiQ6S4GwwGnD171h62jDaQAAmQAAmQQJUkYA8C/TELI+hLGUG3zsdt2Vmss5yzSYAEbJ3AwvknsGbVObRtX3IEvST7RKu12XNGwNXFA69NWloo0J8e/QXq1mmLwwdj0O+Behj3Qlsp0Iu2jXN2dpZR9GnTppWITvy8W7duiI2NRVBQEIYMGSJT3UsaokicSIsXwxRBT05Ohrf3f+n34mcU6LbupVw/CZAACZAACUAeeRMFaI8cOSL/LWFLw7T2Ry0U6H9SoFu3vbbsLNZZztlVnUB+Xh5yYpKhT0qHPjUT+XlGOCgVUHm4Qu3rAacgXyjUt96+rKpzLU/7N64Px6LfTskWa24ay4uozfvuOcTHX8HUD7aaCfTgGq1w/lwSRjzeDEMeblRMoAuxrNfrZbG30kZeXh58fX3RqVMn/P3332UiYYp7mYh4AQmQAAmQAAnYNAFb1lwU6OauxxR3m34VufjKSMCYq0fmmSvIuhCN3LgU5GmzkZedC+QZAYUDFM6OULo6w9HPE24NgqFpVhtKF/tJC6+Me3K7azpxPBY/fHsEUADBwR5mt7l46TDq1G4tz5wXHcnJ1zH3m1Hw862Fl178xUyga1wbITvbgGfHtEHHTgXV7YtG0EUBOFEkbv78+TLqXXSINHpRsV2cPRdDFID76aefsHXrVnkWvegQAj4tLa0wnd0k0G9WJE5UiR8/fvztYuI8EiABEiABEiCBCiZgDwJ9GD6FfxlF4hIQgeWMoFvnbbbsLNZZztlVkUBOTBJS9pyGLiIGhnQtVJ5uUGpcoHR2FNXDAKMReTm5yMvMhiE1E0o3Z7iEBMCrc1O4hAZWRWSV2mYhpmfP3IdjR2PQum2gWaG4r74eJQvDNW7UFQEBdaRQT0y8imPH/4ZOl4EnHp+ORg07/3cGfdRsZKXXROOm/nh9cme4uzsVE+iiaFvv3r3x77//YujQoTKdXa1WIyIiAmvWrIEQ2KLHuRgiXb1r1664ePEinnzySZnWJoS5+PPKlSvl2fbnnntOXntjmzVRQE60WRMt2Zo2bSoLz5laslXqDeHiSIAESIAESIAESiRgy5rLtHYK9IKtZQSdLzkJ3CEC2kvXkbz9GHRR8VB5uckIuYMQ5TcZIiKqT86APjENTsF+8O7aHO7Nat+h1fA2d4rAxg0XsXzpGbi4qVGjhnvhbcPDD+JM2E5ERp1GenoCcnN1cHPzRq2aTdGt63DUqtVMXmtqszZk8Cdw1zTGw480lunt8i/gGyLo4jMh0r/88kssXrwYFy5ckAI9ODhYRsmff/55NGtWcF8xRJR8xowZWLFihSwe5+LiAlFIrm/fvvJsekhIiLzOJNCjo6MxadIkmRYv/G/AgAHyWWUVnLtTLHkfEiABEiABEiCBu0PAHgT6UAsj6H8xgm6dE9mys1hnOWdXJQLZ0QlI/PugFOfOwf5QuhakrO89ewLDpr8hf//O8OcwfuCjxbD8uG45pi77SX6+dsESDBz1WFVCV+lt1Wr1+G7eIezdEy37oWtu4Sy6yTidVo+wM4lo37E6xr/UHh4e5XukwSTQxfl2lYp1Dyq903GBJEACJEACJHCLBGxZc5nW/rCFAn0lBfotescNl9uys1hnOWdXFQLGHD3i1uxB5ukIONf0NztPbhLozmpHhAZUxz+f/lgMS993xyP8ehRy9LlYMvkzDH33ZajcXasKPpuwM/xCEhb8egLnziYWiHR3ywvGabP0OBuWiHr1ffDkqBZo1rxaudtMgV7uyPlAEiABEiABEihXArasuSjQzV2FKe7l+urwYfZIIO3QOSRtPyYrsjv6e5mZaBLoAzvci3UHd2HTx9+hWUjdwmvOR1/B/VPGYlDH7lh7YCcWjp6MgaMfh0/3lvaIyqZtEgXjli8Lw9mzifCv5iqLxikUDje1yWjMR0xMJmJjMlG/vg8eHtoYHTrWqBAGFOgVgp0PJQESIAESIIFyI2AfAn06/MooEpeICKzE2zbZTs5SZ6BAt5QUryOBEggY9QbELtuOrAtX4Vo/2KyImLjcJNBnPP0K5qxehMGd7sMHj48rvNPHS37CX3u2YvLQ0XjjlzlY8OTr6Nm9BwKH90BiZhreffddrF+/XhYEE2eLRTGwKVOmyHPJRcfhw4fx/vvvY8+ePcjNzZXnlF9//XUMHz7c7Lpdu3bho48+wvHjx5GZmYlq1aqhQ4cOmD17try/aZw5cwZTp07F9u3bkZ6ejtq1a2PMmDF49dVXoSjlXL29O8nlyylYu+Y8Tp9KQFKSDr6+LvDycpIt2JRKB+Tl5UNEzFPTspGYoIO3tzOaNPXDoMEN0aChb4XhoUCvMPR8MAmQAAmQAAmUCwF7EOhDYJlAX02Bbp1P2bKzWGc5Z1cFAtqIGMSv3gPkG+FYzbuYySaB/vmzr+JSzFWs3LMNh+f+AaVCCaPRiPYTR2Jgh3vQpFZdTPppFha9+D4612oMVddG6D7yIVy7dg0vvPACGjZsKNtprVq1Co888gj++uuvwmft27dPFhDz8vKSRcQ8PDzwxx9/yG8W586di5dffllee/bsWbRp0waNGjWSQt/T0xOiaNjmzZsxc+ZMWRFcjP3796NXr16yMNmoUaPg7e0thfqff/4p1/Ltt99Wha29qY2isvv+fdE4cvg6oiLTkJ6ei6ysXBjz8mVE3c1NDXcPJwTX9ECbtkHo0rUmXF3Nv1Cp0gBpPAmQAAmQAAmQwB0nYMuay7R2CvQCt2AE/Y6/HrxhVSIg0tsTNx+Wqe2mwnBF7S8q0NvUbYSeb4/Dojc+QY8W7bHz1GE8PvNtbProW5yJuiwF+uLXPkE7TXV8fWEnvl6yAEuXLjWLgguB/P3338sq3KJStxgdO3bEqVOnZNus0NBQ+Vl2djY6d+4sq4ALES5E9ldffYWJEyciLi5ORs5LGqKyd4sWLWTLLRGNL9p6S0Tkv/jiC/kcIfKr+jAYjLhyJVWmsCfEa6HX50GlUsDP3xVBQRqE1vaCWm3eI72qM6P9JEACJEACJEACd4eAPQj0By2MoK9hBN06J7JlZ7HOcs6uCgSEOE/59yRc69cosaVaUYH++H390efdF9Cgei18M34KXv7uM5yJvIRtn/2EZbs2S4G+5M3P0FblhwELPoLRWSV7WhcdUVFRsnWWKZItxHZgYCCeeeYZ/PLLL2bX/vbbbzICvmzZMtk/e+HChbLdloiAjx07FkplcfF48uRJtGzZUrbeeuKJJ8zud+LECRlZ/+abb2QLLw4SIAESIAESIAESIIHKQcCWNZdp7RToBb7ECHrleKe4ChslkLDhAFL3nYFbw5olWnCjQP9x4wrM/GsB9sxegK6vjcarD43EiwOHmwt0x2po/tk49O7bF2vXri12X3d3d3Tr1g0bN26U6egiUj5r1iy89tprZteKc+nt27fHZ599hjfffFP21+7fv79MVxdp8Pfee6/884gRI2SEXQyRxn7jufUbFyDOuovz6RwkQAIkQAIkQAIkQAKVg4A9CPRBFkbQ1zKCbp3T2bKzWGc5Z1cFAqL3efLu03BrWLxAnLD/RoGekJaCthNGoFOjFth39iQOfPk7qvv4mwt0tT+az3i+VIF+zz33YMOGDRYJ9BkzZmDy5MlyO0QKuzizLlLkd+7cid27d8PPzw/btm1D06ZNZUq9EOwffPCB/BKgpCEKxtWt+18l+qqwz7SRBEiABEiABEiABCozAVvWXKa1D8In8HWoXSrmpPwIrMU7rOJujTPasrNYYzfnVg0CKXtPI2nrUTjX8IPCqXghsBsFuqDy5OfvYNvJQ+jWtDWWvTVDgipMcX9jOto6BxSkuDsqi6W4X716VVZbHz9+PObNmyfPk98sxf3333/HU089JaPiw4YNK3FDRDX3du3ayXR2kQIvCsuJP3/66ad46623qsYm0koSIAESIAESIAESsHECtqy5KNDNnY8p7jb+MnL5FUsg61wU4tftk+Jc7e1ebDElCfSjF89i+8lDuLdZW7Rv0NRMoP8xYSo6BtTFNxd24suFP2H58uUYOnRo4X3F2W9xhnzTpk3o06eP/LxTp06FReLE+XQxRDp7ly5dcO7cucIicUlJSfD1NW/1Ja7z8fFBjx49sG7dOllZXkTSU1JSIM6cBwQEmNmUkZEhW7w5OztXLHg+nQRIgARIgARIgARIoJCAPQj0ARZG0Nczgm6d59uys1hnOWdXBQKGTJ3sg54dnQDXutUtEuglcTFF0Bc+/Sbua98ZTr1aolOfHrLNmoiWN2jQQKahr1ix4qZt1sQ5clE8TpxRF23WxBn0om3WRAV30apt4MCBsq+5EOcipV2kvC9ZsgSPPfaYXNqBAwfQu3dvKcSfffZZ1K9fXwr206dPY+XKlbKHer169arC9tJGEiABEiABEiABErAJArasuUxr72+hQN9IgW6dT9qys1hnOWdXFQLJ248jefdJOPp5QuXuamZ2SRH00gT6/JGv4YHHhsL/gY6IjY3Fu+++i/Xr1yM5OVmmtouU9SlTpkjxXHQcOnQIonibaI2m1+tlFFy0RTOJbnGtKA4nou9CgMfHx0sh36xZM0yaNAmDBg0yu194eDg++eQTbNmyBQkJCTLKLoT64MGD8dJLL8HFxaWqbC/tJAESIAESIAESIIFKT8CWNRcFurl7McW90r9uXGBlJ6BPzkDcmt3QRcTCtW4QHEpoX1aWDflGI7SXY+Ac5Av/QZ3hXN2vrCn8OQkUI2DUG6FN0EEbp4NBZ5A/d3RXwzXAFS5+znBQOJAaCZAACZAACZCAHRKwD4H+MXzKKBKXnB+BjXiXReKs8WFbdhZr7ObcqkUg49RlJO84DiHWXUID4aBUWAwg35iP7KvxULg4wrtLM3h1amLxXF5IAoJAdlI24o8mIOF4EnSJOugz9cjTGyUclbMSajc13Kq7oVobP/i38pN/5iABEiABEiABErAfArasuf6LoFOgC49kBN1+3ktaUoEERPuy1L1nkHb4PPTJ6bKqu9K17EJqxuxcZF9LhFLjAo9W9eBzX8vbisBXoOl8dAUSMOYZEbs/Dle3XUN6ZAYMmQY4ejtCrVFD6agUffWQl52H3Ew9ctP0cPZ1glc9T4T2qwXvxl5wcGBEvQK3j48mARIgARIggTtGwB4Eel9YJtA3MYJund/YsrNYZzlnVzUCIk094/hFpB8NR/bVBDg4qaD28ZBCvWhqsRDzRl2OjLbnaXPgVN0X7i3qwKtjY4rzquY0Vtibl5OHi6suS4GeFauDe4gGzj5ONxXdQszr4nXIitHBs7Y7avYMRs2eNSjSrdgDTiUBEiABEiCBykLAljWXae198JFFKe6b8R5T3K1xPFt2Fmvs5tyqSyA3PhWph84hOypOinARJZcp7woFYDQi32CEg3NBWzYRafds1xDOwf5VFxgtv2UCQmyHL7+E6J3XYcw1wrOuBxSq/45VZOgysHTPEuwK24GridHINeTA37Ma2tRugyFtHkaNrGC4Bbmi9oAQBPeoccvP5wQSIAESIAESIIHKRcCWNRcFurkvMcW9cr1bXI2dEBBRcn1imiwcl5ucjtzENOTn6uGgUsLR1xNqXw+4hATAMdCHEUw72fPyNOP63liE/3kRuRl6eDXwNPOhizHheGX+BCRlJOH+ZvejZWgrOKudEZ18FdtO/YOoxCgsmfAnPBO9ZSS92bON4VHbozyXz2eRAAmQAAmQAAncYQL2INB74yN4l1EkLiU/AlsYQbfOe2zZWayznLNJwJyAEO0880uvsJZAdnI2Tn57GolnUuDX3Mcscp6Vk4XH5wxHZnYmvn7uWzQJNi84mGfMw597l6Fj/U6oqamJ1PB0VO8aiObjmpjdx9o1cj4JkAAJkAAJkED5ErBlzWVaOwV6gc8wgl6+7w6fRgIkQAJWEYj6JxoXll6Ek7eTbJ1WdCza9Tu+Wj8H7z7yPh7sMKTM56RfyUCOQzbWZq7G+h3rERMTg6CgIAwdOhQffvgh3N3d5T22bNmCPn36YN26dRgwYID8LDk5GX5+flCr1UhJSYGrq6v8fOnSpRgxYgT279+Pjh07lrkGXkACJEACJEACJGA9AXsQ6L0cLIugb83nGXSrPMaWncUqwzmZBEiABO4wAXH2/Nick4g7nAD/1r7FMjLGfPcMwqLDsO3DnXBSO5X5dF2mDs/NewYXks/j6aefRrt27XD48GHMnz8fnTp1wq5du6QA12q18PLywiuvvILPP/9c3nfVqlVSyBuNRinge/XqJT9//vnn8ccff0jRrlKpylwDLyABEiABEiABErCegC1rLtPa75cCPbRUGCn5V7CNAt06h7FlZ7HOcs4mARIggTtLQBunxdE5J5GTmgPPOsXPjfea2gPVPKth8cRlFj34r33LMWP1p3ip3wTMXf9lYbeBGTNm4K233sL333+PcePGyXt17doVer0eBw8elH8WYv3ff/+V4l0I9Y8//lh+3rhxY4SEhODvv/+2aA28iARIgARIgARIwHoCtqy5KNDN958p7ta/D7wDCZAACZQLgcSTSTj1UxiUjgq4BhSklBcdnaZ0QPNazfDTC79atJ4Jv7yEY5ePYv0rG9H5zY5w8XeR83Q6nUxf7969OzZs2CA/e/vttzFz5kwZGRep7y1btkTPnj2lQD99+jR2796NuLg4BAYGYvr06ZgyZYpFa+BFJEACJEACJEAC1hOwB4Hew+EjeJURQU/Nv4LtjKBb5zC27CzWWc7ZJEACJHBnCYie52fmn4OTjxOcvYunsBdE0AOweOJSix48dNbDUOQ5YMHTi9B6QnO41yo4cy5Gs2bNkJeXh7Nnz8o/b968GX379sX69etl+rsQ8GvWrEFmZiZGjx4thfvatWvx2GOPYe/evejcubNFa+BFJEACJEACJEAC1hOwZc1lWvt9DtMsEug78t9nH3RrXMaWncUauzmXBEiABO40gdgD/xPo3iUL9Fs9g24S6AuFQJ/YAppgjZlAF+fLw8LC5GdZWVnw9vbGq6++KgW6SGtPSkqS0fbq1avLc+grV67Eb7/9JsW6OLvOQQIkQAIkQAIkUD4EbFlzUaCb+whT3MvnneFTSIAESMBqAslnU3Dy+zNwUABuQW7F7meq4v7e0PcxuH3ZVdxNKe4bXtuELlM6wsmzICqfnZ1dmOIuIuamIaLiQrQLgS5S2o8cOSJ/1KBBAzz66KNSoAcHB8toOwcJkAAJkAAJkED5EbAHgX6vhRH0XYygW+dYtuws1lnO2SRAAiRwZwlkp+Tg6KzjyIrTwruBV7Gbm/qgi1+/ee5bNKrR2OwaIa6X7/sT7et1QJ2AOjAViZs4eBK+WD2rsCq8qNQ+efJk/PDDDxg7dmzhPcS58lmzZiE0NBQPPvig/L0YY8aMkYL93Llz+OSTT+R5dQ4SIAESIAESIIHyI2DLmsu0dgr0An9hBL383hs+iQRIgASsIpCfn49TP4Qhesd1+LXwgUKlKHa/izHheOXXl5GUmYxeLXqhRUgLOKmccT3lGrad+geRiZFY+upyKdCzUrIw9qfnEJ58oVibNdHD3NRmzfQQUZm9f//+8o/ivPnAgQPl70VbtZEjR8rfC6EuKr5zkAAJkAAJkAAJlB8BexDo9zhMhWcZReLS8q/g3/wPeAbdGteyZWexxm7OJQESIIG7QUCcQz/7+wWZ5l70zHjRZ6Vr07FszxLsDNuJq4lR0Ofp4e9ZDe3qtMMjnYehSXATeXnyuRTke+VjbfoqrNm0BrGxsbIK+7BhwzB16lRZrb3oEAXhxDl08UWBOH/u6ekpfxwdHY2aNWvC1dUVqampPH9+Nzae9yQBEiABEiCBUgjYsuYyrb2bwjKBvttIgW7Vy2DLzmKV4ZxMAiRAAneBgEFnwOkfwxCzPw7eDb2gclXd1lN0idnQxesQ0q8mGgyvV5jefls34yQSIAESIAESIIEKJWDLmosC3dx1mOJeoa8SH04CJEACt04gNTwVYQvOIz0iA95NvKB0VN7STXIz9EgNT0O11n5oPq4JnLyKt2y7pRvyYhIgARIgARIggQolYA8CvYviQ4tS3PcaP2SKuzXeZsvOYo3dnEsCJEACd5PAtV3XEbE+EhlRmfCs5wlH97LbmonU9OzEbGRczYJPYy80HFG/xGJzd3PdvDcJkAAJkAAJkMCdJ2DLmsu0dgr0Ar9gBP3Ovx+8IwmQAAncdQJCbMfsi0PkpqtIC0+D2l0N1yBXqEtIeRfX5qbrkXU9S67Lp5E36j5Um+L8ru8SH0ACJEACJEAC5UPAHgR6Z8UHFkXQ9xmnMoJujVvZsrNYYzfnkgAJkEB5EMiMzkTEhkikXEiDNlaL/Lx8qDVqKBwLKryLM+uGLIM8q+4W6Ar/ln7y3DnT2stjd/gMEiABEiABEigfArasuUxr76T4AB5lVHFPz7+C/RTo1jmVLTuLdZZzNgmQAAmUD4F8Yz7SLqUh4UQS0iMzkJ2cA2OuEXAAVM5KuFRzgWdtD/i39oNbkGuVKgiXnpCNxIgspMbokJ2hB/IBJ40KXkEu8A1xk79ykAAJkAAJkICtE7BlzUWBbu59THG39beR6ycBEiCBIgREOntOaq6MnDs4AGp3Rzhqyj6fbm8Q4y5mIHx3AqJOpiAzMVeKc0OOUZqpclTAyV0FjY8TqjfxQP2u/qjR1LNKfXFhb/tNe0iABEigqhOwB4HeQUbQQ0rdyvT8SBxkBN06d7dlZ7HOcs4mARIgARIobwL6nDyc2hiDczviEHcpEyq1Ah7VnODsoYajc0G1e3FNdoYBGQk5yNUa4Fdbg/pd/dBqUA04V8EvM8p7j/g8EiABEiCBO0/AljWXae3tLRTohyjQrXMgW3YW6yznbBIgARIggfIkkKszYM/CCFzYkwBdmh5BDT3g5FZ6n3h9dh5iL6TjUsoJfLVjAjau3Yx+A3uX57L5LBIgARIgARKwmoAtay4KdPPtZ4q71a8Db0ACJEACJFDRBIx5Rvw7/zLObI2FQuGAgPruhSnrp68cwnsLny1cogMc4ObsjrrVm+Lhrk+jee2O2HtgN2ZtehGfv7gQr8x+AmqnW+stX9H28/kkQAIkQAJVm4A9CPR2yvfhXkaKe0Z+JA7nTWMVd2vc3ZadxRq7OZcESIAESKD8CJzfFY89v0XIs+ZBjTzMzpObBHqvm91PfwAAIABJREFU1g+haWh7GI15iE2+ik1HliNTl473R36HZqHtce1CEhyVjuj8eB20HFCj/BbPJ5EACZAACZCAlQRsWXOZ1k6BXuAEjKBb+TJwOgmQAAmQQMUS0KXrsWFGGCKPpSCkjTeUqoIWc6ZhEujjB32A3m0eKfz8csxZvPbjcLSu1xXvP/EdRDX8K8dSENjAHf1fb8wK7xW7rXw6CZAACZDALRCwB4HeRvmeRRH0o3kfMYJ+C75R7FJbdhZr7OZcEiABEiCB8iEgCsLt/PmSPG9eUtu0mwl0sbqnZt4LjYsnxg96X6bBv/3Q96iubIouT4ai9eBg+Q+A1157DQcOHIC7uzsefvhhvPjii2jRogXmz5+P0aNHl4+RfAoJkAAJkAAJlELAljWXae2tLRToxyjQrXsXbNlZrLOcs0mABEiABMqDwKY553B6cwxqt/OFQulQ7JE3E+jp2lQ8Pes+1K/RHCN7TpACfdpTP8MtoS5qd/BFo0dV6NipI9RqtRTlfn5+WL58ObKysnDs2DEK9PLYXD6DBEiABEjAIgK2rLko0M23mCnuFrk8LyIBEiABEqiMBHK0Bqx6/yQSr2QhuJlXiUs0CfRn+r6B7i0GwphvlGfQf//nK4RFHsFz/d5CSEB9KdA/GvUL/HIbQuPrhL+uTMfaDWtw/PhxNG/eXN7bYDCgR48e2L17NwV6ZXQIrokESIAEqigBexDorZTvQlNGkbjM/Egcz/uYKe7W+LktO4s1dnMuCZAACZDA3SeQEJEpz5/n6vLgX1tTqkC/8YfOahcM7DQSj/d4CWciDxcK9GDHZsjN0ePV5X3R7Z6u2LRpk9lUEUV/9NFHKdDv/vbyCSRAAiRAAhYSsGXNZVo7BXrBZjOCbqHT8zISIAESIIHKRyDmfDo2zjoL5AM+wa6lCvTBnZ5Cm/rdZIV3Nyd3BPvXgZPaWc4xRdlFBL2WW3PExcVi8orBePnllzF37lyz+544cQKtWrWiQK987sAVkQAJkECVJWAPAr2F8h2LIugn8z5hBN0aT7dlZ7HGbs4lARIgARK4+wTiLmZgw8wwGPX58A1xK1Wg31jFvejFRQV6TedmiE+Kw+S/KNDv/g7yCSRAAiRAAneCgC1rLtPamyvfgVsZKe5Z+ZE4RYFuncvYsrNYZzlnkwAJkAAJ3G0CWSm5WDPtFFKv61C9secdEejV8hpD7eaAl37riW73dGOK+93eRN6fBEiABEjAagK2rLko0M23nynuVr8OvAEJkAAJkEBFEcjPz8e66WdwYXci6nTwkenrN47S2qyZri0aQXdPqYugxp5YeuEjrFmzuliRuPvvvx///vsvU9wratP5XBIgARIggWIE7EGgN5MR9Fql7m5WfhROM4Ju3Rtgy85ineWcTQIkQAKVh4Ben4fIC6mIu56FpDgtcnPzoFQ6wNPHBdWquyK0vjc0Ho6VZ8G3sJKja6Kxb9EVeAU5w83HySqB/t6jP8JH1wAdHq0F77bZaN++PZycnPDSSy/B19dXtlnT6XTy7NuCBQswatSoW1gpLyUBEiABEiCBu0PAljWXae1NlG9bJNDD8qbzDLo1bmTLzmKN3ZxLAiRAApWBQE62AYf/vY5Th+JwPSoDGak50GbpkW/MF3VC4eyqgpu7Gv6Bbmjcyh8d7qsB32olF1urDPaUtIbUGJ08h55wOQu1WnkVi6LfSgR9Qve5aNukE3pPaIigRh44dOgQXn/9dRw8eBDu7u4YNmwYnnzySXTu3BnLli2T1dw5SIAESIAESKCiCdiy5qJAN/ceprhX9NvE55MACZDAXSJw9XIatqy6hPMnE5GalA3fai7w8HaCq0YNpVIBkR6erTUgIz0XiTFaKNUK1G7ojXv7h6BNl6AS08Xv0lKtvu2hv6JweMVVOLmq4FPz9r5gSI/PRlqsDq0GBaPb6No3tX/FihUYOnQo9u7dK4U6BwmQAAmQAAlUNAF7EOiNVVPgWkaKuzY/CmcNnzKCbo3D2bKzWGM355IACZBARRK4cCoRaxefR/iZZCnMA4M1UCiKn88uusbU5GxcvZSOoFoa3NM3BD0G3Vyk3mjbpUuXZEuy/fv3IyUlBXPmzMHEiRMRHx+PCRMmYNu2bUhISMArr7yCL7/80mI0H374IaZOnSq/TCht5GgN2Dr3vDyL7lvLFR7VCtqnWTpEsTlRET60rQ/6TGwIzf9S5UU6u4uLS+Ft9Ho97rvvPpw9exYxMTEy/Z2DBEiABEiABCqagC1rLtPaKdALvIgR9Ip+m/h8EiABErjDBK5dScfSH07hwukk1Gn439nyCxFHMHfBi2ZPc3R0gY9nAFo37YmeXR6HSuGC8DNJ8At0Rd9H6qNzz5oWra5bt25StL777rvw9/dHu3bt0KhRI4wcORJ//fUX3nvvPYSEhKBx48Zo27atRfcUF1kq0MW1Kde12PXzZUQcToKrpxp+oRoolKV/KSGEf3KUFmnx2Qhp5Y1uT9dBQD33wvXVqlULQ4YMQZMmTeQXD3/++acsGie+ZBBfNnCQAAmQAAmQQGUgYA8CvaGFEfTzjKBb53K27CzWWc7ZJEACJFD+BHJz8rD4u5PYvy0atRt4mRV+Mwn0zm0GoX5oG7m47JwsXIw8jqOnt6JR3Q546am5MBiMOHs8EXUbe2PkSy0RVPM/wVqSRdnZ2XB1dcX48ePxzTffmF0SGBgoxfq6detuC8atCHTxAJGifnBZJCKPpSA9Pgeegc7wCHCG2klp9nyD3oiM+GykXNfB1csRtVp6ycJwQtQXHaI43KZNm3Dt2jX5sRDqIiPgqaeeui17OIkESIAESIAE7gYBW9ZcprXXV71lUYp7uOEzprhb40S27CzW2M25JEACJFARBPZvj8aa385CdBurEephtgSTQH988BR0afug2c9+XjYFx8O249M3NsBd44OMtBxEXUpH9wdC8OiYZqWeR4+KipLR8XfeeQcff/yx2X0VCgUef/xxLFq06LZw3KpAFw8R4vv8jjhc2JOApEgtMpNykKc3QuWoFHXxYMgxQqGErPjuW9MVdTv5oWnvQKidzUX8bS2Yk0iABEiABEigAgjYsuaiQDd3GKa4V8ALxEeSAAmQwN0gkJdnxK+zj+Lwruto1q5asTPnpQn0P9fPwq6Df2HmW1vg6uKO9dt/wsYdv+DjV3bgmdfaFEbRr1y5gtq1axf2AB89ejQWLlxYzJwPPvhAnh2/cURERKB69eqYPn06Nm7ciIsXLyIrKwt16tTB2LFjZdp40V7mNxPoW7ZskV8GiHZnYoi0+ffffx89e/YsfKQ+Ow9XT6YiISITKdFaiHPmyAdcvNTwruEKvxA31GrlDSc31d3YDt6TBEiABEiABMqNgD0I9HqqNy2KoF80zGAE3RrPsmVnscZuziUBEiCB8iYQGZ6K+XOOQZelR626nsUebxLoj/SbiPYt+smf5+RqcfnqSSxbNxMNarfH2BEz5OcmgT5x+AYMeaoxuj8QKj+/UaDv27cPBw4cwKuvvooHH3xQVjcXo0WLFjh58qRsSdalSxe88MIL8vOHHnpI9hEX59NFyzLxq1KplGnkIg1enFWfNm1a4dpLEuiiirpob1a3bl0888wz8tpff/0VolCd+Jk4M85BAiRAAiRAAlWJgC1rLtPaKdALPJYR9Kr05tJWEiABuyZwcGc0/vzpDHz8nOHpU7yKeUlF4kxAWjS6F6MfmQZHx4J5JoE+dsAa9HqoLoY927REgV5UtJeU4i6i4U888YRZinteXh4MBkOxCuhPP/20LCiXlJQER0dH+bwbBbqYFxoaKqu6nz59Gt7e3vK65ORkNG/eHCKlXkTpVSpGxe3a2WkcCZAACZCAGQF7EOh1VW/CxaH04rS6/Ku4xAi6dd5vy85ineWcTQIkQALlS+Dv5eH4v8Xn0aCpD9TivPUNwyTQ7+88Ak3qF/TvztVn42rMeWzftwS1a7bAuBGfQ6VSFwr0Fx78PzRuXQ0vf9Dxjgn0ossSgjsjIwNCtP/9998y4n7ixAkZgS9JoItofadOnWSUXUTbiw7xmUitF9d06NChfOHzaSRAAiRAAiRQgQRsWXOZ1l5bNdkigR5hmMkUd2t8zZadxRq7OZcESIAEypvAusXnsXbJeTRrW/z8uVhLaWfQj5zegvnL38PwgZNxT/uHCwX6S4+sQ2gDL0z6pIs8G35jiru4r+kzSyPoYo4oGjd79mycOnVKivOiY+fOnbj33ntLFOhLly7FiBEjZKT9kUceMZsnPhNp8+Ka4cOHlzd+Po8ESIAESIAEKoyALWsuCnRzt2GKe4W9RnwwCZAACdxZAhuWXcDaxefRqIUfVGpFsZuXJtC1ugxM/qy37If+7KOfYMP2n7Fhx88YP2QtGrbww4SpneT9xDnvevXqFRaJux2Bvnz5cnmGvH///vLMumjFJlLaxf+g33zzTWzfvh333XffbQv0ZcuWyftzkAAJkAAJkEBVIWAPAj1U9Qacy0hxz86/iiuGzxlBt8axbdlZrLGbc0mABEigvAns++cqlv9yBv6BrvDwcrolgZ6RlYIpM/ujSb1OGP/kl9ixfxn+2jgHT/VehP6PtMBj45rL+4nq6X369LFKoItCcSKNXVRwF2fGTeOHH37A888/X6pALy3F/aOPPpKV3A8ePIj27duXN34+jwRIgARIgAQqjIAtay7T2mupXrdIoEcZZlGgW+Nptuws1tjNuSRAAiRQ3gQuhiXjt6+OwWAwokaIeQ90sZbSIuh7Dq/GkrWfoc89ozC41ws4E74X3y2ahP6d3sZrbz2Lng/WkYXZBg0ahPXr11sl0EXUXPy/ITw8XFZwF0NUdm/Xrh3CwsJKFeimInFijigS5+XlJeenpqaiWbOCfu0i5d503/LeAz6PBEiABEiABCqCgC1rLgp0c49hintFvEF8JgmQQKUikJ2YhcyIFOQkZCE3NRv5xnwo1Ao4+bnBuZob3Ov5QuWirlRrLmkxuTl5+GnGYZw8FIfm7aqZ9RMvKtA7txmE+qFt5C1y9TmySNz+Y2vh5uqFt8YthIe7L/LyDPjgi2HI1mfgxRdeQUidANnCTKvV4tChQ1YJdHH+XBSD69u3r2y7JiqwL1iwABqNRgr30lLcxZpNbdZEqv2zzz4rvzgQbdZERJ5t1iq9m3KBJEACJEACd4GAPQj0YBFBV5RexT3beBXRjKBb50G27CzWWc7ZJEAClZ2A9no6Eg9cRdr5ROQkaWHIykW+wSg6UALIh8JJBbW7E1wCNPBqFgD/TjWhcito/1VZx84NV7D2j3Nw83BEtSA3s2WW1GZNoVDCQ+OLxnU74oEez8HbM0DOydYasH/fUZy6thBXok/Dw8NDFmcbN24cmjZtapVAF/f/+uuv5X9RUVEICgqCaLEm+qX37t27TIEu5m/evBkff/yxTHETo23btjK9vVevXpV1a7guEiABEiABErhrBGxZc5nWToFe4B6MoN+114Q3JgESqKwE8vOMSNh3FQn7omTk3OF/0XK1uyMU6oKUaxGVNeYYkJuWIyPrKlc1POr7IbBXXXjU862spiErIxe/zT2OE/tjUb+ZL5xdbr0fuNGYj/MnE1E9xAPDxzZD3cY+ldZeLowESIAESIAESAAyA018WS2+uG7TpiBLzlaGae01VK/BqYwIeo7xKq4ZZtuknZbuBwW6paR4HQmQgF0QEOL82t/hSNgfhZxELdxCvaDWFC+oVtRYIdaFSNfFZsK9jjdqPNAQ3s0DKy0PIa5XzA9D1KU0NGjmAydny0W6EOcR51Pg6KxCj4G10feRepXWTi6MBEiABEiABEiggIA9CPQg1SSLBHqM4QsKdGsc35adxRq7OZcESKByEojdfhkxWy9Cn5EL93o+cFD+V0U8JTMVv2z9AztO78a1pBiolCrUCQzFwHZ9MLzbQ1DogYyLSXCv7YPQ4c2hCfWunEYCOLgzGltWXZIiPbi2B3z8XMpcq06rx5ULqXD3dEKHHsEYOKIB1P/LKChzMi8gARIgARIgARKoMAK2rLlMa6dAL3AfRtAr7DXig0mABMqbQGZkKiKWnIA2KhUejfzNxPnZ6AsYO+9VpOkyMLh9P7QIaYJcgx67z+7HzjN70TK0GX4YPxtucEHmpST4tgtGnZGtoLyF6HR523vqcBy2r42AqO4uCt/5B7nC09vZrEe6iJiLtPiEGC2yMvUIqeeJ9vfWQPcBoRTn5b1hfB4JkAAJkAAJ3CYBexDoAapJcFQEl0og1xiNOEbQb9NL/jfNlp3FOss5mwRIoDIREGnqEX+cQPyeSGjq+Mgz5aaRlZ2FwdNHIlOXhfkTvkaTmg3Nlr5y3zq888cn6N3yPswd8yl0MRkw5uah5pDGqNYlpDKZWWwtqUk67N4UhbDjCUiIyUJmei6MeflQKh1gFOfsjYCbRg3faq6o3cgbXXrWRO2GlTczoFLD5uJIgARIgARIoIII2LLmMq2dAr3AeRhBr6CXiI8lARIoXwJZV9NwacER5KZlQ1PbvOjZ/H8WY+aqr/HhY5NlKntJY9Kv72Hj0a34680FaFKjAU7vPY6nV7+O9h3b459t26BQFKTKZ2RkoFWrVrLI3PHjx2X188owUpOzceFUIuKvZSEhNgs6rUFG0oUwF9Xe6zTyRvUQ92Kt2SrD2rkGEiABEiABEiCB0gnYg0D3V71qUQQ9wTCHZ9CteSFs2VmssZtzSYAEKheB2G2XEbUmDC7VPaDWmLdKGznneZyMDMOBmZvh4uhc4sL3njuIZ795BS/0exoTBo6FNjoN68K24oP/m4UZM2Zg8uTJcp5oF/b7779j586d6Nq1a+WCwNWQAAmUSkB8sZYljnvEaKFL0MGYa4SD0gFO3k5wC3SFpqYGSvV/dSuIkwRIgAQqCwFb1lymtfupJkJdRoq73hiNRMOXFOjWOJ4tO4s1dnMuCZBA5SJwZdlJxPxzCV4tAotFiTtN7oNA7wCsnvL7TRedmpWGzm/2Q59WPfDVc9NlJD43WYtpx+Zh0+6t2L9/Py5duoRhw4bhvffew7Rp0yoXAK6GBEjgpgSMovXi8STEH0lA2uV05Kbroc/Sw2jIh4PCASpXJRw1arjV0KBaa18EdqgGtdt/x2SIlgRIgAQqmoAtay4KdHPvYYp7Rb9NfD4JkMBdJyCiYufm7kP6hUR4NqlW7HnNJnRDq9rNsOjV72+6FkOeAc1fuQedG7bHry/PhVGfh4wLSXDrEYj+kx6Bq6srEhMTUa9ePezZswcqleWtze46AD6ABEjgpgS08TpErI9EwokkaGO0cPRwhJOXoxTgDioH5BsBg9aA3PRc6JKy4ezlBO9GXgjtXxM+jVivga5FAiRQOQjYg0D3Vk+wKIKeop/LCLo1bmfLzmKN3ZxLAiRQeQiICuZhc3YjKzIVHg39iy3sViLopkJxop96Wlg8ggc2wknFZQwYMADOzs44deqUFOkcJEAClZ9A+pUMnF96EUmnk6FyVcEjxB2KUlLYxd8l2lgtsmK18KzridoDaqF6l0CLDd2xYwd69OiB7du347777rN4nunCBQsWyGM0W7ZsQa9evUqdb7o2IiICoaGht/wsTiABErAtArasuUxr91RPgEpRo1TwBuM1pFGgW+ectuws1lnO2SRAApWFQFkRdNMZ9IMzN8P5JmfQ950/hGe+nlB4Bt0UQQ8e3AjT136Fb7/9Vpq7bt06KdY5SIAEKjcBIbLPzD+PxBNJ8AjVwNmnoP7EkUuH8fyPYwoXr1SooHHWoIZPDbQMbYXB7Ycg1DMUKedS4R7qjgaP1kW11n4WGUuBbhEmXkQCJHAbBGxZc1Ggm284U9xv4wXgFBIgAdsjUNoZ9F+3/oHPV3+DqSPewqNdHyzRuNfnv4/1R7bgr8nz0bRWo8Iz6BdrJGLEpFEYP348du/ejbi4OBlF9/cvHqm3PWpcMQnYJwGjwYiwhedxddt1uNfSwNnbqdBQk0B/sP0QtKnTDvn5RmRmZyI8JhzbT/8jf/9szzF49t4xSDqTAr8WPmjxfJNCgV8asfIU6AaDAdnZ2XBzc2N3Bvt0Y1pFAmYE7EGga9QvWxRBz9R/zRR3a/zflp3FGrs5lwRIoHIRKK2Ku+h/Pnj6E9Dm6LBgwjdoFFzfbPFrDm7EW79NK+yDLn4oqrin6jPw+G8vwT/AH4cPH0Z4eDjat2+PPn36YM2aNZULAFdDAiRQSCBmfxzOLQ6XVdo965i3QjQJ9HceeQ9DOjxsRi1Tl4Epi9/C/gt78d7QD9GnTl+Z7l57QIiMpJc1ylOgl7UW/pwESMC+CNiy5jKtnQK9wCcZQbevd5PWkAAJ3IRAaX3QxZQzV89j3LevIkOXhQc79EezkMbQG/TYfXY/dpzeg5ahzfDD+NnwdPWAOIeaejoO7+7/AnvOH8TBgwfRokUL+eSvvvoKEydOxA8//ICxY8dyP0iABCoZAfH+nvzuDKJ3xcC/pS8UKvO2aaUJdGGKEOmDZwyQae9r3lyP5DMp0NRywwHNHsz/Y778ok6j0aBnz5745JNPzGpSlCTQP/zwQ0ydOhXHjh3D999/jxUrVkCr1cqz6uLvk7p1/xP+pnPlf//9Nw4dOiT/nklISEDbtm3lMZuWLVsW0i7pDPro0aOxcOFCmekjWkOKLxJFpP2BBx6Qz/b2ZtG7SuauXA4JWEzAHgS6s/pRKByKF/MtCsGYH49s/Z+MoFvsGSVcaMvOYo3dnEsCJFC5CIhz6BGLTiB+TyQ0dX2gci3eIikpIxm//rMYO07txrXkGIizp/UCQzGwfV8M7/YQHFUFc3QxGfjr0FpM3/w1Zs+ejUmTJhUaK57Tr18/Wcld/IO7fn3zaHzlosLVkEDVI5AWkY4T885An6kvFj0XNMoS6OKaacs/xNrDa/DnpBUIVFXHF+tnYfWZFbj//vsxZMgQxMTE4Ouvv4aTk5PMrjEVaStNoAtx7eHhgaFDh+LatWtyvo+PD06ePCl/FcMkutu1ayf//Pjjj8s09lmzZsm54ssBUweJ0gS6mB8SEiK/RDh37hzmzZuHESNG4Pffb95qsup5Ci0mAdsiYMuaKyoqCo0bN5ZfTloyROecs2fPolatWpZcbnPXMIJuc1vGBZMACdwugczIVEQsOQFtVCo8GvnDQWkeObPkvgatHpmXkuDbLhh1RraC0pnt1CzhxmtIoLIQuL4nVp4/d/Z1Njt7blqfJQJ98b+LMGfdbMwaNQfBXjXx2FdD0b31fdh2+B8oFAV/r+zfvx9dunTB8OHDsWTJEvlZaQJdXLtz585Cgb127VoMHjxYRrpnzJhhJtBbt26NAwcOQK0u+NJw9erVeOihh7B+/XoZDS8q5otWcTdF0F966SX5BYBpiKyfb775BsnJyVLoc5AACdgeAVsW6IK2EOmiXa0lw8/Pz27FubCfAt0SL+A1JEACdkMgdvtlxGy9CH1mLtzr+tySSDfo9Mi4mAT32j4IHd4cmlCmg9qNY9CQKkPg0uoruLD8Enwae0HpqCxmtyUCffXBlfhkxUeY9tgniE+Lwzcb5+Ln8b/i2XlPm91PRNRFKnpaWpoU7qUJ9MWLF8sodtHRoEEDKdjDwsLMRLdIRx83blzhpSkpKTLKPnfuXLz88stlCnQRNW/YsGHh/FWrVuHhhx+W0frmzZtXGV+goSRgTwRsXaDb015YawsFurUEOZ8ESMCmCIj+5df+DkfCvijkJGnhFuoNtcaxVBtE2npOQhZ0sZlwr+ONGg80hHdzy3sf2xQgLpYE7JzAhT8vIXzFZVRr41didXNLBLopgj571JfYc+5frDywApumbEWf6T3N6IlItUgfj42NRUBAQKkC/ciRI2jTpo3Z/EGDBmHr1q3Q6XRmolucQe/bt6/ZtQ4ODhDn2T/44IMyBbpIixfp96Zh+uJA/Nq9e3c79wCaRwL2SYAC3X72lQLdfvaSlpAACVhIQIj0hL1RSNh/FZkRKXBQK+Dk5wa1uyMU6oKImhDlxhwDctNypDgXZ9Y96vshsFddeNTztfBJvIwESKCyEQj/6zLEf6JAnIPSodjyLBHoU//8AOuO/B+Wv7YSS3b/IQX65ne3ofdHPUoU6KIoW7Vq1UoV6OIf1yJ1vei4mUDfsmULevXqVUygC3EuRLoYpZ1B1+v1han04lprq8tXtj3mekigKhKgQLefXadAt5+9pCUkQAK3SEB7PR2JB64i7XyijKYbsnKRbzD+7y4OUDgpoXZ3gkuABl7NAuDfqSZUbqVH229xCbycBEignAlEbY3GuT/CoampgaOmeLHIsgS6qOI+6LMH4OHqiTVvrsOC7fMx7++5WDD5N4ya8aSZNaIIm+jycKdT3CnQy9lp+DgSsAECFOg2sEkWLpEC3UJQvIwESMB+CWQnZslIuoiU56Zky+i54n9RdedqbnCv5wuVS/F/yNsvEVpGAvZLIPFUMk79GAaF0gFu1d2KGVpqH/TsTEz5403ZB/3DR6dhQNtBCL9yAY9/Nxw9O/TC5n2bCovECWHeqVMnPPbYYxDny8W4nSJxb7zxBmbOnCnnm6LiFOj265+0jARulwAF+u2Sq3zzKNAr355wRSRAAiRAAiRAAneJgGivduzLk0gKS4GfSHN3ME9zNwn0B9sPQZs6op1ZPjKzMxEeE45tp7bK34/pNQ7P9RorVyjatn23/xusOL5cti178MEH5ZlzUSXd0dHxltusDRs2TLZZEwXfvLy8ZOE2UbGYAv0uOQRvSwJ2QoAC3U42klXc7WcjaQkJkAAJkAAJkIBlBC7/3xVcXBUB1wAXOPs4m00yCXTTh0qFEm5ObqjhUwMtQ1vjwQ4PoV5gPfnjvNw8iIh8UNdA7M7fjh9/+lH2ItdoNFKsT58+HfXqFVwrRmkRdPGPa1GdfcWKFbIonCjWJkR60fmMoFu2v7yKBKoiAQp0+9l1RtDtZy9pCQlzeIAeAAAgAElEQVSQAAmQAAmQgAUEdInZOPVDGBJPJcGvua880nKrQxyFSTmbChd/ZzQa2UAWnbudIYq6TZ06VQr7omL8du7FOSRAAlWXAAW6/ew9Bbr97CUtIQESIAESIAESsJBAzP44Wc1dG6uFTxNvKFSWi3QhztOvZMBoyEdI72DUH1anxJZtliyFAt0SSryGBEigLAIU6GURsp2fU6Dbzl5xpSRAAiRAAiRAAneIgBDZVzZEIeqfa9DG6uBZz6PEqu43Pk6ktaddToeDwgFBnQPQcER9qF1Vt70qCvTbRseJJEACRQhQoNuPO1Cg289e0hISIAESIAESIIFbIJBvzEf0juu4uv0aUi+mS4HuGugKtUZVLCKel5MHbZwO2gQd3IM1CGjvjzqDQ60S52KpFOi3sGG8lARI4KYEKNDtxzko0O1nL2kJCZAACZAACZDAbRDIiMrElU1XkRqeBm2cFgZdHlTOSjioHJBvBAw6g0yBF+fN3Wu5o2aP6vBvVbwC/G08mlNIgARI4I4QoEC/IxgrxU0o0CvFNnARJEACJEACJEACFUlApLxnRGYi6UwysmK0yLyuhdFglKnsLn7O0FR3hXcDL3g19ILyNorKVaRtfDYJkID9E6BAt589pkC3n72kJSRAAiRAAiRAAneIgBDnRr0RDkoHKB2Vd+iuvA0JkAAJ3B0CFOh3h2tF3JUCvSKo85kkQAIkQAIkQAIkQAIkQAIkcIcIUKDfIZCV4DYU6JVgE7gEEiABEiABEiABEiABEiABErhdAhTot0uu8s2jQK98e8IVkQAJkAAJkAAJkAAJkAAJkIDFBCjQLUZV6S+kQK/0W8QFkgAJkAAJkAAJkAAJkAAJkMDNCVCg2493UKDbz17SEhIgARIgARIgARIgARIggSpIgALdfjadAt1+9pKWkAAJkAAJkAAJkAAJkAAJVEECFOj2s+kU6Pazl7SEBEiABEiABEiABEiABEigChKgQLefTadAt5+9pCUkQAIkQAIkQAIkQAIkQAJVkAAFuv1sOgW6/ewlLSEBEiABEiABEiABEiABEqiCBCjQ7WfTKdDtZy9pCQmQAAmQAAmQAAmQAAmQQBUkQIFuP5tOgW4/e0lLSIAESIAESIAESIAESIAEqiABCnT72XQKdPvZS1pCAiRAAiRAAiRAAiRAAiRQBQlQoNvPplOg289e0hISIAESIAESIAESIAESIIEqSIAC3X42nQLdfvaSlpAACZAACZAACZAACZAACVRBAhTo9rPpFOj2s5e0hARIgARIgARIwM4I5OfnIytGi8zrWujidcjLNcJB4QAnL0e4BbnCo5YGSielnVlNc0iABG6VAAX6rRKrvNdToFfeveHKSIAESIAESIAEqiiBfGM+Eo4nIe5IAlIupiM3PRf6LAOM+gKBrnJRQq1RQxPkCv9WfgjqVA1Ono5VlBbNJgESoEC3Hx+gQLefvaQlJEACJEACJEACdkBAl5iNyxuikHA0UUbOHT3UcPZyglqjgkKlgIiqG7R5yM3IhTYhB44aFbwbeCKkTzD8W/nCwcHBDijQBBIggVshQIF+K7Qq97UU6JV7f7g6EiABEiABEiCBKkQgIzoT5/64iMTTyTJ13SPUHUq14qYEhFjXJWQjIzpLXhvSOxi1ela/oyI9NDQU9913HxYsWFCFdoKmkoBtEaBAt639Km21FOj2s5e0hARIgARIgARIwIYJiMj56V/OIf5YEtxrusHFz7nQmivxEZi//RecijqJ+LQ4uDq5ItArCK1C2+Cp7qPg7eyDpLBUaGq4od6QUNToFnjHSFCg3zGUvBEJ3DUCFOh3DW2535gCvdyR84EkUPEEDNl5yIrVQZ+pl4tRu6ngGuACtauq4hfHFZAACZBAFSQgzpyHLQpH1JZouAW6molzIcrH/zgWGhd3DGw7CDV8gpGmTUV4TDj+PbsTX4yai7Z12yFPb0TS6RR4N/REi+ebyPPpd2JQoN8JirwHCdxdAhTod5dved6dAr08afNZJFCBBOQ/3M6kIO5YEtIuZyA304C8nDy5IqWjQhYb8gzRoFprX/g184bKmVWBK3C7+GgSIIEqRiD+WCLCfruA3Aw9vOt7mln/6vyXcTTiCP58bRUCPAPMfqbN0cKYnweNs7v8PCc9F+kRmQjpUwNNRjW4I6nuFOhVzBlprk0SoEC3yW0rcdEU6Pazl7SEBG5KIO1KBi6tvYrk82nQxuqgdCoQ5FKEO0AKdSHYDbo8uPo7w6ueB+oOCIZPIy9SJQESIAESuMsExDny0z+fR+SWaPg195FfmhYdw2Y/BEeVI/54ZVmZK8nO1eGHld9jV+QOxGXFwtPTE/369cP06dMRHBxcOP/UqVP48ssvsWvXLly7dg2Ojo7o2LEjpk2bJn8tOijQy8TOC0igwglQoFf4FtyxBVCg3zGUvBEJVD4C4h9913bHIWJjNFLC0+Hs4wRNkMtNe+aKKLsQ8Np4HTzreuCg4V9M/uI1REREQPwD7W6O0aNHY+HChdDr9VCpmGp/N1nz3iRAApWLQGaMFse+OiWLvYlq7DeOV359EUcuH8a3Y35Ai5BWN1283qDHCz+Nwflr59Cn3gPo1LsDtB6ZmDdvHtzd3SH+Ae/n5yfnz5o1C0uXLpXiPSQkBHFxcfjll18QGxuLI0eOoEmTJoXPoUCvXP7C1ZBASQQo0O3HLyjQ7WcvaQkJFCMgxHn46kikR2bCu4EHHDVqec2Ry4fw4s9jbkrsngbd8UarD/Bv8jZ8vvXjKiHQjUajjBy1atUK/8/eeYDZdH1t/DW9d72NMnqP3kULInr0lhBEIk2EECWEIJFIQeIfIUQQLdGjBVGiRO9mmNFnTO/V96ztO9e9U8wMY8qZdz2Ph9x7zj57/9Yx8e5VdteuXfk2kQAJkEC2Ebj/3wOcXXzxUT+QgrYpnnvy+n94c/EIJCYloELRiqjpWQvVS9VAfa+GcHNwM1y/fN8yLNjxHX54YzEKPygBzw4lUe21ijh16hTq1q2LDz/8ELNmzVLXR0ZGwt7e3uRZDx48UMK8W7du+OGHHyjQs+0N4INI4NkJUKA/O8PcMgIFem7xBOdBAllMQET56R8uqci5RzUXmFs9rinXBHrnut1Qp0zdFE+WGsdapepg9aZVmH9sDv7beRq129TI4hmaDpfTEfSEhARYWlpi8ODBPErouXqag5MACSQncH3bTVz67Rqcyzim2azzwq3z+HX/Lzhy5TDCY8LVEOZmFujRsCfe7fQ+LMwtMfCbvrA0t8S8IfNVR3cXLyfUebc6zMzN0KxZMzg4OODYsWMpHBAVFYXo6Gh1vrr8LL5z546KtmvGCDrfWRLI/QQo0HO/jzI6Qwr0jJLidSSQhwgkJSQpcX5z3z24ej2OnGtL0AT6hG6T0aVe9zRX9ueRDZj55zRsnLANnT5pAwvb55d6ToGeh14wTpUESCBLCXj/6YvLq67BrbJrivrz5A8SEe33wA/HvP/FygMrcCvwJt5oMxLD2oxAs08aITY+Js25lSpVCr6+vur7sLAwTJo0Cb///rtKaze2MmXKwMfHhwI9S73MwUjg+RKgQH++fLNzdAr07KTNZ5FANhF4cC4Yp3+8pJq+uZR91NnX2DIq0Def+AMz1k3BL/1+R5sxLVC0QUE1jJ+fH6ZNm4Zt27ZBUiKLFy+Ofv36YfLkybC2tjY8qmXLlrh27Rr27t2Lt99+G//88w9sbGzQu3dvzJkzxyS9UhPoUgc5btw4/PHHH5CodseOHbFo0SK4uroaxj1w4AAWLlyIw4cP4+7duyoq1KJFC9UEqWLFiiZrLVCgAPr374/hw4ercc+cOYNChQph7Nixak5iN27cgPyDNLnJmH///Xc2eY2PIQESyK8EfDb74tIqb7hVcE6zR0hqbEIiQ9B9bmc427lgw7hNaDqpASoWq4QRbUep0ia7Irao1N8L5haPms7Jz9+mTZuqP3fq1Am7d+/Ge++9hzp16qhmcmZmZioF3tvbW/1c1IwR9Pz6ZnLdeYkABXpe8taT50qBrh9fciUkYCBwYfk1XNvkB/fKLqkel6YJ9Hc7jcVLtTqlIGdrZQdrS2toAv2H9itQ75U6qDWqkqpHb9SokUoHHzZsGIoVK6ZSJn/++We0b98emzdvNhzrIwJdOgWLgG7evLm6T0T1ihUr0KFDB2zdutXwbE2gS52kNCxq3bo1Ll26pJob9e3bF8uXLzdcK8JaxpXxZXNANgykXlIiS+fPn1cCXDMR6NWrV1dC/o033lDXS2MkEfm7du1Sz5FazHXr1qn0dkkDlevEChcujLZt2/LNIgESIIHnSuD2P/dwftkV2Lpbw8b18SZnRh466Nt+8LnvjX9m/Iu+X/VCQlICfv9gA+6feIDizYqg9tvVUgwTEhICNzc3tak6depUk+/l57T8vKRAzwh9XkMCuYcABXru8cWzzoQC/VkJ8n4SyGUEpBP7vzNPI+hSCArWeNw8yHia6TWJ+6DzePRq1Mcg0Jd0+w3lK5VHg/E10K1vN5w7dw4nT55U/8DT7LvvvlMR6e3btyuhLiYCet++fSpyPXv2bMO1H3zwAebNm6cEugh1MU2gv/XWW/j2228N17777ruQsYOCguDk5KQ+T6250ZUrV5QQl39sTpgwwXC/CHT59e+//6JevXrq89jYWEiqp0TI16xZoz5jDXoue5E5HRLIRwRCroXh1PfnkRiXCKdSDilWfvTqEbxQrh7MzR73EpGLbgfeQp+ve6G0R2mseGcVlu79STWJm9R1ChraNEOFnmXh1eNRdpBsYErGU8GCBREeHq4i5p988onKhtJMMoZefPFF9fORAj0fvYBcqi4IUKDrwo1qERTo+vElV0ICikDEnSgc//IsYsPiU01vl2s0gd636UA0qtAkBTnPgmVQyLmwQaAvH7AWRV2LodzgYihXvyxENBuLYBlABLSkl0vq+Ny5c9WYmkCXhkNFixY1PEf+WyLZo0aNwoIFC9TnmkCXqLlxmvqGDRvQvXt3lZouAjy5RUREKMEt//iUf1iWL18e69evN1wm4rxhw4Yqcm9sXbp0wa1bt9RxQmIU6PwLRAIkkFMERJj/9/U5+J8IQMHa7oYsJG0+fb7qiYjocDSv0hJli5SDhZkF/B74YsuJTQiLDsPcQV+haaVmiEuIw1v/G4lTN06ieflWaNe9DVxLu6jMJykbevXVVzFjxgw1bJs2bXDw4EG1serl5aWykiQTStLZRcBToOfU28DnksDTEaBAfzpuufEuCvTc6BXOiQSegUDQlVCc/PYC8BBwKG6X6kiZrUFf+dp6uFsUQlKzKHQY2O6Jsxs0aJA6z1wT6PI/DGlGlNwkGt6kSRNVx24s0GNiYkzq2CWi06pVK1ULLhFvMUm/HD9+PDZt2oTg4GCToeXaPXv2GD4Tgd6nTx/89ttvJtfJhoBE9+UfrhToz/DC8VYSIIEsIeC78xYur/aGlZMl7Aub/uw+fOUQ/j63B6d9TyEg1B9RcdFwc3BVR631azYQNUrXNMwhOjoGS9b/D4ceHMDNYD9VjlSiRAm1gTly5EhUq/Yo5d3f3x+SzbRjxw6VlVSzZk1Mnz5dlRPJz1sK9CxxKwchgWwjQIGebaif+4Mo0J87Yj6ABLKXQPDVUPz3zfMR6AlNItBp8EvqH3k9evRIdWESKa9atapBoEsqfGhoaIprHR0dVbOi5AI9Pj4eFhaPu8VrAl0azUlEXs4rl7PKJfotzY3kWVLjLs2NJLLv4eFh0thNaxInde/GJgLd+B+hjKBn73vKp5EACZgSiAuPw5lFF3HveADcq7rCwto0nT0jvCSTKORKGKycrVCpX3kUqfeosSeNBEhA/wQo0PXjYwp0/fiSKyEBRUCluM87h9jQuHRT3NM7Zk1rEre8/1oUdSuGUv0LoWIjL9VETTqrp2dPk+KenkA/ffq0EuiSiiki29ikYV2FChWeSqAnJiaqjQGeg56eV/k9CZDA8yIQcCYQl1ZeQ7hvBNyquMDcKuMiXcR5uF8kEqITUKp1cSXQC5gVeF5T5bgkQAK5jAAFei5zyDNMhwL9GeDxVhLIjQTkDPQjn2WsSVxGBbqhSdyEmujc82XVAV1qtytXrmyCQNLT4+LiDM3c0msSt2XLFnWMmlha56Anj6BLgzqpRV+yZAmGDh1qeL6k1csYyY9Gy2gEXQaSI4ikwZ3UatJIgARIILsJiMi+9fddXN/mp0S6c1knWLtYpTsNaQ4a6hOmSpuKNiyEyv29YOlgme59vIAESEA/BCjQ9eNLCnT9+JIrIQEDgYwes9a5bjfUKVM3BTkHGwc0q9zC5Ji1+l1fQK2RleDj46Nqx6Wu/LXXXlP1jFK/ePnyZaxduxarV69WzYfERKBLczdJQZc/a83aJN28Xbt2qvZRs4wKdElFF4Eu56WPGTNGNZ+TDu0bN25UZ6WXLFnyqSLoMg9JuZeUfOlqLDWbclyb1G3SSIAESCC7CIhIv3vEH75/3ULwlVCYW5nBvogdrJwtUzSPS4hNRNT9aEQHxMChuD0K1/VA+S6eFOfZ5Sw+hwRyEQEK9FzkjGecCgX6MwLk7SSQGwk8OBeM0z9eQkJ0Yqpp7ukds1bawxOr399oEOi/9Psdbca0QNEGj+oZpUnbzJkz1Znnt2/fVhHzMmXKoFOnTpBj0qQOXBPo165dg9SPS6fgf/75RzWAk07C0uldhHtmBbpc7+3trerPZTxJiRfhL+NJDbqYRN01y0wEXboYjx49WmUHREVFpYjG50Zfc04kQAL6JBB5Lwo3/rqFoIshiLoXhfiIeJhZmcPMsgCQBCTEJMLMogBsC9rCsZQDSjQvisIveDCtXZ+vA1dFAukSoEBPF1GeuYACPc+4ihMlgYwTkDT30z9cws199+Ba3glWjk+X6ii1jIEXQlTKZO3RlWFh+7h5W0ZmI1FzEejS0I1GAiRAAiSQOQISTY+8F43As0Gqv0jE7QgkxiWhQAEoYe5QzA7O5ZzgVtkV5pZmmRucV5MACeiKAAW6ftxJga4fX3IlJGBCIMw3QkXRg6+EwaOqC8wz2RFYRP6DcyFwKu2AakO94F7ZJdOEn0Wgx8clIiI0Dg8fAta25rBzSJnemekJ8QYSIAESyMMEHiY9hPxsluZvZhYU5HnYlZw6CWQ5AQr0LEeaYwNSoOcYej6YBJ4/gdsH7+PqRl+IWHf1coJVBpsGxUcnIPhyGOyL2qJsx5LwbFf8qSabWYEe8iAGF08E4Oa1UPjfikRMVAKk65GFpRncCtuhaGlHVKztgZLlnVLUYj7VBHkTCZAACZAACZAACeiAAAW6Dpz4/0ugQNePL7kSEkhBQNIj7xz0h8/Wmwi+GgYbVyuVEplWNF06AUs6ZZR/DFzKOaJ0m2Lql9RxP41lVKCLED+0zQ9nj9xHwO1IhIfEqai5tZ2FSuWMj01CTGQ8LKzM4VHUDp6VXdCySxkULvm4hv1p5sd7SIAESIAESIAESEAPBCjQ9eDFR2ugQNePL7kSEkiTQOiNCPhs9kPQ5VAlwKUrsBzBY2Hz6IzdxNhExEXEIzEmCbaFbFTdetmXS8KtgvNzp3rXNxw7fruGa2cDVcS8cAl7OHvYpLopEBURrwR8dEQCPCu5oHHHUghLuqw6rS9evBjDhg174nyTH9n23BfHB5AACZAACZAACZBANhCgQM8GyNn0CAr0bALNx5BAThOQ6HjQhRDcPxmI0OvhiAuLhxzRIyaCXRrJSb15odruKFjNNdM160+zPhHnfy65hMsnH8C9iB0KFrdTwvzy9RP4culIw5Dyma21A0oXq4z2TQehlEdt3LwSiqKejrD3vIvRY1+lQH8aB/AeEiABEiABEiABXRCgQNeFG9UiKND140uuhAQyTEAi5pH3oxEfkQBJg7e0t4B9YdtMd2nP8ANTuTA6Mh6rvz2HM4fuoXhZRzi52Riu0gR60zpdUMGzDpIeJuFB8B3sP74e4ZHBeGfgN/AqWRfXzgQhxuoaFq4bkyGBnpiYiOjoaNja2sLc/FH2AI0ESIAESIAESIAE8joBCvS87sHH86dA148vuRISyFMEdq/1wd4NPrB1sESh4vYmc9cE+sBXJqLZC10N393x98bU7/ugmlcTjBnwNWKjE/D33/uw7sh4fP/dIrw5ekSeYvCsk5UNh7i4OLXhQCMBEiABEiABEsi/BCjQ9eN7CnT9+JIrIYE8QyA4IBrLZp/CLe9QVKjlnqLePC2BLgt8f3Zb2Ns6YfqYdWq9R47+gyVb3sOkD+eieFkHfPHFF7h58yYqV66Mr776Cq1atTJwSa0GferUqZg2bRrOnDmDJUuW4Ndff0VERARatGiBRYsWoXTp0iZcr169iokTJ2LPnj3qOi8vL4wcORKjR49Owf/s2bOYPn065LlhYWEoVqwY2rRpgy+//BKOjo6G65ctW4bvv/8e58+fh5mZGRo2bIhPP/0UjRo1SjH3H3/8EeHh4ViwYAFu3LiBtWvXomvXrrh37x4mTZqELVu2ICgoCKVKlcLAgQMxYcIEWFpaGsaRez755BPs3bsXAQEBcHV1RdWqVdWapJafRgIkQAIkQAIkkPcIUKDnPZ+lNWMKdP34kishgTxDQDq2b1l+BS4eNupXcktLoEdFh+P9OW3hWbwKxg9bom676H0cX/0yCmVKVIGFbTxef/11WFlZ4euvv0ZwcDB8fX2VCBV7kkCvW7cunJ2dDWJ33rx5eOGFF3DgwAHD9Ly9vVG/fn3Ex8fjrbfeQtGiRbFhwwYldt9//30lvDWT+9q3bw8bGxsMHz4c5cqVw61bt7B+/Xps3rwZnp6e6tKxY8dCntWjRw9I1/uoqCi1UeDj44Pdu3ejadOmJnOvVq2aStOXdTo5OaFJkyZqE6FOnTq4ffs2Ro0ahYoVK2LXrl1qbjKuiHgxmbeIcdkskE0FEfEi0o8ePao2A2QuNBIgARIgARIggbxHgAI97/mMAl0/PuNKSCDPE1j97Vkc2n4TVesXTLVbuybQX33pPTSo0REPpQY95A7+2LMIF73/RZ8OY/Fiw96Kg3atk70HTp88C0+vIurzU6dOoXbt2ioy/eabb6Yr0Dt37ow//vjDMB8R+O+9956KalepUkXd37t3b/z+++84dOiQinKLJSUlQe7dtm0bLly4gEqVKqnP5HcRvzKP5FF4qfuXxnfHjh1Tgn/u3Lkm4lgi8yLEZQPg8OHDJnN3d3fHlStX4ObmZngPPvroI8yZMwerVq1Sc9RMxLpkAWzfvl1tFpw+fRq1atXC6tWr8eqrr+b594gLIAESIAESIAESeESAAl0/bwIj6PrxJVdCAnmCQGxMAn6cclylt5ev4Z7qnJN3cdcusrK0QYdmQ9Cx+WsGIW1oKFe9LxYv/QaV6ngYxpSIuBy9pkW2nxRB10SsdvPJkydVVPrPP/9UAlzqvWW8Bg0aqMi2se3fv1+lxM+ePRvjxo0z/E9S0sZnzJiRpl8k6v7dd99BIvPJ68jHjx+vIumhoaEqHV6b+zvvvKOyA4xN0vklOn7t2jWTz/38/NTmgAh1LSW+TJkyGDJkCObPn68i8DQSIAESIAESIIG8T4ACPe/7UFsBBbp+fMmVkECeIBB4Pwo/f/YfwkJiUbJ86uesa6K7baN+qOrVGAkJcbjqewo7D/+K9k0GoVubRxFxMe3al+q+g+lzPkTdVsUN30kaudSg//zzz+qzJwn0S5cuqdRwzaRWW8Ts0qVLMXjwYFXjLRFtSW3/9ttvTVg/ePAABQsWVGnjCxcuVBHqPn36YM2aNejVq1eafunYsaOKvD/JJNVd5qHN/ZtvvsHbb79tcouk0bdt2xabNm1KMZSIe0mT154jwl+i7RYWFip6L5H1vn37onz58nni/eEkSYAESIAESIAEUhKgQNfPW0GBrh9fciUkkCcIPLgbhZ9n/oeIsDiUKJd6BDetGvRt+3/Ght0L8Fa/eahRsZmJQO9Q9z1Mm/0B6r1oKtClrltEdnoCXZq/GYtUTaCLuJeIc0YEuhapzqhAf+mll1SNu6TWp2VSYy7RdU2gL168WGUFGFt6Ar1Zs2bYunWr4RZZq4h5ifxLrbpE3yVa379//zzxDnGSJEACJEACJEACpgQo0PXzRlCg68eXXAkJ5AkC4SGx+N/0Ewi4E4kylR81b0tuaQn0+IQ4fPJND0iq+9TRq1XHc+3alxu+j8++/BA1Gj+qQReTCHpWCfQnpbiLyG7evLmKTH/44YcZTnGXSLikuN+9exdFijyed2pMniTQ00pxl2720ghOavClFj81k0Z69erVUyJdGurRSIAESIAESIAE8h4BCvS857O0ZkyBrh9fciUkkCcISIO0ZZ+fxOlD91GlXsFMCXS5ePfh37B6+zwM6/kZ6ldvZxDo3Vt8iG+WTELxso+j8lkp0OXZWtr6kSNHVHq4mDSE69KlizrezLhJnIhmf39/dXxbyZIlTdapNYmTBnCNGzfG0KFD8dNPP6VomCf3FypUSN37JIEuaetS/y4N7Hr27Gl4lhz9JrXnO3bsQLt27VQ9u52dncmxa3KxHP0ma5LmdDQSIAESIAESIIG8R4ACPe/5jAJdPz7jSkggzxPY8ds17Fx9DaUrucDGziLFep50DnpsXAzGf/UynB08MOXN35RAn7dsFPp3+hg/rZ0Ga5vH42W1QJdmbhJtTkhIUHXgEvWW9HRpGpfWMWuSnq4ds3bnzh11zJrcox2zpnVgl+ZzIvQ9PDzUOe4iyEXIa8e8PUmgSxRcO2ZNouUVKlRQ57SvW7fO5Ji1jRs3qjp5OXpN6u0lNX7fvn1YuXIlRowYoTq+00iABEiABEiABPIeAQr0vOczCnT9+IwrIYE8T+D6xWDIUWtR4fEo6ZWyUdyTBLos/s+9P2Lz34sxqs8cIMEGC9eOwfujZuLLBRNM2GS1QJfB5Ygz6eU5EWkAACAASURBVM4uAlgizl5eXkr0SrRajk4zNjnWbNq0aUoER0ZGonjx4qqZ2xdffAEHBwfDpRL5lhR06RwfFxenmtHJRoDUvnfo0EFd9ySBLt9LmvykSZNUJD8oKEiltg8aNAgTJkwwRMyvX7+OWbNmqfnImelSIlC2bFkVwZf5S+M4GgmQAAmQAAmQQN4jQIGe93xGga4fn3ElJJDnCSQlPcSqb87i+J7bKF3RBXaOlk+1JhnnyslAJfL7vVsdhUo8Fr1PNSBvIgESIAESIAESIIE8SIACPQ86LY0pswZdP77kSkggTxG4cz0Ma74/D78rIfCq6Q4LS7NMzV/Sv29dC4OZeQG0610ejTuUytT9vJgESIAESIAESIAE9EKAAl0vngQo0PXjS66EBPIcgaO7b2Hv+uvwvx2JslVcYWVjnqE1SOT8tk8YEuKSUKdFMXR5vRIsrTJ2b4YewItIgARIgARIgARIIA8RoEDPQ85KZ6oU6PrxJVdCAnmOgETBD++4iUPb/JTgLljcHu5F7GBmZlrLrS1Mro8Mi1eRc0dXK1RrUBgdB1aAncPTpcjnOWCcMAmQAAmQAAmQAAmkQoACXT+vBQW6fnzJlZBAniQgovva2SAc2OSLG5eDERYUCydXa1WXrjq8F4CKlEtDudDAWJUKX9TTAfVeLIF6rYvDypqR8zzpeE6aBEiABEiABEggywhQoGcZyhwfiAI9x13ACZAACQiBqIh4nD/qjwvH/OF/K1L9d2x0Ah4+BCytzGDrYAlnNxtUrO2Bag0KoXBJNoTjm0MCJEACJEACJEACQoACXT/vAQW6fnzJlZCALggkJiYh8F40HtyJRERYHB4mAda2FnAvYqtS4G1seRSYLhzNRZAACZAACZAACWQZAQr0LEOZ4wNRoOe4CzgBEiABEiABEiABEiABEiABEnh6AhToT88ut91JgZ7bPML5kAAJkAAJkAAJkAAJkAAJkEAmCFCgZwJWLr+UAj2XO4jTIwESIAESIAESIAESIAESIIEnEaBA18/7QYGuH19yJSRAAiRAAiRAAiRAAiRAAvmQAAW6fpxOga4fX3IlJEACJEACJEACJEACJEAC+ZAABbp+nE6Brh9fciUkQAJGBOJjExF8Lxoh92PUOepm5gXg6G4Nt6K2sHW0JCsSIAESIAESIAES0A0BCnTduBIU6PrxJVdCAiQAwP9GBK4efYDrp4MRERyLmIgEJCYkoYBZAVjbWcDOyRIlKzujXF13lKrmAnNzM3IjARIgARIgARIggTxNgAI9T7vPZPIU6PrxJVdCAvmaQGxUAv7bdhvnD9zHA78oJcrtXa1g42AJC4sCSEp6iNjIRESGxqmIulsxW5St44aGXUvBpbBtvmbHxZMACZAACZAACeRtAhToedt/xrOnQNePL7kSEsi3BMIexGDPMm94nwhEbFQiipRzUGnsBQoUSJVJXEwiAnwj1LWlqjqjxYBy8L5/Eq1atcLevXvRsmXLfMuSCycBEiABEiABEsh7BCjQ857P0poxBbp+fMmVkEC+JCAR8b9+vIKLBwPg4GaFgqXslTC/cP0Ypi8bjuGdJ+PFF7qnYHPW+whmLh+JbjU+RNcOfWBf/S56Dng53wj09evX48yZM5g6dWq+fG+4aBIgARIgARLQEwEKdP14kwJdP77kSkgg3xF4+PAh/l7ug2ObbsHO2RIeJe0NDDIq0Ie2n4wyFs1RsbE7Wg/zhIu7I8zNzXXPcsCAAfj1118hDGkkQAIkQAIkQAJ5mwAFet72n/HsKdD140uuhATyHYHrp4Kw48crCA2IQamqLiYp7RkV6CO7TEPVgm0QG5mAJr080bBbqXzBkQI9X7iZiyQBEiABEsgnBCjQ9eNoCnT9+JIrIYF8RUAiv9sXXcHxLbfgWcMVltamUe/MCPTmtV7Brr/2YMnhD7B9y06079hGsZT072nTpuHkyZNYtGgR1q1bh6ioKFWrPn/+fJQrV87AfOnSpRg6dCi2bt2K/fv3Y9myZQgODka9evXw9ddfo06dOib+CQsLU+PLmHfv3kXRokXRs2dP9Zmjo6Ph2szMQW66d+8eJk2ahC1btiAoKAilSpXCwIEDMWHCBFhaPjpeTmrs9+3bl+J9uX79Ojw9PdXcV65cibNnz+LBgwcoUqQIunTpgs8++wxOTk6G+/7++2/FYvHixYiMjMQ333yj1lK7dm0sXLgQNWrUwKpVqzBjxgxcu3YN5cuXx3fffWdS469x055tsoNcoACmTJliSMNPTEzEl19+qeZ348YNtR5ZX/fu3Zmqn6/+9nOxJEACJEACyQlQoOvnnaBA148vuRISyFcEHtyKxIY55xHiH6OOTUtumkAf2H4smtbolOL7S77/4as1H0Ai6C1qd8GRE/9g/qa38PP8dRgy5lHNuiaOa9asqYSpCOjbt2/j22+/hZubm6rhlt/FNKEp18rmweDBgyEiXARpfHw8jh8/Di8vL3VtXFwcmjZtimPHjilRX7duXfX9zz//jIYNGyqBr4npzMxBNgRkI0DmOGrUKFSsWBG7du3Chg0b0KNHD6xdu1Y9f+fOnWpthw4dwvLlyw1sunXrBnt7e7zwwgtKTMtYrq6ukP/pa3MzFvaaQBdBLmuStURHR2P27NmKlwh62eAYMWIELCws1OcJCQnw9fU1CP3MCHSNxZAhQ9CoUSP1zKtXr+L06dOQudBIgARIgARIIL8SoEDXj+cp0PXjS66EBPIVgUuH/LFt4WXYOVvBuaBNmgI9PSiaQD977ShmrngDX338K979rJ+JQG/cuLGKOIvIFNu0aRNeeeUVjBs3TolOY4FetmxZJRgdHBzU5/JnEboi7levXq0+k+jym2++ic8//xwfffSRYYoy1vjx41W0XkStmCZKMzIHGWvOnDkqat27d2/DuCLWZczt27ejffv26vMnpbhLNFyEurFJ1FqEsYh6EcdimkAvUaIELl68aFizbGCMGTMGzs7OuHz5MgoXLqyul2wB4fDjjz9i+PDhJtwyEkGXjQDJNJAsBRoJkAAJkAAJkMBjAhTo+nkbKND140uuhATyFYHD63yxd7kPSlR2hpVNyqZuWgS9Y6OBqFW+SQo2N+5dwsqdXxsi6Nr1095Ygsk/DDURx5Lu3bdvX5MxKlSooAT7hQsXTITmzJkzVTq5sbVr1w6HDx9GaGgozMzM0KFDBxw4cAABAQGwtX18BrtEnz08PNCiRQuDCNUEekbmULlyZRWtl3RyY/Pz80Pp0qVVVH3BggXpCnTt3qSkJISHh6sx5XfZfJDUfhHfxgJd1ivr1kyyASS1f9CgQSodXTNJvxeBndrGRkYEuqTT+/j4KDZVq1bNV+87F0sCJEACJEACTyJAga6f94MCXT++5EpIIF8RkO7t+1ddh1c991TPO89MDbqkuGvXf9z/R3y24lF0VxPHJ06cSFFD3rlzZ5U+LqJaTEvVliix1EQb29tvv61S3UWgSjS5UqVKKoVdaryTW7Vq1SC11hKRzuwcbGxs0LZtWxXhT25S1y5p9du2bVNfPSmCfvToUUycOBH//PMPYmJiTIaSlPXJkyerz7QIunHEXz6XDQJJ55da+OnTpxvul7FkQ2LYsGGqbt2YW0YE+sGDB9G1a1dVFy8p+CLYJS1fNjxoJEACJEACJJCfCVCg68f7FOj68SVXQgL5isDfK3yw/7frKF/XHWZmBVKs/akF+oAf8dlyU4Eu/9OT9GpjS0ugy/niIhqNLbMCXSLXWmRe2yTIyBzSE+jNmjUzRObTEuhSH16lShXVLG7kyJHqdxHVsmnw0ksvmTRtM24SJ6JbM02gGzd4k+80gf7666/jf//7n7pcS51PLtDleZKhkHwMieRLBH3Pnj2qll7ue/nll/HHH3+o7AQaCZAACZAACeRHAhTo+vE6Bbp+fMmVkEC+InD0z5vYs8wbRco5wsb+UW24sWVWoJ+/fgwzlg3HjNFLMfG7wWqozKSXaxH0zKS4SyRYRLVmImC1FHfpwp7ZOaSV4n7z5k3V7Vzq3r///ns1rnR2X7FiRYpz0CWF/d1331XCV8S5ZlJLLpF/Y8GcFQL9zz//VB3ik29ASPM3KSNILtCNfSzN+D788EPV2V0Eu0TUaSRAAiRAAiSQHwlQoOvH6xTo+vElV0IC+YrA1WMPsPW7S7CytYBr0cd13BqEzAr005f/xee/jcA3U37D21P7mIjjtBq0iTiUpmximkCXOm3p7q41WdOaxEkX9TVr1qhrJSVc6sHnzp2LsWPHGvwm/y312T/88APeeOONTM9BGsxJo7nff/9dNWPTbPTo0ar2fMeOHZB6eDGJjstz5Cg26dSumaTiS8Rfar3LlClj+Fw6tMsas1qgSyq/ROy/+OILfPDBBynmbPw82dCQDQxjk00G2WxIvuZ89ZeBiyUBEiABEsj3BCjQ9fMKUKDrx5dcCQnkKwJhgbFYN+ss7vmEo0zNR0edGVtmBfrBI/vx3fYxWLFoI/qP6GIijrVj1nr16qWOMJPzvl1cXJQQ1wRj8mPWpOO5HLMmHc1jY2PVMWpy7JmYdsyafJb8mLUGDRo88Zi1J83B+Jg1iZZLBFoiy1IXb3zMmsxBUsylk3q/fv1UDbekk0vavpxjXr16dRU9l07ykjYuNe2BgYHqPPisFugyFzmX/d9//8V7770H6Qj/119/Kc7Cx/h5BQsWRJMmTVQDOmk2J2ehy8aD1POL0Bef0EiABEiABEggPxKgQNeP1ynQ9eNLroQE8h2Bvb9449A6XxTzcoKto+VTC/SmNTpj1449WHp0LHb+tQtt2rY2EejyPz2JeovQlaZw0mVdRLo0KtNME+hSHy3nmEtttUSnRUx+9dVX6qxzYxPxLuJTziaX5nFFihSBiG9pwiYN3TQzrkFPbw5yjwhsac4mKfLyfEltl27q0mldO1tdrpPO7NKNXWrmpZu8pItrae27d+/Gxx9/jHPnzsHOzg6dOnVS0f5ChQo9F4EuKfiyoSCbCVZWVmqjQJjJ5oexQJ81axY2b96sjm6TWnQR6dIUTxraGafj57u/CFwwCZAACZBAvidAga6fV4ACXT++5EpIIN8R8L8Rgc3fXsSdq+EoW9st1WZxGYFy52oYLK3N0XJAWVRvVSSFOJZ6aGMxntqYmkCXxmVt2rTJyGMzdI0m0DMyhwwNyItIgARIgARIgAR0R4ACXT8upUDXjy+5EhLIlwSOb7mFg7/fQHxsEopXdEr1yLUngQm6G4WQezGo1a4Y2o/wgrn5407gmRHHFOj58vXjokmABEiABEggVxCgQM8VbsiSSVCgZwlGDkICJJBTBOLjErFvhQ/O7L6HhLgkFKvgBAur9I/bSkp6iAd+kQgPikXFhgXRbrgXnDwed1SX9VCg55RX+VwSIAESIAESIIHMEKBAzwyt3H0tBXru9g9nRwIkkAEC8bGJOLjGFxcP+SPALxJuxWzhWsQW5hYphboI8/DAWCXO7ZytVGp8y4Fl4VzQVJxToGcAPC8hARIgARIgARLIFQQo0HOFG7JkEhToWYKRg5AACeQ0AWlydvXoA5zYehv+vpEIDYhRkXRbB0uYWxSACPPYyATERCbA3sUK7iXsUK15YZXaLvXnNBIgARIgARIgARLIqwQo0POq51LOmwJdP77kSkiABADERifg+qlg3DgdDH/fCESHxyMp8SEKFACs7S3gXswOJau4oFxddzi5W5MZCZAACZAACZAACeR5AhToed6FhgVQoOvHl1wJCZBAMgIJ8UkIC4hRtelm5gXg6G4NazsLciIBEiABEiABEiABXRGgQNePOynQ9eNLroQESIAESCAdAnHRCQi5G4Oo0Dg8TAKsbM3hUtQWdi6WmT4BgLBJgARIgARIILcQoEDPLZ549nlQoD87Q45AAiRAAiSQiwkkJiTh1rlQ+BwLxN0rYYgJT4AI9YcALCzNYONoCZcitihbzw1l6rrDzskyF6+GU3tWAtKvIvpuBGLuRyAmMApJsQkoYFYAls42sCloD/uSzjC3YabNs3Lm/SRAAtlLgAI9e3k/z6dRoD9PuhybBEiABEggRwkE3ozEsfU3cetcCILvRMPC2gy2jpawsrNQfQniY5MQExGP6LAEOLpboWBZR9TuWAzlGrgzop6jnsv6hz9MeoiQc/cRdPoeIm4EIz48FolR8UhKSFK+FlFuYW+lRLpL1UJwr1scVi4pT3fI+plxRBIgARJ4dgIU6M/OMLeMQIGeWzzBeZAACZAACWQpAe+jD/DvWj/cuRgGO2dLuJWwg6VN6h37pZFgmH8MAm9Gwb2kHSo1L4RLMXsxbNjruH79Ojw9PbN0btk12I0bN1CmTBlMnDgRM2bMyLLHTp06FdOmTYNEo/OCxQZF4e4ubwSfva8i5xYO1kp8W9hZooClGZD0EIkxCYiPiEPsgyiY21rCsawrCrfwhGuNItysyQtO5hxJIJ8ToEDXzwtAga4fX3IlJEACJEAC/0/A53ggDq64jrtXwlG0oqM68/7cjWOYumyYCSMbS1t4OBdFo6rt8EqjQbA0s8XdS2Gq4/9Nm4OYtXhcjgj0s2fPokaNGnjvvfcwb948kzkvW7YMQ4YMQb169XD06FGT77y9vVG+fHmMGDECixYtAgU6EH03HL7rLyD0oj/MrCxgX9IJZpZpH60omw5xwdGIuhUGuxLOqDXlRUyePFltSIj9/fffaNWqFfbu3YuWLVuqz/LahoX20kjmQP/+/bFixYos+9mxdOlSDB06NEf+3mTZIjgQCeRBAhToedBpaUyZAl0/vuRKSIAESIAEAITej8b2+ZfheyoYJas7w8r2UT2xJtBb1+6Gqp511WdRsZG44HsCh87vQI2yDTF54A+QVOjbF0JxKmAnlu6fkSNCQ0Sih4eHin4fP37cxK+vv/46fvnlF/VZcHAwHBwcDN///PPPeO211/Drr7+iX79++V6gxwZH4/rKMypyblfMAdZudjh69T8M/mY0Pu07Ab0av2K6+bF3FT5fPx9NKjXAN0NmIs43Eo0WvoKxr72LuT99lSsEemhoKNzc3NClSxesX7/eZP779u1TmwaFChXC/fv3Tb6Ljo6Gi4uL2lzYvn27+o4CnT8ySUA/BCjQ9eNLCnT9+JIrIQESIIF8T0CE7Z4fr+H0tjtwL2UHB7fHZ91rAn1k5yloU6e7Casv1nyAIxd34aexe+Bs7w5pLLfuz9+w5uwcnD1xCdXqVMx2tl27dsXmzZuVCHd0dDQ838vLC02aNIFE0nfs2IF27doZvpPIpUQwb968iRIlSuRrgS4bLb7rzuP+/huw8bCDtbud4pSWQP/xr2X4atMitKrWFF+/9hmsLK1Uffq9s35wLVcIFQfXhV1xp1wRQa9duzZu3boFf39/k/T76dOn49NPP0VCQgIuXryISpUqGd4Nifi/+OKL+Oyzz/Dxxx9ToGf732g+kASeLwEK9OfLNztHp0DPTtp8FgmQAAmQwHMl4H89Alu/vKjqyYtXcTZ51pME+k9bZ2HbsVVY9tEB2Ns4qfu2HliLJXumY/NPh9HptYbqMy2lWdKcjS2ttF4/Pz+VGr1t2zY8ePAAxYsXV5FtSZm2tn68eZAaFElt/+CDD9S9L730krrk7t27KFasGLZs2YIxY8agT58+JrXl5cqVU9dJqruYcYq7iDpJxb569SpKlSql7nv11VcNj46Li8PMmTPV865du4bIyEiULVsWb7zxBt555x0TIZhWSvf58+fVekUMhoWFqQyA4cOHq1R9MzOz5+r75IOHnPfHjTVnVTM4x7Juhq9TE+jfblmMBduXoH2tVpg75FNYmj/u4i516ZG+ISjUtDTK9KsBiVJnR4p7RESESXaE8freffddzJ8/H8K7SpUqhq/atm2rouTiQ3l/xHeaiV/Eb//884/a4BFjBD1bX0k+jASeKwEK9OeKN1sHp0DPVtx8GAmQAAmQwPMkcHStHw6uvIGCnvawTXZcmibQh7T/EM1rdFLTiImLwiW/U1i85TNUL1sf43p/bZjenpMbseDPKVjwzlYMn9teHcmWGYHu4+ODRo0awdLSEsOGDVPC+tixY5A09Pbt26vouAiktOzEiROoW7cuJkyYoISz2OrVq5XADwwMhIg0ecb+/fvVd3fu3FEbABJFX7JkifpME+gvvPCC+n7UqFFKwC1evFiJO4myVqhQQV0rGwgSce3Vq5f63dzcXEXoZZ6ffPKJisxqlppAP3LkCNq0aaMi94MHD4arq6sS6mvWrFHPXbBgwfN0vcnYkklxfdVZ3P/7OpwreZjUnCcX6HM3foclu39F57rtMWvgJzA3M61Pr/x2Iwxr2A9vdRyG8kPq4Jj3yQwL9IxuWEgTQuEmonrcuHHqPRGxvXHjxlSZSWp7jx49sHDhQowcOVJdI1Fz8e2cOXNU6nuRIkVMastbt26Nw4cPIyQkBFZWVuoeTaDLJoo898yZMyo9fuzYsXj77bdNni1z++OPP9Q7I2n2JUuWRN++fdW7oY0nNzyPzapse3H4IBLIwwQo0POw85JNnQJdP77kSkiABEgg3xPYPPcCLuy5j7L13VKI39SaxGnA6lVshXd7zIK1pa2B4d5Tf+D7PyZjTv8NGDqzLTxK2WdKoHfq1Annzp3DyZMnVc2wZt99950SP1IHLEI9LUtMTFT3Va9eXUU9xUaPHo2DBw/i1KlT+Omnn9R/i1iSaPxvv/2mxLtsAEgTOTFNoNvZ2SlhJZFzMalPlj9LZFwEnZg8T0Re8si+CP61a9eqTQFNiCUX6CKIpamd3CvzMx5DxJ6IuwsXLpikXD/PlzUmIBJXfjymOrI7lnvMXp6pCfRpfcbj2l0fLN+3Bj0bvYJpfT5KNcovAn1k6yEYUrkHSnapjCsWNzMk0DOzYaGdEiBZB9K0TVja2Nhg4MCBqWKSzRQR0pJBsXLlSnXNv//+i4YNGyqRvW7dOrVJIxkcYvHx8Uq8N2jQAHv27DGMKQJd3i/JzJBou2zwrFq1CgcOHMCuXbsgol6zokWLqvdVrpf3Sd5JuVbmq/VEkGtTE+jPuln1PN8Vjk0CeiFAga4XTwIU6PrxJVdCAiRAAvmaQHR4PNZNPYNAvyiUqGqa3i5gNIHeueFA1PZqqljFxsfA5+5FbD68HBVL1sRHfb+Bpbml+k4T6NO7rkWf8S1QvoFHhgW6RCnd3d1VlFsi4MYWFBSEihUrqijl3Llzn+izjh07Yvfu3UqEi2ATcSRR/G+//RZXrlxR40jKdfPmzVWUWjq3ixiS1HIxTaD3eKUHfpjxqAGeuY05bAvaokGrBqrju4i55CZCPTw8XIl22UgQoXj69GklHMWSC3QRhTVr1sTXX3+tBJuxyX0SWZeNCdlQyA4LPncfPitOq7XaeNibPFIT6MXdiuJ20F30b94TE3u+n2Y2gwj0N196Df1LdEaRFp7wKxGSrkDP7IaFCHRfX1/VV2DQoEEZQlS1alX1Xkgtupi8S5JpIe+XiHBhrh0RKJHzxo0bY8qUKcp3molAl18i7uVUAPV3IjZWbd60aNFCZT9oJiUP9vamLCVtXn5JzwMR92KpCfRn3azKEBBeRAL5nAAFun5eAAp0/fiSKyEBEiCBfE0g5F40Ns44h6iQOBQu/7ipmgblSTXoB89tx1frPsLwThPRvu6jumxNoE/utBq93muOaq2LZFigy/FnEq18kokQE0H2JPv888+VwJdUcRHH0tldopZa7XjhwoVVNH7SpEkQwSYRWBFLSYlJCL0aipM7T6L1mNYY0GAAhtcfrs4tN7Mwg4W9Bd5e/TasHKywd89eWLs+qoeX47a+/PJLyDFvIs6NTdsIkM+SC3QRcr17937iWoyPKnveL+q9fdfht+4C7Eo4qbPOjU0T6NaWVoiNj1PifECLXmlOSQT66A6vY2DZrnDwdMH9WrFo3bbNE49Zy+yGhQh08Z1ExjNaq//mm2+qFHfpNyC9Ajp37qzWsGnTJtU/QCLmkmUh79ns2bMxfvx4Jdylfl4zEecSdRcBb2zSIV6Ev5RZJDd5L2TzRjZxJCtChLykvr/yyqOO+MkFelZtVj3vd4bjk0BeJ0CBntc9+Hj+FOj68SVXQgIkQAL5msCzCPTImDAMnt0Mjaq0wwe9HkW1jQX6q+83R9UXiyhxIyI3eZM4EUJSZ65FLCW9WerPpT5YaoVTM0kZFlH9JNMinxKllAi1dHa/ffu2qmcXk7FFLEl6e8GCBVWK+4/zfoTvNl8EngvE9WvXMWjjIAyoOwAjW40EzICk+CTER8Tj3Y3vwszcDIvfXIwSL5bA/pv7Vcp0hw4d0LNnT1XDLCnt8o++jz766ImCVDYNpB5ZIrRNmz7KTkhuEtXXmtg97xf1zs5r8Nt4UaW3m1uZ1pRrAv3Drm9hy4mduHjrCqb2/givNumS6rQ0gT64QnfYFHWAf804tOnQ9ok8MrthIQJdMi5SE8RpsdKYS0mD1PzL/SLCpZZcrH79+mpT53//+x8kgi0p6yKWbW0fl3GIQBefy/tjbFIiIRsy8j5rJv0I5D2UY/8kZd7YjCP/yQV6Vm1WPe93huOTQF4nQIGe1z34eP4U6PrxJVdCAiRAAvmaQExkAtZNOYMHNyJQoppLChZPiqCHRgbh9S9aoVb5JpjU/1EzM0OKe7e16Du+BcrV90D37t1VxFLSto1t4sSJKr1YE+gBAQGQ6LbU9Ura+dOaVjssYl8EukQqpcO6ZpJSLk26pN5YourzpsxDU4umCLkaAgs7C4TahaLbvG54vfXrePOlN02mMXzhcCXWP2/2OewK2+HT/Z/CO9Ab17yvmURxf/jhB7XRIFF8rUle8gi61tBORLik2Oe03d3tDb8NF1XE29zmcUd2mZdxk7g2NVtgyDejcfWuD2b2n4SuDTqmmLom0Ad5dVPHrN2vFYc27Z8cQc/shoXWJE7rNZARSaQSkQAAIABJREFUflpHf+kRIL0EatWqhUOHDqmNITE5AUCi6ZcuXVK9DKpVq2boZaCNn1YXdxHosgklJRJisuEkGy8i+mUzQBraSZ8B2SySa437HiQX6Fm1WZURJryGBPIzAQp0/XifAl0/vuRKSIAESCDfE5Aj1s7uvItyDdzTbBKX2jnoO0+sww+bP0W3pq+jf+sxJgJ97oCNGDqrLdxL2KlIsohiES4SAReTOuDKlSurRluaQJfPpaGWNNsS8SrfG1tMTAzkWDMnp0dHuj3JpJZYRI6cfy4iTMSQZhLNlNphOTZLmrOteWsNnAKd4FTWCdYu1tj470ZMXzsdDSs0xPfDvzd5zMszX8bd4LtoU70NJjScgGm7psEnwgc+fj7Yf3C/qmGWzu0iNiWV+UkCPSkpSR0JJmnPkmIvmxPGJlF+6WYvdfTZYYHHb+P66rOwcrKGlevjiLE8O3kX98DwIAya/yZ8A25h9qAp6PRCW5MpagK9f8nOcK9bDLfLR6jzxDOyYTFr1iwV1U7Pnkagy5jyTkhGhwh0eTeNO7RLB/hu3bph69atkF4GxqcBaPPJqECXY/Jko0nq240j8BJVlyMAnyTQs2qzKj2G/J4E8jsBCnT9vAEU6PrxJVdCAiRAAvmewLENN3Hw1+tKTNu5PDpKSjMtgt66djdU9ayrPtaaxO09uRGOdq6YM2IVXB081HfaMWuL3t+OYbPbwtzCTEWv5Qgyac42YsQIREVFqSPLJL1YjsYyFugSSRbhLLXFr732mopgSm3w5cuXVVd0OTJNRHB6JiJZUsfFJJVextJM6oGl1ljOzHZ3cMfKV1bCuYIzLO0f1V1fuXMFfb/qC8+Cnlg3zrQZXMtPWiI8Jhzuju7Y8ckOrN22Fp/v/Rwt6rWAQyEHdda6HKUlqfPyD78nCVJ5Vp06dVQHcWdnZ7z++utKPAYHB6tO9nLsl3Sel6Z02WGRfiG4uuQ/JEbHw76kacPA1M5B9w8NwMD5b+JO4F18OXQG2tVqaZimahLXbigGlOmCEh0rwtvpXrpN4mTDQsoXZP2SbZHehsXTCnQpq5B3Qt4z2QARH2km9eziO23zJrVTAzIq0KWhodS7+/v7GxrFybsnm1DSxPBJAl3mk1WbVdnx7vAZJJBXCVCg51XPpZw3Bbp+fMmVkAAJkEC+JxB4MxKb515E8J0olEyW5p7aMWtmBczh6uiBmmUb4dWWo+DhXMTAcMu+tfj57+nYuvQIOgx+3PBNxKaktEuqu3S7luiidLeWVGNjgS4DSVRdUt/lLHFJB5aIuaSBS03wW2+9pZq+pWdSC6yllou4184t1+5r164ddu7cieaezTHz1ZmqQ7tmd4LuoPOszrCxtMHBmQcNn8cnxqPxhMZwtXdFYEQg1o9bj1LupbDk9yXY5LMJt4IfdQaX9PlmzZqpM7nTE+gyx+joaJUtIPORyKmkVotQlwZisl6JvspmgkTbn6clxSfi6k8nEPjfXbhWK4QCZo/Pm09NoCtfBd/HwK9HQcT6/GGz0Krao1p6EehvNB2AEc0HoUzfGjj94GK6Al3uk87owk2Ec3obFk8r0OV4M0k513xlfFa9mnvlyirFXc60l80CR0fT5okZFeiSCSLN4CTFXTr6i59lg0k2IkQUpCfQs2qz6nm+MxybBPI6AQr0vO7Bx/OnQNePL7kSEiABEsj3BCTd98Cy6zjx5y24FLWBU8GnS6lOiEuC76lglKnrjo7vVYK9q2k0PjeBjg6IxulvTyPiZgRcq7imSO2fs3EOVh9cjbUfrkWZQo+OXztz4wyGfj8UK99dqX7/sMuH6NagG+LC4hB8IxjdV3dH46aNVW37F198obp/yzFgYrVr18bHH3+smskZm7aJYNxATxOAcvSaZAFId3jJPJAyARGlco/ULBtb8vp2Nd8zZyBd4EX0Spq1bGzIPD777DNVm5+a+R/0VY3ipAbdtvDjDYG0BLqMcevBHQycPwpBESFY8MYcNKncQAn01+r0xoevvYcKw+ti/6EDGRLoMt7Vq1fVHJ+0YSHXPa1AF59oZ6hLurls1hib9ECQDI+6deuqDI/kllGBLveJIJe1yJpk46VXr14YPny4ygxJT6DL/VmxWZWb/t5xLiSQ2whQoOc2jzz9fCjQn54d7yQBEiABEsiFBCKCYrHt68u4fjwQxas4w8bBtElYelNOSnyIm+dC4FLEFs2HlFXnn+dmu7n7Jq6uvgobDxvYuKXckNh9ZjfGLR+HiT0monvD7mopS/cuxS9//4LdU3djxKIRKOJSBJ/2/VTVMx/YfQDv7XgPkydORvVa1dURbnLslhzlJen6y5cvV2nrIjpbt25tQJOWQJco7p07d1SjOeniXqhQITVeRgW6pGrLGJI6Lyndcv+9e/dUl3HJWpAu5KlZQmQcvJefQtDJu3Dyck/RLC4jPhUeET7BsHC0RqmuleFe51H3fBoJkAAJ5DYCFOi5zSNPPx8K9KdnxztJgARIgARyKQER2PuX+eDO+VAUKucAB/dH53ynZ/Exibh9MQyOHtao+VIx1O9ZMkVEOr0xsvv7i8suwm+7HzzqeKQ61+CIYLSZ1gYdanfAjH4z1PTG/DQGFuYWmDdkHhZsX4Ct/23F5o83q+8WbViExYcWY9PyTXix+4uws7MzWVJsbKxqVifp/RK11SwtgS7fG5+hrl2fUYEunevleDmJnkuKdWYs7Gogbvx+DpF+oXCq4J7iyLUnjSXiPOp2OBJj4lGoaWmU7l7VJFU+M/PgtSRAAiTwvAlQoD9vwtk3PgV69rHmk0iABEiABLKRgN+ZYBxZ7Ytb50NhYW0G95L2aUbTE+OTEHI3GiH3YlCorIM68/yFLsXVOeG52eSYtP/m/Ifgq8Fwr+ae5lR7zu2JqLgobJ24VdUNt5rSCsPaDMPAFgNx+PJhvPW/t5RAL+paFKMXjsaJGydw6a9LKNu6rGFM6TwvTe5EuEptuqQ8S7p5egJdUtClQVxyy6hA12rwJa1e0tzleK/MWMC/N3F3pzci/ELhUMoZVi7plz1IDbuIelmrRM1L96gKC/vcW+aQGR68lgRIQJ8EKND141cKdP34kishARIgARJIRiDUPwbHN9yE3+lgBN2OxsOkh7BxtICVrQUKFACk1jwmIh7xMUlwLmyDwuUcUOeVEihZ3SXXR85lqXHhcfhv7n+Iuh8FF6+UZ79rOGaum4l1R9Zh04RNCIsOQ/+v+2PZ28tQrVQ1RMZEKsE+9dWpaF+7PVpNboUyzmWwZfkWFG1VFNOnT4c0I9Nq0LUxpX5ZxH56Al3Ojl+3zrSDvNyTUYEuInnAgAFYuXKlajLXuHFjdbRXv379UKxYxlLOg07fxb091xF2LRBm5gVgU9gBlo7WJhFxeU5SbCJiHkQhLigKtkUd4VqjCIq/5EVxzp8sJEACuZ4ABXqud1GGJ0iBnmFUvJAESIAESCAvEkhKeoj718LhcywQdy6HISo4DnHRiWop5pZmSrAX9HRAmTpuKFXLFVY25nlmmfER8Tgx50S6An37ye2YuHIipvWepgT699u+x77p+1Sau5gI9solKqNHwx4YMH8A+tXoh1lfzMLsjbPV8VqjRo1C06ZNVXMw6QguTcFEMIuoTU+gS4O4FStWpGAq3eylM3jyJnESnZ8xY4bJ2HKzHFcmR79JRF0a0VlZWUHS3+VM8oxYbGAU7u27gbDLAYjxj0R8RBzMLMxQwMIMePgQiXGJ6r+t3e1gV9wJBRuVVAJdNiJoJEACJJDbCVCg53YPZXx+FOgZZ8UrSYAESIAE8jiBpMQkhAXEIio0XkXTre0s4FTYJk+JcmMXJCUkqQh68KVguFdPO8U9IDQAL814CV3qd0F4VDgiYiKwcMRCw1Bf/PEFDl0+pAT6vE3zMLvjbAycOBBVOlVRDd2Si+i+ffti1apVzyTQ5dx0OWddRLaxiaBPLv6Tv3Z+fn6qe3uNGjWUYM+MxQREIvRSAGLuRyDqTgQS4xJUNoWNhz1sCtnDwdMVjuXdYGaZdzZqMrN+XksCJKBPAhTo+vErBbp+fMmVkAAJkAAJ5EMCl365BN9tvvCo7fHEJmZdPu8CswJmSpz3atQLb7R7w0Br15ld+Gj5R6hZuibO3TyHraO3osE7DVCuQTl1ZvuyZcsM18pZ7NIkTmrSnyWC3rt3b3W2uqTOS+q62I0bN1C1alVERUUZxpY6d1dX0+Pj5LkVK1ZUUXTpKP+0JuM8THyouBmflf604/E+EiABEsgpAhToOUU+659LgZ71TDkiCZAACZAACWQbgdt/38aVVVdg7WoNG/e0G6BNWzMNfx77U81Louf1yz/uiB4YHoh2nz46Q7uie0Ws+GAFar1TCyPHjFTp7HJ2uZw77uPjo1Le5ci1kydPPpNAlzT1Vq1aqZpyiZoHBARgwYIFKqp+4sQJw9hyZvr8+fPRrVs3lC9fXqWc//nnn9i+fTtmzZqF8ePHZxtrPogESIAEcisBCvTc6pnMz4sCPfPMeAcJkAAJkAAJ5BoCMUExOP3NaYRdD4NbNbc0a6Y3Hd+EqaunwtzMXNWf21o9ilpr1m12N/g98EOv6r0w5/M58OzoiYiICEyYMAHr169XHdsrVaqkBPHFixcxbdq0ZxLoaqNg4ULMmTNHnZPu5eWFKVOm4Pz58yZjy0bAvHnzcPDgQXX+uXRxl+i51MUPHjw41/iBEyEBEiCBnCRAgZ6T9LP22RToWcuTo5EACZAACZBAthPw+dMHNzbfgJWTFeyKmJ5bntHJSH1+0JkguFZ2RdU3qsKu0NONk9Hn8ToSIAESIIGsI0CBnnUsc3okCvSc9gCfTwIkQAIkQALPSCA+Mh7nfzwP/+P+cCrnpIR6Zkwa5oVcCVH3le9RHkWbFM3M7byWBEiABEgghwlQoOewA7Lw8RToWQiTQ5EACZAACZBAThGQFPfLKy8j+EIw7Evaq3r0jBwRJseLhXqHwtLOEsWbF0fZ7mVhZm6WU8vgc0mABEiABJ6CAAX6U0DLpbdQoOdSx3BaJEACJEACJJBZAqE+ofBe562OXUMBwKGEAywdLFMdRo5oiw6IRtS9KDgUd0CRhkVQpnMZmFlSnGeWO68nARIggZwmQIGe0x7IuudToGcdS45EAiRAAiRAAjlOIDYkFn47/BBwKkCJ76T4JCXSLewslGiX/5aU+MToRBVldyzliJJtS8KjpkeGIu45vkBOgARIgARIIAUBCnT9vBQU6PrxJVdCAiRAAiRAAoqAnO8dcTMCAScDVG25iPaEmATgIWBmYQZLe0vYF7eHe3V39UvS22kkQAIkQAJ5lwAFet71XfKZU6Drx5dcCQmQAAmQAAmkICAN4OQotriQOMifzW3MYVvQFha2FqRFAiRAAiSgEwIU6DpxJAAKdP34kishARIgARIgARIgARIgARLIhwQo0PXjdAp0/fiSKyEBEiABEiABEiABEiABEsiHBCjQ9eN0CnT9+JIrIQESIAESIAESIAESIAESyIcEKND143QKdP34kishARIgARIgARIgARIgARLIhwQo0PXjdAp0/fiSKyEBEiABEiABEiABEiABEsiHBCjQ9eN0CnT9+JIrIQESIAESIAESIAESIAESyIcEKND143QKdP34kishARIgARIgARIgARIgARLIhwQo0PXjdAp0/fiSKyEBEiABEiABEiABEiABEsiHBCjQ9eN0CnT9+JIrIQESIAESyCUEHj58iLiQWETdj0J8eBzw8CHMbS1gW9AONh62MLMwyyUz5TRIgARIgAT0QIACXQ9efLQGCnT9+JIrIQESIAESyGECCTEJCDr7AA9O+SPydgTiI+KRGJugZiWi3NLeEjYednCv4QH3WoVg42aTwzPm40mABEiABPRAgAJdD16kQNePF7kSEiABEiCBHCcQei0EN/+6gdCrwYgJjIGloyUs7a1gbmsu++FIiktEQmQ84kJjYWFvCYeSTijWsgQK1S8CM3NG1HPcgZwACZAACeRhAhToedh5yabOCLp+fMmVkAAJkAAJ5AABSWe/d/AObu3yRfj1UNgUtINtYbs009jl+tjgGET6hcO2kB0K1SsCzy7lYW4tQj532o0bN1CmTBlMnDgRM2bMyPZJtmzZEteuXcOtW7ey/dnaAwsUKID+/ftjxYoVWTaHpUuXYujQobh+/To8PT2zbFwORAIkkP8IUKDrx+cU6PrxJVdCAiRAAiSQAwTuHb4D3y0+iLwVAecKrrCwtcCxa8cxfMFITH51Ero37JpiVkeu/IuRi0ZjfMux6FitA4o1K44yPbxybSQ9rwr00NBQuLm5oUuXLli/fr2JH/bt2wcR/oUKFcL9+/dNvouOjoaLiwtatWqF7du3q+8o0HPgLxcfSQIkkGECFOgZRpXrL6RAz/Uu4gRJgARIgARyK4GIW+G4vPQ8Qq+GwLWqG8wsH0XBMyrQp/WejJZuzVRtepluXijSuFiuXGpeFegCs3bt2iry7u/vr0S2ZtOnT8enn36KhIQEXLx4EZUqVTJ8t3fvXrz44ov47LPP8PHHH1Og58q3kpMiARIwJkCBrp/3gQJdP77kSkiABEiABLKRwMOkh7i09BzuHbgNx7LOsHSwMjw9wwK9zxR0fqETgs8+gEsld1R5ozps3G2zcRUZe1ReFujvvvsu5s+fj/Pnz6NKlSqGBbdt21ZFybdt24Z58+bhjTfeMHw3bdo0TJ06Ff/88w+aNGlCgZ6x14RXkQAJ5CABCvQchJ/Fj6ZAz2KgHI4ESIAESCB/EJCmcBd/Oov4yHg4lXE2WXRmBHqX+p0RGxSDDQc34vO9X6RajyyR3ylTpijRKPb333+r9OvFixcjMjIS33zzDe7evauixQsXLkSNGjWwatUqVS8utdvly5fHd999p1K6NdPG+PHHHxEWFqa+lzGqVq2Kzz//HCJgNTMW6BUqVMCsWbPUPMuWLYtJkyahX79+JusXwfvHH3+oyLSkmZcsWRJ9+/bFJ598AiurxxsZcpPMf/bs2VizZg3kOU5OTqhVqxYmT56Mpk2bqnFTq0GX58sck5KSsHPnTpQrVy7VF09S23v06KG4jBw5Ul0jUXMR53PmzFGp70WKFDGpLW/dujUOHz6MkJAQw3y1FPfhw4dj3LhxOHPmjEqPHzt2LN5+++2nWn9aNeh+fn6QTQLZPHjw4AGKFy+uGAsTa2vr/PEXjKskARLIFAEK9EzhytUXU6DnavdwciRAAiRAArmVwPUN13BjkzecyruounNj0wT62C7vo9MLHVMs4T+f//DB0nGY1mcKRKBL47iV61Zi7qGv4H3FG2W9yprck5ZAF0EeFxenGo1J3bQIXRG4kpotAm/EiBGwsLBQn4so9fX1Vd8bi/yaNWsqEa1FkH/44QfcuXMHe/bsMQhkTaDLtbdv38bo0aPVOCIwz549i99++w19+vQxzLlo0aJo3749qlevDjs7OxWJlg0DabL2yy+/GK6TObdo0QLHjh1Dz5491Z9jYmJw6NAhvPDCC6opXWoC/dy5c2jXrh3c3d3x119/QZ6XlonAFSEt81u5cqW67N9//0XDhg2VyF63bh2WLFkCEcVi8fHxSrw3aNBAMdBMfCDrkU0MYSWiWdZ04MAB7Nq1CyLqNcvo+lMT6D4+PmjUqBEsLS0xbNgwFCtWTPH5+eefFdPNmzebpOrn1r8fnBcJkED2EqBAz17ez/NpFOjPky7HJgESIAES0CUBEdTnvj2JgP/84V6zYIo1agI9vcVrAl2uW711DWbtmoPz/55DlfpVTW5NS6CXKFFCRakdHBzU9d9++y3GjBkDZ2dnXL58GYULF1afiwgVASzRcokAi2kRdBHacq1EkcVEgEqUXNLBRciKaQLdzMwMp0+fRrVq1dTn4eHhSrSK+JdrZDNATKLi9vb2JmuQDQP5dfPmTSVuxSTCL1F1SUGXeRubMNZqxo0j6BLZ7tSpk6oZ37JlC1xdXdPDrLICZBNC6wI/d+5czJw5E0FBQUqEt2nTxpC5IOM3btzYJGNBHiBzkV/CpF69euqZsbGxKFWqlNpYkAwAzTK6/tQEuqxNNiBOnjypGtxpJhkOEqmXpnUi1GkkQAIkYEyAAl0/7wMFun58yZWQAAmQAAlkE4HYkBic+fo/RAdEw7m8S4qnagJ9YIv+aFK5cYrvL926jK83f2OIoMsFa3evw4wts3BiyzHU6VjX5J60BPqECROU0NTs+PHjSjwOGjQIy5YtM3x+7949FWWW1GyJpotpAl2iwRI1Nzb5TNLnpbu5RJ81gS5R6x07dphcK8+XSLcI1/r165t8l5iYqES8CPgLFy4oISup76+88oq6TlLxRThLurqI/7RME+gS6e7evbuK7MumQ/JNgLTuf/PNN1WKu7e3t0rL79y5s7p006ZNajNBIuY//fST4iZ8xo8fr4S7lBFoJj6QqLsIeGOTDvEi/E+cOJHi8emtP7lAl5R6yQqQunnxrbHJZkLFihVVSr1sMNBIgARIwJgABbp+3gcKdP34kishARIgARLIJgKRdyNw7rtTSIiKh0OpRynjxpbZGnS5d/2+9fj0j5k4uu4I6nVvYDJeWgJ90aJFKo1dM6k39/LyUnXh0qVcM0kbt7W1VSnTIrzFNIH+5Zdf4v333zd5nnwmQvDIkSMq1VsT6BLBlXp3Y9Oi85Lu3bt3b/WViHiJlsuGgaSMG5tsHIgQFpM5Sbd0iYQ/yUSgy1wkql63bl1Il/XktexPul/mJjXwkiY+ePBgJYJFhMuGhZhsLMhmwf/+9z8VnZeUdRHLMj/NxAeSJi/p/MY2ZMgQyJFtssmgWUbXn1ygHz16VPF+kiXffHnixfySBEgg3xCgQNePqynQ9eNLroQESIAESCCbCETdi8TZ704iPiIejqWzSqBvwKd/fIaj6/9FvW6PI9EShZXU8bSaxIno1kwT6MbXyneaQH/99deVCBXTBLo0dHvvvfdMyKUl0CUNXdLRjS25QBchLRFuEb0ihiUNXxqbSe26iFkRyfK7WGYE+qVLl1R2gKR4i0iWlP2MmqTtSy231Oq/8847qgmd1LlLrbfYBx98oKLp8gxJK5cUfqmbN7a0zkGXtQhL2cQQy8z6kwt0uVfmJM3spLFdaiaZEJKyTyMBEiABYwIU6Pp5HyjQ9eNLroQESIAESCCbCMRHxOH0VycQeTsCLhUf1wlrj3+aCPpf//yFces/xt7f96Blz8ep1VevXlU14c9LoGd1iruIfYnsS0q2cQRaosovvfSSiUDPbIq7NFDr2rWr6touNd/dunXLsMcls0Ai8CLQP/roI5MO7Rs3blRjbd26FR07dlTp5calA/KQjAr0zKw/uUAPCAhQfQPEJ8KQRgIkQAIZJUCBnlFSuf86CvTc7yPOkARIgARIIBcSOL/oNO4dugP3WgVTdNV+GoF+5thpDPrtdcyaNgvjJ483rFg6pi9YsOC5CfS0msRVrlwZknItllaTuIiICBVtljR26RAvkX5JjZd6b39/f0ONuGQBSGOz3bt3mwh06TYv6fjS3O6tt94y8XJaTeKkMZvUfUuN+Nq1aw317Om9IpJpIHXmcq65dEiXNHnNpNN7wYIF1XcHDx5MtRFbRgV6ZtafWpM44SSd4aWmXXxgbJIJIV37tU786a2Z35MACeQfAhTo+vE1Bbp+fMmVkAAJkAAJZCOBmztuwGfDVdgVsYeVs+nZ1JkV6A8THyLwTADGH/kE526eVynnkhouR4hJarjUcj+vCLp2zJqkVYsolsitPFPEdPPmzU0EunbMmohpEYmSri7HrP3666+Gs9BFXEozOElxHzhwoDr+bfXq1eq8cvkHpHGKuwjOZs2aqfW9+uqr6s8i9iX9XI6Q+/jjj9Xzk5+DLvdJozmp/ZZzzKVuPD2T490k5V5MOsd/+umnJreIGJYUd3NzcwQHB8PR0dHk+4wK9MysP61j1mSjQM6mf+2119QGiDSyk077siEhLKXrPI0ESIAEjAlQoOvnfaBA148vuRISIAESIIFsJCCN4i4sOoPIe5FwqehqEkXPrECPuhuJxNgE2LZyxNSfPlXRYWmCJt3Gv/rqK3h4eDw3gS5Hr0kn9e+//16dfy71zbNmzTI5ykuLoEu3dkm3l+8l3bxMmTIqAj5gwAAT8iIiJTou6flS092rVy91vJuITWOBLjdJFF7SySVlXc4il47qderUUSJahGpqAl0+E+H/8ssvq4i3pKhL+vyTTCL8np6e6hJJt5eO9Mamda6XJnRy7nhyy6hAl/syuv7UBLrcLzXzwkTOPJfNEtkMEdayESGbI/I+0EiABEiAAl2f7wAFuj79ylWRAAmQAAk8ZwISbb6+/ipu/uULGw9b9etpLDEmASGXglDwhcKoPKw6LOwsn2aYTN+jNYmTru7GjeYyPRBvIAESIAESyHECjKDnuAuybAIU6FmGkgORAAmQAAnkNwJxobG4+NM5BJ72h1M5F1g6WmUKQVJCEkIuBsG+hAO8+lWGa6WUDecyNWAmLqZAzwQsXkoCJEACuZwABXoud1AmpkeBnglYvJQESIAESIAEkhMIvRYC7zWXVRTcvqQjrN1tUjSNS41afGQ8wrxDYF/UHiXaeqJYyxIZui+rPECBnlUkOQ4JkAAJ5DwBCvSc90FWzYACPatIchwSIAESIIF8S0BE+o0/ryHkcrBiYFfMXkXTpW45uUlKe9S9KMSFxMCprAuKv1gSRZoWz1ZxLnOiQM+3rysXTgIkoEMCFOj6cSoFun58yZWQAAmQAAnkIAFJd7+50xdBZwOUAE+ISYClnSXMbS3UrJLiEiFRc5HstoXt4FTGBSU7eMKxlFMOzpqPJgESIAES0AMBCnQ9ePHRGijQ9eNLroQESIAESCCHCUjjOOnIHng6AGHXQxHzIBoSMRczszRTx7E5lHKCe3UPOJV3gZm5WQ7PmI8/Pcb6AAASWUlEQVQnARIgARLQAwEKdD14kQJdP17kSkiABEiABHIdARHr8RHxiA+Pw8Okh7CwtYC1qw0KmKVMe891k+eESIAESIAE8hQBCvQ85a4nTpYRdP34kishARIgARIgARIgARIgARLIhwQo0PXjdAp0/fiSKyEBEiABEiABEiABEiABEsiHBCjQ9eN0CnT9+JIrIQESIAESIAESIAESIAESyIcEKND143QKdP34kishARIgARIgARIgARIgARLIhwQo0PXjdAp0/fiSKyEBEiABEiABEiABEiABEsiHBCjQ9eN0CnT9+JIrIQESIAESIAESIAESIAESyIcEKND143QKdP34kishARIgARIgARIgARIgARLIhwQo0PXjdAp0/fiSKyEBEiABEiABEiABEiABEsiHBCjQ9eN0CnT9+JIrIQESIAESIAESIAESIAESyIcEKND143QKdP34kishARIgARIggf9r7z6AoyzzOI7/aUI4crQgRqTG0EEIUQkEpYUig4JYToMHHtVB705pwULAkwAnQY5TVKIgXari6WgkBGOIVGnSRIEgwoFAQlFDz83/7+yaXVNYZB3v3e87wwzsvuV5Pk/CzO99GgIIIIAAAgEoQEB3TqMT0J3TltQEAQQQQAABBBBAAAEEAlCAgO6cRiegO6ctqQkCCCCAAAIIIIAAAggEoAAB3TmNTkB3TltSEwQQQAABBBBAAAEEEAhAAQK6cxqdgO6ctqQmCCCAAAIIIIAAAgggEIACBHTnNDoB3TltSU0QQAABBBBAAAEEEEAgAAUI6M5pdAK6c9qSmiCAAAIIIIAAAggggEAAChDQndPoBHTntCU1QQABBBBAAAEEEEAAgQAUIKA7p9EJ6M5pS2qCAAIIIIAAAggggAACAShAQHdOoxPQndOW1AQBBBBAAAEEEEAAAQQCUICA7pxGJ6A7py2pCQIIIIAAAggggAACCASgAAHdOY1OQHdOW1ITBBBAAAEEEEAAAQQQCEABArpzGp2A7py2pCYIIIAAAggggAACCCAQgAIEdOc0OgHdOW1JTRBAAAEEEEAAAQQQQCAABQjozml0Arpz2pKaIIAAAggggAACCCCAQAAKENCd0+gEdOe0JTVBAAEEEEAAAQQQQACBABQgoDun0QnozmlLaoIAAggggAACCCCAAAIBKEBAd06jE9Cd05bUBAEEEEAAAQQQQAABBAJQgIDunEYnoDunLakJAggggAACCCCAAAIIBKAAAd05jU5Ad05bUhMEEEAAAQQQQAABBBAIQAECunManYDunLakJggggAACCCCAAAIIIBCAAgR05zQ6Ad05bUlNEEAAAQQQQAABBBBAIAAFCOjOaXQCunPakpoggAACCCCAAAIIIIBAAAoQ0J3T6AR057QlNUEAAQQQQAABBBBAAIEAFCCgO6fRCejOaUtqggACCCCAAAIIIIAAAgEoQEB3TqMT0J3TltQEAQQQQAABBBBAAAEEAlCAgO6cRvd7QM/IyJDo6GiZO3euNGjQwDly1AQBBBBAAAEEEEAAAQQQ+B0I7Nq1S3r37i2rV6+W1q1b/w5KRBGuVsDvAX3evHn2w8KBAAIIIIAAAggggAACCCDgPwHtFI2NjfXfA7iz3wX8HtCPHz8uycnJUqtWLQkKCvJ7hXgAAggggAACCCCAAAIIIBBIAjk5OZKZmSmdO3eWkJCQQKq64+rq94DuODEqhAACCCCAAAIIIIAAAggggIAfBAjofkDllggggAACCCCAAAIIIIAAAgj4KkBA91WM8xFAAAEEEEAAAQQQQAABBBDwgwAB3Q+o3BIBBBBAAAEEEEAAAQQQQAABXwUI6L6KcT4CCCCAAAIIIIAAAggggAACfhDwa0Af88kYGZs2VnLjc/1Q9N/mlp9kfiLtZrWTVX1WSdtabX+bh/IUBBBAAAEEEEAAAQQQQACBgBNwB/Tdx3fLuPRxsubgGvn29LcSXDpYapavKW1qtJERrUdIaHCozzi/RUDfl71PZm+dLT3q95BmNzTzuYxFXfBrA3rmyUyp/a/aHo8JKhkk1f5YTbrX7S4jW4+UquWqFlUMvkcAAQQQQAABBBBAAAEEEHC4gAX0td+utV7iCmUqSN9b+kqdinXkRM4J2XZ0m7z35Xvy/sPvX1Xv8W8R0FP2pUjMnBiZec9M6dus7zVvrmsV0O+pd4/c1/A+K9+PF36UDYc2yMwtM6Vu5bqy7bFtUrJ4yWtedm6IAAIIIIAAAggggAACCCDw/yNgAb3b/G6Slpkmux/fLTf98SaP0n9//nu5dPmSlC9T3udaEdBFXD3oz7R5Rl5o/4KH4bCPh0nimkRZ33+93FrtVp99f48XnDl3xkZfcCCAAAIIIIAAAggggAACCPgmYAG9/sv1pUzJMrJl8JYrulp7gCeunihv73jbAmj50uWly81dJKFDgkfALyig7/huh81NX5W5Sk6fOy21K9SWARED5MmoJ6V4seIeZVj9zWpJSE8Q7eXPuZgjNcrXkLtuvkte6vKSvLXlLXl0+aO/KHP8nfEypu0Y+/zEjyfkH5/+Q97d/a4cPnNYqvyhivSs39PCso4YyHtob/nIlJE2cqByUGXpc0sfGznQaW4njznoFy5dkL3Ze63eRQ39LyygJ36WKMNWDJPNgzZ7DM/XFyJT1021HvY9J/ZIUKkgK0dC+wRpUKWBu8gHTh6QSZ9NktTMVNG/69E8tLk8Hf20dA3v6j6v58Kesmr/Kjky7Ii1c95j8prJMvTjoR4vCa7UrO+7fWXW1lly8MmDMmLFCEnemyyXcy9L9sjsK/o54iQEEEAAAQQQQAABBBBAAIGfBSygd53X1QJcap9UaVW9VaE+5y+dt+Hwm/+7Wfo17ydNqjaRb059I69seEWCrwuWTYM2SUjZELtHfgFdg3bH2R0tyGsArhhU0YL6oh2L5LHIx2Rat2nu5y/cvlBil8VaCNah99XLV5e9WXtl0c5Fsv9v+0Xnnyd9niQTMibIwIiB0qZmG7u2adWm9ic7J1tuf+N2Of7jcRnYYqAN3de59q9ufFUahDSQNf3WSOmSpe2azw5+ZvW6/g/Xy6AWgyzIakAuXaK0bD6y2SOgu0K3lv+tHm8V6uU696mWT8moNqPs3JwLObLlyBYZ/MFgCS0XKusHrPd4MXH/4vvthcIjTR+R26rdZi8Zpm2cJj+c/0E2DNgg4ZXD7T5Ldi6RZ1OfFR0+r3XTlx1zts2R7d9tlxWPrJAOdTrYeUt3LpX7Ft8nS+5fIr0a9vIob+T0SLtuzxN77HNfzFwBvfH1jSWsYph0Duts9xoZPZLfMQQQQAABBBBAAAEEEEAAAR8FLKCnH0iX9rPby8XLF60nN7p6tLS8qaXEhMVYYM17vJjxojyd+rR82vdTiaoe5f5KA6eGveGthsv4juPtc++AnpubK01fa2qhN+MvGe5wrOfqcG/tzd05ZKfUD6kvOlS6xpQaUimokmwcsNGCvOvQXlpXT3thc9CHfDBE5n4xVzYN3CRhlcLc17+/533pvqC7vNbtNRkUOcg+b/lGSwu2eYf5axm0vBqy867ifjUBPb920Zch7zz4jofx4h2L5YElD8ji+xe756zrtYdOH5KG0xrKXeF3yYJeC+x2OpKhbKmyHrc+d/GcNHu9mY00SO6dbN/pZ1UnVZX2tdvLsgeXuc/X3vl6L9eTMXeOkfi28fa5L2augP5os0dlxj0zfPzR43QEEEAAAQQQQAABBBBAAIG8Au5V3Dce3mjDpXWY8smzJ+0cXbhMe7UTOyVKqRKl7LOI1yPkuhLX2cJx3kebmW2k3HXlrJdXD++ArkPHb3ntFpnSeYrENo31uHzrka3ScU5HebnryzLktiGybNcy6bWolyR1T5L+Ef0LbLWCArq+DKjyYhULpXl75V03qjWllg0D1yD83Q/fWYDt37y/JN2d5PGsCasnyKiVo656mzVXmI9tEutexE4D885jO23+ua7mnvJIivsFxL0L77Xh/LpwnPehowk2/XeTHBt+7Bffnb141nrYcyVXnkt9ThbuWChZI7Pc5/Vb3k/mfTHPhrm7hvbHr4qX5z99XvY8vsd65X0x0xu7Arr3EH1+xRBAAAEEEEAAAQQQQAABBHwX+MU+6BrSvsr6SlbuW2kBUudaj207VkbfOdruXnZcWZsLXtChPbcH/v7TfGjvgK7D2B9c8mChpRx9x2gZ226szXGPWxlX5AJqBQV0V+gu7GF31LxD0vqmWSCOejNKJsVMkqGthnpcsnz3cumxsMevDuj5LRK37tt10vLNlrbV2oSOE+y5DV9pKLuO7yrU6NLoSzaCQOfC6/x63WbuwKmfzF1HMSkml+Mvu/+duj9VOszuIG90f0P6RfSzz8P/HW4jFNb1X2f/9sVMz3cF9NNxp1kYzvffPa5AAAEEEEAAAQQQQAABBDxznA5xL8hE5z6HTQ2TymUry96/7rXTyrxQRiJCI+T5ds/ne5nO3Y6uEW3feQf0t7e/LQ8tfUh0ETfXOd430QXjdDj6rw3oR74/IqGJobY/+pBbh+RbVu1Jjrwx0vZ+bzWjlY0UeCrqKY9zdS64LbLWZ9VVbTVX2CJx+qAKEyrYVms6D10PXbBP5/lP7z69wB/VDrU7SLFixWw4us6n11EO6qlhu0TxEjZ3fv4X8yU3/uem1WkBNV6qIfVC6snKP6+U9YfW2/z8qV2myhO3P2HP8sUsb0C/8NwFtonjPxYEEEAAAQQQQAABBBBA4FcK/KIH3ft+Laa3EF11/eyzZ+2rJq82sZ5bnatd1OEd0D8//LlEJkXK+A7jJS46rtDLr3SIu/b069B4733QdSX0yv+sbHPpP+r9UaHPOvr9Ubkh8Qa/DnHPrwddC1UuoZwtfrdryE+95jo3XleTzxqR5Z5WUFDhK06saAvEeS9Upy9B9GVI3oCu9xj+8XCZvHayrbquL0B0Yb/DQw+758D7YkZAL+qnn+8RQAABBBBAAAEEEEAAAd8ELKDrMPF2tdpZ72veQ1dJbzytsfW66jxjPcanj7dF4rwDsX6nnfG6YrpuZaaHd0DXXtxG0xrZSuFbB2+VquWqejxPF2XTue7aC6/7r2uPr/be65z2vFui6XO0B1kP1/D0yZ0m2zZteY9B/xkkSZuSJOXPKTYXPe+hYfTUuVPW66yH9ibri4grWSTuWm2ztmLvCtvC7aHGD8n8XvOtHAu+WCAPL3vYRhm4torLW24dhu5auC/knyHSrW43mdVjlvuUL49/aYvE6Zx074CuC/k1f725TOw40Rbk0y3ZPoz98KrNXEPc6UH37ZeOsxFAAAEEEEAAAQQQQACB/AQsoGsI14XhtDdWt8zSxeF0hW/d4zorJ0uW/2m5BUE9dIGzmDkxkv5Nuq0yriu+a6jen71fln+5XB5o9IDtMZ5fQNfPdN61Xq/X6DZt4ZXCJftstq2grr3muhf7zZVutut1mzUNq9WCq4muFK5bs+mQcd1/3TXkXkO9LvCm3+kK8sGlg60O+kfL3npGa/k662vbsqxFaAu5lHvJ/q3P0gDsWoBO91tvP6u9vTQY3GKwrTB/LbdZU1v1chnqInHTN/00jH1tv7XS6PpG9nd9+aA94LrIW6ewThJTJ8a2r9M55h99/ZE0rNJQ5t47187t/15/K6NuC9f8hua27ZwOedct13RrOO+ArtfoC5KDpw7KmfNnZE7POdK7aW+PnwtfzAjo/KeCAAIIIIAAAggggAACCFw7AQvoyV8nW2DNOJghh84cst5r7aWNuilKhkYN9dhOzRUwp6ydIvO3z7cgX6p4KQvI2ks9OHKwheOCArp+/tWJr2Rc+jhZsW+FHPvhmPVi6yrid9e9Wx6/7XEJKhXkrmFaZpqdu+7QOhtar4vQdQvvJomdE93n6NZkY9LG2H0vXL7g0ft86uwpmZgxUZbuWioHTh6we+s9dM9unZtes0JN9310IbW4lDjR1ea15173Xm9bq631cl/LbdZ0gTfdK17vrT3lGrrzHhrSp38+XWZsmWG9+roy+43BN9o88wERA9x71Ws7jUoZJct2L7OXEbo9XVzrOFtkbmza2HwDekJ6gjyT+oxtz3Z02FFbdd/7uFIzAvq1+0XkTggggAACCCCAAAIIIIBAkXPQIUIAAQQQQAABBBBAAAEEEEAAAf8LEND9b8wTEEAAAQQQQAABBBBAAAEEEChSgIBeJBEnIIAAAggggAACCCCAAAIIIOB/AQK6/415AgIIIIAAAggggAACCCCAAAJFCvwPYcDJZIorbVwAAAAASUVORK5CYII=\" width=\"800\">"
      ],
      "text/plain": [
       "<IPython.core.display.HTML object>"
      ]
     },
     "metadata": {},
     "output_type": "display_data"
    }
   ],
   "source": [
    "plot_ax = create_plot(df_2D)"
   ]
  },
  {
   "cell_type": "markdown",
   "metadata": {},
   "source": [
    "##  Selected Points Details\n",
    "Click the **Print** button below to display detailed data values of the points selected in the DR plot.  The selected points are Green."
   ]
  },
  {
   "cell_type": "code",
   "execution_count": 21,
   "metadata": {
    "scrolled": false
   },
   "outputs": [
    {
     "data": {
      "application/vnd.jupyter.widget-view+json": {
       "model_id": "d382bfd39d65483bb56bfd74844982f6",
       "version_major": 2,
       "version_minor": 0
      },
      "text/plain": [
       "Button(description='Print selected points', style=ButtonStyle())"
      ]
     },
     "metadata": {},
     "output_type": "display_data"
    },
    {
     "data": {
      "application/vnd.jupyter.widget-view+json": {
       "model_id": "67d6a30fa987414f8066f06316c8108a",
       "version_major": 2,
       "version_minor": 0
      },
      "text/plain": [
       "Output()"
      ]
     },
     "metadata": {},
     "output_type": "display_data"
    }
   ],
   "source": [
    "dod = create_detail_display()"
   ]
  },
  {
   "cell_type": "markdown",
   "metadata": {},
   "source": [
    "## Inverse Dimension Reduction\n",
    "After selecting and/or dragging some points in the DR plot, click the **Learn** button to machine learn new dimension weights that would produce a plot with similar pairwise distances as your plot.  **Only the Green selected points** in the plot are considered when learning new weights. You must select or move at least two points to specify new desired distances. Use this to create your own clusters, and find out what makes some data points similar to or different from others.  The **learned weights** are shown in a bar chart below.\n",
    "\n",
    "To see the effects of the learned weights, click the **Copy** button to apply the learned weights to the sliders and  make a new DR plot above."
   ]
  },
  {
   "cell_type": "code",
   "execution_count": null,
   "metadata": {
    "scrolled": false
   },
   "outputs": [],
   "source": [
    "inverse = create_inverse_button()"
   ]
  },
  {
   "cell_type": "code",
   "execution_count": null,
   "metadata": {},
   "outputs": [],
   "source": []
  }
 ],
 "metadata": {
  "kernelspec": {
   "display_name": "Python 3 (ipykernel)",
   "language": "python",
   "name": "python3"
  },
  "language_info": {
   "codemirror_mode": {
    "name": "ipython",
    "version": 3
   },
   "file_extension": ".py",
   "mimetype": "text/x-python",
   "name": "python",
   "nbconvert_exporter": "python",
   "pygments_lexer": "ipython3",
   "version": "3.8.8"
  }
 },
 "nbformat": 4,
 "nbformat_minor": 1
}
