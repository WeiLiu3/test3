{
 "cells": [
  {
   "cell_type": "markdown",
   "metadata": {},
   "source": [
    "# Andromeda in Jupyter\n",
    "\n",
    "### Interactive Inverse Dimension Reduction \n",
    "\n",
    "This notebook implements interactive dimension reduction (DR) for exploratory analysis of high-dimensional data.\n",
    "It uses a Multi-Dimensional Scaling (MDS) algorithm with a weighted distance metric. It enables both forward and inverse DR interaction. \n",
    "\n",
    "**MDS** projects high-dimensional data to a 2D scatterplot. A **weighted distance function** with user-specified weights on each dimension enables alternative projections that emphasize different dimensions. An **Inverse-DR** algorithm learns distance function weights for  user-constructed layouts of the data points.\n",
    "\n",
    "### Instructions:\n",
    "\n",
    "1. Run All\n",
    "1. Proceed to the interactive plots near the bottom\n",
    "1. There are three kinds of interactions:\n",
    "    1. Select points in the DR plot and click Details to see data values.\n",
    "    1. **Parametric interaction:** Adjust the weight sliders and click Apply to alter the projection plot.\n",
    "    1. **Projection interaction:** Drag points in the projection plot, then click Learn to see learned weights, and click Copy to see the updated projection plot.\n",
    "1. Be patient, its interactive matplotlib in python and Jupyter!\n",
    "\n",
    "### Credits:\n",
    "\n",
    "Authors: Han Liu and Chris North, Dept of Computer Science, Virginia Tech.\n",
    "\n",
    "Based on: *Self JZ, Dowling M, Wenskovitch J, Crandell I, Wang M, House L, Leman S, North C. Observation-Level and Parametric Interaction for High-Dimensional Data Analysis. ACM Transactions on Interactive Intelligent Systems.  8(2), 2018.* https://infovis.cs.vt.edu/sites/default/files/observation-level-parametric_first_look_version.pdf\n"
   ]
  },
  {
   "cell_type": "code",
   "execution_count": 1,
   "metadata": {},
   "outputs": [],
   "source": [
    "%matplotlib notebook\n",
    "# interactive notebook format is required for the interactive plot\n",
    "\n",
    "import numpy as np\n",
    "import pandas as pd\n",
    "import math\n",
    "import random\n",
    "\n",
    "from sklearn.decomposition import PCA\n",
    "from sklearn.manifold import MDS\n",
    "import sklearn.metrics.pairwise\n",
    "\n",
    "import matplotlib\n",
    "import matplotlib.pyplot as plt\n",
    "import ipywidgets as widgets\n",
    "from IPython.display import display\n"
   ]
  },
  {
   "cell_type": "markdown",
   "metadata": {},
   "source": [
    "# Load and Pre-process Data\n",
    "\n",
    "Change the **filename** to load a dataset.  CSV data file is expected to have a first column 'Name' that is used as the index, and header row of column names.  Numeric columns are used for projection."
   ]
  },
  {
   "cell_type": "code",
   "execution_count": 2,
   "metadata": {},
   "outputs": [
    {
     "name": "stdout",
     "output_type": "stream",
     "text": [
      "Data size (r,c) = (49, 36)\n"
     ]
    },
    {
     "data": {
      "text/html": [
       "<div>\n",
       "<style scoped>\n",
       "    .dataframe tbody tr th:only-of-type {\n",
       "        vertical-align: middle;\n",
       "    }\n",
       "\n",
       "    .dataframe tbody tr th {\n",
       "        vertical-align: top;\n",
       "    }\n",
       "\n",
       "    .dataframe thead th {\n",
       "        text-align: right;\n",
       "    }\n",
       "</style>\n",
       "<table border=\"1\" class=\"dataframe\">\n",
       "  <thead>\n",
       "    <tr style=\"text-align: right;\">\n",
       "      <th></th>\n",
       "      <th>Active</th>\n",
       "      <th>Agility</th>\n",
       "      <th>Arctic</th>\n",
       "      <th>Bipedal</th>\n",
       "      <th>Bulbous</th>\n",
       "      <th>Coastal</th>\n",
       "      <th>Domestic</th>\n",
       "      <th>Fierce</th>\n",
       "      <th>Forager</th>\n",
       "      <th>Forest</th>\n",
       "      <th>...</th>\n",
       "      <th>Size</th>\n",
       "      <th>Smart</th>\n",
       "      <th>Speed</th>\n",
       "      <th>Spots</th>\n",
       "      <th>Stalker</th>\n",
       "      <th>Strength</th>\n",
       "      <th>Tail</th>\n",
       "      <th>Timid</th>\n",
       "      <th>Toughskin</th>\n",
       "      <th>Water</th>\n",
       "    </tr>\n",
       "    <tr>\n",
       "      <th>Name</th>\n",
       "      <th></th>\n",
       "      <th></th>\n",
       "      <th></th>\n",
       "      <th></th>\n",
       "      <th></th>\n",
       "      <th></th>\n",
       "      <th></th>\n",
       "      <th></th>\n",
       "      <th></th>\n",
       "      <th></th>\n",
       "      <th></th>\n",
       "      <th></th>\n",
       "      <th></th>\n",
       "      <th></th>\n",
       "      <th></th>\n",
       "      <th></th>\n",
       "      <th></th>\n",
       "      <th></th>\n",
       "      <th></th>\n",
       "      <th></th>\n",
       "      <th></th>\n",
       "    </tr>\n",
       "  </thead>\n",
       "  <tbody>\n",
       "    <tr>\n",
       "      <th>Bat</th>\n",
       "      <td>36.24</td>\n",
       "      <td>42.11</td>\n",
       "      <td>0.00</td>\n",
       "      <td>23.75</td>\n",
       "      <td>15.28</td>\n",
       "      <td>9.38</td>\n",
       "      <td>5.56</td>\n",
       "      <td>32.57</td>\n",
       "      <td>24.38</td>\n",
       "      <td>58.01</td>\n",
       "      <td>...</td>\n",
       "      <td>1.25</td>\n",
       "      <td>32.30</td>\n",
       "      <td>80.96</td>\n",
       "      <td>1.25</td>\n",
       "      <td>8.12</td>\n",
       "      <td>7.50</td>\n",
       "      <td>15.11</td>\n",
       "      <td>8.98</td>\n",
       "      <td>30.0</td>\n",
       "      <td>1.39</td>\n",
       "    </tr>\n",
       "    <tr>\n",
       "      <th>Beaver</th>\n",
       "      <td>67.81</td>\n",
       "      <td>36.25</td>\n",
       "      <td>11.25</td>\n",
       "      <td>12.50</td>\n",
       "      <td>37.50</td>\n",
       "      <td>33.75</td>\n",
       "      <td>13.12</td>\n",
       "      <td>3.75</td>\n",
       "      <td>10.62</td>\n",
       "      <td>19.06</td>\n",
       "      <td>...</td>\n",
       "      <td>6.88</td>\n",
       "      <td>41.88</td>\n",
       "      <td>25.00</td>\n",
       "      <td>7.50</td>\n",
       "      <td>1.25</td>\n",
       "      <td>32.81</td>\n",
       "      <td>86.56</td>\n",
       "      <td>31.88</td>\n",
       "      <td>25.0</td>\n",
       "      <td>65.62</td>\n",
       "    </tr>\n",
       "  </tbody>\n",
       "</table>\n",
       "<p>2 rows × 36 columns</p>\n",
       "</div>"
      ],
      "text/plain": [
       "        Active  Agility  Arctic  Bipedal  Bulbous  Coastal  Domestic  Fierce  \\\n",
       "Name                                                                           \n",
       "Bat      36.24    42.11    0.00    23.75    15.28     9.38      5.56   32.57   \n",
       "Beaver   67.81    36.25   11.25    12.50    37.50    33.75     13.12    3.75   \n",
       "\n",
       "        Forager  Forest  ...  Size  Smart  Speed  Spots  Stalker  Strength  \\\n",
       "Name                     ...                                                 \n",
       "Bat       24.38   58.01  ...  1.25  32.30  80.96   1.25     8.12      7.50   \n",
       "Beaver    10.62   19.06  ...  6.88  41.88  25.00   7.50     1.25     32.81   \n",
       "\n",
       "         Tail  Timid  Toughskin  Water  \n",
       "Name                                    \n",
       "Bat     15.11   8.98       30.0   1.39  \n",
       "Beaver  86.56  31.88       25.0  65.62  \n",
       "\n",
       "[2 rows x 36 columns]"
      ]
     },
     "execution_count": 2,
     "metadata": {},
     "output_type": "execute_result"
    }
   ],
   "source": [
    "filename = 'Animal_Data_Andromeda.csv'\n",
    "#filename = 'InfoVis_Fall_2015_Survey.csv'\n",
    "\n",
    "df = pd.read_csv(filename)\n",
    "\n",
    "# Use 'Name' column as index\n",
    "#df.rename(columns={df.columns[0]:'Name'}, inplace=True)\n",
    "df.set_index('Name', inplace=True)\n",
    "\n",
    "# Sort rows and columns\n",
    "df.sort_index(axis=1, inplace=True)\n",
    "df.sort_index(inplace=True)\n",
    "\n",
    "df_numeric = df.select_dtypes(include='number')  #'int32' or 'int64' or 'float32' or 'float64'\n",
    "df_category = df.select_dtypes(exclude='number') #'object'\n",
    "\n",
    "# Z-score normalization\n",
    "#normalized_df = (df_numeric - df_numeric.mean()) / df_numeric.std()\n",
    "normalized_df = df_numeric  # do not normalize animal dataset, all columns are 0-100 scale\n",
    "\n",
    "print('Data size (r,c) =', df_numeric.shape)\n",
    "df_numeric.head(2)"
   ]
  },
  {
   "cell_type": "markdown",
   "metadata": {},
   "source": [
    "#  Dimension Reduction Model:  Weighted MDS\n",
    "\n",
    "For DR, we use the Multi-Dimensional Scaling (MDS) algorithm on a weighted data space. **Dimension weights** are applied to the high-dimensional (HD) data.  Weights are normalized to sum to 1, so as to normalize the HD distances to roughly constant size space independent of p.\n",
    "\n",
    "The **distance function for the high-dimensional (HD) data** is L1 Manhattan distance. L1 is good for general purpose use with multi-dimensional quantitative datasets. \n",
    "\n",
    "The **distance function for the 2D projected points** is L2 Euclidean distance, which makes sense for human percpetion in the plot."
   ]
  },
  {
   "cell_type": "code",
   "execution_count": 3,
   "metadata": {},
   "outputs": [],
   "source": [
    "# Compute the distance matrix for the weighted high-dimensional data using L1 distance function.\n",
    "#  Input HD data should already be weighted.\n",
    "def distance_matrix_HD(dataHDw):  # dataHDw (pandas or numpy) -> distance matrix (numpy)\n",
    "    dist_matrix = sklearn.metrics.pairwise.manhattan_distances(dataHDw)\n",
    "    #m = pd.DataFrame(m, columns=dataHD.index, index=dataHD.index)  # keep as np array for performance\n",
    "    return dist_matrix\n",
    "\n",
    "# Compute the distance matrix for 2D projected data using L2 distance function.\n",
    "def distance_matrix_2D(data2D):  # data2d (pandas or numpy) -> distance matrix (numpy)\n",
    "    dist_matrix = sklearn.metrics.pairwise.euclidean_distances(data2D) \n",
    "    #m = pd.DataFrame(m, columns=data2D.index, index=data2D.index) # keep as np array for performance\n",
    "    return dist_matrix\n",
    "\n",
    "#def dist(x,y):\n",
    "#    return np.linalg.norm(x-y, ord=2)\n"
   ]
  },
  {
   "cell_type": "markdown",
   "metadata": {},
   "source": [
    "**MDS** projects the weighted high-dimensional data to 2D. Tune the algorithm's parameters for performance."
   ]
  },
  {
   "cell_type": "code",
   "execution_count": 4,
   "metadata": {},
   "outputs": [],
   "source": [
    "# Calculate the MDS stress metric between HD and 2D distances.  Uses numpy for efficiency.\n",
    "def stress(distHD, dist2D):  #  distHD, dist2D (numpy) -> stress (float)\n",
    "    #s = np.sqrt((distHD-dist2D).pow(2).sum().sum() / distHD.pow(2).sum().sum())  # pandas\n",
    "    #s = np.sqrt(((distHD-dist2D)**2).sum() / (distHD**2).sum())   # numpy\n",
    "    s = ((distHD-dist2D)**2).sum() / (distHD**2).sum()   # numpy, eliminate sqrt for efficiency\n",
    "    return s\n",
    "\n",
    "def compute_mds(dataHDw):  # dataHDw -> data2D (pandas)\n",
    "    distHD = distance_matrix_HD(dataHDw)\n",
    "    # Adjust these parameters for performance/accuracy tradeoff\n",
    "    mds = sklearn.manifold.MDS(n_components=2, dissimilarity='precomputed', n_init=10, max_iter=1000)\n",
    "    # Reduction algorithm happens here:  data2D is nx2 matrix\n",
    "    data2D = mds.fit_transform(distHD)\n",
    "    \n",
    "    # Rotate the resulting 2D projection to make it more consistent across multiple runs.\n",
    "    # Set the 1st PC to the y axis, plot looks better to spread data vertically with horizontal text labels\n",
    "    pca = sklearn.decomposition.PCA(n_components=2)\n",
    "    data2D = pca.fit_transform(data2D)\n",
    "    data2D = pd.DataFrame(data2D, columns=['y','x'], index=dataHDw.index)\n",
    "    \n",
    "    data2D.stress_value = stress(distHD, distance_matrix_2D(data2D))\n",
    "    return data2D\n",
    "\n",
    "def dimension_reduction(dataHD, wts): # dataHD, wts -> data2D (pandas)\n",
    "    # Normalize the weights to sum to 1\n",
    "    wts = wts/wts.sum()\n",
    "    \n",
    "    # Apply weights to the HD data \n",
    "    dataHDw = dataHD * wts\n",
    "    \n",
    "    # DR algorithm\n",
    "    data2D = compute_mds(dataHDw)\n",
    "\n",
    "    # Compute row relevances as:  data dot weights\n",
    "    # High relevance means large values in upweighted dimensions\n",
    "    data2D['relevance'] = dataHDw.sum(axis=1)\n",
    "    return data2D\n",
    "\n",
    "\n",
    "min_weight, max_weight = 0.00001, 0.9999\n",
    "init_weight = min_weight  # 1.0/len(normalized_df.columns) # initialize to min to make the sliders easier to use.\n",
    "weights = pd.Series(init_weight, index=normalized_df.columns, name=\"Weight\")  # the current weight list\n",
    "\n",
    "df_2D = dimension_reduction(normalized_df, weights)   # the current projected data\n"
   ]
  },
  {
   "cell_type": "code",
   "execution_count": 5,
   "metadata": {},
   "outputs": [
    {
     "data": {
      "text/plain": [
       "Active     0.00001\n",
       "Agility    0.00001\n",
       "Name: Weight, dtype: float64"
      ]
     },
     "execution_count": 5,
     "metadata": {},
     "output_type": "execute_result"
    }
   ],
   "source": [
    "weights.head(2)"
   ]
  },
  {
   "cell_type": "code",
   "execution_count": 6,
   "metadata": {},
   "outputs": [
    {
     "data": {
      "text/html": [
       "<div>\n",
       "<style scoped>\n",
       "    .dataframe tbody tr th:only-of-type {\n",
       "        vertical-align: middle;\n",
       "    }\n",
       "\n",
       "    .dataframe tbody tr th {\n",
       "        vertical-align: top;\n",
       "    }\n",
       "\n",
       "    .dataframe thead th {\n",
       "        text-align: right;\n",
       "    }\n",
       "</style>\n",
       "<table border=\"1\" class=\"dataframe\">\n",
       "  <thead>\n",
       "    <tr style=\"text-align: right;\">\n",
       "      <th>Name</th>\n",
       "      <th>Bat</th>\n",
       "      <th>Beaver</th>\n",
       "      <th>Blue Whale</th>\n",
       "      <th>Bobcat</th>\n",
       "      <th>Buffalo</th>\n",
       "      <th>Chihuahua</th>\n",
       "      <th>Chimpanzee</th>\n",
       "      <th>Collie</th>\n",
       "      <th>Cow</th>\n",
       "      <th>Dalmatian</th>\n",
       "      <th>...</th>\n",
       "      <th>Sheep</th>\n",
       "      <th>Siamese Cat</th>\n",
       "      <th>Skunk</th>\n",
       "      <th>Spider Monkey</th>\n",
       "      <th>Squirrel</th>\n",
       "      <th>Tiger</th>\n",
       "      <th>Walrus</th>\n",
       "      <th>Weasel</th>\n",
       "      <th>Wolf</th>\n",
       "      <th>Zebra</th>\n",
       "    </tr>\n",
       "    <tr>\n",
       "      <th>Name</th>\n",
       "      <th></th>\n",
       "      <th></th>\n",
       "      <th></th>\n",
       "      <th></th>\n",
       "      <th></th>\n",
       "      <th></th>\n",
       "      <th></th>\n",
       "      <th></th>\n",
       "      <th></th>\n",
       "      <th></th>\n",
       "      <th></th>\n",
       "      <th></th>\n",
       "      <th></th>\n",
       "      <th></th>\n",
       "      <th></th>\n",
       "      <th></th>\n",
       "      <th></th>\n",
       "      <th></th>\n",
       "      <th></th>\n",
       "      <th></th>\n",
       "      <th></th>\n",
       "    </tr>\n",
       "  </thead>\n",
       "  <tbody>\n",
       "    <tr>\n",
       "      <th>Bat</th>\n",
       "      <td>0.000000</td>\n",
       "      <td>25.581111</td>\n",
       "      <td>30.361111</td>\n",
       "      <td>25.210556</td>\n",
       "      <td>26.615833</td>\n",
       "      <td>26.218056</td>\n",
       "      <td>22.541111</td>\n",
       "      <td>28.295833</td>\n",
       "      <td>28.900556</td>\n",
       "      <td>28.559722</td>\n",
       "      <td>...</td>\n",
       "      <td>27.197222</td>\n",
       "      <td>23.266111</td>\n",
       "      <td>24.183889</td>\n",
       "      <td>23.13</td>\n",
       "      <td>23.011389</td>\n",
       "      <td>30.031389</td>\n",
       "      <td>30.058889</td>\n",
       "      <td>18.358611</td>\n",
       "      <td>27.095278</td>\n",
       "      <td>24.645000</td>\n",
       "    </tr>\n",
       "    <tr>\n",
       "      <th>Beaver</th>\n",
       "      <td>25.581111</td>\n",
       "      <td>0.000000</td>\n",
       "      <td>21.817222</td>\n",
       "      <td>24.789444</td>\n",
       "      <td>22.146944</td>\n",
       "      <td>18.456389</td>\n",
       "      <td>25.227778</td>\n",
       "      <td>17.869167</td>\n",
       "      <td>22.116667</td>\n",
       "      <td>21.804722</td>\n",
       "      <td>...</td>\n",
       "      <td>24.362778</td>\n",
       "      <td>22.672778</td>\n",
       "      <td>15.500556</td>\n",
       "      <td>19.24</td>\n",
       "      <td>15.539722</td>\n",
       "      <td>31.741944</td>\n",
       "      <td>21.435556</td>\n",
       "      <td>19.114167</td>\n",
       "      <td>26.259722</td>\n",
       "      <td>24.402778</td>\n",
       "    </tr>\n",
       "  </tbody>\n",
       "</table>\n",
       "<p>2 rows × 49 columns</p>\n",
       "</div>"
      ],
      "text/plain": [
       "Name          Bat     Beaver  Blue Whale     Bobcat    Buffalo  Chihuahua  \\\n",
       "Name                                                                        \n",
       "Bat      0.000000  25.581111   30.361111  25.210556  26.615833  26.218056   \n",
       "Beaver  25.581111   0.000000   21.817222  24.789444  22.146944  18.456389   \n",
       "\n",
       "Name    Chimpanzee     Collie        Cow  Dalmatian  ...      Sheep  \\\n",
       "Name                                                 ...              \n",
       "Bat      22.541111  28.295833  28.900556  28.559722  ...  27.197222   \n",
       "Beaver   25.227778  17.869167  22.116667  21.804722  ...  24.362778   \n",
       "\n",
       "Name    Siamese Cat      Skunk  Spider Monkey   Squirrel      Tiger  \\\n",
       "Name                                                                  \n",
       "Bat       23.266111  24.183889          23.13  23.011389  30.031389   \n",
       "Beaver    22.672778  15.500556          19.24  15.539722  31.741944   \n",
       "\n",
       "Name       Walrus     Weasel       Wolf      Zebra  \n",
       "Name                                                \n",
       "Bat     30.058889  18.358611  27.095278  24.645000  \n",
       "Beaver  21.435556  19.114167  26.259722  24.402778  \n",
       "\n",
       "[2 rows x 49 columns]"
      ]
     },
     "execution_count": 6,
     "metadata": {},
     "output_type": "execute_result"
    }
   ],
   "source": [
    "pd.DataFrame(distance_matrix_HD(normalized_df * (weights/weights.sum())), \n",
    "             columns=normalized_df.index, index=normalized_df.index).head(2)"
   ]
  },
  {
   "cell_type": "code",
   "execution_count": 7,
   "metadata": {},
   "outputs": [
    {
     "name": "stdout",
     "output_type": "stream",
     "text": [
      "0.06402226527382508\n"
     ]
    },
    {
     "data": {
      "text/html": [
       "<div>\n",
       "<style scoped>\n",
       "    .dataframe tbody tr th:only-of-type {\n",
       "        vertical-align: middle;\n",
       "    }\n",
       "\n",
       "    .dataframe tbody tr th {\n",
       "        vertical-align: top;\n",
       "    }\n",
       "\n",
       "    .dataframe thead th {\n",
       "        text-align: right;\n",
       "    }\n",
       "</style>\n",
       "<table border=\"1\" class=\"dataframe\">\n",
       "  <thead>\n",
       "    <tr style=\"text-align: right;\">\n",
       "      <th></th>\n",
       "      <th>y</th>\n",
       "      <th>x</th>\n",
       "      <th>relevance</th>\n",
       "    </tr>\n",
       "    <tr>\n",
       "      <th>Name</th>\n",
       "      <th></th>\n",
       "      <th></th>\n",
       "      <th></th>\n",
       "    </tr>\n",
       "  </thead>\n",
       "  <tbody>\n",
       "    <tr>\n",
       "      <th>Bat</th>\n",
       "      <td>7.043411</td>\n",
       "      <td>-20.382886</td>\n",
       "      <td>28.997778</td>\n",
       "    </tr>\n",
       "    <tr>\n",
       "      <th>Beaver</th>\n",
       "      <td>-3.096351</td>\n",
       "      <td>-13.762064</td>\n",
       "      <td>24.748889</td>\n",
       "    </tr>\n",
       "  </tbody>\n",
       "</table>\n",
       "</div>"
      ],
      "text/plain": [
       "               y          x  relevance\n",
       "Name                                  \n",
       "Bat     7.043411 -20.382886  28.997778\n",
       "Beaver -3.096351 -13.762064  24.748889"
      ]
     },
     "execution_count": 7,
     "metadata": {},
     "output_type": "execute_result"
    }
   ],
   "source": [
    "print(df_2D.stress_value)\n",
    "df_2D.head(2)"
   ]
  },
  {
   "cell_type": "markdown",
   "metadata": {},
   "source": [
    "# Inverse Dimension-Reduction Learning Algorithm\n",
    "\n",
    "Computes the inverse-Dimension-Reduction: given input 2D points, compute new weights.\n",
    "Optimizes the MDS stress function that compares 2D pairwise distances (||$x_i-x_j||$) to weighted HD pairwise distances ($d_{ij}$):\n",
    "![Stress](https://wikimedia.org/api/rest_v1/media/math/render/svg/7989b3afc0d8795a78c1631c7e807f260d9cfe68)\n",
    "\n",
    "Technically, we compute the inverse weighted distance function. We shortcut the optimization by eliminating MDS from the process, and assume that the user input 2D distances are actually the desired HD distances, not the 2D distances after re-projection. Thus, given the input (HD) distances, we find weights that would produce these distances in the HD space."
   ]
  },
  {
   "cell_type": "code",
   "execution_count": 8,
   "metadata": {},
   "outputs": [],
   "source": [
    "# This method is used to propose a new weight for current column in a smart fashion\n",
    "def new_proposal(current, step, direction):\n",
    "    return np.clip(current + direction*step*random.random(), 0.00001, 0.9999)\n",
    "\n",
    "# Repeatedly tries to modify each dim weight to see if it improves the stress, thus\n",
    "# getting the weighted high-dim distances to more closely match the input 2D distances.\n",
    "#   dataHD = high-dim data, as pandas\n",
    "#   data2D = 2D data input, as pandas\n",
    "#   weights = as pandas series, or None for weights[i]=1/p\n",
    "def inverse_DR(dataHD, data2D, curWeights=None):  # -> new weights, as Series\n",
    "    dist2D = distance_matrix_2D(data2D)  # compute 2D distances only once\n",
    "    col_names = dataHD.columns\n",
    "    dataHD = dataHD.to_numpy()  # use numpy for efficiency\n",
    "    row, col = dataHD.shape\n",
    "    \n",
    "    if curWeights==None:\n",
    "        curWeights = np.array([1.0/col]*col)  # default weights = 1/p\n",
    "    else:\n",
    "        curWeights = curWeights.to_numpy()\n",
    "        curWeights = curWeights / curWeights.sum()  # Normalize weights to sum to 1\n",
    "    newWeights = curWeights.copy()  # re-use this array for efficiency\n",
    "    \n",
    "    # Initialize state\n",
    "    flag = [0]*col         # degree of success of a weight change\n",
    "    direction = [1]*col  # direction to move a weight, pos or neg\n",
    "    step = [1.0/col]*col   # how much to change each weight\n",
    "    \n",
    "    dataHDw = dataHD * curWeights   # weighted space, re-use this array for efficiency\n",
    "    distHD = distance_matrix_HD(dataHDw)\n",
    "    curStress = stress(distHD, dist2D)\n",
    "    print('Starting stress =', curStress, 'Processing...')\n",
    "\n",
    "    MAX = 500   # default setting of the number of iterations\n",
    "\n",
    "    # Try to subtly adjust each weight to see if it reduces stress\n",
    "    for i in range(MAX):\n",
    "        for dim in range(col):            \n",
    "            # Get a new weight for current column\n",
    "            nw = new_proposal(curWeights[dim], step[dim], direction[dim])\n",
    "            \n",
    "            # Scale the weight list such that it sums to 1\n",
    "            #newWeights = curWeights.copy()  # avoid extra copy op using math below\n",
    "            #newWeights[dim] = nw\n",
    "            #newWeights = newWeights / s\n",
    "            s = 1.0 + nw - curWeights[dim]   # 1.0 == curWeights.sum()\n",
    "            np.true_divide(curWeights, s, out=newWeights)  # transfers to other array, while doing /\n",
    "            newWeights[dim] = nw / s\n",
    "            \n",
    "            # Apply new weights to HD data\n",
    "            np.multiply(dataHD, newWeights, out=dataHDw)  # dataHDw = dataHD * newWeights; efficiently reuses dataHDw array\n",
    "            distHD = distance_matrix_HD(dataHDw)\n",
    "\n",
    "            # Get the new stress\n",
    "            newStress = stress(distHD, dist2D)\n",
    "            \n",
    "            # If new stress is lower, then update weights and flag this success\n",
    "            if newStress < curStress:\n",
    "                temp = curWeights\n",
    "                curWeights = newWeights\n",
    "                newWeights = temp   # reuse the old array next iteration\n",
    "                curStress = newStress\n",
    "                flag[dim] = flag[dim] + 1\n",
    "            else:\n",
    "                flag[dim] = flag[dim] - 1\n",
    "                direction[dim] = -direction[dim]  # Reverse course\n",
    "    \n",
    "            # If recent success, then speed up the step rate\n",
    "            if flag[dim] >= 5:\n",
    "                step[dim] = step[dim] * 2\n",
    "                flag[dim] = 0\n",
    "            elif flag[dim] <= -5:\n",
    "                step[dim] = step[dim] / 2\n",
    "                flag[dim] = 0\n",
    "                \n",
    "    print('Solution stress =', curStress, 'Done.')\n",
    "    #print(\"weight\", curWeights)\n",
    "    #print(\"flag\", flag)\n",
    "    #print(\"dir\", direction)\n",
    "    #print(\"step\", step)\n",
    "    return pd.Series(curWeights, index=col_names, name=\"Weight\")\n"
   ]
  },
  {
   "cell_type": "markdown",
   "metadata": {},
   "source": [
    "# Visualization and UI code\n",
    "\n",
    "Use these functions to create the GUI components in any cell."
   ]
  },
  {
   "cell_type": "markdown",
   "metadata": {},
   "source": [
    "## Sliders"
   ]
  },
  {
   "cell_type": "code",
   "execution_count": 9,
   "metadata": {},
   "outputs": [],
   "source": [
    "def create_sliders(wts):\n",
    "    # Create sliders, one for each dimension weight\n",
    "    sliders = [widgets.FloatSlider(min=min_weight, max=max_weight, step=0.01, value=value, \n",
    "                                       description=label, continuous_update=False, readout_format='.5f')\n",
    "                   for (label, value) in wts.iteritems()]\n",
    "    # Display sliders\n",
    "    for s in sliders:\n",
    "        #s.observe(sliderchange, names='value')\n",
    "        display(s)\n",
    "        \n",
    "    create_slider_buttons(sliders)\n",
    "    return sliders\n",
    "\n",
    "def create_slider_buttons(sliders):    \n",
    "    apply_button = widgets.Button(description='Apply Slider Weights')\n",
    "    reset_button = widgets.Button(description='Reset Plot')\n",
    "\n",
    "    # Callback functions\n",
    "    def apply_button_clicked(change):\n",
    "        # Use the slider values to recompute the DR and redraw the plot\n",
    "        global weights, df_2D   # Update weights and df_2D globals\n",
    "        weights = pd.Series([s.value for s in sliders], index=normalized_df.columns, name='Weight')\n",
    "        df_2D = dimension_reduction(normalized_df, weights)   \n",
    "        \n",
    "        # Redraw the plot\n",
    "        draw_plot(plot_ax, df_2D)\n",
    "    apply_button.on_click(apply_button_clicked)\n",
    "\n",
    "    def reset_button_clicked(change):\n",
    "        # Reset all sliders to initial value and recompute DR and redraw the plot\n",
    "        for s in sliders:\n",
    "            s.value = init_weight\n",
    "        apply_button_clicked(change)\n",
    "    reset_button.on_click(reset_button_clicked)\n",
    "    \n",
    "    # Display buttons\n",
    "    display(apply_button)\n",
    "    display(reset_button)\n",
    "    return apply_button, reset_button\n"
   ]
  },
  {
   "cell_type": "markdown",
   "metadata": {},
   "source": [
    "## Print Details Button"
   ]
  },
  {
   "cell_type": "code",
   "execution_count": 10,
   "metadata": {},
   "outputs": [],
   "source": [
    "def create_detail_display():\n",
    "    # Print selected points\n",
    "    print_button = widgets.Button(description='Print selected points')\n",
    "    print_output = widgets.Output()\n",
    "\n",
    "    def print_button_clicked(change):\n",
    "        print_output.clear_output()\n",
    "        # Get list of selected points and print their source data values\n",
    "        selset = [c.index for c in plot_ax.circles if c.selected]\n",
    "        with print_output:\n",
    "            if len(selset) > 0:\n",
    "                print(df.iloc[selset, :].transpose())\n",
    "            else:\n",
    "                print('Select points in the plot to see details here')\n",
    "    print_button.on_click(print_button_clicked)\n",
    "\n",
    "    display(print_button)\n",
    "    display(print_output)\n",
    "    return print_button, print_output\n"
   ]
  },
  {
   "cell_type": "markdown",
   "metadata": {},
   "source": [
    "## Inverse DR Button and Plot"
   ]
  },
  {
   "cell_type": "code",
   "execution_count": 11,
   "metadata": {},
   "outputs": [],
   "source": [
    "def create_inverse_button():\n",
    "    inverse_button = widgets.Button(description='Learn New Weights')\n",
    "    copy_button = widgets.Button(description='Copy to Sliders')\n",
    "\n",
    "    def inverse_button_clicked(change):\n",
    "        ax.clear()\n",
    "\n",
    "        # Check minimum number of points moved\n",
    "        n = len([1 for c in plot_ax.circles if c.selected])\n",
    "        if n < 2:\n",
    "            print('Need to select or move at least 2 points in the plot first.')\n",
    "            return\n",
    "\n",
    "        # Get selected data points\n",
    "        data2Dnew = pd.DataFrame([c.center for c in plot_ax.circles if c.selected], columns=['x','y'], \n",
    "                                index=[c.label for c in plot_ax.circles if c.selected])\n",
    "        dataHDpart = normalized_df.loc[data2Dnew.index]\n",
    "\n",
    "        # Learn new weights\n",
    "        global weights\n",
    "        weights = inverse_DR(dataHDpart, data2Dnew)\n",
    "        \n",
    "        # Display new weights as a bar chart\n",
    "        weights.sort_index(ascending=False).plot.barh(ax=ax)\n",
    "        ax.set_xlabel(\"Weight\")\n",
    "        fig.tight_layout()\n",
    "    inverse_button.on_click(inverse_button_clicked)\n",
    "\n",
    "    def copy_button_clicked(change):\n",
    "        # Set sliders to reflect the learned weights and update the DR and plot accordingly\n",
    "        global df_2D\n",
    "        for i,s in enumerate(sliders):\n",
    "            s.value = weights[i]\n",
    "        df_2D = dimension_reduction(normalized_df, weights)   \n",
    "        draw_plot(plot_ax, df_2D)\n",
    "    copy_button.on_click(copy_button_clicked)\n",
    "\n",
    "    display(inverse_button)\n",
    "    display(copy_button)\n",
    "    fig, ax = plt.subplots(figsize=(5,7))   # reserve a fig for the weights bar chart\n",
    "    return inverse_button, copy_button, ax\n"
   ]
  },
  {
   "cell_type": "markdown",
   "metadata": {},
   "source": [
    "## Draggable Dimension-Reduction 2D Plot"
   ]
  },
  {
   "cell_type": "code",
   "execution_count": 12,
   "metadata": {},
   "outputs": [],
   "source": [
    "# Handles mouse drag interaction events in the plot, users can select and drag points.\n",
    "class DraggablePoints(object):\n",
    "    def __init__(self, ax, artists):\n",
    "        self.ax = ax\n",
    "        self.artists = artists\n",
    "        self.current_artist = None\n",
    "        self.last_selected = None\n",
    "        ax.selected_text.set_text('Selected: none')\n",
    "        self.offset = (0, 0)\n",
    "        # Set up mouse listeners\n",
    "        ax.figure.canvas.mpl_connect('pick_event', self.on_pick)\n",
    "        ax.figure.canvas.mpl_connect('motion_notify_event', self.on_motion)\n",
    "        ax.figure.canvas.mpl_connect('button_release_event', self.on_release)\n",
    "\n",
    "    def on_pick(self, event):\n",
    "        # When point is clicked on (mouse down), select it and start the drag\n",
    "        if self.current_artist is None:  # clicking on overlapped points sends multiple events\n",
    "            self.last_selected = event.artist.index  # event.ind\n",
    "            self.current_artist = event.artist\n",
    "            event.artist.selected = True\n",
    "            event.artist.savecolor = event.artist.get_facecolor()\n",
    "            event.artist.set_facecolor('green')\n",
    "            #event.artist.set_alpha(1.0)\n",
    "            self.ax.selected_text.set_text(\"Selected: \" + event.artist.label)\n",
    "            x0, y0 = event.artist.center\n",
    "            self.offset = (x0 - event.mouseevent.xdata), (y0 - event.mouseevent.ydata)\n",
    "\n",
    "    def on_motion(self, event):\n",
    "        # When dragging, check if point is selected and valid mouse coordinates\n",
    "        if (self.current_artist is not None) and (event.xdata is not None) and (event.ydata is not None):\n",
    "            # Drag the point and its text label\n",
    "            dx, dy = self.offset\n",
    "            self.current_artist.center = x0, y0 = event.xdata + dx, event.ydata + dy\n",
    "            self.current_artist.text.set_position((x0 - self.current_artist.radius/2, \n",
    "                                                   y0 - self.current_artist.radius/2))\n",
    "            #self.ax.figure.canvas.draw()  # slow\n",
    "        \n",
    "    def on_release(self, event):\n",
    "        # When mouse is released, stop the drag\n",
    "        self.current_artist = None\n",
    "        #self.ax.figure.canvas.draw()\n"
   ]
  },
  {
   "cell_type": "code",
   "execution_count": 13,
   "metadata": {
    "scrolled": false
   },
   "outputs": [],
   "source": [
    "def create_plot(data2D):\n",
    "    # Initialize DR plot figure\n",
    "    fig, ax = plt.subplots(figsize= (8,7))\n",
    "    ax.selected_text = ax.figure.text(0,0.005, 'Selected: none', wrap=True, color='green')\n",
    "    fig.colorbar(plt.cm.ScalarMappable(norm=matplotlib.colors.Normalize(), cmap=plt.cm.plasma), ax=ax, label=\"Relevance\", ticks=[], shrink=0.5, aspect=40, fraction=0.05)\n",
    "    # ax = data2D.plot.scatter(x=\"x\", y=\"y\", alpha=0.5, c=\"relevance\", s=75, ax=ax\n",
    "    #                   colormap=plt.cm.plasma, sharex=False, figsize=(8, 6), picker=True)\n",
    "    # ax.collections[0].get_offsets());   set_offsets(data2D[['y','x']]);   .get_facecolors()\n",
    "    \n",
    "    # Clean up the plot\n",
    "    ax.set_xticks([])\n",
    "    ax.set_yticks([])\n",
    "    ax.figure.tight_layout()\n",
    "    #plt.show()\n",
    "    \n",
    "    # Store state data:\n",
    "    ax.circles = None\n",
    "    ax.dragpoint = None\n",
    "    \n",
    "    draw_plot(ax, data2D)\n",
    "    return ax\n",
    "\n",
    "def draw_plot(ax, data2D):\n",
    "    # Redraws the DR plot in the axes with the updated data2D\n",
    "    ax.clear()\n",
    "    # Map data to circles, with x, y, and relevance->color\n",
    "    wid = max(data2D.x.max() - data2D.x.min(), data2D.y.max() - data2D.y.min())  # max range of x,y axes\n",
    "    cnorm = matplotlib.colors.Normalize(vmin=data2D.relevance.min(), vmax=data2D.relevance.max())\n",
    "    ax.circles = data2D.apply(axis=1, func=lambda row: \n",
    "        matplotlib.patches.Circle(xy=(row.x, row.y), radius=wid/70, alpha=0.5, \n",
    "                                  color=plt.cm.plasma(cnorm(row.relevance)), picker=True))\n",
    "    for i,c in enumerate(ax.circles):\n",
    "        # Store state data:\n",
    "        c.index, c.label, c.selected = i, data2D.index[i], False\n",
    "        # Draw circles and text labels in plot\n",
    "        ax.add_patch(c)\n",
    "        c.text = ax.text(c.center[0]-c.radius/2, c.center[1]-c.radius/2, c.label)\n",
    "    # Make plot circles draggable\n",
    "    ax.dragpoint = DraggablePoints(ax, ax.circles)\n",
    "    \n",
    "    # Clean up the plot\n",
    "    ax.set_xticks([])\n",
    "    ax.set_yticks([])\n",
    "    ax.axis('equal')\n",
    "    #plt.show()\n"
   ]
  },
  {
   "cell_type": "markdown",
   "metadata": {},
   "source": [
    "# Interactive Visualization"
   ]
  },
  {
   "cell_type": "markdown",
   "metadata": {},
   "source": [
    "## Sliders\n",
    "Use the sliders to control the **dimension weights** for the input HD data. The weights indicate which dimensions are given more emphasis in the DR plot distances.  For computational reasons, weights cannot go to absolute zero. When used in DR, the weights are first normalized such that they sum to 1.\n",
    "\n",
    "After adjusting the sliders, click the **Apply** button to show the results in the DR plot.\n",
    "\n",
    "To reset the sliders to their default values, click the **Reset** button."
   ]
  },
  {
   "cell_type": "code",
   "execution_count": 14,
   "metadata": {
    "scrolled": false
   },
   "outputs": [
    {
     "data": {
      "application/vnd.jupyter.widget-view+json": {
       "model_id": "2e0b0b0f529c43e2b366004db0c7740f",
       "version_major": 2,
       "version_minor": 0
      },
      "text/plain": [
       "FloatSlider(value=1e-05, continuous_update=False, description='Active', max=0.9999, min=1e-05, readout_format=…"
      ]
     },
     "metadata": {},
     "output_type": "display_data"
    },
    {
     "data": {
      "application/vnd.jupyter.widget-view+json": {
       "model_id": "e56c2289ecf54292a05d13c1df110cb0",
       "version_major": 2,
       "version_minor": 0
      },
      "text/plain": [
       "FloatSlider(value=1e-05, continuous_update=False, description='Agility', max=0.9999, min=1e-05, readout_format…"
      ]
     },
     "metadata": {},
     "output_type": "display_data"
    },
    {
     "data": {
      "application/vnd.jupyter.widget-view+json": {
       "model_id": "551ba302bb124362bcc5f4ed60d36210",
       "version_major": 2,
       "version_minor": 0
      },
      "text/plain": [
       "FloatSlider(value=1e-05, continuous_update=False, description='Arctic', max=0.9999, min=1e-05, readout_format=…"
      ]
     },
     "metadata": {},
     "output_type": "display_data"
    },
    {
     "data": {
      "application/vnd.jupyter.widget-view+json": {
       "model_id": "2af703d339e94cb28db572e97fbe4f1a",
       "version_major": 2,
       "version_minor": 0
      },
      "text/plain": [
       "FloatSlider(value=1e-05, continuous_update=False, description='Bipedal', max=0.9999, min=1e-05, readout_format…"
      ]
     },
     "metadata": {},
     "output_type": "display_data"
    },
    {
     "data": {
      "application/vnd.jupyter.widget-view+json": {
       "model_id": "361582c0afc84d0bb71d666f51a95c1c",
       "version_major": 2,
       "version_minor": 0
      },
      "text/plain": [
       "FloatSlider(value=1e-05, continuous_update=False, description='Bulbous', max=0.9999, min=1e-05, readout_format…"
      ]
     },
     "metadata": {},
     "output_type": "display_data"
    },
    {
     "data": {
      "application/vnd.jupyter.widget-view+json": {
       "model_id": "abb3fcec34aa43689235bdd94a3a3a1e",
       "version_major": 2,
       "version_minor": 0
      },
      "text/plain": [
       "FloatSlider(value=1e-05, continuous_update=False, description='Coastal', max=0.9999, min=1e-05, readout_format…"
      ]
     },
     "metadata": {},
     "output_type": "display_data"
    },
    {
     "data": {
      "application/vnd.jupyter.widget-view+json": {
       "model_id": "f22cc29713ee457e9b09bed52ef530df",
       "version_major": 2,
       "version_minor": 0
      },
      "text/plain": [
       "FloatSlider(value=1e-05, continuous_update=False, description='Domestic', max=0.9999, min=1e-05, readout_forma…"
      ]
     },
     "metadata": {},
     "output_type": "display_data"
    },
    {
     "data": {
      "application/vnd.jupyter.widget-view+json": {
       "model_id": "9fed00ae44f2467f87d111f16f079882",
       "version_major": 2,
       "version_minor": 0
      },
      "text/plain": [
       "FloatSlider(value=1e-05, continuous_update=False, description='Fierce', max=0.9999, min=1e-05, readout_format=…"
      ]
     },
     "metadata": {},
     "output_type": "display_data"
    },
    {
     "data": {
      "application/vnd.jupyter.widget-view+json": {
       "model_id": "c0dc7869885d488389d4dd76e90410f0",
       "version_major": 2,
       "version_minor": 0
      },
      "text/plain": [
       "FloatSlider(value=1e-05, continuous_update=False, description='Forager', max=0.9999, min=1e-05, readout_format…"
      ]
     },
     "metadata": {},
     "output_type": "display_data"
    },
    {
     "data": {
      "application/vnd.jupyter.widget-view+json": {
       "model_id": "f789da281d064e828095b280866eb036",
       "version_major": 2,
       "version_minor": 0
      },
      "text/plain": [
       "FloatSlider(value=1e-05, continuous_update=False, description='Forest', max=0.9999, min=1e-05, readout_format=…"
      ]
     },
     "metadata": {},
     "output_type": "display_data"
    },
    {
     "data": {
      "application/vnd.jupyter.widget-view+json": {
       "model_id": "eec0da9dc9de4226aa7a2a811927afc7",
       "version_major": 2,
       "version_minor": 0
      },
      "text/plain": [
       "FloatSlider(value=1e-05, continuous_update=False, description='Furry', max=0.9999, min=1e-05, readout_format='…"
      ]
     },
     "metadata": {},
     "output_type": "display_data"
    },
    {
     "data": {
      "application/vnd.jupyter.widget-view+json": {
       "model_id": "db4e847bc344424689294712ec6e8232",
       "version_major": 2,
       "version_minor": 0
      },
      "text/plain": [
       "FloatSlider(value=1e-05, continuous_update=False, description='Grazer', max=0.9999, min=1e-05, readout_format=…"
      ]
     },
     "metadata": {},
     "output_type": "display_data"
    },
    {
     "data": {
      "application/vnd.jupyter.widget-view+json": {
       "model_id": "e4176c6effe0443a9cd48d9c7bffc525",
       "version_major": 2,
       "version_minor": 0
      },
      "text/plain": [
       "FloatSlider(value=1e-05, continuous_update=False, description='Hairless', max=0.9999, min=1e-05, readout_forma…"
      ]
     },
     "metadata": {},
     "output_type": "display_data"
    },
    {
     "data": {
      "application/vnd.jupyter.widget-view+json": {
       "model_id": "3fb7cb48532d4005b767933ba844e577",
       "version_major": 2,
       "version_minor": 0
      },
      "text/plain": [
       "FloatSlider(value=1e-05, continuous_update=False, description='Hibernate', max=0.9999, min=1e-05, readout_form…"
      ]
     },
     "metadata": {},
     "output_type": "display_data"
    },
    {
     "data": {
      "application/vnd.jupyter.widget-view+json": {
       "model_id": "1d3544e997034cc3ab51f79d9c9fe028",
       "version_major": 2,
       "version_minor": 0
      },
      "text/plain": [
       "FloatSlider(value=1e-05, continuous_update=False, description='Hunter', max=0.9999, min=1e-05, readout_format=…"
      ]
     },
     "metadata": {},
     "output_type": "display_data"
    },
    {
     "data": {
      "application/vnd.jupyter.widget-view+json": {
       "model_id": "5df35cb5c5c8482e8049386c284ad3e7",
       "version_major": 2,
       "version_minor": 0
      },
      "text/plain": [
       "FloatSlider(value=1e-05, continuous_update=False, description='Inactive', max=0.9999, min=1e-05, readout_forma…"
      ]
     },
     "metadata": {},
     "output_type": "display_data"
    },
    {
     "data": {
      "application/vnd.jupyter.widget-view+json": {
       "model_id": "0df98ca936094de2af518b34c9b52db3",
       "version_major": 2,
       "version_minor": 0
      },
      "text/plain": [
       "FloatSlider(value=1e-05, continuous_update=False, description='Jungle', max=0.9999, min=1e-05, readout_format=…"
      ]
     },
     "metadata": {},
     "output_type": "display_data"
    },
    {
     "data": {
      "application/vnd.jupyter.widget-view+json": {
       "model_id": "83f6e92ac827479ba4e14ac6ce6a3bed",
       "version_major": 2,
       "version_minor": 0
      },
      "text/plain": [
       "FloatSlider(value=1e-05, continuous_update=False, description='Lean', max=0.9999, min=1e-05, readout_format='.…"
      ]
     },
     "metadata": {},
     "output_type": "display_data"
    },
    {
     "data": {
      "application/vnd.jupyter.widget-view+json": {
       "model_id": "cdef06e734764a70af1d6f5dd0d32175",
       "version_major": 2,
       "version_minor": 0
      },
      "text/plain": [
       "FloatSlider(value=1e-05, continuous_update=False, description='Mountains', max=0.9999, min=1e-05, readout_form…"
      ]
     },
     "metadata": {},
     "output_type": "display_data"
    },
    {
     "data": {
      "application/vnd.jupyter.widget-view+json": {
       "model_id": "4acd281c282a4404b2ed1f2c230d0cf8",
       "version_major": 2,
       "version_minor": 0
      },
      "text/plain": [
       "FloatSlider(value=1e-05, continuous_update=False, description='Muscle', max=0.9999, min=1e-05, readout_format=…"
      ]
     },
     "metadata": {},
     "output_type": "display_data"
    },
    {
     "data": {
      "application/vnd.jupyter.widget-view+json": {
       "model_id": "614c0fdf9fad443caf04d5cfd3899b4a",
       "version_major": 2,
       "version_minor": 0
      },
      "text/plain": [
       "FloatSlider(value=1e-05, continuous_update=False, description='Newworld', max=0.9999, min=1e-05, readout_forma…"
      ]
     },
     "metadata": {},
     "output_type": "display_data"
    },
    {
     "data": {
      "application/vnd.jupyter.widget-view+json": {
       "model_id": "6aaa8333765945148a6fc14088af7144",
       "version_major": 2,
       "version_minor": 0
      },
      "text/plain": [
       "FloatSlider(value=1e-05, continuous_update=False, description='Nocturnal', max=0.9999, min=1e-05, readout_form…"
      ]
     },
     "metadata": {},
     "output_type": "display_data"
    },
    {
     "data": {
      "application/vnd.jupyter.widget-view+json": {
       "model_id": "1a0ae1aac96740e49ec40a558e0e7214",
       "version_major": 2,
       "version_minor": 0
      },
      "text/plain": [
       "FloatSlider(value=1e-05, continuous_update=False, description='Oldworld', max=0.9999, min=1e-05, readout_forma…"
      ]
     },
     "metadata": {},
     "output_type": "display_data"
    },
    {
     "data": {
      "application/vnd.jupyter.widget-view+json": {
       "model_id": "a1ca98b1df474a94aa257034a933f07e",
       "version_major": 2,
       "version_minor": 0
      },
      "text/plain": [
       "FloatSlider(value=1e-05, continuous_update=False, description='Pads', max=0.9999, min=1e-05, readout_format='.…"
      ]
     },
     "metadata": {},
     "output_type": "display_data"
    },
    {
     "data": {
      "application/vnd.jupyter.widget-view+json": {
       "model_id": "85247a728b8842c8b1e89d28c8e779f3",
       "version_major": 2,
       "version_minor": 0
      },
      "text/plain": [
       "FloatSlider(value=1e-05, continuous_update=False, description='Paws', max=0.9999, min=1e-05, readout_format='.…"
      ]
     },
     "metadata": {},
     "output_type": "display_data"
    },
    {
     "data": {
      "application/vnd.jupyter.widget-view+json": {
       "model_id": "015b1c9f9a6e4622ba448fd23f5966ec",
       "version_major": 2,
       "version_minor": 0
      },
      "text/plain": [
       "FloatSlider(value=1e-05, continuous_update=False, description='Quadrupedal', max=0.9999, min=1e-05, readout_fo…"
      ]
     },
     "metadata": {},
     "output_type": "display_data"
    },
    {
     "data": {
      "application/vnd.jupyter.widget-view+json": {
       "model_id": "c83f92ea86094f4d9bdf63ff3add8de8",
       "version_major": 2,
       "version_minor": 0
      },
      "text/plain": [
       "FloatSlider(value=1e-05, continuous_update=False, description='Size', max=0.9999, min=1e-05, readout_format='.…"
      ]
     },
     "metadata": {},
     "output_type": "display_data"
    },
    {
     "data": {
      "application/vnd.jupyter.widget-view+json": {
       "model_id": "025b5b4f3e5c4277afa92a4e77b94642",
       "version_major": 2,
       "version_minor": 0
      },
      "text/plain": [
       "FloatSlider(value=1e-05, continuous_update=False, description='Smart', max=0.9999, min=1e-05, readout_format='…"
      ]
     },
     "metadata": {},
     "output_type": "display_data"
    },
    {
     "data": {
      "application/vnd.jupyter.widget-view+json": {
       "model_id": "3e6df1febcfa46588008cc8e39daac01",
       "version_major": 2,
       "version_minor": 0
      },
      "text/plain": [
       "FloatSlider(value=1e-05, continuous_update=False, description='Speed', max=0.9999, min=1e-05, readout_format='…"
      ]
     },
     "metadata": {},
     "output_type": "display_data"
    },
    {
     "data": {
      "application/vnd.jupyter.widget-view+json": {
       "model_id": "38978cd83c074d36af1501b518aad22d",
       "version_major": 2,
       "version_minor": 0
      },
      "text/plain": [
       "FloatSlider(value=1e-05, continuous_update=False, description='Spots', max=0.9999, min=1e-05, readout_format='…"
      ]
     },
     "metadata": {},
     "output_type": "display_data"
    },
    {
     "data": {
      "application/vnd.jupyter.widget-view+json": {
       "model_id": "0c9f6acba21c4031b3ca3018fd61a357",
       "version_major": 2,
       "version_minor": 0
      },
      "text/plain": [
       "FloatSlider(value=1e-05, continuous_update=False, description='Stalker', max=0.9999, min=1e-05, readout_format…"
      ]
     },
     "metadata": {},
     "output_type": "display_data"
    },
    {
     "data": {
      "application/vnd.jupyter.widget-view+json": {
       "model_id": "e558e71c9576484b822b3889418915ec",
       "version_major": 2,
       "version_minor": 0
      },
      "text/plain": [
       "FloatSlider(value=1e-05, continuous_update=False, description='Strength', max=0.9999, min=1e-05, readout_forma…"
      ]
     },
     "metadata": {},
     "output_type": "display_data"
    },
    {
     "data": {
      "application/vnd.jupyter.widget-view+json": {
       "model_id": "58dca5a415e44e7da67bd7c02adf1cec",
       "version_major": 2,
       "version_minor": 0
      },
      "text/plain": [
       "FloatSlider(value=1e-05, continuous_update=False, description='Tail', max=0.9999, min=1e-05, readout_format='.…"
      ]
     },
     "metadata": {},
     "output_type": "display_data"
    },
    {
     "data": {
      "application/vnd.jupyter.widget-view+json": {
       "model_id": "500ce54d7c6446419da5d1fe26df2899",
       "version_major": 2,
       "version_minor": 0
      },
      "text/plain": [
       "FloatSlider(value=1e-05, continuous_update=False, description='Timid', max=0.9999, min=1e-05, readout_format='…"
      ]
     },
     "metadata": {},
     "output_type": "display_data"
    },
    {
     "data": {
      "application/vnd.jupyter.widget-view+json": {
       "model_id": "279b1c0db62445008239065b05ea65f4",
       "version_major": 2,
       "version_minor": 0
      },
      "text/plain": [
       "FloatSlider(value=1e-05, continuous_update=False, description='Toughskin', max=0.9999, min=1e-05, readout_form…"
      ]
     },
     "metadata": {},
     "output_type": "display_data"
    },
    {
     "data": {
      "application/vnd.jupyter.widget-view+json": {
       "model_id": "1e8da89381374c1193eded8fa7827e1d",
       "version_major": 2,
       "version_minor": 0
      },
      "text/plain": [
       "FloatSlider(value=1e-05, continuous_update=False, description='Water', max=0.9999, min=1e-05, readout_format='…"
      ]
     },
     "metadata": {},
     "output_type": "display_data"
    },
    {
     "data": {
      "application/vnd.jupyter.widget-view+json": {
       "model_id": "da74900f3ff74d4dbc386b9a94cb7682",
       "version_major": 2,
       "version_minor": 0
      },
      "text/plain": [
       "Button(description='Apply Slider Weights', style=ButtonStyle())"
      ]
     },
     "metadata": {},
     "output_type": "display_data"
    },
    {
     "data": {
      "application/vnd.jupyter.widget-view+json": {
       "model_id": "3da034c4bbc34b35a00cb31d0eed6f45",
       "version_major": 2,
       "version_minor": 0
      },
      "text/plain": [
       "Button(description='Reset Plot', style=ButtonStyle())"
      ]
     },
     "metadata": {},
     "output_type": "display_data"
    }
   ],
   "source": [
    "sliders = create_sliders(weights)"
   ]
  },
  {
   "cell_type": "markdown",
   "metadata": {},
   "source": [
    "## Dimension Reduction Plot\n",
    "This shows the HD data in 2D form, such that **proximity == similarity**, based on the current slider weights.  Distances between points in the plot approximately reflect their distances in the weighted HD data.  Thus, points near each other have similar HD data values in the up-weighted dimensions, and points far away have very different HD data values in those dimensions.\n",
    "\n",
    "The color represents the **relevance** of each point to the current slider weights. Yellower points have larger values in up-weighted dimensions.\n",
    "\n",
    "Points can be **selected** to highlight in Green and view their details below.  Points can be **dragged** to specify a new projection for learning weights, see below. To reset the plot and clear the selections, click the **Reset** button above."
   ]
  },
  {
   "cell_type": "code",
   "execution_count": 15,
   "metadata": {
    "scrolled": false
   },
   "outputs": [
    {
     "data": {
      "application/javascript": "/* Put everything inside the global mpl namespace */\n/* global mpl */\nwindow.mpl = {};\n\nmpl.get_websocket_type = function () {\n    if (typeof WebSocket !== 'undefined') {\n        return WebSocket;\n    } else if (typeof MozWebSocket !== 'undefined') {\n        return MozWebSocket;\n    } else {\n        alert(\n            'Your browser does not have WebSocket support. ' +\n                'Please try Chrome, Safari or Firefox ≥ 6. ' +\n                'Firefox 4 and 5 are also supported but you ' +\n                'have to enable WebSockets in about:config.'\n        );\n    }\n};\n\nmpl.figure = function (figure_id, websocket, ondownload, parent_element) {\n    this.id = figure_id;\n\n    this.ws = websocket;\n\n    this.supports_binary = this.ws.binaryType !== undefined;\n\n    if (!this.supports_binary) {\n        var warnings = document.getElementById('mpl-warnings');\n        if (warnings) {\n            warnings.style.display = 'block';\n            warnings.textContent =\n                'This browser does not support binary websocket messages. ' +\n                'Performance may be slow.';\n        }\n    }\n\n    this.imageObj = new Image();\n\n    this.context = undefined;\n    this.message = undefined;\n    this.canvas = undefined;\n    this.rubberband_canvas = undefined;\n    this.rubberband_context = undefined;\n    this.format_dropdown = undefined;\n\n    this.image_mode = 'full';\n\n    this.root = document.createElement('div');\n    this.root.setAttribute('style', 'display: inline-block');\n    this._root_extra_style(this.root);\n\n    parent_element.appendChild(this.root);\n\n    this._init_header(this);\n    this._init_canvas(this);\n    this._init_toolbar(this);\n\n    var fig = this;\n\n    this.waiting = false;\n\n    this.ws.onopen = function () {\n        fig.send_message('supports_binary', { value: fig.supports_binary });\n        fig.send_message('send_image_mode', {});\n        if (fig.ratio !== 1) {\n            fig.send_message('set_device_pixel_ratio', {\n                device_pixel_ratio: fig.ratio,\n            });\n        }\n        fig.send_message('refresh', {});\n    };\n\n    this.imageObj.onload = function () {\n        if (fig.image_mode === 'full') {\n            // Full images could contain transparency (where diff images\n            // almost always do), so we need to clear the canvas so that\n            // there is no ghosting.\n            fig.context.clearRect(0, 0, fig.canvas.width, fig.canvas.height);\n        }\n        fig.context.drawImage(fig.imageObj, 0, 0);\n    };\n\n    this.imageObj.onunload = function () {\n        fig.ws.close();\n    };\n\n    this.ws.onmessage = this._make_on_message_function(this);\n\n    this.ondownload = ondownload;\n};\n\nmpl.figure.prototype._init_header = function () {\n    var titlebar = document.createElement('div');\n    titlebar.classList =\n        'ui-dialog-titlebar ui-widget-header ui-corner-all ui-helper-clearfix';\n    var titletext = document.createElement('div');\n    titletext.classList = 'ui-dialog-title';\n    titletext.setAttribute(\n        'style',\n        'width: 100%; text-align: center; padding: 3px;'\n    );\n    titlebar.appendChild(titletext);\n    this.root.appendChild(titlebar);\n    this.header = titletext;\n};\n\nmpl.figure.prototype._canvas_extra_style = function (_canvas_div) {};\n\nmpl.figure.prototype._root_extra_style = function (_canvas_div) {};\n\nmpl.figure.prototype._init_canvas = function () {\n    var fig = this;\n\n    var canvas_div = (this.canvas_div = document.createElement('div'));\n    canvas_div.setAttribute(\n        'style',\n        'border: 1px solid #ddd;' +\n            'box-sizing: content-box;' +\n            'clear: both;' +\n            'min-height: 1px;' +\n            'min-width: 1px;' +\n            'outline: 0;' +\n            'overflow: hidden;' +\n            'position: relative;' +\n            'resize: both;'\n    );\n\n    function on_keyboard_event_closure(name) {\n        return function (event) {\n            return fig.key_event(event, name);\n        };\n    }\n\n    canvas_div.addEventListener(\n        'keydown',\n        on_keyboard_event_closure('key_press')\n    );\n    canvas_div.addEventListener(\n        'keyup',\n        on_keyboard_event_closure('key_release')\n    );\n\n    this._canvas_extra_style(canvas_div);\n    this.root.appendChild(canvas_div);\n\n    var canvas = (this.canvas = document.createElement('canvas'));\n    canvas.classList.add('mpl-canvas');\n    canvas.setAttribute('style', 'box-sizing: content-box;');\n\n    this.context = canvas.getContext('2d');\n\n    var backingStore =\n        this.context.backingStorePixelRatio ||\n        this.context.webkitBackingStorePixelRatio ||\n        this.context.mozBackingStorePixelRatio ||\n        this.context.msBackingStorePixelRatio ||\n        this.context.oBackingStorePixelRatio ||\n        this.context.backingStorePixelRatio ||\n        1;\n\n    this.ratio = (window.devicePixelRatio || 1) / backingStore;\n\n    var rubberband_canvas = (this.rubberband_canvas = document.createElement(\n        'canvas'\n    ));\n    rubberband_canvas.setAttribute(\n        'style',\n        'box-sizing: content-box; position: absolute; left: 0; top: 0; z-index: 1;'\n    );\n\n    // Apply a ponyfill if ResizeObserver is not implemented by browser.\n    if (this.ResizeObserver === undefined) {\n        if (window.ResizeObserver !== undefined) {\n            this.ResizeObserver = window.ResizeObserver;\n        } else {\n            var obs = _JSXTOOLS_RESIZE_OBSERVER({});\n            this.ResizeObserver = obs.ResizeObserver;\n        }\n    }\n\n    this.resizeObserverInstance = new this.ResizeObserver(function (entries) {\n        var nentries = entries.length;\n        for (var i = 0; i < nentries; i++) {\n            var entry = entries[i];\n            var width, height;\n            if (entry.contentBoxSize) {\n                if (entry.contentBoxSize instanceof Array) {\n                    // Chrome 84 implements new version of spec.\n                    width = entry.contentBoxSize[0].inlineSize;\n                    height = entry.contentBoxSize[0].blockSize;\n                } else {\n                    // Firefox implements old version of spec.\n                    width = entry.contentBoxSize.inlineSize;\n                    height = entry.contentBoxSize.blockSize;\n                }\n            } else {\n                // Chrome <84 implements even older version of spec.\n                width = entry.contentRect.width;\n                height = entry.contentRect.height;\n            }\n\n            // Keep the size of the canvas and rubber band canvas in sync with\n            // the canvas container.\n            if (entry.devicePixelContentBoxSize) {\n                // Chrome 84 implements new version of spec.\n                canvas.setAttribute(\n                    'width',\n                    entry.devicePixelContentBoxSize[0].inlineSize\n                );\n                canvas.setAttribute(\n                    'height',\n                    entry.devicePixelContentBoxSize[0].blockSize\n                );\n            } else {\n                canvas.setAttribute('width', width * fig.ratio);\n                canvas.setAttribute('height', height * fig.ratio);\n            }\n            canvas.setAttribute(\n                'style',\n                'width: ' + width + 'px; height: ' + height + 'px;'\n            );\n\n            rubberband_canvas.setAttribute('width', width);\n            rubberband_canvas.setAttribute('height', height);\n\n            // And update the size in Python. We ignore the initial 0/0 size\n            // that occurs as the element is placed into the DOM, which should\n            // otherwise not happen due to the minimum size styling.\n            if (fig.ws.readyState == 1 && width != 0 && height != 0) {\n                fig.request_resize(width, height);\n            }\n        }\n    });\n    this.resizeObserverInstance.observe(canvas_div);\n\n    function on_mouse_event_closure(name) {\n        return function (event) {\n            return fig.mouse_event(event, name);\n        };\n    }\n\n    rubberband_canvas.addEventListener(\n        'mousedown',\n        on_mouse_event_closure('button_press')\n    );\n    rubberband_canvas.addEventListener(\n        'mouseup',\n        on_mouse_event_closure('button_release')\n    );\n    rubberband_canvas.addEventListener(\n        'dblclick',\n        on_mouse_event_closure('dblclick')\n    );\n    // Throttle sequential mouse events to 1 every 20ms.\n    rubberband_canvas.addEventListener(\n        'mousemove',\n        on_mouse_event_closure('motion_notify')\n    );\n\n    rubberband_canvas.addEventListener(\n        'mouseenter',\n        on_mouse_event_closure('figure_enter')\n    );\n    rubberband_canvas.addEventListener(\n        'mouseleave',\n        on_mouse_event_closure('figure_leave')\n    );\n\n    canvas_div.addEventListener('wheel', function (event) {\n        if (event.deltaY < 0) {\n            event.step = 1;\n        } else {\n            event.step = -1;\n        }\n        on_mouse_event_closure('scroll')(event);\n    });\n\n    canvas_div.appendChild(canvas);\n    canvas_div.appendChild(rubberband_canvas);\n\n    this.rubberband_context = rubberband_canvas.getContext('2d');\n    this.rubberband_context.strokeStyle = '#000000';\n\n    this._resize_canvas = function (width, height, forward) {\n        if (forward) {\n            canvas_div.style.width = width + 'px';\n            canvas_div.style.height = height + 'px';\n        }\n    };\n\n    // Disable right mouse context menu.\n    this.rubberband_canvas.addEventListener('contextmenu', function (_e) {\n        event.preventDefault();\n        return false;\n    });\n\n    function set_focus() {\n        canvas.focus();\n        canvas_div.focus();\n    }\n\n    window.setTimeout(set_focus, 100);\n};\n\nmpl.figure.prototype._init_toolbar = function () {\n    var fig = this;\n\n    var toolbar = document.createElement('div');\n    toolbar.classList = 'mpl-toolbar';\n    this.root.appendChild(toolbar);\n\n    function on_click_closure(name) {\n        return function (_event) {\n            return fig.toolbar_button_onclick(name);\n        };\n    }\n\n    function on_mouseover_closure(tooltip) {\n        return function (event) {\n            if (!event.currentTarget.disabled) {\n                return fig.toolbar_button_onmouseover(tooltip);\n            }\n        };\n    }\n\n    fig.buttons = {};\n    var buttonGroup = document.createElement('div');\n    buttonGroup.classList = 'mpl-button-group';\n    for (var toolbar_ind in mpl.toolbar_items) {\n        var name = mpl.toolbar_items[toolbar_ind][0];\n        var tooltip = mpl.toolbar_items[toolbar_ind][1];\n        var image = mpl.toolbar_items[toolbar_ind][2];\n        var method_name = mpl.toolbar_items[toolbar_ind][3];\n\n        if (!name) {\n            /* Instead of a spacer, we start a new button group. */\n            if (buttonGroup.hasChildNodes()) {\n                toolbar.appendChild(buttonGroup);\n            }\n            buttonGroup = document.createElement('div');\n            buttonGroup.classList = 'mpl-button-group';\n            continue;\n        }\n\n        var button = (fig.buttons[name] = document.createElement('button'));\n        button.classList = 'mpl-widget';\n        button.setAttribute('role', 'button');\n        button.setAttribute('aria-disabled', 'false');\n        button.addEventListener('click', on_click_closure(method_name));\n        button.addEventListener('mouseover', on_mouseover_closure(tooltip));\n\n        var icon_img = document.createElement('img');\n        icon_img.src = '_images/' + image + '.png';\n        icon_img.srcset = '_images/' + image + '_large.png 2x';\n        icon_img.alt = tooltip;\n        button.appendChild(icon_img);\n\n        buttonGroup.appendChild(button);\n    }\n\n    if (buttonGroup.hasChildNodes()) {\n        toolbar.appendChild(buttonGroup);\n    }\n\n    var fmt_picker = document.createElement('select');\n    fmt_picker.classList = 'mpl-widget';\n    toolbar.appendChild(fmt_picker);\n    this.format_dropdown = fmt_picker;\n\n    for (var ind in mpl.extensions) {\n        var fmt = mpl.extensions[ind];\n        var option = document.createElement('option');\n        option.selected = fmt === mpl.default_extension;\n        option.innerHTML = fmt;\n        fmt_picker.appendChild(option);\n    }\n\n    var status_bar = document.createElement('span');\n    status_bar.classList = 'mpl-message';\n    toolbar.appendChild(status_bar);\n    this.message = status_bar;\n};\n\nmpl.figure.prototype.request_resize = function (x_pixels, y_pixels) {\n    // Request matplotlib to resize the figure. Matplotlib will then trigger a resize in the client,\n    // which will in turn request a refresh of the image.\n    this.send_message('resize', { width: x_pixels, height: y_pixels });\n};\n\nmpl.figure.prototype.send_message = function (type, properties) {\n    properties['type'] = type;\n    properties['figure_id'] = this.id;\n    this.ws.send(JSON.stringify(properties));\n};\n\nmpl.figure.prototype.send_draw_message = function () {\n    if (!this.waiting) {\n        this.waiting = true;\n        this.ws.send(JSON.stringify({ type: 'draw', figure_id: this.id }));\n    }\n};\n\nmpl.figure.prototype.handle_save = function (fig, _msg) {\n    var format_dropdown = fig.format_dropdown;\n    var format = format_dropdown.options[format_dropdown.selectedIndex].value;\n    fig.ondownload(fig, format);\n};\n\nmpl.figure.prototype.handle_resize = function (fig, msg) {\n    var size = msg['size'];\n    if (size[0] !== fig.canvas.width || size[1] !== fig.canvas.height) {\n        fig._resize_canvas(size[0], size[1], msg['forward']);\n        fig.send_message('refresh', {});\n    }\n};\n\nmpl.figure.prototype.handle_rubberband = function (fig, msg) {\n    var x0 = msg['x0'] / fig.ratio;\n    var y0 = (fig.canvas.height - msg['y0']) / fig.ratio;\n    var x1 = msg['x1'] / fig.ratio;\n    var y1 = (fig.canvas.height - msg['y1']) / fig.ratio;\n    x0 = Math.floor(x0) + 0.5;\n    y0 = Math.floor(y0) + 0.5;\n    x1 = Math.floor(x1) + 0.5;\n    y1 = Math.floor(y1) + 0.5;\n    var min_x = Math.min(x0, x1);\n    var min_y = Math.min(y0, y1);\n    var width = Math.abs(x1 - x0);\n    var height = Math.abs(y1 - y0);\n\n    fig.rubberband_context.clearRect(\n        0,\n        0,\n        fig.canvas.width / fig.ratio,\n        fig.canvas.height / fig.ratio\n    );\n\n    fig.rubberband_context.strokeRect(min_x, min_y, width, height);\n};\n\nmpl.figure.prototype.handle_figure_label = function (fig, msg) {\n    // Updates the figure title.\n    fig.header.textContent = msg['label'];\n};\n\nmpl.figure.prototype.handle_cursor = function (fig, msg) {\n    fig.rubberband_canvas.style.cursor = msg['cursor'];\n};\n\nmpl.figure.prototype.handle_message = function (fig, msg) {\n    fig.message.textContent = msg['message'];\n};\n\nmpl.figure.prototype.handle_draw = function (fig, _msg) {\n    // Request the server to send over a new figure.\n    fig.send_draw_message();\n};\n\nmpl.figure.prototype.handle_image_mode = function (fig, msg) {\n    fig.image_mode = msg['mode'];\n};\n\nmpl.figure.prototype.handle_history_buttons = function (fig, msg) {\n    for (var key in msg) {\n        if (!(key in fig.buttons)) {\n            continue;\n        }\n        fig.buttons[key].disabled = !msg[key];\n        fig.buttons[key].setAttribute('aria-disabled', !msg[key]);\n    }\n};\n\nmpl.figure.prototype.handle_navigate_mode = function (fig, msg) {\n    if (msg['mode'] === 'PAN') {\n        fig.buttons['Pan'].classList.add('active');\n        fig.buttons['Zoom'].classList.remove('active');\n    } else if (msg['mode'] === 'ZOOM') {\n        fig.buttons['Pan'].classList.remove('active');\n        fig.buttons['Zoom'].classList.add('active');\n    } else {\n        fig.buttons['Pan'].classList.remove('active');\n        fig.buttons['Zoom'].classList.remove('active');\n    }\n};\n\nmpl.figure.prototype.updated_canvas_event = function () {\n    // Called whenever the canvas gets updated.\n    this.send_message('ack', {});\n};\n\n// A function to construct a web socket function for onmessage handling.\n// Called in the figure constructor.\nmpl.figure.prototype._make_on_message_function = function (fig) {\n    return function socket_on_message(evt) {\n        if (evt.data instanceof Blob) {\n            var img = evt.data;\n            if (img.type !== 'image/png') {\n                /* FIXME: We get \"Resource interpreted as Image but\n                 * transferred with MIME type text/plain:\" errors on\n                 * Chrome.  But how to set the MIME type?  It doesn't seem\n                 * to be part of the websocket stream */\n                img.type = 'image/png';\n            }\n\n            /* Free the memory for the previous frames */\n            if (fig.imageObj.src) {\n                (window.URL || window.webkitURL).revokeObjectURL(\n                    fig.imageObj.src\n                );\n            }\n\n            fig.imageObj.src = (window.URL || window.webkitURL).createObjectURL(\n                img\n            );\n            fig.updated_canvas_event();\n            fig.waiting = false;\n            return;\n        } else if (\n            typeof evt.data === 'string' &&\n            evt.data.slice(0, 21) === 'data:image/png;base64'\n        ) {\n            fig.imageObj.src = evt.data;\n            fig.updated_canvas_event();\n            fig.waiting = false;\n            return;\n        }\n\n        var msg = JSON.parse(evt.data);\n        var msg_type = msg['type'];\n\n        // Call the  \"handle_{type}\" callback, which takes\n        // the figure and JSON message as its only arguments.\n        try {\n            var callback = fig['handle_' + msg_type];\n        } catch (e) {\n            console.log(\n                \"No handler for the '\" + msg_type + \"' message type: \",\n                msg\n            );\n            return;\n        }\n\n        if (callback) {\n            try {\n                // console.log(\"Handling '\" + msg_type + \"' message: \", msg);\n                callback(fig, msg);\n            } catch (e) {\n                console.log(\n                    \"Exception inside the 'handler_\" + msg_type + \"' callback:\",\n                    e,\n                    e.stack,\n                    msg\n                );\n            }\n        }\n    };\n};\n\n// from https://stackoverflow.com/questions/1114465/getting-mouse-location-in-canvas\nmpl.findpos = function (e) {\n    //this section is from http://www.quirksmode.org/js/events_properties.html\n    var targ;\n    if (!e) {\n        e = window.event;\n    }\n    if (e.target) {\n        targ = e.target;\n    } else if (e.srcElement) {\n        targ = e.srcElement;\n    }\n    if (targ.nodeType === 3) {\n        // defeat Safari bug\n        targ = targ.parentNode;\n    }\n\n    // pageX,Y are the mouse positions relative to the document\n    var boundingRect = targ.getBoundingClientRect();\n    var x = e.pageX - (boundingRect.left + document.body.scrollLeft);\n    var y = e.pageY - (boundingRect.top + document.body.scrollTop);\n\n    return { x: x, y: y };\n};\n\n/*\n * return a copy of an object with only non-object keys\n * we need this to avoid circular references\n * https://stackoverflow.com/a/24161582/3208463\n */\nfunction simpleKeys(original) {\n    return Object.keys(original).reduce(function (obj, key) {\n        if (typeof original[key] !== 'object') {\n            obj[key] = original[key];\n        }\n        return obj;\n    }, {});\n}\n\nmpl.figure.prototype.mouse_event = function (event, name) {\n    var canvas_pos = mpl.findpos(event);\n\n    if (name === 'button_press') {\n        this.canvas.focus();\n        this.canvas_div.focus();\n    }\n\n    var x = canvas_pos.x * this.ratio;\n    var y = canvas_pos.y * this.ratio;\n\n    this.send_message(name, {\n        x: x,\n        y: y,\n        button: event.button,\n        step: event.step,\n        guiEvent: simpleKeys(event),\n    });\n\n    /* This prevents the web browser from automatically changing to\n     * the text insertion cursor when the button is pressed.  We want\n     * to control all of the cursor setting manually through the\n     * 'cursor' event from matplotlib */\n    event.preventDefault();\n    return false;\n};\n\nmpl.figure.prototype._key_event_extra = function (_event, _name) {\n    // Handle any extra behaviour associated with a key event\n};\n\nmpl.figure.prototype.key_event = function (event, name) {\n    // Prevent repeat events\n    if (name === 'key_press') {\n        if (event.key === this._key) {\n            return;\n        } else {\n            this._key = event.key;\n        }\n    }\n    if (name === 'key_release') {\n        this._key = null;\n    }\n\n    var value = '';\n    if (event.ctrlKey && event.key !== 'Control') {\n        value += 'ctrl+';\n    }\n    else if (event.altKey && event.key !== 'Alt') {\n        value += 'alt+';\n    }\n    else if (event.shiftKey && event.key !== 'Shift') {\n        value += 'shift+';\n    }\n\n    value += 'k' + event.key;\n\n    this._key_event_extra(event, name);\n\n    this.send_message(name, { key: value, guiEvent: simpleKeys(event) });\n    return false;\n};\n\nmpl.figure.prototype.toolbar_button_onclick = function (name) {\n    if (name === 'download') {\n        this.handle_save(this, null);\n    } else {\n        this.send_message('toolbar_button', { name: name });\n    }\n};\n\nmpl.figure.prototype.toolbar_button_onmouseover = function (tooltip) {\n    this.message.textContent = tooltip;\n};\n\n///////////////// REMAINING CONTENT GENERATED BY embed_js.py /////////////////\n// prettier-ignore\nvar _JSXTOOLS_RESIZE_OBSERVER=function(A){var t,i=new WeakMap,n=new WeakMap,a=new WeakMap,r=new WeakMap,o=new Set;function s(e){if(!(this instanceof s))throw new TypeError(\"Constructor requires 'new' operator\");i.set(this,e)}function h(){throw new TypeError(\"Function is not a constructor\")}function c(e,t,i,n){e=0 in arguments?Number(arguments[0]):0,t=1 in arguments?Number(arguments[1]):0,i=2 in arguments?Number(arguments[2]):0,n=3 in arguments?Number(arguments[3]):0,this.right=(this.x=this.left=e)+(this.width=i),this.bottom=(this.y=this.top=t)+(this.height=n),Object.freeze(this)}function d(){t=requestAnimationFrame(d);var s=new WeakMap,p=new Set;o.forEach((function(t){r.get(t).forEach((function(i){var r=t instanceof window.SVGElement,o=a.get(t),d=r?0:parseFloat(o.paddingTop),f=r?0:parseFloat(o.paddingRight),l=r?0:parseFloat(o.paddingBottom),u=r?0:parseFloat(o.paddingLeft),g=r?0:parseFloat(o.borderTopWidth),m=r?0:parseFloat(o.borderRightWidth),w=r?0:parseFloat(o.borderBottomWidth),b=u+f,F=d+l,v=(r?0:parseFloat(o.borderLeftWidth))+m,W=g+w,y=r?0:t.offsetHeight-W-t.clientHeight,E=r?0:t.offsetWidth-v-t.clientWidth,R=b+v,z=F+W,M=r?t.width:parseFloat(o.width)-R-E,O=r?t.height:parseFloat(o.height)-z-y;if(n.has(t)){var k=n.get(t);if(k[0]===M&&k[1]===O)return}n.set(t,[M,O]);var S=Object.create(h.prototype);S.target=t,S.contentRect=new c(u,d,M,O),s.has(i)||(s.set(i,[]),p.add(i)),s.get(i).push(S)}))})),p.forEach((function(e){i.get(e).call(e,s.get(e),e)}))}return s.prototype.observe=function(i){if(i instanceof window.Element){r.has(i)||(r.set(i,new Set),o.add(i),a.set(i,window.getComputedStyle(i)));var n=r.get(i);n.has(this)||n.add(this),cancelAnimationFrame(t),t=requestAnimationFrame(d)}},s.prototype.unobserve=function(i){if(i instanceof window.Element&&r.has(i)){var n=r.get(i);n.has(this)&&(n.delete(this),n.size||(r.delete(i),o.delete(i))),n.size||r.delete(i),o.size||cancelAnimationFrame(t)}},A.DOMRectReadOnly=c,A.ResizeObserver=s,A.ResizeObserverEntry=h,A}; // eslint-disable-line\nmpl.toolbar_items = [[\"Home\", \"Reset original view\", \"fa fa-home icon-home\", \"home\"], [\"Back\", \"Back to previous view\", \"fa fa-arrow-left icon-arrow-left\", \"back\"], [\"Forward\", \"Forward to next view\", \"fa fa-arrow-right icon-arrow-right\", \"forward\"], [\"\", \"\", \"\", \"\"], [\"Pan\", \"Left button pans, Right button zooms\\nx/y fixes axis, CTRL fixes aspect\", \"fa fa-arrows icon-move\", \"pan\"], [\"Zoom\", \"Zoom to rectangle\\nx/y fixes axis\", \"fa fa-square-o icon-check-empty\", \"zoom\"], [\"\", \"\", \"\", \"\"], [\"Download\", \"Download plot\", \"fa fa-floppy-o icon-save\", \"download\"]];\n\nmpl.extensions = [\"eps\", \"jpeg\", \"pgf\", \"pdf\", \"png\", \"ps\", \"raw\", \"svg\", \"tif\"];\n\nmpl.default_extension = \"png\";/* global mpl */\n\nvar comm_websocket_adapter = function (comm) {\n    // Create a \"websocket\"-like object which calls the given IPython comm\n    // object with the appropriate methods. Currently this is a non binary\n    // socket, so there is still some room for performance tuning.\n    var ws = {};\n\n    ws.binaryType = comm.kernel.ws.binaryType;\n    ws.readyState = comm.kernel.ws.readyState;\n    function updateReadyState(_event) {\n        if (comm.kernel.ws) {\n            ws.readyState = comm.kernel.ws.readyState;\n        } else {\n            ws.readyState = 3; // Closed state.\n        }\n    }\n    comm.kernel.ws.addEventListener('open', updateReadyState);\n    comm.kernel.ws.addEventListener('close', updateReadyState);\n    comm.kernel.ws.addEventListener('error', updateReadyState);\n\n    ws.close = function () {\n        comm.close();\n    };\n    ws.send = function (m) {\n        //console.log('sending', m);\n        comm.send(m);\n    };\n    // Register the callback with on_msg.\n    comm.on_msg(function (msg) {\n        //console.log('receiving', msg['content']['data'], msg);\n        var data = msg['content']['data'];\n        if (data['blob'] !== undefined) {\n            data = {\n                data: new Blob(msg['buffers'], { type: data['blob'] }),\n            };\n        }\n        // Pass the mpl event to the overridden (by mpl) onmessage function.\n        ws.onmessage(data);\n    });\n    return ws;\n};\n\nmpl.mpl_figure_comm = function (comm, msg) {\n    // This is the function which gets called when the mpl process\n    // starts-up an IPython Comm through the \"matplotlib\" channel.\n\n    var id = msg.content.data.id;\n    // Get hold of the div created by the display call when the Comm\n    // socket was opened in Python.\n    var element = document.getElementById(id);\n    var ws_proxy = comm_websocket_adapter(comm);\n\n    function ondownload(figure, _format) {\n        window.open(figure.canvas.toDataURL());\n    }\n\n    var fig = new mpl.figure(id, ws_proxy, ondownload, element);\n\n    // Call onopen now - mpl needs it, as it is assuming we've passed it a real\n    // web socket which is closed, not our websocket->open comm proxy.\n    ws_proxy.onopen();\n\n    fig.parent_element = element;\n    fig.cell_info = mpl.find_output_cell(\"<div id='\" + id + \"'></div>\");\n    if (!fig.cell_info) {\n        console.error('Failed to find cell for figure', id, fig);\n        return;\n    }\n    fig.cell_info[0].output_area.element.on(\n        'cleared',\n        { fig: fig },\n        fig._remove_fig_handler\n    );\n};\n\nmpl.figure.prototype.handle_close = function (fig, msg) {\n    var width = fig.canvas.width / fig.ratio;\n    fig.cell_info[0].output_area.element.off(\n        'cleared',\n        fig._remove_fig_handler\n    );\n    fig.resizeObserverInstance.unobserve(fig.canvas_div);\n\n    // Update the output cell to use the data from the current canvas.\n    fig.push_to_output();\n    var dataURL = fig.canvas.toDataURL();\n    // Re-enable the keyboard manager in IPython - without this line, in FF,\n    // the notebook keyboard shortcuts fail.\n    IPython.keyboard_manager.enable();\n    fig.parent_element.innerHTML =\n        '<img src=\"' + dataURL + '\" width=\"' + width + '\">';\n    fig.close_ws(fig, msg);\n};\n\nmpl.figure.prototype.close_ws = function (fig, msg) {\n    fig.send_message('closing', msg);\n    // fig.ws.close()\n};\n\nmpl.figure.prototype.push_to_output = function (_remove_interactive) {\n    // Turn the data on the canvas into data in the output cell.\n    var width = this.canvas.width / this.ratio;\n    var dataURL = this.canvas.toDataURL();\n    this.cell_info[1]['text/html'] =\n        '<img src=\"' + dataURL + '\" width=\"' + width + '\">';\n};\n\nmpl.figure.prototype.updated_canvas_event = function () {\n    // Tell IPython that the notebook contents must change.\n    IPython.notebook.set_dirty(true);\n    this.send_message('ack', {});\n    var fig = this;\n    // Wait a second, then push the new image to the DOM so\n    // that it is saved nicely (might be nice to debounce this).\n    setTimeout(function () {\n        fig.push_to_output();\n    }, 1000);\n};\n\nmpl.figure.prototype._init_toolbar = function () {\n    var fig = this;\n\n    var toolbar = document.createElement('div');\n    toolbar.classList = 'btn-toolbar';\n    this.root.appendChild(toolbar);\n\n    function on_click_closure(name) {\n        return function (_event) {\n            return fig.toolbar_button_onclick(name);\n        };\n    }\n\n    function on_mouseover_closure(tooltip) {\n        return function (event) {\n            if (!event.currentTarget.disabled) {\n                return fig.toolbar_button_onmouseover(tooltip);\n            }\n        };\n    }\n\n    fig.buttons = {};\n    var buttonGroup = document.createElement('div');\n    buttonGroup.classList = 'btn-group';\n    var button;\n    for (var toolbar_ind in mpl.toolbar_items) {\n        var name = mpl.toolbar_items[toolbar_ind][0];\n        var tooltip = mpl.toolbar_items[toolbar_ind][1];\n        var image = mpl.toolbar_items[toolbar_ind][2];\n        var method_name = mpl.toolbar_items[toolbar_ind][3];\n\n        if (!name) {\n            /* Instead of a spacer, we start a new button group. */\n            if (buttonGroup.hasChildNodes()) {\n                toolbar.appendChild(buttonGroup);\n            }\n            buttonGroup = document.createElement('div');\n            buttonGroup.classList = 'btn-group';\n            continue;\n        }\n\n        button = fig.buttons[name] = document.createElement('button');\n        button.classList = 'btn btn-default';\n        button.href = '#';\n        button.title = name;\n        button.innerHTML = '<i class=\"fa ' + image + ' fa-lg\"></i>';\n        button.addEventListener('click', on_click_closure(method_name));\n        button.addEventListener('mouseover', on_mouseover_closure(tooltip));\n        buttonGroup.appendChild(button);\n    }\n\n    if (buttonGroup.hasChildNodes()) {\n        toolbar.appendChild(buttonGroup);\n    }\n\n    // Add the status bar.\n    var status_bar = document.createElement('span');\n    status_bar.classList = 'mpl-message pull-right';\n    toolbar.appendChild(status_bar);\n    this.message = status_bar;\n\n    // Add the close button to the window.\n    var buttongrp = document.createElement('div');\n    buttongrp.classList = 'btn-group inline pull-right';\n    button = document.createElement('button');\n    button.classList = 'btn btn-mini btn-primary';\n    button.href = '#';\n    button.title = 'Stop Interaction';\n    button.innerHTML = '<i class=\"fa fa-power-off icon-remove icon-large\"></i>';\n    button.addEventListener('click', function (_evt) {\n        fig.handle_close(fig, {});\n    });\n    button.addEventListener(\n        'mouseover',\n        on_mouseover_closure('Stop Interaction')\n    );\n    buttongrp.appendChild(button);\n    var titlebar = this.root.querySelector('.ui-dialog-titlebar');\n    titlebar.insertBefore(buttongrp, titlebar.firstChild);\n};\n\nmpl.figure.prototype._remove_fig_handler = function (event) {\n    var fig = event.data.fig;\n    if (event.target !== this) {\n        // Ignore bubbled events from children.\n        return;\n    }\n    fig.close_ws(fig, {});\n};\n\nmpl.figure.prototype._root_extra_style = function (el) {\n    el.style.boxSizing = 'content-box'; // override notebook setting of border-box.\n};\n\nmpl.figure.prototype._canvas_extra_style = function (el) {\n    // this is important to make the div 'focusable\n    el.setAttribute('tabindex', 0);\n    // reach out to IPython and tell the keyboard manager to turn it's self\n    // off when our div gets focus\n\n    // location in version 3\n    if (IPython.notebook.keyboard_manager) {\n        IPython.notebook.keyboard_manager.register_events(el);\n    } else {\n        // location in version 2\n        IPython.keyboard_manager.register_events(el);\n    }\n};\n\nmpl.figure.prototype._key_event_extra = function (event, _name) {\n    // Check for shift+enter\n    if (event.shiftKey && event.which === 13) {\n        this.canvas_div.blur();\n        // select the cell after this one\n        var index = IPython.notebook.find_cell_index(this.cell_info[0]);\n        IPython.notebook.select(index + 1);\n    }\n};\n\nmpl.figure.prototype.handle_save = function (fig, _msg) {\n    fig.ondownload(fig, null);\n};\n\nmpl.find_output_cell = function (html_output) {\n    // Return the cell and output element which can be found *uniquely* in the notebook.\n    // Note - this is a bit hacky, but it is done because the \"notebook_saving.Notebook\"\n    // IPython event is triggered only after the cells have been serialised, which for\n    // our purposes (turning an active figure into a static one), is too late.\n    var cells = IPython.notebook.get_cells();\n    var ncells = cells.length;\n    for (var i = 0; i < ncells; i++) {\n        var cell = cells[i];\n        if (cell.cell_type === 'code') {\n            for (var j = 0; j < cell.output_area.outputs.length; j++) {\n                var data = cell.output_area.outputs[j];\n                if (data.data) {\n                    // IPython >= 3 moved mimebundle to data attribute of output\n                    data = data.data;\n                }\n                if (data['text/html'] === html_output) {\n                    return [cell, data, j];\n                }\n            }\n        }\n    }\n};\n\n// Register the function which deals with the matplotlib target/channel.\n// The kernel may be null if the page has been refreshed.\nif (IPython.notebook.kernel !== null) {\n    IPython.notebook.kernel.comm_manager.register_target(\n        'matplotlib',\n        mpl.mpl_figure_comm\n    );\n}\n",
      "text/plain": [
       "<IPython.core.display.Javascript object>"
      ]
     },
     "metadata": {},
     "output_type": "display_data"
    },
    {
     "data": {
      "text/html": [
       "<img src=\"data:image/png;base64,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\" width=\"800\">"
      ],
      "text/plain": [
       "<IPython.core.display.HTML object>"
      ]
     },
     "metadata": {},
     "output_type": "display_data"
    }
   ],
   "source": [
    "plot_ax = create_plot(df_2D)"
   ]
  },
  {
   "cell_type": "markdown",
   "metadata": {},
   "source": [
    "##  Selected Points Details\n",
    "Click the **Print** button below to display detailed data values of the points selected in the DR plot.  The selected points are Green."
   ]
  },
  {
   "cell_type": "code",
   "execution_count": 16,
   "metadata": {
    "scrolled": false
   },
   "outputs": [
    {
     "data": {
      "application/vnd.jupyter.widget-view+json": {
       "model_id": "68902c44f4f14ec88e0a9a18024f8ff8",
       "version_major": 2,
       "version_minor": 0
      },
      "text/plain": [
       "Button(description='Print selected points', style=ButtonStyle())"
      ]
     },
     "metadata": {},
     "output_type": "display_data"
    },
    {
     "data": {
      "application/vnd.jupyter.widget-view+json": {
       "model_id": "f2abf9dffcb3444f9cc46bca38488684",
       "version_major": 2,
       "version_minor": 0
      },
      "text/plain": [
       "Output()"
      ]
     },
     "metadata": {},
     "output_type": "display_data"
    }
   ],
   "source": [
    "dod = create_detail_display()"
   ]
  },
  {
   "cell_type": "markdown",
   "metadata": {},
   "source": [
    "## Inverse Dimension Reduction\n",
    "After selecting and/or dragging some points in the DR plot, click the **Learn** button to machine learn new dimension weights that would produce a plot with similar pairwise distances as your plot.  **Only the Green selected points** in the plot are considered when learning new weights. You must select or move at least two points to specify new desired distances. Use this to create your own clusters, and find out what makes some data points similar to or different from others.  The **learned weights** are shown in a bar chart below.\n",
    "\n",
    "To see the effects of the learned weights, click the **Copy** button to apply the learned weights to the sliders and  make a new DR plot above."
   ]
  },
  {
   "cell_type": "code",
   "execution_count": 17,
   "metadata": {
    "scrolled": false
   },
   "outputs": [
    {
     "data": {
      "application/vnd.jupyter.widget-view+json": {
       "model_id": "1fd2aacd51544bbcbaa873f53b801549",
       "version_major": 2,
       "version_minor": 0
      },
      "text/plain": [
       "Button(description='Learn New Weights', style=ButtonStyle())"
      ]
     },
     "metadata": {},
     "output_type": "display_data"
    },
    {
     "data": {
      "application/vnd.jupyter.widget-view+json": {
       "model_id": "0b2b9b3aa248423484f33f8ef25cb5c4",
       "version_major": 2,
       "version_minor": 0
      },
      "text/plain": [
       "Button(description='Copy to Sliders', style=ButtonStyle())"
      ]
     },
     "metadata": {},
     "output_type": "display_data"
    },
    {
     "data": {
      "application/javascript": "/* Put everything inside the global mpl namespace */\n/* global mpl */\nwindow.mpl = {};\n\nmpl.get_websocket_type = function () {\n    if (typeof WebSocket !== 'undefined') {\n        return WebSocket;\n    } else if (typeof MozWebSocket !== 'undefined') {\n        return MozWebSocket;\n    } else {\n        alert(\n            'Your browser does not have WebSocket support. ' +\n                'Please try Chrome, Safari or Firefox ≥ 6. ' +\n                'Firefox 4 and 5 are also supported but you ' +\n                'have to enable WebSockets in about:config.'\n        );\n    }\n};\n\nmpl.figure = function (figure_id, websocket, ondownload, parent_element) {\n    this.id = figure_id;\n\n    this.ws = websocket;\n\n    this.supports_binary = this.ws.binaryType !== undefined;\n\n    if (!this.supports_binary) {\n        var warnings = document.getElementById('mpl-warnings');\n        if (warnings) {\n            warnings.style.display = 'block';\n            warnings.textContent =\n                'This browser does not support binary websocket messages. ' +\n                'Performance may be slow.';\n        }\n    }\n\n    this.imageObj = new Image();\n\n    this.context = undefined;\n    this.message = undefined;\n    this.canvas = undefined;\n    this.rubberband_canvas = undefined;\n    this.rubberband_context = undefined;\n    this.format_dropdown = undefined;\n\n    this.image_mode = 'full';\n\n    this.root = document.createElement('div');\n    this.root.setAttribute('style', 'display: inline-block');\n    this._root_extra_style(this.root);\n\n    parent_element.appendChild(this.root);\n\n    this._init_header(this);\n    this._init_canvas(this);\n    this._init_toolbar(this);\n\n    var fig = this;\n\n    this.waiting = false;\n\n    this.ws.onopen = function () {\n        fig.send_message('supports_binary', { value: fig.supports_binary });\n        fig.send_message('send_image_mode', {});\n        if (fig.ratio !== 1) {\n            fig.send_message('set_device_pixel_ratio', {\n                device_pixel_ratio: fig.ratio,\n            });\n        }\n        fig.send_message('refresh', {});\n    };\n\n    this.imageObj.onload = function () {\n        if (fig.image_mode === 'full') {\n            // Full images could contain transparency (where diff images\n            // almost always do), so we need to clear the canvas so that\n            // there is no ghosting.\n            fig.context.clearRect(0, 0, fig.canvas.width, fig.canvas.height);\n        }\n        fig.context.drawImage(fig.imageObj, 0, 0);\n    };\n\n    this.imageObj.onunload = function () {\n        fig.ws.close();\n    };\n\n    this.ws.onmessage = this._make_on_message_function(this);\n\n    this.ondownload = ondownload;\n};\n\nmpl.figure.prototype._init_header = function () {\n    var titlebar = document.createElement('div');\n    titlebar.classList =\n        'ui-dialog-titlebar ui-widget-header ui-corner-all ui-helper-clearfix';\n    var titletext = document.createElement('div');\n    titletext.classList = 'ui-dialog-title';\n    titletext.setAttribute(\n        'style',\n        'width: 100%; text-align: center; padding: 3px;'\n    );\n    titlebar.appendChild(titletext);\n    this.root.appendChild(titlebar);\n    this.header = titletext;\n};\n\nmpl.figure.prototype._canvas_extra_style = function (_canvas_div) {};\n\nmpl.figure.prototype._root_extra_style = function (_canvas_div) {};\n\nmpl.figure.prototype._init_canvas = function () {\n    var fig = this;\n\n    var canvas_div = (this.canvas_div = document.createElement('div'));\n    canvas_div.setAttribute(\n        'style',\n        'border: 1px solid #ddd;' +\n            'box-sizing: content-box;' +\n            'clear: both;' +\n            'min-height: 1px;' +\n            'min-width: 1px;' +\n            'outline: 0;' +\n            'overflow: hidden;' +\n            'position: relative;' +\n            'resize: both;'\n    );\n\n    function on_keyboard_event_closure(name) {\n        return function (event) {\n            return fig.key_event(event, name);\n        };\n    }\n\n    canvas_div.addEventListener(\n        'keydown',\n        on_keyboard_event_closure('key_press')\n    );\n    canvas_div.addEventListener(\n        'keyup',\n        on_keyboard_event_closure('key_release')\n    );\n\n    this._canvas_extra_style(canvas_div);\n    this.root.appendChild(canvas_div);\n\n    var canvas = (this.canvas = document.createElement('canvas'));\n    canvas.classList.add('mpl-canvas');\n    canvas.setAttribute('style', 'box-sizing: content-box;');\n\n    this.context = canvas.getContext('2d');\n\n    var backingStore =\n        this.context.backingStorePixelRatio ||\n        this.context.webkitBackingStorePixelRatio ||\n        this.context.mozBackingStorePixelRatio ||\n        this.context.msBackingStorePixelRatio ||\n        this.context.oBackingStorePixelRatio ||\n        this.context.backingStorePixelRatio ||\n        1;\n\n    this.ratio = (window.devicePixelRatio || 1) / backingStore;\n\n    var rubberband_canvas = (this.rubberband_canvas = document.createElement(\n        'canvas'\n    ));\n    rubberband_canvas.setAttribute(\n        'style',\n        'box-sizing: content-box; position: absolute; left: 0; top: 0; z-index: 1;'\n    );\n\n    // Apply a ponyfill if ResizeObserver is not implemented by browser.\n    if (this.ResizeObserver === undefined) {\n        if (window.ResizeObserver !== undefined) {\n            this.ResizeObserver = window.ResizeObserver;\n        } else {\n            var obs = _JSXTOOLS_RESIZE_OBSERVER({});\n            this.ResizeObserver = obs.ResizeObserver;\n        }\n    }\n\n    this.resizeObserverInstance = new this.ResizeObserver(function (entries) {\n        var nentries = entries.length;\n        for (var i = 0; i < nentries; i++) {\n            var entry = entries[i];\n            var width, height;\n            if (entry.contentBoxSize) {\n                if (entry.contentBoxSize instanceof Array) {\n                    // Chrome 84 implements new version of spec.\n                    width = entry.contentBoxSize[0].inlineSize;\n                    height = entry.contentBoxSize[0].blockSize;\n                } else {\n                    // Firefox implements old version of spec.\n                    width = entry.contentBoxSize.inlineSize;\n                    height = entry.contentBoxSize.blockSize;\n                }\n            } else {\n                // Chrome <84 implements even older version of spec.\n                width = entry.contentRect.width;\n                height = entry.contentRect.height;\n            }\n\n            // Keep the size of the canvas and rubber band canvas in sync with\n            // the canvas container.\n            if (entry.devicePixelContentBoxSize) {\n                // Chrome 84 implements new version of spec.\n                canvas.setAttribute(\n                    'width',\n                    entry.devicePixelContentBoxSize[0].inlineSize\n                );\n                canvas.setAttribute(\n                    'height',\n                    entry.devicePixelContentBoxSize[0].blockSize\n                );\n            } else {\n                canvas.setAttribute('width', width * fig.ratio);\n                canvas.setAttribute('height', height * fig.ratio);\n            }\n            canvas.setAttribute(\n                'style',\n                'width: ' + width + 'px; height: ' + height + 'px;'\n            );\n\n            rubberband_canvas.setAttribute('width', width);\n            rubberband_canvas.setAttribute('height', height);\n\n            // And update the size in Python. We ignore the initial 0/0 size\n            // that occurs as the element is placed into the DOM, which should\n            // otherwise not happen due to the minimum size styling.\n            if (fig.ws.readyState == 1 && width != 0 && height != 0) {\n                fig.request_resize(width, height);\n            }\n        }\n    });\n    this.resizeObserverInstance.observe(canvas_div);\n\n    function on_mouse_event_closure(name) {\n        return function (event) {\n            return fig.mouse_event(event, name);\n        };\n    }\n\n    rubberband_canvas.addEventListener(\n        'mousedown',\n        on_mouse_event_closure('button_press')\n    );\n    rubberband_canvas.addEventListener(\n        'mouseup',\n        on_mouse_event_closure('button_release')\n    );\n    rubberband_canvas.addEventListener(\n        'dblclick',\n        on_mouse_event_closure('dblclick')\n    );\n    // Throttle sequential mouse events to 1 every 20ms.\n    rubberband_canvas.addEventListener(\n        'mousemove',\n        on_mouse_event_closure('motion_notify')\n    );\n\n    rubberband_canvas.addEventListener(\n        'mouseenter',\n        on_mouse_event_closure('figure_enter')\n    );\n    rubberband_canvas.addEventListener(\n        'mouseleave',\n        on_mouse_event_closure('figure_leave')\n    );\n\n    canvas_div.addEventListener('wheel', function (event) {\n        if (event.deltaY < 0) {\n            event.step = 1;\n        } else {\n            event.step = -1;\n        }\n        on_mouse_event_closure('scroll')(event);\n    });\n\n    canvas_div.appendChild(canvas);\n    canvas_div.appendChild(rubberband_canvas);\n\n    this.rubberband_context = rubberband_canvas.getContext('2d');\n    this.rubberband_context.strokeStyle = '#000000';\n\n    this._resize_canvas = function (width, height, forward) {\n        if (forward) {\n            canvas_div.style.width = width + 'px';\n            canvas_div.style.height = height + 'px';\n        }\n    };\n\n    // Disable right mouse context menu.\n    this.rubberband_canvas.addEventListener('contextmenu', function (_e) {\n        event.preventDefault();\n        return false;\n    });\n\n    function set_focus() {\n        canvas.focus();\n        canvas_div.focus();\n    }\n\n    window.setTimeout(set_focus, 100);\n};\n\nmpl.figure.prototype._init_toolbar = function () {\n    var fig = this;\n\n    var toolbar = document.createElement('div');\n    toolbar.classList = 'mpl-toolbar';\n    this.root.appendChild(toolbar);\n\n    function on_click_closure(name) {\n        return function (_event) {\n            return fig.toolbar_button_onclick(name);\n        };\n    }\n\n    function on_mouseover_closure(tooltip) {\n        return function (event) {\n            if (!event.currentTarget.disabled) {\n                return fig.toolbar_button_onmouseover(tooltip);\n            }\n        };\n    }\n\n    fig.buttons = {};\n    var buttonGroup = document.createElement('div');\n    buttonGroup.classList = 'mpl-button-group';\n    for (var toolbar_ind in mpl.toolbar_items) {\n        var name = mpl.toolbar_items[toolbar_ind][0];\n        var tooltip = mpl.toolbar_items[toolbar_ind][1];\n        var image = mpl.toolbar_items[toolbar_ind][2];\n        var method_name = mpl.toolbar_items[toolbar_ind][3];\n\n        if (!name) {\n            /* Instead of a spacer, we start a new button group. */\n            if (buttonGroup.hasChildNodes()) {\n                toolbar.appendChild(buttonGroup);\n            }\n            buttonGroup = document.createElement('div');\n            buttonGroup.classList = 'mpl-button-group';\n            continue;\n        }\n\n        var button = (fig.buttons[name] = document.createElement('button'));\n        button.classList = 'mpl-widget';\n        button.setAttribute('role', 'button');\n        button.setAttribute('aria-disabled', 'false');\n        button.addEventListener('click', on_click_closure(method_name));\n        button.addEventListener('mouseover', on_mouseover_closure(tooltip));\n\n        var icon_img = document.createElement('img');\n        icon_img.src = '_images/' + image + '.png';\n        icon_img.srcset = '_images/' + image + '_large.png 2x';\n        icon_img.alt = tooltip;\n        button.appendChild(icon_img);\n\n        buttonGroup.appendChild(button);\n    }\n\n    if (buttonGroup.hasChildNodes()) {\n        toolbar.appendChild(buttonGroup);\n    }\n\n    var fmt_picker = document.createElement('select');\n    fmt_picker.classList = 'mpl-widget';\n    toolbar.appendChild(fmt_picker);\n    this.format_dropdown = fmt_picker;\n\n    for (var ind in mpl.extensions) {\n        var fmt = mpl.extensions[ind];\n        var option = document.createElement('option');\n        option.selected = fmt === mpl.default_extension;\n        option.innerHTML = fmt;\n        fmt_picker.appendChild(option);\n    }\n\n    var status_bar = document.createElement('span');\n    status_bar.classList = 'mpl-message';\n    toolbar.appendChild(status_bar);\n    this.message = status_bar;\n};\n\nmpl.figure.prototype.request_resize = function (x_pixels, y_pixels) {\n    // Request matplotlib to resize the figure. Matplotlib will then trigger a resize in the client,\n    // which will in turn request a refresh of the image.\n    this.send_message('resize', { width: x_pixels, height: y_pixels });\n};\n\nmpl.figure.prototype.send_message = function (type, properties) {\n    properties['type'] = type;\n    properties['figure_id'] = this.id;\n    this.ws.send(JSON.stringify(properties));\n};\n\nmpl.figure.prototype.send_draw_message = function () {\n    if (!this.waiting) {\n        this.waiting = true;\n        this.ws.send(JSON.stringify({ type: 'draw', figure_id: this.id }));\n    }\n};\n\nmpl.figure.prototype.handle_save = function (fig, _msg) {\n    var format_dropdown = fig.format_dropdown;\n    var format = format_dropdown.options[format_dropdown.selectedIndex].value;\n    fig.ondownload(fig, format);\n};\n\nmpl.figure.prototype.handle_resize = function (fig, msg) {\n    var size = msg['size'];\n    if (size[0] !== fig.canvas.width || size[1] !== fig.canvas.height) {\n        fig._resize_canvas(size[0], size[1], msg['forward']);\n        fig.send_message('refresh', {});\n    }\n};\n\nmpl.figure.prototype.handle_rubberband = function (fig, msg) {\n    var x0 = msg['x0'] / fig.ratio;\n    var y0 = (fig.canvas.height - msg['y0']) / fig.ratio;\n    var x1 = msg['x1'] / fig.ratio;\n    var y1 = (fig.canvas.height - msg['y1']) / fig.ratio;\n    x0 = Math.floor(x0) + 0.5;\n    y0 = Math.floor(y0) + 0.5;\n    x1 = Math.floor(x1) + 0.5;\n    y1 = Math.floor(y1) + 0.5;\n    var min_x = Math.min(x0, x1);\n    var min_y = Math.min(y0, y1);\n    var width = Math.abs(x1 - x0);\n    var height = Math.abs(y1 - y0);\n\n    fig.rubberband_context.clearRect(\n        0,\n        0,\n        fig.canvas.width / fig.ratio,\n        fig.canvas.height / fig.ratio\n    );\n\n    fig.rubberband_context.strokeRect(min_x, min_y, width, height);\n};\n\nmpl.figure.prototype.handle_figure_label = function (fig, msg) {\n    // Updates the figure title.\n    fig.header.textContent = msg['label'];\n};\n\nmpl.figure.prototype.handle_cursor = function (fig, msg) {\n    fig.rubberband_canvas.style.cursor = msg['cursor'];\n};\n\nmpl.figure.prototype.handle_message = function (fig, msg) {\n    fig.message.textContent = msg['message'];\n};\n\nmpl.figure.prototype.handle_draw = function (fig, _msg) {\n    // Request the server to send over a new figure.\n    fig.send_draw_message();\n};\n\nmpl.figure.prototype.handle_image_mode = function (fig, msg) {\n    fig.image_mode = msg['mode'];\n};\n\nmpl.figure.prototype.handle_history_buttons = function (fig, msg) {\n    for (var key in msg) {\n        if (!(key in fig.buttons)) {\n            continue;\n        }\n        fig.buttons[key].disabled = !msg[key];\n        fig.buttons[key].setAttribute('aria-disabled', !msg[key]);\n    }\n};\n\nmpl.figure.prototype.handle_navigate_mode = function (fig, msg) {\n    if (msg['mode'] === 'PAN') {\n        fig.buttons['Pan'].classList.add('active');\n        fig.buttons['Zoom'].classList.remove('active');\n    } else if (msg['mode'] === 'ZOOM') {\n        fig.buttons['Pan'].classList.remove('active');\n        fig.buttons['Zoom'].classList.add('active');\n    } else {\n        fig.buttons['Pan'].classList.remove('active');\n        fig.buttons['Zoom'].classList.remove('active');\n    }\n};\n\nmpl.figure.prototype.updated_canvas_event = function () {\n    // Called whenever the canvas gets updated.\n    this.send_message('ack', {});\n};\n\n// A function to construct a web socket function for onmessage handling.\n// Called in the figure constructor.\nmpl.figure.prototype._make_on_message_function = function (fig) {\n    return function socket_on_message(evt) {\n        if (evt.data instanceof Blob) {\n            var img = evt.data;\n            if (img.type !== 'image/png') {\n                /* FIXME: We get \"Resource interpreted as Image but\n                 * transferred with MIME type text/plain:\" errors on\n                 * Chrome.  But how to set the MIME type?  It doesn't seem\n                 * to be part of the websocket stream */\n                img.type = 'image/png';\n            }\n\n            /* Free the memory for the previous frames */\n            if (fig.imageObj.src) {\n                (window.URL || window.webkitURL).revokeObjectURL(\n                    fig.imageObj.src\n                );\n            }\n\n            fig.imageObj.src = (window.URL || window.webkitURL).createObjectURL(\n                img\n            );\n            fig.updated_canvas_event();\n            fig.waiting = false;\n            return;\n        } else if (\n            typeof evt.data === 'string' &&\n            evt.data.slice(0, 21) === 'data:image/png;base64'\n        ) {\n            fig.imageObj.src = evt.data;\n            fig.updated_canvas_event();\n            fig.waiting = false;\n            return;\n        }\n\n        var msg = JSON.parse(evt.data);\n        var msg_type = msg['type'];\n\n        // Call the  \"handle_{type}\" callback, which takes\n        // the figure and JSON message as its only arguments.\n        try {\n            var callback = fig['handle_' + msg_type];\n        } catch (e) {\n            console.log(\n                \"No handler for the '\" + msg_type + \"' message type: \",\n                msg\n            );\n            return;\n        }\n\n        if (callback) {\n            try {\n                // console.log(\"Handling '\" + msg_type + \"' message: \", msg);\n                callback(fig, msg);\n            } catch (e) {\n                console.log(\n                    \"Exception inside the 'handler_\" + msg_type + \"' callback:\",\n                    e,\n                    e.stack,\n                    msg\n                );\n            }\n        }\n    };\n};\n\n// from https://stackoverflow.com/questions/1114465/getting-mouse-location-in-canvas\nmpl.findpos = function (e) {\n    //this section is from http://www.quirksmode.org/js/events_properties.html\n    var targ;\n    if (!e) {\n        e = window.event;\n    }\n    if (e.target) {\n        targ = e.target;\n    } else if (e.srcElement) {\n        targ = e.srcElement;\n    }\n    if (targ.nodeType === 3) {\n        // defeat Safari bug\n        targ = targ.parentNode;\n    }\n\n    // pageX,Y are the mouse positions relative to the document\n    var boundingRect = targ.getBoundingClientRect();\n    var x = e.pageX - (boundingRect.left + document.body.scrollLeft);\n    var y = e.pageY - (boundingRect.top + document.body.scrollTop);\n\n    return { x: x, y: y };\n};\n\n/*\n * return a copy of an object with only non-object keys\n * we need this to avoid circular references\n * https://stackoverflow.com/a/24161582/3208463\n */\nfunction simpleKeys(original) {\n    return Object.keys(original).reduce(function (obj, key) {\n        if (typeof original[key] !== 'object') {\n            obj[key] = original[key];\n        }\n        return obj;\n    }, {});\n}\n\nmpl.figure.prototype.mouse_event = function (event, name) {\n    var canvas_pos = mpl.findpos(event);\n\n    if (name === 'button_press') {\n        this.canvas.focus();\n        this.canvas_div.focus();\n    }\n\n    var x = canvas_pos.x * this.ratio;\n    var y = canvas_pos.y * this.ratio;\n\n    this.send_message(name, {\n        x: x,\n        y: y,\n        button: event.button,\n        step: event.step,\n        guiEvent: simpleKeys(event),\n    });\n\n    /* This prevents the web browser from automatically changing to\n     * the text insertion cursor when the button is pressed.  We want\n     * to control all of the cursor setting manually through the\n     * 'cursor' event from matplotlib */\n    event.preventDefault();\n    return false;\n};\n\nmpl.figure.prototype._key_event_extra = function (_event, _name) {\n    // Handle any extra behaviour associated with a key event\n};\n\nmpl.figure.prototype.key_event = function (event, name) {\n    // Prevent repeat events\n    if (name === 'key_press') {\n        if (event.key === this._key) {\n            return;\n        } else {\n            this._key = event.key;\n        }\n    }\n    if (name === 'key_release') {\n        this._key = null;\n    }\n\n    var value = '';\n    if (event.ctrlKey && event.key !== 'Control') {\n        value += 'ctrl+';\n    }\n    else if (event.altKey && event.key !== 'Alt') {\n        value += 'alt+';\n    }\n    else if (event.shiftKey && event.key !== 'Shift') {\n        value += 'shift+';\n    }\n\n    value += 'k' + event.key;\n\n    this._key_event_extra(event, name);\n\n    this.send_message(name, { key: value, guiEvent: simpleKeys(event) });\n    return false;\n};\n\nmpl.figure.prototype.toolbar_button_onclick = function (name) {\n    if (name === 'download') {\n        this.handle_save(this, null);\n    } else {\n        this.send_message('toolbar_button', { name: name });\n    }\n};\n\nmpl.figure.prototype.toolbar_button_onmouseover = function (tooltip) {\n    this.message.textContent = tooltip;\n};\n\n///////////////// REMAINING CONTENT GENERATED BY embed_js.py /////////////////\n// prettier-ignore\nvar _JSXTOOLS_RESIZE_OBSERVER=function(A){var t,i=new WeakMap,n=new WeakMap,a=new WeakMap,r=new WeakMap,o=new Set;function s(e){if(!(this instanceof s))throw new TypeError(\"Constructor requires 'new' operator\");i.set(this,e)}function h(){throw new TypeError(\"Function is not a constructor\")}function c(e,t,i,n){e=0 in arguments?Number(arguments[0]):0,t=1 in arguments?Number(arguments[1]):0,i=2 in arguments?Number(arguments[2]):0,n=3 in arguments?Number(arguments[3]):0,this.right=(this.x=this.left=e)+(this.width=i),this.bottom=(this.y=this.top=t)+(this.height=n),Object.freeze(this)}function d(){t=requestAnimationFrame(d);var s=new WeakMap,p=new Set;o.forEach((function(t){r.get(t).forEach((function(i){var r=t instanceof window.SVGElement,o=a.get(t),d=r?0:parseFloat(o.paddingTop),f=r?0:parseFloat(o.paddingRight),l=r?0:parseFloat(o.paddingBottom),u=r?0:parseFloat(o.paddingLeft),g=r?0:parseFloat(o.borderTopWidth),m=r?0:parseFloat(o.borderRightWidth),w=r?0:parseFloat(o.borderBottomWidth),b=u+f,F=d+l,v=(r?0:parseFloat(o.borderLeftWidth))+m,W=g+w,y=r?0:t.offsetHeight-W-t.clientHeight,E=r?0:t.offsetWidth-v-t.clientWidth,R=b+v,z=F+W,M=r?t.width:parseFloat(o.width)-R-E,O=r?t.height:parseFloat(o.height)-z-y;if(n.has(t)){var k=n.get(t);if(k[0]===M&&k[1]===O)return}n.set(t,[M,O]);var S=Object.create(h.prototype);S.target=t,S.contentRect=new c(u,d,M,O),s.has(i)||(s.set(i,[]),p.add(i)),s.get(i).push(S)}))})),p.forEach((function(e){i.get(e).call(e,s.get(e),e)}))}return s.prototype.observe=function(i){if(i instanceof window.Element){r.has(i)||(r.set(i,new Set),o.add(i),a.set(i,window.getComputedStyle(i)));var n=r.get(i);n.has(this)||n.add(this),cancelAnimationFrame(t),t=requestAnimationFrame(d)}},s.prototype.unobserve=function(i){if(i instanceof window.Element&&r.has(i)){var n=r.get(i);n.has(this)&&(n.delete(this),n.size||(r.delete(i),o.delete(i))),n.size||r.delete(i),o.size||cancelAnimationFrame(t)}},A.DOMRectReadOnly=c,A.ResizeObserver=s,A.ResizeObserverEntry=h,A}; // eslint-disable-line\nmpl.toolbar_items = [[\"Home\", \"Reset original view\", \"fa fa-home icon-home\", \"home\"], [\"Back\", \"Back to previous view\", \"fa fa-arrow-left icon-arrow-left\", \"back\"], [\"Forward\", \"Forward to next view\", \"fa fa-arrow-right icon-arrow-right\", \"forward\"], [\"\", \"\", \"\", \"\"], [\"Pan\", \"Left button pans, Right button zooms\\nx/y fixes axis, CTRL fixes aspect\", \"fa fa-arrows icon-move\", \"pan\"], [\"Zoom\", \"Zoom to rectangle\\nx/y fixes axis\", \"fa fa-square-o icon-check-empty\", \"zoom\"], [\"\", \"\", \"\", \"\"], [\"Download\", \"Download plot\", \"fa fa-floppy-o icon-save\", \"download\"]];\n\nmpl.extensions = [\"eps\", \"jpeg\", \"pgf\", \"pdf\", \"png\", \"ps\", \"raw\", \"svg\", \"tif\"];\n\nmpl.default_extension = \"png\";/* global mpl */\n\nvar comm_websocket_adapter = function (comm) {\n    // Create a \"websocket\"-like object which calls the given IPython comm\n    // object with the appropriate methods. Currently this is a non binary\n    // socket, so there is still some room for performance tuning.\n    var ws = {};\n\n    ws.binaryType = comm.kernel.ws.binaryType;\n    ws.readyState = comm.kernel.ws.readyState;\n    function updateReadyState(_event) {\n        if (comm.kernel.ws) {\n            ws.readyState = comm.kernel.ws.readyState;\n        } else {\n            ws.readyState = 3; // Closed state.\n        }\n    }\n    comm.kernel.ws.addEventListener('open', updateReadyState);\n    comm.kernel.ws.addEventListener('close', updateReadyState);\n    comm.kernel.ws.addEventListener('error', updateReadyState);\n\n    ws.close = function () {\n        comm.close();\n    };\n    ws.send = function (m) {\n        //console.log('sending', m);\n        comm.send(m);\n    };\n    // Register the callback with on_msg.\n    comm.on_msg(function (msg) {\n        //console.log('receiving', msg['content']['data'], msg);\n        var data = msg['content']['data'];\n        if (data['blob'] !== undefined) {\n            data = {\n                data: new Blob(msg['buffers'], { type: data['blob'] }),\n            };\n        }\n        // Pass the mpl event to the overridden (by mpl) onmessage function.\n        ws.onmessage(data);\n    });\n    return ws;\n};\n\nmpl.mpl_figure_comm = function (comm, msg) {\n    // This is the function which gets called when the mpl process\n    // starts-up an IPython Comm through the \"matplotlib\" channel.\n\n    var id = msg.content.data.id;\n    // Get hold of the div created by the display call when the Comm\n    // socket was opened in Python.\n    var element = document.getElementById(id);\n    var ws_proxy = comm_websocket_adapter(comm);\n\n    function ondownload(figure, _format) {\n        window.open(figure.canvas.toDataURL());\n    }\n\n    var fig = new mpl.figure(id, ws_proxy, ondownload, element);\n\n    // Call onopen now - mpl needs it, as it is assuming we've passed it a real\n    // web socket which is closed, not our websocket->open comm proxy.\n    ws_proxy.onopen();\n\n    fig.parent_element = element;\n    fig.cell_info = mpl.find_output_cell(\"<div id='\" + id + \"'></div>\");\n    if (!fig.cell_info) {\n        console.error('Failed to find cell for figure', id, fig);\n        return;\n    }\n    fig.cell_info[0].output_area.element.on(\n        'cleared',\n        { fig: fig },\n        fig._remove_fig_handler\n    );\n};\n\nmpl.figure.prototype.handle_close = function (fig, msg) {\n    var width = fig.canvas.width / fig.ratio;\n    fig.cell_info[0].output_area.element.off(\n        'cleared',\n        fig._remove_fig_handler\n    );\n    fig.resizeObserverInstance.unobserve(fig.canvas_div);\n\n    // Update the output cell to use the data from the current canvas.\n    fig.push_to_output();\n    var dataURL = fig.canvas.toDataURL();\n    // Re-enable the keyboard manager in IPython - without this line, in FF,\n    // the notebook keyboard shortcuts fail.\n    IPython.keyboard_manager.enable();\n    fig.parent_element.innerHTML =\n        '<img src=\"' + dataURL + '\" width=\"' + width + '\">';\n    fig.close_ws(fig, msg);\n};\n\nmpl.figure.prototype.close_ws = function (fig, msg) {\n    fig.send_message('closing', msg);\n    // fig.ws.close()\n};\n\nmpl.figure.prototype.push_to_output = function (_remove_interactive) {\n    // Turn the data on the canvas into data in the output cell.\n    var width = this.canvas.width / this.ratio;\n    var dataURL = this.canvas.toDataURL();\n    this.cell_info[1]['text/html'] =\n        '<img src=\"' + dataURL + '\" width=\"' + width + '\">';\n};\n\nmpl.figure.prototype.updated_canvas_event = function () {\n    // Tell IPython that the notebook contents must change.\n    IPython.notebook.set_dirty(true);\n    this.send_message('ack', {});\n    var fig = this;\n    // Wait a second, then push the new image to the DOM so\n    // that it is saved nicely (might be nice to debounce this).\n    setTimeout(function () {\n        fig.push_to_output();\n    }, 1000);\n};\n\nmpl.figure.prototype._init_toolbar = function () {\n    var fig = this;\n\n    var toolbar = document.createElement('div');\n    toolbar.classList = 'btn-toolbar';\n    this.root.appendChild(toolbar);\n\n    function on_click_closure(name) {\n        return function (_event) {\n            return fig.toolbar_button_onclick(name);\n        };\n    }\n\n    function on_mouseover_closure(tooltip) {\n        return function (event) {\n            if (!event.currentTarget.disabled) {\n                return fig.toolbar_button_onmouseover(tooltip);\n            }\n        };\n    }\n\n    fig.buttons = {};\n    var buttonGroup = document.createElement('div');\n    buttonGroup.classList = 'btn-group';\n    var button;\n    for (var toolbar_ind in mpl.toolbar_items) {\n        var name = mpl.toolbar_items[toolbar_ind][0];\n        var tooltip = mpl.toolbar_items[toolbar_ind][1];\n        var image = mpl.toolbar_items[toolbar_ind][2];\n        var method_name = mpl.toolbar_items[toolbar_ind][3];\n\n        if (!name) {\n            /* Instead of a spacer, we start a new button group. */\n            if (buttonGroup.hasChildNodes()) {\n                toolbar.appendChild(buttonGroup);\n            }\n            buttonGroup = document.createElement('div');\n            buttonGroup.classList = 'btn-group';\n            continue;\n        }\n\n        button = fig.buttons[name] = document.createElement('button');\n        button.classList = 'btn btn-default';\n        button.href = '#';\n        button.title = name;\n        button.innerHTML = '<i class=\"fa ' + image + ' fa-lg\"></i>';\n        button.addEventListener('click', on_click_closure(method_name));\n        button.addEventListener('mouseover', on_mouseover_closure(tooltip));\n        buttonGroup.appendChild(button);\n    }\n\n    if (buttonGroup.hasChildNodes()) {\n        toolbar.appendChild(buttonGroup);\n    }\n\n    // Add the status bar.\n    var status_bar = document.createElement('span');\n    status_bar.classList = 'mpl-message pull-right';\n    toolbar.appendChild(status_bar);\n    this.message = status_bar;\n\n    // Add the close button to the window.\n    var buttongrp = document.createElement('div');\n    buttongrp.classList = 'btn-group inline pull-right';\n    button = document.createElement('button');\n    button.classList = 'btn btn-mini btn-primary';\n    button.href = '#';\n    button.title = 'Stop Interaction';\n    button.innerHTML = '<i class=\"fa fa-power-off icon-remove icon-large\"></i>';\n    button.addEventListener('click', function (_evt) {\n        fig.handle_close(fig, {});\n    });\n    button.addEventListener(\n        'mouseover',\n        on_mouseover_closure('Stop Interaction')\n    );\n    buttongrp.appendChild(button);\n    var titlebar = this.root.querySelector('.ui-dialog-titlebar');\n    titlebar.insertBefore(buttongrp, titlebar.firstChild);\n};\n\nmpl.figure.prototype._remove_fig_handler = function (event) {\n    var fig = event.data.fig;\n    if (event.target !== this) {\n        // Ignore bubbled events from children.\n        return;\n    }\n    fig.close_ws(fig, {});\n};\n\nmpl.figure.prototype._root_extra_style = function (el) {\n    el.style.boxSizing = 'content-box'; // override notebook setting of border-box.\n};\n\nmpl.figure.prototype._canvas_extra_style = function (el) {\n    // this is important to make the div 'focusable\n    el.setAttribute('tabindex', 0);\n    // reach out to IPython and tell the keyboard manager to turn it's self\n    // off when our div gets focus\n\n    // location in version 3\n    if (IPython.notebook.keyboard_manager) {\n        IPython.notebook.keyboard_manager.register_events(el);\n    } else {\n        // location in version 2\n        IPython.keyboard_manager.register_events(el);\n    }\n};\n\nmpl.figure.prototype._key_event_extra = function (event, _name) {\n    // Check for shift+enter\n    if (event.shiftKey && event.which === 13) {\n        this.canvas_div.blur();\n        // select the cell after this one\n        var index = IPython.notebook.find_cell_index(this.cell_info[0]);\n        IPython.notebook.select(index + 1);\n    }\n};\n\nmpl.figure.prototype.handle_save = function (fig, _msg) {\n    fig.ondownload(fig, null);\n};\n\nmpl.find_output_cell = function (html_output) {\n    // Return the cell and output element which can be found *uniquely* in the notebook.\n    // Note - this is a bit hacky, but it is done because the \"notebook_saving.Notebook\"\n    // IPython event is triggered only after the cells have been serialised, which for\n    // our purposes (turning an active figure into a static one), is too late.\n    var cells = IPython.notebook.get_cells();\n    var ncells = cells.length;\n    for (var i = 0; i < ncells; i++) {\n        var cell = cells[i];\n        if (cell.cell_type === 'code') {\n            for (var j = 0; j < cell.output_area.outputs.length; j++) {\n                var data = cell.output_area.outputs[j];\n                if (data.data) {\n                    // IPython >= 3 moved mimebundle to data attribute of output\n                    data = data.data;\n                }\n                if (data['text/html'] === html_output) {\n                    return [cell, data, j];\n                }\n            }\n        }\n    }\n};\n\n// Register the function which deals with the matplotlib target/channel.\n// The kernel may be null if the page has been refreshed.\nif (IPython.notebook.kernel !== null) {\n    IPython.notebook.kernel.comm_manager.register_target(\n        'matplotlib',\n        mpl.mpl_figure_comm\n    );\n}\n",
      "text/plain": [
       "<IPython.core.display.Javascript object>"
      ]
     },
     "metadata": {},
     "output_type": "display_data"
    },
    {
     "data": {
      "text/html": [
       "<img src=\"data:image/png;base64,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\" width=\"500\">"
      ],
      "text/plain": [
       "<IPython.core.display.HTML object>"
      ]
     },
     "metadata": {},
     "output_type": "display_data"
    }
   ],
   "source": [
    "inverse = create_inverse_button()"
   ]
  },
  {
   "cell_type": "code",
   "execution_count": null,
   "metadata": {},
   "outputs": [],
   "source": []
  }
 ],
 "metadata": {
  "kernelspec": {
   "display_name": "Python 3 (ipykernel)",
   "language": "python",
   "name": "python3"
  },
  "language_info": {
   "codemirror_mode": {
    "name": "ipython",
    "version": 3
   },
   "file_extension": ".py",
   "mimetype": "text/x-python",
   "name": "python",
   "nbconvert_exporter": "python",
   "pygments_lexer": "ipython3",
   "version": "3.8.8"
  }
 },
 "nbformat": 4,
 "nbformat_minor": 1
}
